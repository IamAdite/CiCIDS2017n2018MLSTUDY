{
 "cells": [
  {
   "cell_type": "markdown",
   "id": "78e84db7",
   "metadata": {},
   "source": [
    "# Imports and functions"
   ]
  },
  {
   "cell_type": "code",
   "execution_count": 10,
   "id": "bb6e7b16",
   "metadata": {},
   "outputs": [],
   "source": [
    "import pandas as pd\n",
    "import numpy as np\n",
    "from sklearn.ensemble import RandomForestClassifier\n",
    "from lightgbm import LGBMClassifier\n",
    "from sklearn.model_selection import train_test_split, cross_val_score, learning_curve\n",
    "from sklearn.metrics import confusion_matrix, classification_report, accuracy_score, precision_score, recall_score, f1_score, make_scorer\n",
    "\n",
    "from sklearn.preprocessing import MinMaxScaler\n",
    "from imblearn.over_sampling import SMOTE\n",
    "from imblearn.under_sampling import RandomUnderSampler\n",
    "\n",
    "import time\n",
    "import psutil\n",
    "import threading\n",
    "from memory_profiler import memory_usage"
   ]
  },
  {
   "cell_type": "code",
   "execution_count": null,
   "id": "521367e6",
   "metadata": {},
   "outputs": [],
   "source": [
    "def apply_lgbm(X_train, y_train, best_params=None, n_jobs=-1, cv=5):\n",
    "    \"\"\"Core LightGBM training with resource monitoring\"\"\"\n",
    "    measurement = {}\n",
    "    best_params = best_params or {}\n",
    "    \n",
    "    lgbm_model = LGBMClassifier(**best_params, verbose=-1, n_jobs=n_jobs)\n",
    "    cpu_usage = []\n",
    "    stop_flag = threading.Event()\n",
    "\n",
    "    def monitor_cpu():\n",
    "        while not stop_flag.is_set():\n",
    "            cpu_usage.append(psutil.cpu_percent(interval=0.1))\n",
    "\n",
    "    try:\n",
    "        cpu_thread = threading.Thread(target=monitor_cpu)\n",
    "        cpu_thread.start()\n",
    "        start_time = time.time()\n",
    "        \n",
    "        lgbm_model.fit(X_train, y_train)\n",
    "        \n",
    "        training_time = time.time() - start_time\n",
    "        stop_flag.set()\n",
    "        cpu_thread.join()\n",
    "\n",
    "        # Record metrics\n",
    "        measurement['Training Time (s)'] = training_time\n",
    "        measurement['Peak CPU (%)'] = max(cpu_usage) if cpu_usage else 0\n",
    "        measurement['Avg CPU (%)'] = np.mean(cpu_usage) if cpu_usage else 0\n",
    "\n",
    "        # Cross-validation\n",
    "        f1_scorer = make_scorer(f1_score, average='weighted')\n",
    "        cv_scores = cross_val_score(\n",
    "            lgbm_model, X_train, y_train, cv=cv, scoring=f1_scorer, n_jobs=n_jobs\n",
    "        )\n",
    "        \n",
    "        return cv_scores, measurement, lgbm_model\n",
    "\n",
    "    except Exception as e:\n",
    "        print(f\"LightGBM training failed: {str(e)}\")\n",
    "        return None, None, None\n",
    "\n",
    "def eval_dataset_w_LGBM(X_train, X_test, y_train, y_test,\n",
    "                       params_lgbm={'n_estimators': 100, 'learning_rate': 0.1, 'max_depth': -1}):\n",
    "    \"\"\"Evaluation wrapper for LightGBM\"\"\"\n",
    "    cv_scores_lgbm, measurement_lgbm, lgbm_model = apply_lgbm(X_train, y_train, best_params=params_lgbm)\n",
    "    \n",
    "    if lgbm_model is None:\n",
    "        print(\"⛔ Failed to train LightGBM model\")\n",
    "        return\n",
    "        \n",
    "    start_time = time.time()\n",
    "    y_pred_lgbm = lgbm_model.predict(X_test)\n",
    "    training_time = time.time() - start_time\n",
    "    print(\"Predict Time (s) - \", training_time)\n",
    "\n",
    "    print(f'CV F1: {np.mean(cv_scores_lgbm):.4f} ± {np.std(cv_scores_lgbm):.4f}')\n",
    "    print(f'Test Accuracy: {accuracy_score(y_test, y_pred_lgbm):.4f}')\n",
    "    print(classification_report(y_test, y_pred_lgbm, digits=4))\n",
    "    print(\"Resource Usage:\", measurement_lgbm)"
   ]
  },
  {
   "cell_type": "code",
   "execution_count": 17,
   "id": "e97178f8",
   "metadata": {},
   "outputs": [],
   "source": [
    "def apply_rf(X_train, y_train, best_params=None, random_state=42, n_jobs=-1, cv=5): \n",
    "    measurement_rf = {}\n",
    "    best_params = best_params or {}\n",
    "\n",
    "    rf_model = RandomForestClassifier(**best_params, random_state=random_state, n_jobs=n_jobs, verbose=1)\n",
    "    \n",
    "    cpu_usage = []\n",
    "    stop_flag = threading.Event()\n",
    "\n",
    "    def monitor_cpu():\n",
    "        while not stop_flag.is_set():\n",
    "            cpu_usage.append(psutil.cpu_percent(interval=0.1))\n",
    "\n",
    "    def train_model():\n",
    "        rf_model.fit(X_train, y_train)\n",
    "\n",
    "    try:\n",
    "        cpu_thread = threading.Thread(target=monitor_cpu)\n",
    "        cpu_thread.start()\n",
    "\n",
    "        start_time = time.time()\n",
    "        train_model()\n",
    "        training_time = time.time() - start_time\n",
    "\n",
    "        stop_flag.set()\n",
    "        cpu_thread.join()\n",
    "\n",
    "        measurement_rf['Training Time (s)'] = training_time\n",
    "        measurement_rf['Peak CPU Usage (%)'] = max(cpu_usage)\n",
    "        measurement_rf['Average CPU Usage (%)'] = sum(cpu_usage) / len(cpu_usage) if cpu_usage else 0\n",
    "\n",
    "        # Modified to use F1 score\n",
    "        f1_scorer = make_scorer(f1_score, average='weighted')\n",
    "        cv_scores_rf = cross_val_score(rf_model, X_train, y_train, cv=cv, n_jobs=n_jobs, scoring=f1_scorer)\n",
    "\n",
    "        return cv_scores_rf, measurement_rf, rf_model\n",
    "\n",
    "    except Exception as e:\n",
    "        import traceback\n",
    "        print(\"⛔ Full error traceback:\")\n",
    "        traceback.print_exc()\n",
    "        print(f\"Error during Random Forest training: {e}\")\n",
    "        return None, None, None\n",
    "\n",
    "def eval_dataset_w_RF(X_train, X_test, y_train, y_test, params_rf={'n_estimators': 150, 'min_samples_split': 5, 'min_samples_leaf': 2, 'max_features': 'sqrt', 'max_depth': 10}):\n",
    "    # Fitting the model\n",
    "    cv_scores_rf, measurement_rf, rf_model = apply_rf(X_train, y_train, best_params=params_rf)\n",
    "    \n",
    "    start_time = time.time()\n",
    "\n",
    "    # Making predictions\n",
    "    y_pred_rf = rf_model.predict(X_test)\n",
    "    \n",
    "    training_time = time.time() - start_time\n",
    "    print(\"Predict Time (s) - \", training_time)\n",
    "    \n",
    "    # Evaluating the model performance\n",
    "    cv_scores_mean_rf = np.mean(cv_scores_rf)\n",
    "    print(f'Cross validation average score: {cv_scores_mean_rf:.4f} +/- standard deviation: {np.std(cv_scores_rf):.4f}')\n",
    "\n",
    "    accuracy_rf = accuracy_score(y_test, y_pred_rf)\n",
    "    print(f'Accuracy on the test set: {accuracy_rf:.4f}')\n",
    "    \n",
    "    # Checking computational cost\n",
    "    print(\"Resource measurements:\", measurement_rf)\n",
    "    print(classification_report(y_test, y_pred_rf, digits=4))"
   ]
  },
  {
   "cell_type": "markdown",
   "id": "3178c6b6",
   "metadata": {},
   "source": [
    "# Import Data and sync features"
   ]
  },
  {
   "cell_type": "markdown",
   "id": "cc7a5060",
   "metadata": {},
   "source": [
    "## Check columns"
   ]
  },
  {
   "cell_type": "code",
   "execution_count": 5,
   "id": "a61ec514",
   "metadata": {},
   "outputs": [],
   "source": [
    "# Reading data\n",
    "df17 = pd.read_csv(\"..\\data prep\\cicids2017_prep\\cicids2017_42feat_97percent.csv\")\n",
    "df18 = pd.read_csv(\"..\\data prep\\cicids2018_prep\\cicids2018_21feat_84per.csv\")"
   ]
  },
  {
   "cell_type": "code",
   "execution_count": 6,
   "id": "07902e8e",
   "metadata": {},
   "outputs": [
    {
     "data": {
      "text/plain": [
       "Index(['Destination Port', 'Flow Duration', 'Total Fwd Packets',\n",
       "       'Total Length of Fwd Packets', 'Fwd Packet Length Max',\n",
       "       'Fwd Packet Length Min', 'Fwd Packet Length Mean',\n",
       "       'Fwd Packet Length Std', 'Bwd Packet Length Max',\n",
       "       'Bwd Packet Length Min', 'Bwd Packet Length Mean', 'Flow Bytes/s',\n",
       "       'Flow Packets/s', 'Flow IAT Mean', 'Flow IAT Std', 'Flow IAT Max',\n",
       "       'Fwd IAT Total', 'Fwd IAT Mean', 'Fwd IAT Std', 'Fwd IAT Min',\n",
       "       'Bwd IAT Max', 'Bwd IAT Min', 'Fwd Header Length', 'Bwd Header Length',\n",
       "       'Fwd Packets/s', 'Bwd Packets/s', 'Min Packet Length',\n",
       "       'Max Packet Length', 'Packet Length Mean', 'Packet Length Variance',\n",
       "       'PSH Flag Count', 'ACK Flag Count', 'Avg Fwd Segment Size',\n",
       "       'Avg Bwd Segment Size', 'Subflow Bwd Bytes', 'Init_Win_bytes_forward',\n",
       "       'Init_Win_bytes_backward', 'act_data_pkt_fwd', 'min_seg_size_forward',\n",
       "       'Active Max', 'Idle Mean', 'Attack Type'],\n",
       "      dtype='object')"
      ]
     },
     "execution_count": 6,
     "metadata": {},
     "output_type": "execute_result"
    }
   ],
   "source": [
    "df17.columns"
   ]
  },
  {
   "cell_type": "code",
   "execution_count": 7,
   "id": "d055d471",
   "metadata": {},
   "outputs": [
    {
     "data": {
      "text/plain": [
       "Index(['Flow Duration', 'Tot Fwd Pkts', 'Tot Bwd Pkts', 'TotLen Fwd Pkts',\n",
       "       'Fwd Pkt Len Max', 'Fwd Pkt Len Mean', 'Bwd Pkt Len Max',\n",
       "       'Bwd Pkt Len Mean', 'Flow Byts/s', 'Flow Pkts/s', 'Flow IAT Mean',\n",
       "       'Flow IAT Std', 'Flow IAT Max', 'Bwd IAT Min', 'Bwd Pkts/s',\n",
       "       'Pkt Len Var', 'RST Flag Cnt', 'ACK Flag Cnt', 'Init Bwd Win Byts',\n",
       "       'Fwd Seg Size Min', 'Attack Type'],\n",
       "      dtype='object')"
      ]
     },
     "execution_count": 7,
     "metadata": {},
     "output_type": "execute_result"
    }
   ],
   "source": [
    "df18.columns"
   ]
  },
  {
   "cell_type": "code",
   "execution_count": 8,
   "id": "58017897",
   "metadata": {},
   "outputs": [],
   "source": [
    "del df17\n",
    "del df18"
   ]
  },
  {
   "cell_type": "markdown",
   "id": "9b20e735",
   "metadata": {},
   "source": [
    "## Sync CIC IDS 2018 to 2017"
   ]
  },
  {
   "cell_type": "code",
   "execution_count": 9,
   "id": "7c4bc667",
   "metadata": {},
   "outputs": [
    {
     "ename": "ParserError",
     "evalue": "Error tokenizing data. C error: Calling read(nbytes) on source failed. Try engine='python'.",
     "output_type": "error",
     "traceback": [
      "\u001b[31m---------------------------------------------------------------------------\u001b[39m",
      "\u001b[31mParserError\u001b[39m                               Traceback (most recent call last)",
      "\u001b[36mCell\u001b[39m\u001b[36m \u001b[39m\u001b[32mIn[9]\u001b[39m\u001b[32m, line 1\u001b[39m\n\u001b[32m----> \u001b[39m\u001b[32m1\u001b[39m df18_full = \u001b[43mpd\u001b[49m\u001b[43m.\u001b[49m\u001b[43mread_csv\u001b[49m\u001b[43m(\u001b[49m\u001b[33;43m\"\u001b[39;49m\u001b[33;43m..\u001b[39;49m\u001b[33;43m\\\u001b[39;49m\u001b[33;43mdata prep\u001b[39;49m\u001b[33;43m\\\u001b[39;49m\u001b[33;43mcicids2018_prep\u001b[39;49m\u001b[33;43m\\\u001b[39;49m\u001b[33;43mcombined_data_fixed_f32.csv\u001b[39;49m\u001b[33;43m\"\u001b[39;49m\u001b[43m)\u001b[49m\n",
      "\u001b[36mFile \u001b[39m\u001b[32mf:\\!STUDY\\1TMO\\4 Сем\\ДИПЛОМ\\CODE\\NN-env\\Lib\\site-packages\\pandas\\io\\parsers\\readers.py:948\u001b[39m, in \u001b[36mread_csv\u001b[39m\u001b[34m(filepath_or_buffer, sep, delimiter, header, names, index_col, usecols, dtype, engine, converters, true_values, false_values, skipinitialspace, skiprows, skipfooter, nrows, na_values, keep_default_na, na_filter, verbose, skip_blank_lines, parse_dates, infer_datetime_format, keep_date_col, date_parser, date_format, dayfirst, cache_dates, iterator, chunksize, compression, thousands, decimal, lineterminator, quotechar, quoting, doublequote, escapechar, comment, encoding, encoding_errors, dialect, on_bad_lines, delim_whitespace, low_memory, memory_map, float_precision, storage_options, dtype_backend)\u001b[39m\n\u001b[32m    935\u001b[39m kwds_defaults = _refine_defaults_read(\n\u001b[32m    936\u001b[39m     dialect,\n\u001b[32m    937\u001b[39m     delimiter,\n\u001b[32m   (...)\u001b[39m\u001b[32m    944\u001b[39m     dtype_backend=dtype_backend,\n\u001b[32m    945\u001b[39m )\n\u001b[32m    946\u001b[39m kwds.update(kwds_defaults)\n\u001b[32m--> \u001b[39m\u001b[32m948\u001b[39m \u001b[38;5;28;01mreturn\u001b[39;00m \u001b[43m_read\u001b[49m\u001b[43m(\u001b[49m\u001b[43mfilepath_or_buffer\u001b[49m\u001b[43m,\u001b[49m\u001b[43m \u001b[49m\u001b[43mkwds\u001b[49m\u001b[43m)\u001b[49m\n",
      "\u001b[36mFile \u001b[39m\u001b[32mf:\\!STUDY\\1TMO\\4 Сем\\ДИПЛОМ\\CODE\\NN-env\\Lib\\site-packages\\pandas\\io\\parsers\\readers.py:617\u001b[39m, in \u001b[36m_read\u001b[39m\u001b[34m(filepath_or_buffer, kwds)\u001b[39m\n\u001b[32m    614\u001b[39m     \u001b[38;5;28;01mreturn\u001b[39;00m parser\n\u001b[32m    616\u001b[39m \u001b[38;5;28;01mwith\u001b[39;00m parser:\n\u001b[32m--> \u001b[39m\u001b[32m617\u001b[39m     \u001b[38;5;28;01mreturn\u001b[39;00m \u001b[43mparser\u001b[49m\u001b[43m.\u001b[49m\u001b[43mread\u001b[49m\u001b[43m(\u001b[49m\u001b[43mnrows\u001b[49m\u001b[43m)\u001b[49m\n",
      "\u001b[36mFile \u001b[39m\u001b[32mf:\\!STUDY\\1TMO\\4 Сем\\ДИПЛОМ\\CODE\\NN-env\\Lib\\site-packages\\pandas\\io\\parsers\\readers.py:1748\u001b[39m, in \u001b[36mTextFileReader.read\u001b[39m\u001b[34m(self, nrows)\u001b[39m\n\u001b[32m   1741\u001b[39m nrows = validate_integer(\u001b[33m\"\u001b[39m\u001b[33mnrows\u001b[39m\u001b[33m\"\u001b[39m, nrows)\n\u001b[32m   1742\u001b[39m \u001b[38;5;28;01mtry\u001b[39;00m:\n\u001b[32m   1743\u001b[39m     \u001b[38;5;66;03m# error: \"ParserBase\" has no attribute \"read\"\u001b[39;00m\n\u001b[32m   1744\u001b[39m     (\n\u001b[32m   1745\u001b[39m         index,\n\u001b[32m   1746\u001b[39m         columns,\n\u001b[32m   1747\u001b[39m         col_dict,\n\u001b[32m-> \u001b[39m\u001b[32m1748\u001b[39m     ) = \u001b[38;5;28;43mself\u001b[39;49m\u001b[43m.\u001b[49m\u001b[43m_engine\u001b[49m\u001b[43m.\u001b[49m\u001b[43mread\u001b[49m\u001b[43m(\u001b[49m\u001b[43m  \u001b[49m\u001b[38;5;66;43;03m# type: ignore[attr-defined]\u001b[39;49;00m\n\u001b[32m   1749\u001b[39m \u001b[43m        \u001b[49m\u001b[43mnrows\u001b[49m\n\u001b[32m   1750\u001b[39m \u001b[43m    \u001b[49m\u001b[43m)\u001b[49m\n\u001b[32m   1751\u001b[39m \u001b[38;5;28;01mexcept\u001b[39;00m \u001b[38;5;167;01mException\u001b[39;00m:\n\u001b[32m   1752\u001b[39m     \u001b[38;5;28mself\u001b[39m.close()\n",
      "\u001b[36mFile \u001b[39m\u001b[32mf:\\!STUDY\\1TMO\\4 Сем\\ДИПЛОМ\\CODE\\NN-env\\Lib\\site-packages\\pandas\\io\\parsers\\c_parser_wrapper.py:234\u001b[39m, in \u001b[36mCParserWrapper.read\u001b[39m\u001b[34m(self, nrows)\u001b[39m\n\u001b[32m    232\u001b[39m \u001b[38;5;28;01mtry\u001b[39;00m:\n\u001b[32m    233\u001b[39m     \u001b[38;5;28;01mif\u001b[39;00m \u001b[38;5;28mself\u001b[39m.low_memory:\n\u001b[32m--> \u001b[39m\u001b[32m234\u001b[39m         chunks = \u001b[38;5;28;43mself\u001b[39;49m\u001b[43m.\u001b[49m\u001b[43m_reader\u001b[49m\u001b[43m.\u001b[49m\u001b[43mread_low_memory\u001b[49m\u001b[43m(\u001b[49m\u001b[43mnrows\u001b[49m\u001b[43m)\u001b[49m\n\u001b[32m    235\u001b[39m         \u001b[38;5;66;03m# destructive to chunks\u001b[39;00m\n\u001b[32m    236\u001b[39m         data = _concatenate_chunks(chunks)\n",
      "\u001b[36mFile \u001b[39m\u001b[32mparsers.pyx:843\u001b[39m, in \u001b[36mpandas._libs.parsers.TextReader.read_low_memory\u001b[39m\u001b[34m()\u001b[39m\n",
      "\u001b[36mFile \u001b[39m\u001b[32mparsers.pyx:904\u001b[39m, in \u001b[36mpandas._libs.parsers.TextReader._read_rows\u001b[39m\u001b[34m()\u001b[39m\n",
      "\u001b[36mFile \u001b[39m\u001b[32mparsers.pyx:879\u001b[39m, in \u001b[36mpandas._libs.parsers.TextReader._tokenize_rows\u001b[39m\u001b[34m()\u001b[39m\n",
      "\u001b[36mFile \u001b[39m\u001b[32mparsers.pyx:890\u001b[39m, in \u001b[36mpandas._libs.parsers.TextReader._check_tokenize_status\u001b[39m\u001b[34m()\u001b[39m\n",
      "\u001b[36mFile \u001b[39m\u001b[32mparsers.pyx:2058\u001b[39m, in \u001b[36mpandas._libs.parsers.raise_parser_error\u001b[39m\u001b[34m()\u001b[39m\n",
      "\u001b[31mParserError\u001b[39m: Error tokenizing data. C error: Calling read(nbytes) on source failed. Try engine='python'."
     ]
    }
   ],
   "source": [
    "df18_full = pd.read_csv(\"..\\data prep\\cicids2018_prep\\combined_data_fixed_f32.csv\")"
   ]
  },
  {
   "cell_type": "code",
   "execution_count": null,
   "id": "e1aded50",
   "metadata": {},
   "outputs": [],
   "source": [
    "df18_full.columns"
   ]
  },
  {
   "cell_type": "code",
   "execution_count": null,
   "id": "29ec1984",
   "metadata": {},
   "outputs": [],
   "source": [
    "# Sync columns to 2017 dataset\n",
    "needed_columns_2018 = [\"Dst Port\", \"Flow Duration\", \"Tot Fwd Pkts\", \"TotLen Fwd Pkts\", \"Fwd Pkt Len Max\", \"Fwd Pkt Len Min\", \"Fwd Pkt Len Mean\", \"Fwd Pkt Len Std\", \"Bwd Pkt Len Max\", \"Bwd Pkt Len Min\", \"Bwd Pkt Len Mean\", \"Flow Byts/s\", \"Flow Pkts/s\", \"Flow IAT Mean\", \"Flow IAT Std\", \"Flow IAT Max\", \"Fwd IAT Tot\", \"Fwd IAT Mean\", \"Fwd IAT Std\", \"Fwd IAT Min\", \"Bwd IAT Max\", \"Bwd IAT Min\", \"Fwd Header Len\", \"Bwd Header Len\", \"Fwd Pkts/s\", \"Bwd Pkts/s\", \"Pkt Len Min\", \"Pkt Len Max\", \"Pkt Len Mean\", \"Pkt Len Var\", \"PSH Flag Cnt\", \"ACK Flag Cnt\", \"Fwd Seg Size Avg\", \"Bwd Seg Size Avg\", \"Subflow Bwd Byts\", \"Init Fwd Win Byts\", \"Init Bwd Win Byts\", \"Fwd Act Data Pkts\", \"Fwd Seg Size Min\", \"Active Max\", \"Idle Mean\", \"Label\"]\n",
    "for column in df18_full.columns:\n",
    "    if column not in needed_columns_2018:\n",
    "        df18_full.drop(column, axis=1, inplace=True)"
   ]
  },
  {
   "cell_type": "code",
   "execution_count": null,
   "id": "b96f5385",
   "metadata": {},
   "outputs": [],
   "source": [
    "# Rename columns to the names of 2017 dataset\n",
    "group_mapping = {\"Dst Port\": \"Destination Port\",\"Flow Duration\": \"Flow Duration\",\"Tot Fwd Pkts\": \"Total Fwd Packets\",\"TotLen Fwd Pkts\": \"Total Length of Fwd Packets\",\"Fwd Pkt Len Max\": \"Fwd Packet Length Max\",\"Fwd Pkt Len Min\": \"Fwd Packet Length Min\",\"Fwd Pkt Len Mean\": \"Fwd Packet Length Mean\",\"Fwd Pkt Len Std\": \"Fwd Packet Length Std\",\"Bwd Pkt Len Max\": \"Bwd Packet Length Max\",\"Bwd Pkt Len Min\": \"Bwd Packet Length Min\",\"Bwd Pkt Len Mean\": \"Bwd Packet Length Mean\",\"Flow Byts/s\": \"Flow Bytes/s\",\"Flow Pkts/s\": \"Flow Packets/s\",\"Flow IAT Mean\": \"Flow IAT Mean\",\"Flow IAT Std\": \"Flow IAT Std\",\"Flow IAT Max\": \"Flow IAT Max\",\"Fwd IAT Tot\": \"Fwd IAT Total\",\"Fwd IAT Mean\": \"Fwd IAT Mean\",\"Fwd IAT Std\": \"Fwd IAT Std\",\"Fwd IAT Min\": \"Fwd IAT Min\",\"Bwd IAT Max\": \"Bwd IAT Max\",\"Bwd IAT Min\": \"Bwd IAT Min\",\"Fwd Header Len\": \"Fwd Header Length\",\"Bwd Header Len\": \"Bwd Header Length\",\"Fwd Pkts/s\": \"Fwd Packets/s\",\"Bwd Pkts/s\": \"Bwd Packets/s\",\"Pkt Len Min\": \"Min Packet Length\",\"Pkt Len Max\": \"Max Packet Length\",\"Pkt Len Mean\": \"Packet Length Mean\",\"Pkt Len Var\": \"Packet Length Variance\",\"PSH Flag Cnt\": \"PSH Flag Count\",\"ACK Flag Cnt\": \"ACK Flag Count\",\"Fwd Seg Size Avg\": \"Avg Fwd Segment Size\",\"Bwd Seg Size Avg\": \"Avg Bwd Segment Size\",\"Subflow Bwd Byts\": \"Subflow Bwd Bytes\",\"Init Fwd Win Byts\": \"Init_Win_bytes_forward\",\"Init Bwd Win Byts\": \"Init_Win_bytes_backward\",\"Fwd Act Data Pkts\": \"act_data_pkt_fwd\",\"Fwd Seg Size Min\": \"min_seg_size_forward\",\"Active Max\": \"Active Max\",\"Idle Mean\": \"Idle Mean\",\"Label\": \"Attack Type\"}\n",
    "\n",
    "df18_full = df18_full.rename(columns=group_mapping)"
   ]
  },
  {
   "cell_type": "code",
   "execution_count": null,
   "id": "95fba3fc",
   "metadata": {},
   "outputs": [],
   "source": [
    "# Mapping the attacks to the new group\n",
    "group_mapping = {\n",
    "    'Benign': 'Normal Traffic',\n",
    "    'Brute Force -Web': 'Brute Force',\n",
    "    'Brute Force -XSS': 'Brute Force',\n",
    "    'FTP-BruteForce': 'Brute Force',\n",
    "    'SSH-Bruteforce': 'Brute Force',\n",
    "    'DDOS attack-HOIC': 'DDoS',\n",
    "    'DDOS attack-LOIC-UDP': 'DDoS',\n",
    "    'DDoS attacks-LOIC-HTTP': 'DDoS',\n",
    "    'DoS attacks-GoldenEye': 'DoS',\n",
    "    'DoS attacks-Hulk': 'DoS',\n",
    "    'DoS attacks-SlowHTTPTest': 'DoS',\n",
    "    'DoS attacks-Slowloris': 'DoS',\n",
    "    'Bot': 'Bot',\n",
    "    'SQL Injection': 'SQL Injection',\n",
    "    'Infilteration': 'Infilteration',\n",
    "}\n",
    "\n",
    "# Map to new group column\n",
    "df18_full['Attack Type'] = df18_full['Attack Type'].map(group_mapping)\n",
    "df18_full.drop(df18_full[(df18_full['Attack Type'] == 'SQL Injection')].index, inplace=True)"
   ]
  },
  {
   "cell_type": "code",
   "execution_count": null,
   "id": "e6acf43d",
   "metadata": {},
   "outputs": [],
   "source": [
    "df18_full.columns"
   ]
  },
  {
   "cell_type": "code",
   "execution_count": null,
   "id": "16dd18b2",
   "metadata": {},
   "outputs": [],
   "source": [
    "df18_full['Attack Type'].unique()"
   ]
  },
  {
   "cell_type": "code",
   "execution_count": null,
   "id": "6d3e2299",
   "metadata": {},
   "outputs": [],
   "source": [
    "df17 = pd.read_csv(\"..\\data prep\\cicids2017_prep\\cicids2017_42feat_97percent.csv\")\n"
   ]
  },
  {
   "cell_type": "code",
   "execution_count": null,
   "id": "c52206fc",
   "metadata": {},
   "outputs": [],
   "source": [
    "list(df18_full.columns) == list(df17.columns)"
   ]
  },
  {
   "cell_type": "code",
   "execution_count": null,
   "id": "7bdc515e",
   "metadata": {},
   "outputs": [],
   "source": [
    "# save synced 2018 dataset\n",
    "df18_full.to_csv(\"cicids2018_test_of_2017.csv\", index=False)"
   ]
  },
  {
   "cell_type": "code",
   "execution_count": null,
   "id": "ad7f4180",
   "metadata": {},
   "outputs": [],
   "source": [
    "del df18_full\n",
    "del df17"
   ]
  },
  {
   "cell_type": "markdown",
   "id": "5b519874",
   "metadata": {},
   "source": [
    "## Sync CIC IDS 2017 to 2018"
   ]
  },
  {
   "cell_type": "code",
   "execution_count": null,
   "id": "55b78e49",
   "metadata": {},
   "outputs": [],
   "source": [
    "df17_full = pd.read_csv(\"..\\data prep\\cicids2017_prep\\cicids2017_before_corr_analysis.csv\")"
   ]
  },
  {
   "cell_type": "code",
   "execution_count": null,
   "id": "9445cac1",
   "metadata": {},
   "outputs": [],
   "source": [
    "df17_full.columns"
   ]
  },
  {
   "cell_type": "code",
   "execution_count": null,
   "id": "f1bc34b5",
   "metadata": {},
   "outputs": [],
   "source": [
    "needed_columns_2017 = [\"Flow Duration\", \"Total Fwd Packets\", \"Total Backward Packets\", \"Total Length of Fwd Packets\", \"Fwd Packet Length Max\", \"Fwd Packet Length Mean\", \"Bwd Packet Length Max\", \"Bwd Packet Length Mean\", \"Flow Bytes/s\", \"Flow Packets/s\", \"Flow IAT Mean\", \"Flow IAT Std\", \"Flow IAT Max\", \"Bwd IAT Min\", \"Bwd Packets/s\", \"Packet Length Variance\", \"RST Flag Count\", \"ACK Flag Count\", \"Init_Win_bytes_backward\", \"min_seg_size_forward\", \"Attack Type\"]\n",
    "for column in df17_full.columns:\n",
    "    if column not in needed_columns_2017:\n",
    "        df17_full.drop(column, axis=1, inplace=True)"
   ]
  },
  {
   "cell_type": "code",
   "execution_count": null,
   "id": "de3531e7",
   "metadata": {},
   "outputs": [],
   "source": [
    "group_mapping = {\"Flow Duration\": \"Flow Duration\", \"Total Fwd Packets\": \"Tot Fwd Pkts\", \"Total Backward Packets\": \"Tot Bwd Pkts\",\"Total Length of Fwd Packets\": \"TotLen Fwd Pkts\",\"Fwd Packet Length Max\": \"Fwd Pkt Len Max\",\"Fwd Packet Length Mean\": \"Fwd Pkt Len Mean\",\"Bwd Packet Length Max\": \"Bwd Pkt Len Max\",\"Bwd Packet Length Mean\": \"Bwd Pkt Len Mean\",\"Flow Bytes/s\": \"Flow Byts/s\",\"Flow Packets/s\": \"Flow Pkts/s\",\"Flow IAT Mean\": \"Flow IAT Mean\",\"Flow IAT Std\": \"Flow IAT Std\",\"Flow IAT Max\": \"Flow IAT Max\",\"Bwd IAT Min\": \"Bwd IAT Min\",\"Bwd Packets/s\": \"Bwd Pkts/s\",\"Packet Length Variance\": \"Pkt Len Var\",\"RST Flag Count\": \"RST Flag Cnt\",\"ACK Flag Count\": \"ACK Flag Cnt\",\"Init_Win_bytes_backward\": \"Init Bwd Win Byts\",\"min_seg_size_forward\": \"Fwd Seg Size Min\",\"Attack Type\": \"Attack Type\"}\n",
    "\n",
    "df17_full = df17_full.rename(columns=group_mapping)"
   ]
  },
  {
   "cell_type": "code",
   "execution_count": null,
   "id": "21a655aa",
   "metadata": {},
   "outputs": [],
   "source": [
    "df17_full[\"Attack Type\"].unique()"
   ]
  },
  {
   "cell_type": "code",
   "execution_count": null,
   "id": "b01b8458",
   "metadata": {},
   "outputs": [],
   "source": [
    "df17_full.columns"
   ]
  },
  {
   "cell_type": "code",
   "execution_count": null,
   "id": "73451851",
   "metadata": {},
   "outputs": [],
   "source": [
    "df17_full['Attack Type'].unique()"
   ]
  },
  {
   "cell_type": "code",
   "execution_count": null,
   "id": "e015b5c7",
   "metadata": {},
   "outputs": [],
   "source": [
    "df18 = pd.read_csv(\"..\\data prep\\cicids2018_prep\\cicids2018_21feat_84per.csv\")"
   ]
  },
  {
   "cell_type": "code",
   "execution_count": null,
   "id": "6be37160",
   "metadata": {},
   "outputs": [],
   "source": [
    "list(df17_full.columns) == list(df18.columns)"
   ]
  },
  {
   "cell_type": "code",
   "execution_count": null,
   "id": "82817662",
   "metadata": {},
   "outputs": [],
   "source": [
    "df17_full.to_csv(\"cicids2017_test_of_2018.csv\", index=False)"
   ]
  },
  {
   "cell_type": "code",
   "execution_count": null,
   "id": "c87b80fb",
   "metadata": {},
   "outputs": [],
   "source": [
    "del df17_full\n",
    "del df18"
   ]
  },
  {
   "cell_type": "markdown",
   "id": "b4c6efc3",
   "metadata": {},
   "source": [
    "# MultiClass"
   ]
  },
  {
   "cell_type": "markdown",
   "id": "d5cd8e34",
   "metadata": {},
   "source": [
    "## Training on 2017 and testing on 2018"
   ]
  },
  {
   "cell_type": "markdown",
   "id": "55b94a07",
   "metadata": {},
   "source": [
    "### Preparing Sampling of training data"
   ]
  },
  {
   "cell_type": "code",
   "execution_count": 54,
   "id": "25af0852",
   "metadata": {},
   "outputs": [],
   "source": [
    "# Reading data\n",
    "df = pd.read_csv(\"cicids2017_training.csv\")\n",
    "\n",
    "X_train = df.drop('Attack Type', axis=1)\n",
    "y_train = df['Attack Type']\n",
    "\n",
    "del df"
   ]
  },
  {
   "cell_type": "code",
   "execution_count": 55,
   "id": "c92c9296",
   "metadata": {},
   "outputs": [],
   "source": [
    "# Reading data\n",
    "df = pd.read_csv(\"cicids2018_test_of_2017.csv\")\n",
    "\n",
    "X_test = df.drop('Attack Type', axis=1)\n",
    "y_test = df['Attack Type']\n",
    "\n",
    "del df"
   ]
  },
  {
   "cell_type": "code",
   "execution_count": null,
   "id": "d52672d6",
   "metadata": {},
   "outputs": [],
   "source": [
    "# Initialize scaling algos\n",
    "MMS = MinMaxScaler()\n",
    "X_train_MMS_scaled = MMS.fit_transform(X_train)\n",
    "X_test_MMS_scaled = MMS.transform(X_test)"
   ]
  },
  {
   "cell_type": "code",
   "execution_count": 57,
   "id": "f11d17f6",
   "metadata": {},
   "outputs": [
    {
     "data": {
      "text/plain": [
       "Attack Type\n",
       "Normal Traffic    2095057\n",
       "DoS                193745\n",
       "DDoS               128014\n",
       "Port Scanning       90694\n",
       "Brute Force          9150\n",
       "Web Attacks          2143\n",
       "Bots                 1948\n",
       "Name: count, dtype: int64"
      ]
     },
     "execution_count": 57,
     "metadata": {},
     "output_type": "execute_result"
    }
   ],
   "source": [
    "y_train.value_counts()"
   ]
  },
  {
   "cell_type": "code",
   "execution_count": null,
   "id": "31fc32ec",
   "metadata": {},
   "outputs": [],
   "source": [
    "X_train_scaled_rus_MMS, y_train_scaled_rus_MMS = RandomUnderSampler(sampling_strategy={'Normal Traffic': 650000}, random_state=42).fit_resample(X_train_MMS_scaled, y_train)"
   ]
  },
  {
   "cell_type": "code",
   "execution_count": null,
   "id": "979f2508",
   "metadata": {},
   "outputs": [],
   "source": [
    "X_train_resampled_scaled_MMS_SMOTE, y_train_resampled_scaled_MMS_SMOTE = SMOTE(sampling_strategy={'Bots': 10000, 'Web Attacks': 10000, 'Brute Force': 10000, 'Port Scanning': 91000, 'DDoS': 130000, 'DoS': 200000}, random_state=42).fit_resample(X_train_scaled_rus_MMS, y_train_scaled_rus_MMS)"
   ]
  },
  {
   "cell_type": "code",
   "execution_count": 60,
   "id": "a3968923",
   "metadata": {},
   "outputs": [
    {
     "data": {
      "text/plain": [
       "Attack Type\n",
       "Normal Traffic    650000\n",
       "DoS               200000\n",
       "DDoS              130000\n",
       "Port Scanning      91000\n",
       "Bots               10000\n",
       "Brute Force        10000\n",
       "Web Attacks        10000\n",
       "Name: count, dtype: int64"
      ]
     },
     "execution_count": 60,
     "metadata": {},
     "output_type": "execute_result"
    }
   ],
   "source": [
    "y_train_resampled_scaled_MMS_SMOTE.value_counts()"
   ]
  },
  {
   "cell_type": "code",
   "execution_count": null,
   "id": "d91ef89c",
   "metadata": {},
   "outputs": [],
   "source": [
    "group_mapping_2017 = {\n",
    "    'Normal Traffic': 'Normal Traffic',\n",
    "    'DoS': 'DoS',\n",
    "    'DDoS': 'DDoS',\n",
    "    'Brute Force': 'Brute Force',\n",
    "    'Bots': 'Bots',\n",
    "    'Web Attacks': 'Other',\n",
    "    'Port Scanning': 'Other'}"
   ]
  },
  {
   "cell_type": "code",
   "execution_count": null,
   "id": "d018dcc0",
   "metadata": {},
   "outputs": [],
   "source": [
    "y_train_resampled_scaled_MMS_SMOTE = y_train_resampled_scaled_MMS_SMOTE.map(group_mapping_2017)"
   ]
  },
  {
   "cell_type": "markdown",
   "id": "3df97c10",
   "metadata": {},
   "source": [
    "### Training and testing models"
   ]
  },
  {
   "cell_type": "code",
   "execution_count": 102,
   "id": "59bc4177",
   "metadata": {},
   "outputs": [
    {
     "name": "stderr",
     "output_type": "stream",
     "text": [
      "[Parallel(n_jobs=-1)]: Using backend ThreadingBackend with 16 concurrent workers.\n",
      "[Parallel(n_jobs=-1)]: Done  18 tasks      | elapsed:  1.2min\n",
      "[Parallel(n_jobs=-1)]: Done  64 out of  64 | elapsed:  2.5min finished\n",
      "[Parallel(n_jobs=16)]: Using backend ThreadingBackend with 16 concurrent workers.\n",
      "[Parallel(n_jobs=16)]: Done  18 tasks      | elapsed:   21.9s\n",
      "[Parallel(n_jobs=16)]: Done  64 out of  64 | elapsed:   32.4s finished\n"
     ]
    },
    {
     "name": "stdout",
     "output_type": "stream",
     "text": [
      "Predict Time (s) -  35.55641722679138\n",
      "Cross validation average score: 0.9788 +/- standard deviation: 0.0395\n",
      "Accuracy on the test set: 0.8552\n",
      "Resource measurements: {'Training Time (s)': 151.48141598701477, 'Peak CPU Usage (%)': 100.0, 'Average CPU Usage (%)': 94.83155893536114}\n",
      "                precision    recall  f1-score   support\n",
      "\n",
      "          Bots     0.1235    0.0001    0.0002    286191\n",
      "   Brute Force     0.0033    0.0001    0.0001    381784\n",
      "          DDoS     0.9994    0.2289    0.3725   1263933\n",
      "           DoS     0.6114    0.7020    0.6536    654300\n",
      "Normal Traffic     0.8681    0.9746    0.9183  13390249\n",
      "         Other     0.0145    0.0050    0.0074    160639\n",
      "\n",
      "      accuracy                         0.8552  16137096\n",
      "     macro avg     0.4367    0.3184    0.3253  16137096\n",
      "  weighted avg     0.8258    0.8552    0.8177  16137096\n",
      "\n"
     ]
    }
   ],
   "source": [
    "eval_dataset_w_RF(X_train_resampled_scaled_MMS_SMOTE, X_test_MMS_scaled, y_train_resampled_scaled_MMS_SMOTE, y_test, params_rf={'n_estimators': 64, 'max_depth': 21, 'min_samples_split': 10, 'min_samples_leaf': 2, 'max_features': None})"
   ]
  },
  {
   "cell_type": "code",
   "execution_count": 63,
   "id": "b3924556",
   "metadata": {},
   "outputs": [
    {
     "name": "stderr",
     "output_type": "stream",
     "text": [
      "[Parallel(n_jobs=-1)]: Using backend ThreadingBackend with 16 concurrent workers.\n",
      "[Parallel(n_jobs=-1)]: Done  18 tasks      | elapsed:   10.7s\n",
      "[Parallel(n_jobs=-1)]: Done  64 out of  64 | elapsed:   25.0s finished\n",
      "[Parallel(n_jobs=16)]: Using backend ThreadingBackend with 16 concurrent workers.\n",
      "[Parallel(n_jobs=16)]: Done  18 tasks      | elapsed:   23.9s\n",
      "[Parallel(n_jobs=16)]: Done  64 out of  64 | elapsed:   35.5s finished\n"
     ]
    },
    {
     "name": "stdout",
     "output_type": "stream",
     "text": [
      "Predict Time (s) -  37.764766693115234\n",
      "Cross validation average score: 0.9801 +/- standard deviation: 0.0355\n",
      "Accuracy on the test set: 0.8247\n",
      "Resource measurements: {'Training Time (s)': 25.853893518447876, 'Peak CPU Usage (%)': 100.0, 'Average CPU Usage (%)': 90.00552486187843}\n"
     ]
    },
    {
     "name": "stderr",
     "output_type": "stream",
     "text": [
      "f:\\!STUDY\\1TMO\\4 Сем\\ДИПЛОМ\\CODE\\NN-env\\Lib\\site-packages\\sklearn\\metrics\\_classification.py:1471: UndefinedMetricWarning: Precision and F-score are ill-defined and being set to 0.0 in labels with no predicted samples. Use `zero_division` parameter to control this behavior.\n",
      "  _warn_prf(average, modifier, msg_start, len(result))\n",
      "f:\\!STUDY\\1TMO\\4 Сем\\ДИПЛОМ\\CODE\\NN-env\\Lib\\site-packages\\sklearn\\metrics\\_classification.py:1471: UndefinedMetricWarning: Precision and F-score are ill-defined and being set to 0.0 in labels with no predicted samples. Use `zero_division` parameter to control this behavior.\n",
      "  _warn_prf(average, modifier, msg_start, len(result))\n"
     ]
    },
    {
     "name": "stdout",
     "output_type": "stream",
     "text": [
      "                precision    recall  f1-score   support\n",
      "\n",
      "          Bots     0.0000    0.0000    0.0000    286191\n",
      "   Brute Force     0.0026    0.0000    0.0000    381784\n",
      "          DDoS     0.0000    0.0000    0.0000   1263933\n",
      "           DoS     0.2396    0.2105    0.2241    654300\n",
      "Normal Traffic     0.8464    0.9836    0.9098  13390249\n",
      "         Other     0.1300    0.0002    0.0003    160639\n",
      "\n",
      "      accuracy                         0.8247  16137096\n",
      "     macro avg     0.2031    0.1990    0.1890  16137096\n",
      "  weighted avg     0.7134    0.8247    0.7641  16137096\n",
      "\n"
     ]
    },
    {
     "name": "stderr",
     "output_type": "stream",
     "text": [
      "f:\\!STUDY\\1TMO\\4 Сем\\ДИПЛОМ\\CODE\\NN-env\\Lib\\site-packages\\sklearn\\metrics\\_classification.py:1471: UndefinedMetricWarning: Precision and F-score are ill-defined and being set to 0.0 in labels with no predicted samples. Use `zero_division` parameter to control this behavior.\n",
      "  _warn_prf(average, modifier, msg_start, len(result))\n"
     ]
    }
   ],
   "source": [
    "eval_dataset_w_RF(X_train_resampled_scaled_MMS_SMOTE, X_test_MMS_scaled, y_train_resampled_scaled_MMS_SMOTE, y_test, params_rf={'n_estimators': 64, 'max_depth': 21, 'min_samples_split': 10, 'min_samples_leaf': 2, 'max_features': \"sqrt\"})"
   ]
  },
  {
   "cell_type": "code",
   "execution_count": null,
   "id": "43a221da",
   "metadata": {},
   "outputs": [
    {
     "name": "stdout",
     "output_type": "stream",
     "text": [
      "Predict Time (s) -  118.67052054405212\n",
      "CV F1: 0.9859 ± 0.0263\n",
      "Test Accuracy: 0.8602\n"
     ]
    },
    {
     "name": "stderr",
     "output_type": "stream",
     "text": [
      "f:\\!STUDY\\1TMO\\4 Сем\\ДИПЛОМ\\CODE\\NN-env\\Lib\\site-packages\\sklearn\\metrics\\_classification.py:1471: UndefinedMetricWarning: Precision and F-score are ill-defined and being set to 0.0 in labels with no predicted samples. Use `zero_division` parameter to control this behavior.\n",
      "  _warn_prf(average, modifier, msg_start, len(result))\n",
      "f:\\!STUDY\\1TMO\\4 Сем\\ДИПЛОМ\\CODE\\NN-env\\Lib\\site-packages\\sklearn\\metrics\\_classification.py:1471: UndefinedMetricWarning: Precision and F-score are ill-defined and being set to 0.0 in labels with no predicted samples. Use `zero_division` parameter to control this behavior.\n",
      "  _warn_prf(average, modifier, msg_start, len(result))\n"
     ]
    },
    {
     "name": "stdout",
     "output_type": "stream",
     "text": [
      "                precision    recall  f1-score   support\n",
      "\n",
      "          Bots     0.9997    0.0316    0.0613    286191\n",
      "   Brute Force     0.9674    0.2447    0.3906    381784\n",
      "          DDoS     0.0000    0.0000    0.0000   1263933\n",
      "           DoS     0.9815    0.6031    0.7471    654300\n",
      "Normal Traffic     0.8751    0.9994    0.9331  13390249\n",
      "         Other     0.0019    0.0039    0.0025    160639\n",
      "\n",
      "      accuracy                         0.8602  16137096\n",
      "     macro avg     0.6376    0.3138    0.3558  16137096\n",
      "  weighted avg     0.8065    0.8602    0.8149  16137096\n",
      "\n",
      "Resource Usage: {'Training Time (s)': 43.07909059524536, 'Peak CPU (%)': 100.0, 'Avg CPU (%)': 98.74724220623503}\n"
     ]
    },
    {
     "name": "stderr",
     "output_type": "stream",
     "text": [
      "f:\\!STUDY\\1TMO\\4 Сем\\ДИПЛОМ\\CODE\\NN-env\\Lib\\site-packages\\sklearn\\metrics\\_classification.py:1471: UndefinedMetricWarning: Precision and F-score are ill-defined and being set to 0.0 in labels with no predicted samples. Use `zero_division` parameter to control this behavior.\n",
      "  _warn_prf(average, modifier, msg_start, len(result))\n"
     ]
    }
   ],
   "source": [
    "eval_dataset_w_LGBM(X_train_resampled_scaled_MMS_SMOTE, X_test_MMS_scaled, y_train_resampled_scaled_MMS_SMOTE, y_test, params_lgbm={'n_estimators': 228, 'learning_rate': 0.07241523535942174, 'max_depth': 14, 'num_leaves': 79, 'subsample': 0.5650088660864082, 'colsample_bytree': 0.8850730957587873, 'reg_alpha': 0.31650105405212536, 'reg_lambda': 3.8724602641849213})"
   ]
  },
  {
   "cell_type": "markdown",
   "id": "a972f6f2",
   "metadata": {},
   "source": [
    "## Training on 2018 and testing on 2017"
   ]
  },
  {
   "cell_type": "markdown",
   "id": "a7a9aa6d",
   "metadata": {},
   "source": [
    "### Preparing Sampling of training data"
   ]
  },
  {
   "cell_type": "code",
   "execution_count": 64,
   "id": "b8df314a",
   "metadata": {},
   "outputs": [],
   "source": [
    "# Reading data\n",
    "df = pd.read_csv(\"cicids2018_training.csv\")\n",
    "\n",
    "X_train = df.drop('Attack Type', axis=1)\n",
    "y_train = df['Attack Type']\n",
    "\n",
    "del df"
   ]
  },
  {
   "cell_type": "code",
   "execution_count": 65,
   "id": "c749383e",
   "metadata": {},
   "outputs": [],
   "source": [
    "# Reading data\n",
    "df = pd.read_csv(\"cicids2017_test_of_2018.csv\")\n",
    "\n",
    "X_test = df.drop('Attack Type', axis=1)\n",
    "y_test = df['Attack Type']\n",
    "\n",
    "del df"
   ]
  },
  {
   "cell_type": "code",
   "execution_count": 66,
   "id": "b915297b",
   "metadata": {},
   "outputs": [],
   "source": [
    "# Initialize scaling algos\n",
    "MMS = MinMaxScaler()\n",
    "X_train_MMS_scaled = MMS.fit_transform(X_train)\n",
    "X_test_MMS_scaled = MMS.transform(X_test)"
   ]
  },
  {
   "cell_type": "code",
   "execution_count": 67,
   "id": "820be35c",
   "metadata": {},
   "outputs": [
    {
     "data": {
      "text/plain": [
       "Attack Type\n",
       "Normal Traffic    8634196\n",
       "DDoS               775470\n",
       "DoS                196299\n",
       "Bot                143977\n",
       "Infilteration      107531\n",
       "Brute Force         94876\n",
       "Name: count, dtype: int64"
      ]
     },
     "execution_count": 67,
     "metadata": {},
     "output_type": "execute_result"
    }
   ],
   "source": [
    "y_train.value_counts()"
   ]
  },
  {
   "cell_type": "code",
   "execution_count": 68,
   "id": "c9487220",
   "metadata": {},
   "outputs": [],
   "source": [
    "X_train_scaled_rus_MMS, y_train_scaled_rus_MMS = RandomUnderSampler(sampling_strategy={'Normal Traffic': 1300000}, random_state=42).fit_resample(X_train_MMS_scaled, y_train)"
   ]
  },
  {
   "cell_type": "code",
   "execution_count": 69,
   "id": "58e07967",
   "metadata": {},
   "outputs": [],
   "source": [
    "X_train_resampled_scaled_MMS_SMOTE, y_train_resampled_scaled_MMS_SMOTE = SMOTE(sampling_strategy={'Bot': 195000, 'Brute Force': 130000, 'Infilteration': 150000, 'DDoS':800000, 'DoS': 200000}, random_state=42).fit_resample(X_train_scaled_rus_MMS, y_train_scaled_rus_MMS)"
   ]
  },
  {
   "cell_type": "code",
   "execution_count": 70,
   "id": "fc253f09",
   "metadata": {},
   "outputs": [
    {
     "data": {
      "text/plain": [
       "Attack Type\n",
       "Normal Traffic    1300000\n",
       "DDoS               800000\n",
       "DoS                200000\n",
       "Bot                195000\n",
       "Infilteration      150000\n",
       "Brute Force        130000\n",
       "Name: count, dtype: int64"
      ]
     },
     "execution_count": 70,
     "metadata": {},
     "output_type": "execute_result"
    }
   ],
   "source": [
    "y_train_resampled_scaled_MMS_SMOTE.value_counts()"
   ]
  },
  {
   "cell_type": "code",
   "execution_count": 71,
   "id": "6bb897ca",
   "metadata": {},
   "outputs": [],
   "source": [
    "group_mapping_2018 = {\n",
    "    'Normal Traffic': 'Normal Traffic',\n",
    "    'DoS': 'DoS',\n",
    "    'DDoS': 'DDoS',\n",
    "    'Brute Force': 'Brute Force',\n",
    "    'Bot': 'Bots',\n",
    "    'Infilteration': 'Other'}"
   ]
  },
  {
   "cell_type": "code",
   "execution_count": 72,
   "id": "45f96509",
   "metadata": {},
   "outputs": [],
   "source": [
    "y_train_resampled_scaled_MMS_SMOTE = y_train_resampled_scaled_MMS_SMOTE.map(group_mapping_2018)"
   ]
  },
  {
   "cell_type": "markdown",
   "id": "ff144144",
   "metadata": {},
   "source": [
    "### Training and testing models"
   ]
  },
  {
   "cell_type": "code",
   "execution_count": 134,
   "id": "f757211c",
   "metadata": {},
   "outputs": [
    {
     "name": "stderr",
     "output_type": "stream",
     "text": [
      "[Parallel(n_jobs=-1)]: Using backend ThreadingBackend with 16 concurrent workers.\n",
      "[Parallel(n_jobs=-1)]: Done  18 tasks      | elapsed:  1.3min\n",
      "[Parallel(n_jobs=-1)]: Done  64 out of  64 | elapsed:  2.8min finished\n",
      "[Parallel(n_jobs=16)]: Using backend ThreadingBackend with 16 concurrent workers.\n",
      "[Parallel(n_jobs=16)]: Done  18 tasks      | elapsed:    0.9s\n",
      "[Parallel(n_jobs=16)]: Done  64 out of  64 | elapsed:    2.6s finished\n"
     ]
    },
    {
     "name": "stdout",
     "output_type": "stream",
     "text": [
      "Predict Time (s) -  3.109252452850342\n",
      "Cross validation average score: 0.9355 +/- standard deviation: 0.0056\n",
      "Accuracy on the test set: 0.7261\n",
      "Resource measurements: {'Training Time (s)': 167.48852038383484, 'Peak CPU Usage (%)': 100.0, 'Average CPU Usage (%)': 95.55463535228677}\n",
      "                precision    recall  f1-score   support\n",
      "\n",
      "          Bots     0.0000    0.0000    0.0000      1948\n",
      "   Brute Force     0.0313    0.2737    0.0562      9150\n",
      "          DDoS     0.0000    0.0000    0.0000    128014\n",
      "           DoS     0.1741    0.0890    0.1178    193745\n",
      "Normal Traffic     0.8568    0.8447    0.8507   2095057\n",
      "         Other     0.1543    0.4391    0.2283     92837\n",
      "\n",
      "      accuracy                         0.7261   2520751\n",
      "     macro avg     0.2028    0.2744    0.2089   2520751\n",
      "  weighted avg     0.7313    0.7261    0.7247   2520751\n",
      "\n"
     ]
    }
   ],
   "source": [
    "eval_dataset_w_RF(X_train_resampled_scaled_MMS_SMOTE, X_test_MMS_scaled, y_train_resampled_scaled_MMS_SMOTE, y_test, params_rf={'n_estimators': 64, 'max_depth': 21, 'min_samples_split': 10, 'min_samples_leaf': 2, 'max_features': None})"
   ]
  },
  {
   "cell_type": "code",
   "execution_count": 73,
   "id": "fc25badb",
   "metadata": {},
   "outputs": [
    {
     "name": "stderr",
     "output_type": "stream",
     "text": [
      "[Parallel(n_jobs=-1)]: Using backend ThreadingBackend with 16 concurrent workers.\n",
      "[Parallel(n_jobs=-1)]: Done  18 tasks      | elapsed:   18.4s\n",
      "[Parallel(n_jobs=-1)]: Done  64 out of  64 | elapsed:   38.7s finished\n",
      "[Parallel(n_jobs=16)]: Using backend ThreadingBackend with 16 concurrent workers.\n",
      "[Parallel(n_jobs=16)]: Done  18 tasks      | elapsed:    0.8s\n",
      "[Parallel(n_jobs=16)]: Done  64 out of  64 | elapsed:    2.4s finished\n"
     ]
    },
    {
     "name": "stdout",
     "output_type": "stream",
     "text": [
      "Predict Time (s) -  2.761488914489746\n",
      "Cross validation average score: 0.9351 +/- standard deviation: 0.0024\n",
      "Accuracy on the test set: 0.7729\n",
      "Resource measurements: {'Training Time (s)': 40.63669466972351, 'Peak CPU Usage (%)': 100.0, 'Average CPU Usage (%)': 94.61086142322097}\n",
      "                precision    recall  f1-score   support\n",
      "\n",
      "          Bots     0.0000    0.0000    0.0000      1948\n",
      "   Brute Force     0.0001    0.0008    0.0002      9150\n",
      "          DDoS     0.0000    0.0000    0.0000    128014\n",
      "           DoS     0.2341    0.0908    0.1308    193745\n",
      "Normal Traffic     0.8538    0.9015    0.8770   2095057\n",
      "         Other     0.2638    0.4517    0.3331     92837\n",
      "\n",
      "      accuracy                         0.7729   2520751\n",
      "     macro avg     0.2253    0.2408    0.2235   2520751\n",
      "  weighted avg     0.7373    0.7729    0.7512   2520751\n",
      "\n"
     ]
    }
   ],
   "source": [
    "eval_dataset_w_RF(X_train_resampled_scaled_MMS_SMOTE, X_test_MMS_scaled, y_train_resampled_scaled_MMS_SMOTE, y_test, params_rf={'n_estimators': 64, 'max_depth': 21, 'min_samples_split': 10, 'min_samples_leaf': 2, 'max_features': \"sqrt\"})"
   ]
  },
  {
   "cell_type": "code",
   "execution_count": 135,
   "id": "e4d9f11b",
   "metadata": {},
   "outputs": [
    {
     "name": "stdout",
     "output_type": "stream",
     "text": [
      "Predict Time (s) -  23.320427417755127\n",
      "CV F1: 0.9390 ± 0.0041\n",
      "Test Accuracy: 0.7793\n",
      "                precision    recall  f1-score   support\n",
      "\n",
      "          Bots     0.1170    0.0611    0.0803      1948\n",
      "   Brute Force     0.0000    0.0000    0.0000      9150\n",
      "          DDoS     0.0000    0.0000    0.0000    128014\n",
      "           DoS     0.1777    0.0967    0.1253    193745\n",
      "Normal Traffic     0.8556    0.8940    0.8744   2095057\n",
      "         Other     0.3412    0.7817    0.4751     92837\n",
      "\n",
      "      accuracy                         0.7793   2520751\n",
      "     macro avg     0.2486    0.3056    0.2592   2520751\n",
      "  weighted avg     0.7374    0.7793    0.7539   2520751\n",
      "\n",
      "Resource Usage: {'Training Time (s)': 56.15343260765076, 'Peak CPU (%)': 100.0, 'Avg CPU (%)': 99.11872659176029}\n"
     ]
    }
   ],
   "source": [
    "eval_dataset_w_LGBM(X_train_resampled_scaled_MMS_SMOTE, X_test_MMS_scaled, y_train_resampled_scaled_MMS_SMOTE, y_test, params_lgbm={'n_estimators': 228, 'learning_rate': 0.07241523535942174, 'max_depth': 14, 'num_leaves': 79, 'subsample': 0.5650088660864082, 'colsample_bytree': 0.8850730957587873, 'reg_alpha': 0.31650105405212536, 'reg_lambda': 3.8724602641849213})"
   ]
  },
  {
   "cell_type": "markdown",
   "id": "267f6921",
   "metadata": {},
   "source": [
    "# Binary"
   ]
  },
  {
   "cell_type": "markdown",
   "id": "a74da682",
   "metadata": {},
   "source": [
    "## Training on 2017 and testing on 2018"
   ]
  },
  {
   "cell_type": "markdown",
   "id": "93c096e1",
   "metadata": {},
   "source": [
    "### Preparing Sampling of training data"
   ]
  },
  {
   "cell_type": "code",
   "execution_count": 22,
   "id": "528a8743",
   "metadata": {},
   "outputs": [],
   "source": [
    "# Reading data\n",
    "df = pd.read_csv(\"cicids2017_training.csv\")\n",
    "\n",
    "X_train = df.drop('Attack Type', axis=1)\n",
    "y_train = df['Attack Type']\n",
    "\n",
    "del df"
   ]
  },
  {
   "cell_type": "code",
   "execution_count": 23,
   "id": "b341d753",
   "metadata": {},
   "outputs": [],
   "source": [
    "# Reading data\n",
    "df = pd.read_csv(\"cicids2018_test_of_2017.csv\")\n",
    "\n",
    "X_test = df.drop('Attack Type', axis=1)\n",
    "y_test = df['Attack Type']\n",
    "\n",
    "del df"
   ]
  },
  {
   "cell_type": "code",
   "execution_count": 24,
   "id": "de9c6415",
   "metadata": {},
   "outputs": [],
   "source": [
    "# Initialize scaling algos\n",
    "MMS = MinMaxScaler()\n",
    "X_train_MMS_scaled = MMS.fit_transform(X_train)\n",
    "X_test_MMS_scaled = MMS.transform(X_test)"
   ]
  },
  {
   "cell_type": "code",
   "execution_count": 25,
   "id": "162b8d8f",
   "metadata": {},
   "outputs": [
    {
     "data": {
      "text/plain": [
       "Attack Type\n",
       "Normal Traffic    2095057\n",
       "DoS                193745\n",
       "DDoS               128014\n",
       "Port Scanning       90694\n",
       "Brute Force          9150\n",
       "Web Attacks          2143\n",
       "Bots                 1948\n",
       "Name: count, dtype: int64"
      ]
     },
     "execution_count": 25,
     "metadata": {},
     "output_type": "execute_result"
    }
   ],
   "source": [
    "y_train.value_counts()"
   ]
  },
  {
   "cell_type": "code",
   "execution_count": 26,
   "id": "b7cabc63",
   "metadata": {},
   "outputs": [],
   "source": [
    "X_train_scaled_rus_MMS, y_train_scaled_rus_MMS = RandomUnderSampler(sampling_strategy={'Normal Traffic': 650000}, random_state=42).fit_resample(X_train_MMS_scaled, y_train)"
   ]
  },
  {
   "cell_type": "code",
   "execution_count": 27,
   "id": "381ab213",
   "metadata": {},
   "outputs": [],
   "source": [
    "X_train_resampled_scaled_MMS_SMOTE, y_train_resampled_scaled_MMS_SMOTE = SMOTE(sampling_strategy={'Bots': 10000, 'Web Attacks': 10000, 'Brute Force': 10000, 'Port Scanning': 91000, 'DDoS': 130000, 'DoS': 200000}, random_state=42).fit_resample(X_train_scaled_rus_MMS, y_train_scaled_rus_MMS)"
   ]
  },
  {
   "cell_type": "code",
   "execution_count": 28,
   "id": "fd332532",
   "metadata": {},
   "outputs": [
    {
     "data": {
      "text/plain": [
       "Attack Type\n",
       "Normal Traffic    650000\n",
       "DoS               200000\n",
       "DDoS              130000\n",
       "Port Scanning      91000\n",
       "Bots               10000\n",
       "Brute Force        10000\n",
       "Web Attacks        10000\n",
       "Name: count, dtype: int64"
      ]
     },
     "execution_count": 28,
     "metadata": {},
     "output_type": "execute_result"
    }
   ],
   "source": [
    "y_train_resampled_scaled_MMS_SMOTE.value_counts()"
   ]
  },
  {
   "cell_type": "code",
   "execution_count": 29,
   "id": "46b614a7",
   "metadata": {},
   "outputs": [],
   "source": [
    "group_mapping_2017 = {\n",
    "    'Normal Traffic': 'BENIGN',\n",
    "    'DoS': 'Attack',\n",
    "    'DDoS': 'Attack',\n",
    "    'Brute Force': 'Attack',\n",
    "    'Bots': 'Attack',\n",
    "    'Web Attacks': 'Attack',\n",
    "    'Port Scanning': 'Attack'}"
   ]
  },
  {
   "cell_type": "code",
   "execution_count": 30,
   "id": "0eeccfd1",
   "metadata": {},
   "outputs": [],
   "source": [
    "group_mapping_2018 = {\n",
    "    'Normal Traffic': 'BENIGN',\n",
    "    'DoS': 'Attack',\n",
    "    'DDoS': 'Attack',\n",
    "    'Brute Force': 'Attack',\n",
    "    'Bots': 'Attack',\n",
    "    'Other': 'Attack'}"
   ]
  },
  {
   "cell_type": "code",
   "execution_count": 31,
   "id": "e48c674a",
   "metadata": {},
   "outputs": [],
   "source": [
    "y_train_resampled_scaled_MMS_SMOTE = y_train_resampled_scaled_MMS_SMOTE.map(group_mapping_2017)\n",
    "y_test = y_test.map(group_mapping_2018)"
   ]
  },
  {
   "cell_type": "markdown",
   "id": "db23afc8",
   "metadata": {},
   "source": [
    "### Training and testing models"
   ]
  },
  {
   "cell_type": "code",
   "execution_count": 32,
   "id": "159cad60",
   "metadata": {},
   "outputs": [
    {
     "name": "stderr",
     "output_type": "stream",
     "text": [
      "[Parallel(n_jobs=-1)]: Using backend ThreadingBackend with 16 concurrent workers.\n",
      "[Parallel(n_jobs=-1)]: Done  18 tasks      | elapsed:  1.3min\n",
      "[Parallel(n_jobs=-1)]: Done  64 out of  64 | elapsed:  2.6min finished\n",
      "[Parallel(n_jobs=16)]: Using backend ThreadingBackend with 16 concurrent workers.\n",
      "[Parallel(n_jobs=16)]: Done  18 tasks      | elapsed:    4.4s\n",
      "[Parallel(n_jobs=16)]: Done  64 out of  64 | elapsed:   10.5s finished\n"
     ]
    },
    {
     "name": "stdout",
     "output_type": "stream",
     "text": [
      "Predict Time (s) -  12.672688245773315\n",
      "Cross validation average score: 0.9961 +/- standard deviation: 0.0035\n",
      "Accuracy on the test set: 0.8738\n",
      "Resource measurements: {'Training Time (s)': 159.56337594985962, 'Peak CPU Usage (%)': 100.0, 'Average CPU Usage (%)': 95.73828892005608}\n",
      "              precision    recall  f1-score   support\n",
      "\n",
      "      Attack     0.7485    0.3891    0.5120   2746847\n",
      "      BENIGN     0.8859    0.9732    0.9275  13390249\n",
      "\n",
      "    accuracy                         0.8738  16137096\n",
      "   macro avg     0.8172    0.6811    0.7198  16137096\n",
      "weighted avg     0.8625    0.8738    0.8568  16137096\n",
      "\n"
     ]
    }
   ],
   "source": [
    "eval_dataset_w_RF(X_train_resampled_scaled_MMS_SMOTE, X_test_MMS_scaled, y_train_resampled_scaled_MMS_SMOTE, y_test, params_rf={'n_estimators': 64, 'max_depth': 21, 'min_samples_split': 10, 'min_samples_leaf': 2, 'max_features': None})"
   ]
  },
  {
   "cell_type": "code",
   "execution_count": 33,
   "id": "4c75ef4a",
   "metadata": {},
   "outputs": [
    {
     "name": "stdout",
     "output_type": "stream",
     "text": [
      "Predict Time (s) -  19.30156946182251\n",
      "CV F1: 0.9942 ± 0.0092\n",
      "Test Accuracy: 0.8811\n",
      "              precision    recall  f1-score   support\n",
      "\n",
      "      Attack     0.9889    0.3049    0.4661   2746847\n",
      "      BENIGN     0.8751    0.9993    0.9331  13390249\n",
      "\n",
      "    accuracy                         0.8811  16137096\n",
      "   macro avg     0.9320    0.6521    0.6996  16137096\n",
      "weighted avg     0.8945    0.8811    0.8536  16137096\n",
      "\n",
      "Resource Usage: {'Training Time (s)': 9.292603731155396, 'Peak CPU (%)': 100.0, 'Avg CPU (%)': 96.56966292134832}\n"
     ]
    }
   ],
   "source": [
    "eval_dataset_w_LGBM(X_train_resampled_scaled_MMS_SMOTE, X_test_MMS_scaled, y_train_resampled_scaled_MMS_SMOTE, y_test, params_lgbm={'n_estimators': 228, 'learning_rate': 0.07241523535942174, 'max_depth': 14, 'num_leaves': 79, 'subsample': 0.5650088660864082, 'colsample_bytree': 0.8850730957587873, 'reg_alpha': 0.31650105405212536, 'reg_lambda': 3.8724602641849213})"
   ]
  },
  {
   "cell_type": "markdown",
   "id": "1f1dc75a",
   "metadata": {},
   "source": [
    "## Training on 2018 and testing on 2017"
   ]
  },
  {
   "cell_type": "markdown",
   "id": "37862b05",
   "metadata": {},
   "source": [
    "### Preparing Sampling of training data"
   ]
  },
  {
   "cell_type": "code",
   "execution_count": 35,
   "id": "e74362f3",
   "metadata": {},
   "outputs": [],
   "source": [
    "# Reading data\n",
    "df = pd.read_csv(\"cicids2018_training.csv\")\n",
    "\n",
    "X_train = df.drop('Attack Type', axis=1)\n",
    "y_train = df['Attack Type']\n",
    "\n",
    "del df"
   ]
  },
  {
   "cell_type": "code",
   "execution_count": 36,
   "id": "3d651d6a",
   "metadata": {},
   "outputs": [],
   "source": [
    "# Reading data\n",
    "df = pd.read_csv(\"cicids2017_test_of_2018.csv\")\n",
    "\n",
    "X_test = df.drop('Attack Type', axis=1)\n",
    "y_test = df['Attack Type']\n",
    "\n",
    "del df"
   ]
  },
  {
   "cell_type": "code",
   "execution_count": 37,
   "id": "a2cfc3cc",
   "metadata": {},
   "outputs": [],
   "source": [
    "# Initialize scaling algos\n",
    "MMS = MinMaxScaler()\n",
    "X_train_MMS_scaled = MMS.fit_transform(X_train)\n",
    "X_test_MMS_scaled = MMS.transform(X_test)"
   ]
  },
  {
   "cell_type": "code",
   "execution_count": 38,
   "id": "ca957727",
   "metadata": {},
   "outputs": [
    {
     "data": {
      "text/plain": [
       "Attack Type\n",
       "Normal Traffic    8634196\n",
       "DDoS               775470\n",
       "DoS                196299\n",
       "Bot                143977\n",
       "Infilteration      107531\n",
       "Brute Force         94876\n",
       "Name: count, dtype: int64"
      ]
     },
     "execution_count": 38,
     "metadata": {},
     "output_type": "execute_result"
    }
   ],
   "source": [
    "y_train.value_counts()"
   ]
  },
  {
   "cell_type": "code",
   "execution_count": 39,
   "id": "cce313cf",
   "metadata": {},
   "outputs": [],
   "source": [
    "X_train_scaled_rus_MMS, y_train_scaled_rus_MMS = RandomUnderSampler(sampling_strategy={'Normal Traffic': 1300000}, random_state=42).fit_resample(X_train_MMS_scaled, y_train)"
   ]
  },
  {
   "cell_type": "code",
   "execution_count": 45,
   "id": "bad81399",
   "metadata": {},
   "outputs": [],
   "source": [
    "X_train_resampled_scaled_MMS_SMOTE, y_train_resampled_scaled_MMS_SMOTE = SMOTE(sampling_strategy={'Bot': 195000, 'Brute Force': 130000, 'Infilteration': 150000, 'DDoS':800000, 'DoS': 200000}, random_state=42).fit_resample(X_train_scaled_rus_MMS, y_train_scaled_rus_MMS)"
   ]
  },
  {
   "cell_type": "code",
   "execution_count": 46,
   "id": "5ba53e7c",
   "metadata": {},
   "outputs": [
    {
     "data": {
      "text/plain": [
       "Attack Type\n",
       "Normal Traffic    1300000\n",
       "DDoS               800000\n",
       "DoS                200000\n",
       "Bot                195000\n",
       "Infilteration      150000\n",
       "Brute Force        130000\n",
       "Name: count, dtype: int64"
      ]
     },
     "execution_count": 46,
     "metadata": {},
     "output_type": "execute_result"
    }
   ],
   "source": [
    "y_train_resampled_scaled_MMS_SMOTE.value_counts()"
   ]
  },
  {
   "cell_type": "code",
   "execution_count": 47,
   "id": "5822605c",
   "metadata": {},
   "outputs": [],
   "source": [
    "group_mapping_2017 = {\n",
    "    'Normal Traffic': 'BENIGN',\n",
    "    'DoS': 'Attack',\n",
    "    'DDoS': 'Attack',\n",
    "    'Brute Force': 'Attack',\n",
    "    'Bots': 'Attack',\n",
    "    'Other': 'Attack'}"
   ]
  },
  {
   "cell_type": "code",
   "execution_count": 48,
   "id": "f1faa4f2",
   "metadata": {},
   "outputs": [],
   "source": [
    "group_mapping_2018 = {\n",
    "    'Normal Traffic': 'BENIGN',\n",
    "    'DoS': 'Attack',\n",
    "    'DDoS': 'Attack',\n",
    "    'Brute Force': 'Attack',\n",
    "    'Bots': 'Attack',\n",
    "    'Other': 'Attack'}"
   ]
  },
  {
   "cell_type": "code",
   "execution_count": 49,
   "id": "dc35148e",
   "metadata": {},
   "outputs": [],
   "source": [
    "y_train_resampled_scaled_MMS_SMOTE = y_train_resampled_scaled_MMS_SMOTE.map(group_mapping_2018)\n",
    "y_test = y_test.map(group_mapping_2017)"
   ]
  },
  {
   "cell_type": "markdown",
   "id": "21b01c94",
   "metadata": {},
   "source": [
    "### Training and testing models"
   ]
  },
  {
   "cell_type": "code",
   "execution_count": 52,
   "id": "5b3beacf",
   "metadata": {},
   "outputs": [
    {
     "name": "stderr",
     "output_type": "stream",
     "text": [
      "[Parallel(n_jobs=-1)]: Using backend ThreadingBackend with 16 concurrent workers.\n",
      "[Parallel(n_jobs=-1)]: Done  18 tasks      | elapsed:  1.5min\n",
      "[Parallel(n_jobs=-1)]: Done  64 out of  64 | elapsed:  3.2min finished\n",
      "[Parallel(n_jobs=16)]: Using backend ThreadingBackend with 16 concurrent workers.\n",
      "[Parallel(n_jobs=16)]: Done  18 tasks      | elapsed:    0.6s\n",
      "[Parallel(n_jobs=16)]: Done  64 out of  64 | elapsed:    1.5s finished\n"
     ]
    },
    {
     "name": "stdout",
     "output_type": "stream",
     "text": [
      "Predict Time (s) -  1.7936029434204102\n",
      "Cross validation average score: 0.9273 +/- standard deviation: 0.1111\n",
      "Accuracy on the test set: 0.7727\n",
      "Resource measurements: {'Training Time (s)': 195.88097214698792, 'Peak CPU Usage (%)': 100.0, 'Average CPU Usage (%)': 92.4441860465116}\n",
      "              precision    recall  f1-score   support\n",
      "\n",
      "      Attack     0.2708    0.2043    0.2329    425694\n",
      "      BENIGN     0.8460    0.8883    0.8666   2095057\n",
      "\n",
      "    accuracy                         0.7727   2520751\n",
      "   macro avg     0.5584    0.5463    0.5497   2520751\n",
      "weighted avg     0.7489    0.7727    0.7596   2520751\n",
      "\n"
     ]
    }
   ],
   "source": [
    "eval_dataset_w_RF(X_train_resampled_scaled_MMS_SMOTE, X_test_MMS_scaled, y_train_resampled_scaled_MMS_SMOTE, y_test, params_rf={'n_estimators': 64, 'max_depth': 21, 'min_samples_split': 10, 'min_samples_leaf': 2, 'max_features': None})"
   ]
  },
  {
   "cell_type": "code",
   "execution_count": null,
   "id": "e1f2254b",
   "metadata": {},
   "outputs": [
    {
     "name": "stderr",
     "output_type": "stream",
     "text": [
      "[Parallel(n_jobs=-1)]: Using backend ThreadingBackend with 16 concurrent workers.\n",
      "[Parallel(n_jobs=-1)]: Done  18 tasks      | elapsed:   19.9s\n",
      "[Parallel(n_jobs=-1)]: Done  64 out of  64 | elapsed:   41.3s finished\n",
      "[Parallel(n_jobs=16)]: Using backend ThreadingBackend with 16 concurrent workers.\n",
      "[Parallel(n_jobs=16)]: Done  18 tasks      | elapsed:    0.6s\n",
      "[Parallel(n_jobs=16)]: Done  64 out of  64 | elapsed:    1.7s finished\n"
     ]
    },
    {
     "name": "stdout",
     "output_type": "stream",
     "text": [
      "Predict Time (s) -  1.9202516078948975\n",
      "Cross validation average score: 0.9296 +/- standard deviation: 0.1122\n",
      "Accuracy on the test set: 0.7838\n",
      "Resource measurements: {'Training Time (s)': 43.15839505195618, 'Peak CPU Usage (%)': 100.0, 'Average CPU Usage (%)': 94.96810631229239}\n",
      "              precision    recall  f1-score   support\n",
      "\n",
      "      Attack     0.3233    0.2565    0.2861    425694\n",
      "      BENIGN     0.8550    0.8909    0.8726   2095057\n",
      "\n",
      "    accuracy                         0.7838   2520751\n",
      "   macro avg     0.5892    0.5737    0.5793   2520751\n",
      "weighted avg     0.7652    0.7838    0.7736   2520751\n",
      "\n"
     ]
    }
   ],
   "source": [
    "eval_dataset_w_RF(X_train_resampled_scaled_MMS_SMOTE, X_test_MMS_scaled, y_train_resampled_scaled_MMS_SMOTE, y_test, params_rf={'n_estimators': 64, 'max_depth': 21, 'min_samples_split': 10, 'min_samples_leaf': 2, 'max_features': \"sqrt\"})"
   ]
  },
  {
   "cell_type": "code",
   "execution_count": 51,
   "id": "e06ed04f",
   "metadata": {},
   "outputs": [
    {
     "name": "stdout",
     "output_type": "stream",
     "text": [
      "Predict Time (s) -  3.3581292629241943\n",
      "CV F1: 0.9261 ± 0.1156\n",
      "Test Accuracy: 0.7237\n",
      "              precision    recall  f1-score   support\n",
      "\n",
      "      Attack     0.2600    0.3447    0.2964    425694\n",
      "      BENIGN     0.8574    0.8007    0.8281   2095057\n",
      "\n",
      "    accuracy                         0.7237   2520751\n",
      "   macro avg     0.5587    0.5727    0.5622   2520751\n",
      "weighted avg     0.7565    0.7237    0.7383   2520751\n",
      "\n",
      "Resource Usage: {'Training Time (s)': 14.846580266952515, 'Peak CPU (%)': 100.0, 'Avg CPU (%)': 97.37573529411763}\n"
     ]
    }
   ],
   "source": [
    "eval_dataset_w_LGBM(X_train_resampled_scaled_MMS_SMOTE, X_test_MMS_scaled, y_train_resampled_scaled_MMS_SMOTE, y_test, params_lgbm={'n_estimators': 228, 'learning_rate': 0.07241523535942174, 'max_depth': 14, 'num_leaves': 79, 'subsample': 0.5650088660864082, 'colsample_bytree': 0.8850730957587873, 'reg_alpha': 0.31650105405212536, 'reg_lambda': 3.8724602641849213})"
   ]
  },
  {
   "cell_type": "markdown",
   "id": "86b32936",
   "metadata": {},
   "source": [
    "# Test with higher feature counts for training on 2018"
   ]
  },
  {
   "cell_type": "markdown",
   "id": "39c48a1d",
   "metadata": {},
   "source": [
    "## MultiClass"
   ]
  },
  {
   "cell_type": "markdown",
   "id": "c3f7caae",
   "metadata": {},
   "source": [
    "### Preparing Sampling of training data"
   ]
  },
  {
   "cell_type": "code",
   "execution_count": 116,
   "id": "6afc3076",
   "metadata": {},
   "outputs": [],
   "source": [
    "# Reading data\n",
    "df = pd.read_csv(\"cicids2018_test_of_2017.csv\")\n",
    "\n",
    "X_train = df.drop('Attack Type', axis=1)\n",
    "y_train = df['Attack Type']\n",
    "\n",
    "del df"
   ]
  },
  {
   "cell_type": "code",
   "execution_count": 117,
   "id": "c6d82849",
   "metadata": {},
   "outputs": [],
   "source": [
    "# Reading data\n",
    "df = pd.read_csv(\"cicids2017_training.csv\")\n",
    "\n",
    "X_test = df.drop('Attack Type', axis=1)\n",
    "y_test = df['Attack Type']\n",
    "\n",
    "del df"
   ]
  },
  {
   "cell_type": "code",
   "execution_count": 118,
   "id": "4ce03661",
   "metadata": {},
   "outputs": [],
   "source": [
    "# Initialize scaling algos\n",
    "MMS = MinMaxScaler()\n",
    "X_train_MMS_scaled = MMS.fit_transform(X_train)\n",
    "X_test_MMS_scaled = MMS.transform(X_test)"
   ]
  },
  {
   "cell_type": "code",
   "execution_count": 119,
   "id": "0a52233b",
   "metadata": {},
   "outputs": [
    {
     "data": {
      "text/plain": [
       "Attack Type\n",
       "Normal Traffic    13390249\n",
       "DDoS               1263933\n",
       "DoS                 654300\n",
       "Brute Force         381784\n",
       "Bots                286191\n",
       "Other               160639\n",
       "Name: count, dtype: int64"
      ]
     },
     "execution_count": 119,
     "metadata": {},
     "output_type": "execute_result"
    }
   ],
   "source": [
    "y_train.value_counts()"
   ]
  },
  {
   "cell_type": "code",
   "execution_count": 120,
   "id": "cd0dc7a4",
   "metadata": {},
   "outputs": [],
   "source": [
    "X_train_scaled_rus_MMS, y_train_scaled_rus_MMS = RandomUnderSampler(sampling_strategy={'Normal Traffic': 650000}, random_state=42).fit_resample(X_train_MMS_scaled, y_train)"
   ]
  },
  {
   "cell_type": "code",
   "execution_count": 121,
   "id": "eeee6f6d",
   "metadata": {},
   "outputs": [
    {
     "data": {
      "text/plain": [
       "Attack Type\n",
       "DDoS              1263933\n",
       "DoS                654300\n",
       "Normal Traffic     650000\n",
       "Brute Force        381784\n",
       "Bots               286191\n",
       "Other              160639\n",
       "Name: count, dtype: int64"
      ]
     },
     "execution_count": 121,
     "metadata": {},
     "output_type": "execute_result"
    }
   ],
   "source": [
    "y_train_scaled_rus_MMS.value_counts()"
   ]
  },
  {
   "cell_type": "code",
   "execution_count": 122,
   "id": "f54ddc89",
   "metadata": {},
   "outputs": [],
   "source": [
    "group_mapping_2017 = {\n",
    "    'Normal Traffic': 'Normal Traffic',\n",
    "    'DoS': 'DoS',\n",
    "    'DDoS': 'DDoS',\n",
    "    'Brute Force': 'Brute Force',\n",
    "    'Bots': 'Bots',\n",
    "    'Web Attacks': 'Other',\n",
    "    'Port Scanning': 'Other'}"
   ]
  },
  {
   "cell_type": "code",
   "execution_count": 123,
   "id": "f0753931",
   "metadata": {},
   "outputs": [],
   "source": [
    "y_test = y_test.map(group_mapping_2017)"
   ]
  },
  {
   "cell_type": "markdown",
   "id": "0293b9ce",
   "metadata": {},
   "source": [
    "### Training and testing models"
   ]
  },
  {
   "cell_type": "code",
   "execution_count": 84,
   "id": "8ad4465d",
   "metadata": {},
   "outputs": [
    {
     "name": "stderr",
     "output_type": "stream",
     "text": [
      "[Parallel(n_jobs=-1)]: Using backend ThreadingBackend with 16 concurrent workers.\n",
      "[Parallel(n_jobs=-1)]: Done  18 tasks      | elapsed:  2.7min\n",
      "[Parallel(n_jobs=-1)]: Done  64 out of  64 | elapsed:  6.0min finished\n",
      "[Parallel(n_jobs=16)]: Using backend ThreadingBackend with 16 concurrent workers.\n",
      "[Parallel(n_jobs=16)]: Done  18 tasks      | elapsed:    1.0s\n",
      "[Parallel(n_jobs=16)]: Done  64 out of  64 | elapsed:    2.9s finished\n"
     ]
    },
    {
     "name": "stdout",
     "output_type": "stream",
     "text": [
      "Predict Time (s) -  3.8243203163146973\n",
      "Cross validation average score: 0.9127 +/- standard deviation: 0.0381\n",
      "Accuracy on the test set: 0.6113\n",
      "Resource measurements: {'Training Time (s)': 365.9485318660736, 'Peak CPU Usage (%)': 100.0, 'Average CPU Usage (%)': 88.21424581005587}\n",
      "                precision    recall  f1-score   support\n",
      "\n",
      "          Bots     0.4972    0.6294    0.5555      1948\n",
      "   Brute Force     0.0465    0.0303    0.0367      9150\n",
      "          DDoS     0.0056    0.0002    0.0004    128014\n",
      "           DoS     0.0681    0.1834    0.0993    193745\n",
      "Normal Traffic     0.8108    0.6964    0.7492   2095057\n",
      "         Other     0.2424    0.4853    0.3233     92837\n",
      "\n",
      "      accuracy                         0.6113   2520751\n",
      "     macro avg     0.2784    0.3375    0.2941   2520751\n",
      "  weighted avg     0.6889    0.6113    0.6428   2520751\n",
      "\n"
     ]
    }
   ],
   "source": [
    "eval_dataset_w_RF(X_train_scaled_rus_MMS, X_test_MMS_scaled, y_train_scaled_rus_MMS, y_test, params_rf={'n_estimators': 64, 'max_depth': 21, 'min_samples_split': 10, 'min_samples_leaf': 2, 'max_features': None})"
   ]
  },
  {
   "cell_type": "code",
   "execution_count": 124,
   "id": "9d3c0422",
   "metadata": {},
   "outputs": [
    {
     "name": "stderr",
     "output_type": "stream",
     "text": [
      "[Parallel(n_jobs=-1)]: Using backend ThreadingBackend with 16 concurrent workers.\n",
      "[Parallel(n_jobs=-1)]: Done  18 tasks      | elapsed:   19.1s\n",
      "[Parallel(n_jobs=-1)]: Done  64 out of  64 | elapsed:   40.7s finished\n",
      "[Parallel(n_jobs=16)]: Using backend ThreadingBackend with 16 concurrent workers.\n",
      "[Parallel(n_jobs=16)]: Done  18 tasks      | elapsed:    0.8s\n",
      "[Parallel(n_jobs=16)]: Done  64 out of  64 | elapsed:    2.4s finished\n"
     ]
    },
    {
     "name": "stdout",
     "output_type": "stream",
     "text": [
      "Predict Time (s) -  3.4890003204345703\n",
      "Cross validation average score: 0.8999 +/- standard deviation: 0.0417\n",
      "Accuracy on the test set: 0.8391\n",
      "Resource measurements: {'Training Time (s)': 43.69391870498657, 'Peak CPU Usage (%)': 100.0, 'Average CPU Usage (%)': 91.35597269624576}\n",
      "                precision    recall  f1-score   support\n",
      "\n",
      "          Bots     0.0000    0.0000    0.0000      1948\n",
      "   Brute Force     0.0545    0.0239    0.0333      9150\n",
      "          DDoS     0.0031    0.0002    0.0003    128014\n",
      "           DoS     0.4956    0.0893    0.1514    193745\n",
      "Normal Traffic     0.8508    0.9800    0.9108   2095057\n",
      "         Other     0.7312    0.4798    0.5794     92837\n",
      "\n",
      "      accuracy                         0.8391   2520751\n",
      "     macro avg     0.3559    0.2622    0.2792   2520751\n",
      "  weighted avg     0.7725    0.8391    0.7901   2520751\n",
      "\n"
     ]
    }
   ],
   "source": [
    "eval_dataset_w_RF(X_train_scaled_rus_MMS, X_test_MMS_scaled, y_train_scaled_rus_MMS, y_test, params_rf={'n_estimators': 64, 'max_depth': 10, 'min_samples_split': 10, 'min_samples_leaf': 2, 'max_features': \"sqrt\"})"
   ]
  },
  {
   "cell_type": "code",
   "execution_count": 85,
   "id": "8361180d",
   "metadata": {},
   "outputs": [
    {
     "name": "stderr",
     "output_type": "stream",
     "text": [
      "[Parallel(n_jobs=-1)]: Using backend ThreadingBackend with 16 concurrent workers.\n",
      "[Parallel(n_jobs=-1)]: Done  18 tasks      | elapsed:   24.0s\n",
      "[Parallel(n_jobs=-1)]: Done  64 out of  64 | elapsed:   54.3s finished\n",
      "[Parallel(n_jobs=16)]: Using backend ThreadingBackend with 16 concurrent workers.\n",
      "[Parallel(n_jobs=16)]: Done  18 tasks      | elapsed:    1.1s\n",
      "[Parallel(n_jobs=16)]: Done  64 out of  64 | elapsed:    3.1s finished\n"
     ]
    },
    {
     "name": "stdout",
     "output_type": "stream",
     "text": [
      "Predict Time (s) -  3.6930415630340576\n",
      "Cross validation average score: 0.9106 +/- standard deviation: 0.0381\n",
      "Accuracy on the test set: 0.8171\n",
      "Resource measurements: {'Training Time (s)': 57.5700740814209, 'Peak CPU Usage (%)': 100.0, 'Average CPU Usage (%)': 89.45647668393782}\n",
      "                precision    recall  f1-score   support\n",
      "\n",
      "          Bots     0.3772    0.2515    0.3018      1948\n",
      "   Brute Force     0.3053    0.2362    0.2663      9150\n",
      "          DDoS     0.0003    0.0000    0.0000    128014\n",
      "           DoS     0.4162    0.0641    0.1111    193745\n",
      "Normal Traffic     0.8457    0.9545    0.8968   2095057\n",
      "         Other     0.3903    0.4829    0.4317     92837\n",
      "\n",
      "      accuracy                         0.8171   2520751\n",
      "     macro avg     0.3892    0.3315    0.3346   2520751\n",
      "  weighted avg     0.7506    0.8171    0.7710   2520751\n",
      "\n"
     ]
    }
   ],
   "source": [
    "eval_dataset_w_RF(X_train_scaled_rus_MMS, X_test_MMS_scaled, y_train_scaled_rus_MMS, y_test, params_rf={'n_estimators': 64, 'max_depth': 21, 'min_samples_split': 10, 'min_samples_leaf': 2, 'max_features': \"sqrt\"})"
   ]
  },
  {
   "cell_type": "code",
   "execution_count": 125,
   "id": "b0916ebf",
   "metadata": {},
   "outputs": [
    {
     "name": "stdout",
     "output_type": "stream",
     "text": [
      "Predict Time (s) -  17.320778846740723\n",
      "CV F1: 0.9091 ± 0.0406\n",
      "Test Accuracy: 0.8301\n",
      "                precision    recall  f1-score   support\n",
      "\n",
      "          Bots     0.5912    0.6176    0.6041      1948\n",
      "   Brute Force     0.0082    0.0077    0.0079      9150\n",
      "          DDoS     0.9308    0.1613    0.2749    128014\n",
      "           DoS     0.8712    0.3388    0.4879    193745\n",
      "Normal Traffic     0.8723    0.9346    0.9024   2095057\n",
      "         Other     0.2792    0.5047    0.3595     92837\n",
      "\n",
      "      accuracy                         0.8301   2520751\n",
      "     macro avg     0.5921    0.4274    0.4394   2520751\n",
      "  weighted avg     0.8500    0.8301    0.8152   2520751\n",
      "\n",
      "Resource Usage: {'Training Time (s)': 57.91235303878784, 'Peak CPU (%)': 100.0, 'Avg CPU (%)': 98.60220994475138}\n"
     ]
    }
   ],
   "source": [
    "eval_dataset_w_LGBM(X_train_scaled_rus_MMS, X_test_MMS_scaled, y_train_scaled_rus_MMS, y_test, params_lgbm={'n_estimators': 228, 'learning_rate': 0.07241523535942174, 'max_depth': 7, 'num_leaves': 79, 'subsample': 0.5650088660864082, 'colsample_bytree': 0.8850730957587873, 'reg_alpha': 0.31650105405212536, 'reg_lambda': 3.8724602641849213})"
   ]
  },
  {
   "cell_type": "code",
   "execution_count": 86,
   "id": "e5430c54",
   "metadata": {},
   "outputs": [
    {
     "name": "stdout",
     "output_type": "stream",
     "text": [
      "Predict Time (s) -  18.09928822517395\n",
      "CV F1: 0.9103 ± 0.0399\n",
      "Test Accuracy: 0.7995\n",
      "                precision    recall  f1-score   support\n",
      "\n",
      "          Bots     0.5822    0.5965    0.5892      1948\n",
      "   Brute Force     0.0084    0.0061    0.0071      9150\n",
      "          DDoS     0.2496    0.0024    0.0048    128014\n",
      "           DoS     0.5940    0.0840    0.1472    193745\n",
      "Normal Traffic     0.8444    0.9320    0.8860   2095057\n",
      "         Other     0.2625    0.4831    0.3402     92837\n",
      "\n",
      "      accuracy                         0.7995   2520751\n",
      "     macro avg     0.4235    0.3507    0.3291   2520751\n",
      "  weighted avg     0.7702    0.7995    0.7610   2520751\n",
      "\n",
      "Resource Usage: {'Training Time (s)': 62.33349633216858, 'Peak CPU (%)': 100.0, 'Avg CPU (%)': 98.81915254237289}\n"
     ]
    }
   ],
   "source": [
    "eval_dataset_w_LGBM(X_train_scaled_rus_MMS, X_test_MMS_scaled, y_train_scaled_rus_MMS, y_test, params_lgbm={'n_estimators': 228, 'learning_rate': 0.07241523535942174, 'max_depth': 14, 'num_leaves': 79, 'subsample': 0.5650088660864082, 'colsample_bytree': 0.8850730957587873, 'reg_alpha': 0.31650105405212536, 'reg_lambda': 3.8724602641849213})"
   ]
  },
  {
   "cell_type": "markdown",
   "id": "3fa451f3",
   "metadata": {},
   "source": [
    "## Binary"
   ]
  },
  {
   "cell_type": "markdown",
   "id": "9f670d9a",
   "metadata": {},
   "source": [
    "### Preparing Sampling of training data"
   ]
  },
  {
   "cell_type": "code",
   "execution_count": 104,
   "id": "97697ae8",
   "metadata": {},
   "outputs": [],
   "source": [
    "# Reading data\n",
    "df = pd.read_csv(\"cicids2018_test_of_2017.csv\")\n",
    "\n",
    "X_train = df.drop('Attack Type', axis=1)\n",
    "y_train = df['Attack Type']\n",
    "\n",
    "del df"
   ]
  },
  {
   "cell_type": "code",
   "execution_count": 105,
   "id": "59c17e61",
   "metadata": {},
   "outputs": [],
   "source": [
    "# Reading data\n",
    "df = pd.read_csv(\"cicids2017_training.csv\")\n",
    "\n",
    "X_test = df.drop('Attack Type', axis=1)\n",
    "y_test = df['Attack Type']\n",
    "\n",
    "del df"
   ]
  },
  {
   "cell_type": "code",
   "execution_count": 106,
   "id": "50b6b702",
   "metadata": {},
   "outputs": [],
   "source": [
    "# Initialize scaling algos\n",
    "MMS = MinMaxScaler()\n",
    "X_train_MMS_scaled = MMS.fit_transform(X_train)\n",
    "X_test_MMS_scaled = MMS.transform(X_test)"
   ]
  },
  {
   "cell_type": "code",
   "execution_count": 107,
   "id": "60e31c0c",
   "metadata": {},
   "outputs": [
    {
     "data": {
      "text/plain": [
       "Attack Type\n",
       "Normal Traffic    13390249\n",
       "DDoS               1263933\n",
       "DoS                 654300\n",
       "Brute Force         381784\n",
       "Bots                286191\n",
       "Other               160639\n",
       "Name: count, dtype: int64"
      ]
     },
     "execution_count": 107,
     "metadata": {},
     "output_type": "execute_result"
    }
   ],
   "source": [
    "y_train.value_counts()"
   ]
  },
  {
   "cell_type": "code",
   "execution_count": 108,
   "id": "b11f3f05",
   "metadata": {},
   "outputs": [],
   "source": [
    "X_train_scaled_rus_MMS, y_train_scaled_rus_MMS = RandomUnderSampler(sampling_strategy={'Normal Traffic': 650000}, random_state=42).fit_resample(X_train_MMS_scaled, y_train)"
   ]
  },
  {
   "cell_type": "code",
   "execution_count": 109,
   "id": "7e345ec9",
   "metadata": {},
   "outputs": [
    {
     "data": {
      "text/plain": [
       "Attack Type\n",
       "DDoS              1263933\n",
       "DoS                654300\n",
       "Normal Traffic     650000\n",
       "Brute Force        381784\n",
       "Bots               286191\n",
       "Other              160639\n",
       "Name: count, dtype: int64"
      ]
     },
     "execution_count": 109,
     "metadata": {},
     "output_type": "execute_result"
    }
   ],
   "source": [
    "y_train_scaled_rus_MMS.value_counts()"
   ]
  },
  {
   "cell_type": "code",
   "execution_count": 110,
   "id": "8c6e40ae",
   "metadata": {},
   "outputs": [],
   "source": [
    "group_mapping_2017 = {\n",
    "    'Normal Traffic': 'BENIGN',\n",
    "    'DoS': 'Attack',\n",
    "    'DDoS': 'Attack',\n",
    "    'Brute Force': 'Attack',\n",
    "    'Bots': 'Attack',\n",
    "    'Web Attacks': 'Attack',\n",
    "    'Port Scanning': 'Attack'}"
   ]
  },
  {
   "cell_type": "code",
   "execution_count": 111,
   "id": "ba1138f4",
   "metadata": {},
   "outputs": [],
   "source": [
    "group_mapping_2018 = {\n",
    "    'Normal Traffic': 'BENIGN',\n",
    "    'DoS': 'Attack',\n",
    "    'DDoS': 'Attack',\n",
    "    'Brute Force': 'Attack',\n",
    "    'Bots': 'Attack',\n",
    "    'Other': 'Attack'}"
   ]
  },
  {
   "cell_type": "code",
   "execution_count": 112,
   "id": "6ddc8c44",
   "metadata": {},
   "outputs": [],
   "source": [
    "y_train_scaled_rus_MMS = y_train_scaled_rus_MMS.map(group_mapping_2018)\n",
    "y_test = y_test.map(group_mapping_2017)"
   ]
  },
  {
   "cell_type": "markdown",
   "id": "d8eea9fb",
   "metadata": {},
   "source": [
    "### Training and testing models"
   ]
  },
  {
   "cell_type": "code",
   "execution_count": 113,
   "id": "395fe720",
   "metadata": {},
   "outputs": [
    {
     "name": "stderr",
     "output_type": "stream",
     "text": [
      "[Parallel(n_jobs=-1)]: Using backend ThreadingBackend with 16 concurrent workers.\n",
      "[Parallel(n_jobs=-1)]: Done  18 tasks      | elapsed:  3.7min\n",
      "[Parallel(n_jobs=-1)]: Done  64 out of  64 | elapsed:  7.5min finished\n",
      "[Parallel(n_jobs=16)]: Using backend ThreadingBackend with 16 concurrent workers.\n",
      "[Parallel(n_jobs=16)]: Done  18 tasks      | elapsed:    0.8s\n",
      "[Parallel(n_jobs=16)]: Done  64 out of  64 | elapsed:    2.2s finished\n"
     ]
    },
    {
     "name": "stdout",
     "output_type": "stream",
     "text": [
      "Predict Time (s) -  3.085486650466919\n",
      "Cross validation average score: 0.7963 +/- standard deviation: 0.1680\n",
      "Accuracy on the test set: 0.5426\n",
      "Resource measurements: {'Training Time (s)': 452.861873626709, 'Peak CPU Usage (%)': 100.0, 'Average CPU Usage (%)': 95.86923466801825}\n",
      "              precision    recall  f1-score   support\n",
      "\n",
      "      Attack     0.0934    0.1962    0.1266    425694\n",
      "      BENIGN     0.7896    0.6130    0.6902   2095057\n",
      "\n",
      "    accuracy                         0.5426   2520751\n",
      "   macro avg     0.4415    0.4046    0.4084   2520751\n",
      "weighted avg     0.6720    0.5426    0.5950   2520751\n",
      "\n"
     ]
    }
   ],
   "source": [
    "eval_dataset_w_RF(X_train_scaled_rus_MMS, X_test_MMS_scaled, y_train_scaled_rus_MMS, y_test, params_rf={'n_estimators': 64, 'max_depth': 21, 'min_samples_split': 10, 'min_samples_leaf': 2, 'max_features': None})"
   ]
  },
  {
   "cell_type": "code",
   "execution_count": 114,
   "id": "cf4ed1c4",
   "metadata": {},
   "outputs": [
    {
     "name": "stderr",
     "output_type": "stream",
     "text": [
      "[Parallel(n_jobs=-1)]: Using backend ThreadingBackend with 16 concurrent workers.\n",
      "[Parallel(n_jobs=-1)]: Done  18 tasks      | elapsed:   29.5s\n",
      "[Parallel(n_jobs=-1)]: Done  64 out of  64 | elapsed:  1.1min finished\n",
      "[Parallel(n_jobs=16)]: Using backend ThreadingBackend with 16 concurrent workers.\n",
      "[Parallel(n_jobs=16)]: Done  18 tasks      | elapsed:    0.7s\n",
      "[Parallel(n_jobs=16)]: Done  64 out of  64 | elapsed:    2.2s finished\n"
     ]
    },
    {
     "name": "stdout",
     "output_type": "stream",
     "text": [
      "Predict Time (s) -  2.5260305404663086\n",
      "Cross validation average score: 0.7899 +/- standard deviation: 0.1746\n",
      "Accuracy on the test set: 0.8051\n",
      "Resource measurements: {'Training Time (s)': 69.27593040466309, 'Peak CPU Usage (%)': 100.0, 'Average CPU Usage (%)': 91.35565610859732}\n",
      "              precision    recall  f1-score   support\n",
      "\n",
      "      Attack     0.3479    0.1761    0.2338    425694\n",
      "      BENIGN     0.8479    0.9329    0.8884   2095057\n",
      "\n",
      "    accuracy                         0.8051   2520751\n",
      "   macro avg     0.5979    0.5545    0.5611   2520751\n",
      "weighted avg     0.7634    0.8051    0.7778   2520751\n",
      "\n"
     ]
    }
   ],
   "source": [
    "eval_dataset_w_RF(X_train_scaled_rus_MMS, X_test_MMS_scaled, y_train_scaled_rus_MMS, y_test, params_rf={'n_estimators': 64, 'max_depth': 21, 'min_samples_split': 10, 'min_samples_leaf': 2, 'max_features': \"sqrt\"})"
   ]
  },
  {
   "cell_type": "code",
   "execution_count": 115,
   "id": "8e9db537",
   "metadata": {},
   "outputs": [
    {
     "name": "stdout",
     "output_type": "stream",
     "text": [
      "Predict Time (s) -  3.323268413543701\n",
      "CV F1: 0.7943 ± 0.1736\n",
      "Test Accuracy: 0.6275\n",
      "              precision    recall  f1-score   support\n",
      "\n",
      "      Attack     0.2543    0.6241    0.3614    425694\n",
      "      BENIGN     0.8916    0.6282    0.7371   2095057\n",
      "\n",
      "    accuracy                         0.6275   2520751\n",
      "   macro avg     0.5730    0.6261    0.5492   2520751\n",
      "weighted avg     0.7840    0.6275    0.6736   2520751\n",
      "\n",
      "Resource Usage: {'Training Time (s)': 15.476698875427246, 'Peak CPU (%)': 100.0, 'Avg CPU (%)': 95.73283582089553}\n"
     ]
    }
   ],
   "source": [
    "eval_dataset_w_LGBM(X_train_scaled_rus_MMS, X_test_MMS_scaled, y_train_scaled_rus_MMS, y_test, params_lgbm={'n_estimators': 228, 'learning_rate': 0.07241523535942174, 'max_depth': 14, 'num_leaves': 79, 'subsample': 0.5650088660864082, 'colsample_bytree': 0.8850730957587873, 'reg_alpha': 0.31650105405212536, 'reg_lambda': 3.8724602641849213})"
   ]
  }
 ],
 "metadata": {
  "kernelspec": {
   "display_name": "NN-env",
   "language": "python",
   "name": "python3"
  },
  "language_info": {
   "codemirror_mode": {
    "name": "ipython",
    "version": 3
   },
   "file_extension": ".py",
   "mimetype": "text/x-python",
   "name": "python",
   "nbconvert_exporter": "python",
   "pygments_lexer": "ipython3",
   "version": "3.11.9"
  }
 },
 "nbformat": 4,
 "nbformat_minor": 5
}
