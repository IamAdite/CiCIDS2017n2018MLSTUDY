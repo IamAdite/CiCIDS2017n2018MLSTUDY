{
 "cells": [
  {
   "cell_type": "markdown",
   "id": "4f86f9b4",
   "metadata": {},
   "source": [
    "# Imports and benchmark functions"
   ]
  },
  {
   "cell_type": "code",
   "execution_count": 1,
   "id": "6e45e3a1",
   "metadata": {},
   "outputs": [],
   "source": [
    "import pandas as pd\n",
    "import numpy as np\n",
    "from sklearn import preprocessing\n",
    "import matplotlib.pyplot as plt\n",
    "%matplotlib inline\n",
    "\n",
    "from sklearn.ensemble import RandomForestClassifier\n",
    "from sklearn.model_selection import train_test_split, cross_val_score, learning_curve, StratifiedKFold\n",
    "from sklearn.metrics import confusion_matrix, classification_report, accuracy_score, precision_score, recall_score, f1_score\n",
    "from sklearn.neighbors import KNeighborsClassifier\n",
    "\n",
    "import time\n",
    "import psutil\n",
    "import threading\n",
    "from memory_profiler import memory_usage"
   ]
  },
  {
   "cell_type": "code",
   "execution_count": 2,
   "id": "f74d9cbe",
   "metadata": {},
   "outputs": [],
   "source": [
    "def apply_rf(X_train, y_train, best_params=None, random_state=42, n_jobs=-1, cv=5): \n",
    "    measurement_rf = {}\n",
    "        \n",
    "    # Default to empty dictionary if best_params is not provided\n",
    "    best_params = best_params or {}\n",
    "\n",
    "    rf_model = RandomForestClassifier(**best_params, random_state=random_state, n_jobs=n_jobs, verbose=1)\n",
    "    \n",
    "    # Function to monitor CPU usage during training\n",
    "    cpu_usage = []\n",
    "    stop_flag = threading.Event()\n",
    "\n",
    "    def monitor_cpu():\n",
    "        while not stop_flag.is_set():\n",
    "            cpu_usage.append(psutil.cpu_percent(interval=0.1))\n",
    "\n",
    "    # Function to train the model\n",
    "    def train_model():\n",
    "        rf_model.fit(X_train, y_train)\n",
    "\n",
    "    try:\n",
    "        # Start CPU monitoring in a separate thread\n",
    "        cpu_thread = threading.Thread(target=monitor_cpu)\n",
    "        cpu_thread.start()\n",
    "\n",
    "        # Measure memory usage and training time\n",
    "        start_time = time.time()\n",
    "        train_model()\n",
    "        training_time = time.time() - start_time\n",
    "\n",
    "        # Stop CPU monitoring\n",
    "        stop_flag.set()\n",
    "        cpu_thread.join()\n",
    "\n",
    "        # Add measurements\n",
    "        measurement_rf['Training Time (s)'] = training_time\n",
    "        measurement_rf['Peak CPU Usage (%)'] = max(cpu_usage)\n",
    "        measurement_rf['Average CPU Usage (%)'] = sum(cpu_usage) / len(cpu_usage) if cpu_usage else 0\n",
    "\n",
    "        # Perform cross-validation\n",
    "        cv_scores_rf = cross_val_score(rf_model, X_train, y_train, cv=cv, n_jobs=n_jobs)\n",
    "\n",
    "        return cv_scores_rf, measurement_rf, rf_model\n",
    "\n",
    "    except Exception as e:\n",
    "        import traceback\n",
    "        print(\"⛔ Full error traceback:\")\n",
    "        traceback.print_exc()  # Print detailed error traceback\n",
    "        print(f\"Error during Random Forest training: {e}\")\n",
    "        return None, None, None"
   ]
  },
  {
   "cell_type": "code",
   "execution_count": 3,
   "id": "28a64cfe",
   "metadata": {},
   "outputs": [],
   "source": [
    "def eval_dataset_w_RF(X_train, X_test, y_train, y_test):\n",
    "    params_rf = {'n_estimators': 150, 'min_samples_split': 5, 'min_samples_leaf': 2, 'max_features': 'sqrt', 'max_depth': 8}\n",
    "\n",
    "    # Fitting the model\n",
    "    cv_scores_rf, measurement_rf, rf_model = apply_rf(X_train, y_train, best_params=params_rf)\n",
    "\n",
    "    # Making predictions\n",
    "    y_pred_rf = rf_model.predict(X_test)\n",
    "    \n",
    "    # Evaluating the model performance on the cross validation set vs accuracy on the test set\n",
    "    cv_scores_mean_rf = np.mean(cv_scores_rf)\n",
    "    print(f'Cross validation average score: {cv_scores_mean_rf:.4f} +/- standard deviation: {np.std(cv_scores_rf):.4f}')\n",
    "\n",
    "    accuracy_rf = accuracy_score(y_test, y_pred_rf)\n",
    "    print(f'Accuracy on the test set: {accuracy_rf:.4f}')\n",
    "    \n",
    "    # Checking computational cost\n",
    "    print(\"Resource measurements:\", measurement_rf)\n",
    "    print(classification_report(y_test, y_pred_rf))"
   ]
  },
  {
   "cell_type": "code",
   "execution_count": 4,
   "id": "34b82933",
   "metadata": {},
   "outputs": [],
   "source": [
    "def eval_dataset_w_KNN(X_train, X_test, y_train, y_test):\n",
    "    params_knn = {'n_neighbors': 3, 'weights': 'uniform', 'algorithm': 'kd_tree', 'leaf_size': 100, 'p': 1}\n",
    "    \n",
    "    # Fitting the model\n",
    "    cv_scores_knn, measurement_knn, knn_model = apply_knn(X_train, y_train, best_params=params_knn)\n",
    "    \n",
    "    # Making predictions\n",
    "    y_pred_knn = knn_model.predict(X_test)\n",
    "    \n",
    "    # Evaluating the model performance on the cross validation set vs accuracy on the test set\n",
    "    cv_scores_mean_knn = np.mean(cv_scores_knn)\n",
    "    print(f'Cross validation average score: {cv_scores_mean_knn:.4f} +/- standard deviation: {np.std(cv_scores_knn):.4f}')\n",
    "    \n",
    "    accuracy_knn = accuracy_score(y_test, y_pred_knn)\n",
    "    print(f'Accuracy on the test set: {accuracy_knn:.4f}')\n",
    "    \n",
    "    # Checking computational cost\n",
    "    print(\"Resource measurements:\", measurement_knn)\n",
    "    print(classification_report(y_test, y_pred_knn))"
   ]
  },
  {
   "cell_type": "code",
   "execution_count": 5,
   "id": "bb508bc9",
   "metadata": {},
   "outputs": [],
   "source": [
    "def apply_knn(X_train, y_train, best_params=None, random_state=42, n_jobs=-1, cv=5):\n",
    "    measurement_knn = {}\n",
    "    \n",
    "    # Default to empty dictionary if best_params is not provided\n",
    "    best_params = best_params or {}\n",
    "    \n",
    "    knn_model = KNeighborsClassifier(**best_params, n_jobs=n_jobs)\n",
    "    \n",
    "    # Function to monitor CPU usage during training\n",
    "    cpu_usage = []\n",
    "    stop_flag = threading.Event()\n",
    "    \n",
    "    def monitor_cpu():\n",
    "        while not stop_flag.is_set():\n",
    "            cpu_usage.append(psutil.cpu_percent(interval=0.1))\n",
    "    \n",
    "    # Function to train the model\n",
    "    def train_model():\n",
    "        knn_model.fit(X_train, y_train)\n",
    "    \n",
    "    try:\n",
    "        # Start CPU monitoring in a separate thread\n",
    "        cpu_thread = threading.Thread(target=monitor_cpu)\n",
    "        cpu_thread.start()\n",
    "        \n",
    "        # Measure memory usage and training time\n",
    "        start_time = time.time()\n",
    "        train_model()\n",
    "        training_time = time.time() - start_time\n",
    "        \n",
    "        # Stop CPU monitoring\n",
    "        stop_flag.set()\n",
    "        cpu_thread.join()\n",
    "        \n",
    "        # Add measurements\n",
    "        measurement_knn['Training Time (s)'] = training_time\n",
    "        measurement_knn['Peak CPU Usage (%)'] = max(cpu_usage)\n",
    "        measurement_knn['Average CPU Usage (%)'] = sum(cpu_usage) / len(cpu_usage) if cpu_usage else 0\n",
    "        \n",
    "        # Perform cross-validation\n",
    "        cv_scores_knn = cross_val_score(knn_model, X_train, y_train, cv=cv, n_jobs=n_jobs)\n",
    "        \n",
    "        return cv_scores_knn, measurement_knn, knn_model\n",
    "        \n",
    "    except Exception as e:\n",
    "        import traceback\n",
    "        print(\"⛔ Full error traceback:\")\n",
    "        traceback.print_exc()  # Print detailed error traceback\n",
    "        print(f\"Error during KNN training: {e}\")\n",
    "        return None, None, None"
   ]
  },
  {
   "cell_type": "markdown",
   "id": "317cccbe",
   "metadata": {},
   "source": [
    "# Data balancing\n"
   ]
  },
  {
   "cell_type": "code",
   "execution_count": 6,
   "id": "e4b31da2",
   "metadata": {},
   "outputs": [
    {
     "name": "stderr",
     "output_type": "stream",
     "text": [
      "<>:2: SyntaxWarning: invalid escape sequence '\\.'\n",
      "<>:2: SyntaxWarning: invalid escape sequence '\\.'\n",
      "C:\\Users\\ogoreltsev.pav\\AppData\\Local\\Temp\\ipykernel_33972\\2303299625.py:2: SyntaxWarning: invalid escape sequence '\\.'\n",
      "  df = pd.read_csv(\"..\\..\\data prep\\cicids2018_prep\\cicids2018_final.csv\")\n"
     ]
    }
   ],
   "source": [
    "# Reading data\n",
    "df = pd.read_csv(\"..\\..\\data prep\\cicids2018_prep\\cicids2018_final.csv\")"
   ]
  },
  {
   "cell_type": "code",
   "execution_count": 7,
   "id": "101d2cd6",
   "metadata": {},
   "outputs": [
    {
     "data": {
      "text/plain": [
       "array(['Normal Traffic', 'Bot', 'DoS', 'Brute Force', 'DDoS',\n",
       "       'Infilteration'], dtype=object)"
      ]
     },
     "execution_count": 7,
     "metadata": {},
     "output_type": "execute_result"
    }
   ],
   "source": [
    "df['Attack Type'].unique()"
   ]
  },
  {
   "cell_type": "code",
   "execution_count": 8,
   "id": "fe1ee2df",
   "metadata": {},
   "outputs": [],
   "source": [
    "from sklearn.preprocessing import RobustScaler, StandardScaler, MinMaxScaler"
   ]
  },
  {
   "cell_type": "code",
   "execution_count": 9,
   "id": "c51df8d2",
   "metadata": {},
   "outputs": [],
   "source": [
    "# Preparing training and test splits\n",
    "X = df.drop('Attack Type', axis=1)\n",
    "y = df['Attack Type']\n",
    "\n",
    "X_train, X_test, y_train, y_test = train_test_split(X, y, test_size=0.3, random_state=42, stratify=y)"
   ]
  },
  {
   "cell_type": "code",
   "execution_count": 10,
   "id": "776d7eb3",
   "metadata": {},
   "outputs": [],
   "source": [
    "# Initialize scaling algos\n",
    "RS = RobustScaler()\n",
    "X_train_RS_scaled = RS.fit_transform(X_train)\n",
    "X_test_RS_scaled = RS.transform(X_test)\n",
    "\n",
    "SS = StandardScaler()\n",
    "X_train_SS_scaled = SS.fit_transform(X_train)\n",
    "X_test_SS_scaled = SS.transform(X_test)\n",
    "\n",
    "MMS = MinMaxScaler()\n",
    "X_train_MMS_scaled = MMS.fit_transform(X_train)\n",
    "X_test_MMS_scaled = MMS.transform(X_test)"
   ]
  },
  {
   "cell_type": "code",
   "execution_count": 11,
   "id": "03f7e2e2",
   "metadata": {},
   "outputs": [
    {
     "name": "stdout",
     "output_type": "stream",
     "text": [
      "Attack Type\n",
      "Normal Traffic    8634196\n",
      "DDoS               775470\n",
      "DoS                196299\n",
      "Bot                143977\n",
      "Infilteration      107531\n",
      "Brute Force         94876\n",
      "Name: count, dtype: int64\n"
     ]
    }
   ],
   "source": [
    "print(df['Attack Type'].value_counts())"
   ]
  },
  {
   "cell_type": "markdown",
   "id": "a24942e7",
   "metadata": {},
   "source": [
    "## Evals"
   ]
  },
  {
   "cell_type": "code",
   "execution_count": 15,
   "id": "5b228c34",
   "metadata": {},
   "outputs": [
    {
     "name": "stderr",
     "output_type": "stream",
     "text": [
      "[Parallel(n_jobs=-1)]: Using backend ThreadingBackend with 16 concurrent workers.\n",
      "[Parallel(n_jobs=-1)]: Done  18 tasks      | elapsed:  1.1min\n",
      "[Parallel(n_jobs=-1)]: Done 150 out of 150 | elapsed:  5.1min finished\n",
      "[Parallel(n_jobs=16)]: Using backend ThreadingBackend with 16 concurrent workers.\n",
      "[Parallel(n_jobs=16)]: Done  18 tasks      | elapsed:    0.9s\n",
      "[Parallel(n_jobs=16)]: Done 150 out of 150 | elapsed:    6.6s finished\n"
     ]
    },
    {
     "name": "stdout",
     "output_type": "stream",
     "text": [
      "Cross validation average score: 0.9817 +/- standard deviation: 0.0011\n",
      "Accuracy on the test set: 0.9816\n",
      "Resource measurements: {'Training Time (s)': 314.10686445236206, 'Peak CPU Usage (%)': 100.0, 'Average CPU Usage (%)': 93.32835633626098}\n"
     ]
    },
    {
     "name": "stderr",
     "output_type": "stream",
     "text": [
      "c:\\ML\\Lib\\site-packages\\sklearn\\metrics\\_classification.py:1565: UndefinedMetricWarning: Precision is ill-defined and being set to 0.0 in labels with no predicted samples. Use `zero_division` parameter to control this behavior.\n",
      "  _warn_prf(average, modifier, f\"{metric.capitalize()} is\", len(result))\n",
      "c:\\ML\\Lib\\site-packages\\sklearn\\metrics\\_classification.py:1565: UndefinedMetricWarning: Precision is ill-defined and being set to 0.0 in labels with no predicted samples. Use `zero_division` parameter to control this behavior.\n",
      "  _warn_prf(average, modifier, f\"{metric.capitalize()} is\", len(result))\n"
     ]
    },
    {
     "name": "stdout",
     "output_type": "stream",
     "text": [
      "                precision    recall  f1-score   support\n",
      "\n",
      "           Bot       1.00      0.99      1.00     43193\n",
      "   Brute Force       1.00      0.99      1.00     28463\n",
      "          DDoS       0.99      0.92      0.95    232641\n",
      "           DoS       0.99      0.98      0.98     58890\n",
      " Infilteration       0.00      0.00      0.00     32259\n",
      "Normal Traffic       0.98      1.00      0.99   2590259\n",
      "\n",
      "      accuracy                           0.98   2985705\n",
      "     macro avg       0.83      0.81      0.82   2985705\n",
      "  weighted avg       0.97      0.98      0.98   2985705\n",
      "\n"
     ]
    },
    {
     "name": "stderr",
     "output_type": "stream",
     "text": [
      "c:\\ML\\Lib\\site-packages\\sklearn\\metrics\\_classification.py:1565: UndefinedMetricWarning: Precision is ill-defined and being set to 0.0 in labels with no predicted samples. Use `zero_division` parameter to control this behavior.\n",
      "  _warn_prf(average, modifier, f\"{metric.capitalize()} is\", len(result))\n"
     ]
    }
   ],
   "source": [
    "eval_dataset_w_RF(X_train, X_test, y_train, y_test)"
   ]
  },
  {
   "cell_type": "code",
   "execution_count": 16,
   "id": "9685825e",
   "metadata": {},
   "outputs": [
    {
     "name": "stderr",
     "output_type": "stream",
     "text": [
      "[Parallel(n_jobs=-1)]: Using backend ThreadingBackend with 16 concurrent workers.\n",
      "[Parallel(n_jobs=-1)]: Done  18 tasks      | elapsed:  1.0min\n",
      "[Parallel(n_jobs=-1)]: Done 150 out of 150 | elapsed:  5.1min finished\n",
      "[Parallel(n_jobs=16)]: Using backend ThreadingBackend with 16 concurrent workers.\n",
      "[Parallel(n_jobs=16)]: Done  18 tasks      | elapsed:    1.1s\n",
      "[Parallel(n_jobs=16)]: Done 150 out of 150 | elapsed:    6.3s finished\n"
     ]
    },
    {
     "name": "stdout",
     "output_type": "stream",
     "text": [
      "Cross validation average score: 0.9818 +/- standard deviation: 0.0011\n",
      "Accuracy on the test set: 0.9817\n",
      "Resource measurements: {'Training Time (s)': 313.87343525886536, 'Peak CPU Usage (%)': 100.0, 'Average CPU Usage (%)': 93.1209476309227}\n"
     ]
    },
    {
     "name": "stderr",
     "output_type": "stream",
     "text": [
      "c:\\ML\\Lib\\site-packages\\sklearn\\metrics\\_classification.py:1565: UndefinedMetricWarning: Precision is ill-defined and being set to 0.0 in labels with no predicted samples. Use `zero_division` parameter to control this behavior.\n",
      "  _warn_prf(average, modifier, f\"{metric.capitalize()} is\", len(result))\n",
      "c:\\ML\\Lib\\site-packages\\sklearn\\metrics\\_classification.py:1565: UndefinedMetricWarning: Precision is ill-defined and being set to 0.0 in labels with no predicted samples. Use `zero_division` parameter to control this behavior.\n",
      "  _warn_prf(average, modifier, f\"{metric.capitalize()} is\", len(result))\n"
     ]
    },
    {
     "name": "stdout",
     "output_type": "stream",
     "text": [
      "                precision    recall  f1-score   support\n",
      "\n",
      "           Bot       1.00      0.99      0.99     43193\n",
      "   Brute Force       1.00      0.99      1.00     28463\n",
      "          DDoS       0.99      0.92      0.95    232641\n",
      "           DoS       0.99      0.99      0.99     58890\n",
      " Infilteration       0.00      0.00      0.00     32259\n",
      "Normal Traffic       0.98      1.00      0.99   2590259\n",
      "\n",
      "      accuracy                           0.98   2985705\n",
      "     macro avg       0.83      0.81      0.82   2985705\n",
      "  weighted avg       0.97      0.98      0.98   2985705\n",
      "\n"
     ]
    },
    {
     "name": "stderr",
     "output_type": "stream",
     "text": [
      "c:\\ML\\Lib\\site-packages\\sklearn\\metrics\\_classification.py:1565: UndefinedMetricWarning: Precision is ill-defined and being set to 0.0 in labels with no predicted samples. Use `zero_division` parameter to control this behavior.\n",
      "  _warn_prf(average, modifier, f\"{metric.capitalize()} is\", len(result))\n"
     ]
    }
   ],
   "source": [
    "eval_dataset_w_RF(X_train_RS_scaled, X_test_RS_scaled, y_train, y_test)"
   ]
  },
  {
   "cell_type": "code",
   "execution_count": 17,
   "id": "dbedd539",
   "metadata": {},
   "outputs": [
    {
     "name": "stderr",
     "output_type": "stream",
     "text": [
      "[Parallel(n_jobs=-1)]: Using backend ThreadingBackend with 16 concurrent workers.\n",
      "[Parallel(n_jobs=-1)]: Done  18 tasks      | elapsed:  1.0min\n",
      "[Parallel(n_jobs=-1)]: Done 150 out of 150 | elapsed:  5.0min finished\n",
      "[Parallel(n_jobs=16)]: Using backend ThreadingBackend with 16 concurrent workers.\n",
      "[Parallel(n_jobs=16)]: Done  18 tasks      | elapsed:    1.1s\n",
      "[Parallel(n_jobs=16)]: Done 150 out of 150 | elapsed:    6.5s finished\n"
     ]
    },
    {
     "name": "stdout",
     "output_type": "stream",
     "text": [
      "Cross validation average score: 0.9814 +/- standard deviation: 0.0007\n",
      "Accuracy on the test set: 0.9833\n",
      "Resource measurements: {'Training Time (s)': 309.41271471977234, 'Peak CPU Usage (%)': 100.0, 'Average CPU Usage (%)': 93.32163995067818}\n"
     ]
    },
    {
     "name": "stderr",
     "output_type": "stream",
     "text": [
      "c:\\ML\\Lib\\site-packages\\sklearn\\metrics\\_classification.py:1565: UndefinedMetricWarning: Precision is ill-defined and being set to 0.0 in labels with no predicted samples. Use `zero_division` parameter to control this behavior.\n",
      "  _warn_prf(average, modifier, f\"{metric.capitalize()} is\", len(result))\n",
      "c:\\ML\\Lib\\site-packages\\sklearn\\metrics\\_classification.py:1565: UndefinedMetricWarning: Precision is ill-defined and being set to 0.0 in labels with no predicted samples. Use `zero_division` parameter to control this behavior.\n",
      "  _warn_prf(average, modifier, f\"{metric.capitalize()} is\", len(result))\n"
     ]
    },
    {
     "name": "stdout",
     "output_type": "stream",
     "text": [
      "                precision    recall  f1-score   support\n",
      "\n",
      "           Bot       1.00      0.99      0.99     43193\n",
      "   Brute Force       1.00      0.99      1.00     28463\n",
      "          DDoS       0.98      0.96      0.97    232641\n",
      "           DoS       0.99      0.98      0.98     58890\n",
      " Infilteration       0.00      0.00      0.00     32259\n",
      "Normal Traffic       0.98      1.00      0.99   2590259\n",
      "\n",
      "      accuracy                           0.98   2985705\n",
      "     macro avg       0.83      0.82      0.82   2985705\n",
      "  weighted avg       0.97      0.98      0.98   2985705\n",
      "\n"
     ]
    },
    {
     "name": "stderr",
     "output_type": "stream",
     "text": [
      "c:\\ML\\Lib\\site-packages\\sklearn\\metrics\\_classification.py:1565: UndefinedMetricWarning: Precision is ill-defined and being set to 0.0 in labels with no predicted samples. Use `zero_division` parameter to control this behavior.\n",
      "  _warn_prf(average, modifier, f\"{metric.capitalize()} is\", len(result))\n"
     ]
    }
   ],
   "source": [
    "eval_dataset_w_RF(X_train_SS_scaled, X_test_SS_scaled, y_train, y_test)"
   ]
  },
  {
   "cell_type": "code",
   "execution_count": 18,
   "id": "95270f22",
   "metadata": {},
   "outputs": [
    {
     "name": "stderr",
     "output_type": "stream",
     "text": [
      "[Parallel(n_jobs=-1)]: Using backend ThreadingBackend with 16 concurrent workers.\n",
      "[Parallel(n_jobs=-1)]: Done  18 tasks      | elapsed:   59.1s\n",
      "[Parallel(n_jobs=-1)]: Done 150 out of 150 | elapsed:  4.9min finished\n",
      "[Parallel(n_jobs=16)]: Using backend ThreadingBackend with 16 concurrent workers.\n",
      "[Parallel(n_jobs=16)]: Done  18 tasks      | elapsed:    1.1s\n",
      "[Parallel(n_jobs=16)]: Done 150 out of 150 | elapsed:    6.5s finished\n"
     ]
    },
    {
     "name": "stdout",
     "output_type": "stream",
     "text": [
      "Cross validation average score: 0.9820 +/- standard deviation: 0.0014\n",
      "Accuracy on the test set: 0.9801\n",
      "Resource measurements: {'Training Time (s)': 303.8914921283722, 'Peak CPU Usage (%)': 100.0, 'Average CPU Usage (%)': 93.27672151127362}\n"
     ]
    },
    {
     "name": "stderr",
     "output_type": "stream",
     "text": [
      "c:\\ML\\Lib\\site-packages\\sklearn\\metrics\\_classification.py:1565: UndefinedMetricWarning: Precision is ill-defined and being set to 0.0 in labels with no predicted samples. Use `zero_division` parameter to control this behavior.\n",
      "  _warn_prf(average, modifier, f\"{metric.capitalize()} is\", len(result))\n",
      "c:\\ML\\Lib\\site-packages\\sklearn\\metrics\\_classification.py:1565: UndefinedMetricWarning: Precision is ill-defined and being set to 0.0 in labels with no predicted samples. Use `zero_division` parameter to control this behavior.\n",
      "  _warn_prf(average, modifier, f\"{metric.capitalize()} is\", len(result))\n"
     ]
    },
    {
     "name": "stdout",
     "output_type": "stream",
     "text": [
      "                precision    recall  f1-score   support\n",
      "\n",
      "           Bot       1.00      0.99      1.00     43193\n",
      "   Brute Force       1.00      0.99      1.00     28463\n",
      "          DDoS       0.99      0.90      0.94    232641\n",
      "           DoS       0.99      0.98      0.98     58890\n",
      " Infilteration       0.00      0.00      0.00     32259\n",
      "Normal Traffic       0.98      1.00      0.99   2590259\n",
      "\n",
      "      accuracy                           0.98   2985705\n",
      "     macro avg       0.83      0.81      0.82   2985705\n",
      "  weighted avg       0.97      0.98      0.97   2985705\n",
      "\n"
     ]
    },
    {
     "name": "stderr",
     "output_type": "stream",
     "text": [
      "c:\\ML\\Lib\\site-packages\\sklearn\\metrics\\_classification.py:1565: UndefinedMetricWarning: Precision is ill-defined and being set to 0.0 in labels with no predicted samples. Use `zero_division` parameter to control this behavior.\n",
      "  _warn_prf(average, modifier, f\"{metric.capitalize()} is\", len(result))\n"
     ]
    }
   ],
   "source": [
    "eval_dataset_w_RF(X_train_MMS_scaled, X_test_MMS_scaled, y_train, y_test)"
   ]
  },
  {
   "cell_type": "code",
   "execution_count": 19,
   "id": "84792a23",
   "metadata": {},
   "outputs": [
    {
     "name": "stdout",
     "output_type": "stream",
     "text": [
      "Cross validation average score: 0.9802 +/- standard deviation: 0.0001\n",
      "Accuracy on the test set: 0.9801\n",
      "Resource measurements: {'Training Time (s)': 98.43241429328918, 'Peak CPU Usage (%)': 17.6, 'Average CPU Usage (%)': 10.329166666666667}\n",
      "                precision    recall  f1-score   support\n",
      "\n",
      "           Bot       0.99      1.00      0.99     43193\n",
      "   Brute Force       0.99      0.99      0.99     28463\n",
      "          DDoS       0.95      0.97      0.96    232641\n",
      "           DoS       0.95      0.95      0.95     58890\n",
      " Infilteration       0.23      0.06      0.09     32259\n",
      "Normal Traffic       0.99      0.99      0.99   2590259\n",
      "\n",
      "      accuracy                           0.98   2985705\n",
      "     macro avg       0.85      0.83      0.83   2985705\n",
      "  weighted avg       0.97      0.98      0.98   2985705\n",
      "\n"
     ]
    }
   ],
   "source": [
    "eval_dataset_w_KNN(X_train, X_test, y_train, y_test)"
   ]
  },
  {
   "cell_type": "code",
   "execution_count": 20,
   "id": "b4fdd384",
   "metadata": {},
   "outputs": [
    {
     "name": "stdout",
     "output_type": "stream",
     "text": [
      "Cross validation average score: 0.9775 +/- standard deviation: 0.0001\n",
      "Accuracy on the test set: 0.9775\n",
      "Resource measurements: {'Training Time (s)': 87.88576531410217, 'Peak CPU Usage (%)': 12.4, 'Average CPU Usage (%)': 8.4}\n",
      "                precision    recall  f1-score   support\n",
      "\n",
      "           Bot       0.99      1.00      0.99     43193\n",
      "   Brute Force       0.99      0.99      0.99     28463\n",
      "          DDoS       0.95      0.94      0.95    232641\n",
      "           DoS       0.95      0.96      0.96     58890\n",
      " Infilteration       0.22      0.06      0.10     32259\n",
      "Normal Traffic       0.98      0.99      0.99   2590259\n",
      "\n",
      "      accuracy                           0.98   2985705\n",
      "     macro avg       0.85      0.82      0.83   2985705\n",
      "  weighted avg       0.97      0.98      0.97   2985705\n",
      "\n"
     ]
    }
   ],
   "source": [
    "eval_dataset_w_KNN(X_train_RS_scaled, X_test_RS_scaled, y_train, y_test)"
   ]
  },
  {
   "cell_type": "code",
   "execution_count": 21,
   "id": "1b68dea1",
   "metadata": {},
   "outputs": [
    {
     "name": "stdout",
     "output_type": "stream",
     "text": [
      "Cross validation average score: 0.9827 +/- standard deviation: 0.0001\n",
      "Accuracy on the test set: 0.9825\n",
      "Resource measurements: {'Training Time (s)': 85.26975274085999, 'Peak CPU Usage (%)': 11.2, 'Average CPU Usage (%)': 7.663636363636363}\n",
      "                precision    recall  f1-score   support\n",
      "\n",
      "           Bot       0.99      1.00      0.99     43193\n",
      "   Brute Force       0.99      0.99      0.99     28463\n",
      "          DDoS       0.97      0.98      0.97    232641\n",
      "           DoS       0.99      1.00      0.99     58890\n",
      " Infilteration       0.22      0.06      0.10     32259\n",
      "Normal Traffic       0.99      0.99      0.99   2590259\n",
      "\n",
      "      accuracy                           0.98   2985705\n",
      "     macro avg       0.86      0.84      0.84   2985705\n",
      "  weighted avg       0.98      0.98      0.98   2985705\n",
      "\n"
     ]
    }
   ],
   "source": [
    "eval_dataset_w_KNN(X_train_SS_scaled, X_test_SS_scaled, y_train, y_test)"
   ]
  },
  {
   "cell_type": "code",
   "execution_count": 22,
   "id": "1df26d26",
   "metadata": {},
   "outputs": [
    {
     "name": "stdout",
     "output_type": "stream",
     "text": [
      "Cross validation average score: 0.9827 +/- standard deviation: 0.0001\n",
      "Accuracy on the test set: 0.9825\n",
      "Resource measurements: {'Training Time (s)': 105.5821647644043, 'Peak CPU Usage (%)': 25.5, 'Average CPU Usage (%)': 20.779999999999998}\n",
      "                precision    recall  f1-score   support\n",
      "\n",
      "           Bot       0.99      1.00      0.99     43193\n",
      "   Brute Force       0.99      0.99      0.99     28463\n",
      "          DDoS       0.97      0.98      0.97    232641\n",
      "           DoS       0.99      1.00      0.99     58890\n",
      " Infilteration       0.21      0.06      0.09     32259\n",
      "Normal Traffic       0.99      0.99      0.99   2590259\n",
      "\n",
      "      accuracy                           0.98   2985705\n",
      "     macro avg       0.86      0.84      0.84   2985705\n",
      "  weighted avg       0.98      0.98      0.98   2985705\n",
      "\n"
     ]
    }
   ],
   "source": [
    "eval_dataset_w_KNN(X_train_MMS_scaled, X_test_MMS_scaled, y_train, y_test)"
   ]
  },
  {
   "cell_type": "markdown",
   "id": "b6f74929",
   "metadata": {},
   "source": [
    "## Under Sampling"
   ]
  },
  {
   "cell_type": "code",
   "execution_count": 23,
   "id": "68795543",
   "metadata": {},
   "outputs": [],
   "source": [
    "from imblearn.under_sampling import RandomUnderSampler, NearMiss"
   ]
  },
  {
   "cell_type": "code",
   "execution_count": 24,
   "id": "eaaa3ca7",
   "metadata": {},
   "outputs": [],
   "source": [
    "# Initializing the undersampling for the clean df\n",
    "X_train_resampled_rus, y_train_resampled_rus = RandomUnderSampler(sampling_strategy={'Normal Traffic': 1000000}, random_state=42).fit_resample(X_train, y_train)\n",
    "\n",
    "# Initializing the undersampling for the scaled df\n",
    "X_train_scaled_rus_RS, y_train_scaled_rus_RS = RandomUnderSampler(sampling_strategy={'Normal Traffic': 1000000}, random_state=42).fit_resample(X_train_RS_scaled, y_train)\n",
    "\n",
    "X_train_scaled_rus_SS, y_train_scaled_rus_SS = RandomUnderSampler(sampling_strategy={'Normal Traffic': 1000000}, random_state=42).fit_resample(X_train_SS_scaled, y_train)\n",
    "\n",
    "X_train_scaled_rus_MMS, y_train_scaled_rus_MMS = RandomUnderSampler(sampling_strategy={'Normal Traffic': 1000000}, random_state=42).fit_resample(X_train_MMS_scaled, y_train)"
   ]
  },
  {
   "cell_type": "code",
   "execution_count": 25,
   "id": "9b9dc7c3",
   "metadata": {},
   "outputs": [
    {
     "name": "stderr",
     "output_type": "stream",
     "text": [
      "c:\\ML\\Lib\\site-packages\\joblib\\externals\\loky\\backend\\context.py:136: UserWarning: Could not find the number of physical cores for the following reason:\n",
      "[WinError 2] Не удается найти указанный файл\n",
      "Returning the number of logical cores instead. You can silence this warning by setting LOKY_MAX_CPU_COUNT to the number of cores you want to use.\n",
      "  warnings.warn(\n",
      "  File \"c:\\ML\\Lib\\site-packages\\joblib\\externals\\loky\\backend\\context.py\", line 257, in _count_physical_cores\n",
      "    cpu_info = subprocess.run(\n",
      "               ^^^^^^^^^^^^^^^\n",
      "  File \"C:\\Users\\ogoreltsev.pav\\AppData\\Local\\Programs\\Python\\Python312\\Lib\\subprocess.py\", line 548, in run\n",
      "    with Popen(*popenargs, **kwargs) as process:\n",
      "         ^^^^^^^^^^^^^^^^^^^^^^^^^^^\n",
      "  File \"C:\\Users\\ogoreltsev.pav\\AppData\\Local\\Programs\\Python\\Python312\\Lib\\subprocess.py\", line 1026, in __init__\n",
      "    self._execute_child(args, executable, preexec_fn, close_fds,\n",
      "  File \"C:\\Users\\ogoreltsev.pav\\AppData\\Local\\Programs\\Python\\Python312\\Lib\\subprocess.py\", line 1538, in _execute_child\n",
      "    hp, ht, pid, tid = _winapi.CreateProcess(executable, args,\n",
      "                       ^^^^^^^^^^^^^^^^^^^^^^^^^^^^^^^^^^^^^^^\n",
      "c:\\ML\\Lib\\site-packages\\imblearn\\under_sampling\\_prototype_selection\\_nearmiss.py:206: UserWarning: The number of the samples to be selected is larger than the number of samples available. The balancing ratio cannot be ensure and all samples will be returned.\n",
      "  warnings.warn(\n",
      "c:\\ML\\Lib\\site-packages\\imblearn\\under_sampling\\_prototype_selection\\_nearmiss.py:206: UserWarning: The number of the samples to be selected is larger than the number of samples available. The balancing ratio cannot be ensure and all samples will be returned.\n",
      "  warnings.warn(\n",
      "c:\\ML\\Lib\\site-packages\\imblearn\\under_sampling\\_prototype_selection\\_nearmiss.py:206: UserWarning: The number of the samples to be selected is larger than the number of samples available. The balancing ratio cannot be ensure and all samples will be returned.\n",
      "  warnings.warn(\n",
      "c:\\ML\\Lib\\site-packages\\imblearn\\under_sampling\\_prototype_selection\\_nearmiss.py:206: UserWarning: The number of the samples to be selected is larger than the number of samples available. The balancing ratio cannot be ensure and all samples will be returned.\n",
      "  warnings.warn(\n"
     ]
    }
   ],
   "source": [
    "# Initializing the undersampling for the clean df\n",
    "X_train_resampled_NM, y_train_resampled_NM = NearMiss(sampling_strategy={'Normal Traffic': 1000000}, version=3).fit_resample(X_train, y_train)\n",
    "\n",
    "# Initializing the undersampling for the scaled df\n",
    "X_train_scaled_NM_RS, y_train_scaled_NM_RS = NearMiss(sampling_strategy={'Normal Traffic': 1000000}, version=3).fit_resample(X_train_RS_scaled, y_train)\n",
    "\n",
    "X_train_scaled_NM_SS, y_train_scaled_NM_SS = NearMiss(sampling_strategy={'Normal Traffic': 1000000}, version=3).fit_resample(X_train_SS_scaled, y_train)\n",
    "\n",
    "X_train_scaled_NM_MMS, y_train_scaled_NM_MMS = NearMiss(sampling_strategy={'Normal Traffic': 1000000}, version=3).fit_resample(X_train_MMS_scaled, y_train)\n"
   ]
  },
  {
   "cell_type": "markdown",
   "id": "d3fe75c8",
   "metadata": {},
   "source": [
    "## Evals RF"
   ]
  },
  {
   "cell_type": "code",
   "execution_count": 26,
   "id": "dedc58af",
   "metadata": {},
   "outputs": [
    {
     "name": "stderr",
     "output_type": "stream",
     "text": [
      "[Parallel(n_jobs=-1)]: Using backend ThreadingBackend with 16 concurrent workers.\n",
      "[Parallel(n_jobs=-1)]: Done  18 tasks      | elapsed:   13.0s\n",
      "[Parallel(n_jobs=-1)]: Done 150 out of 150 | elapsed:  1.1min finished\n",
      "[Parallel(n_jobs=16)]: Using backend ThreadingBackend with 16 concurrent workers.\n",
      "[Parallel(n_jobs=16)]: Done  18 tasks      | elapsed:    1.1s\n",
      "[Parallel(n_jobs=16)]: Done 150 out of 150 | elapsed:    6.6s finished\n"
     ]
    },
    {
     "name": "stdout",
     "output_type": "stream",
     "text": [
      "Cross validation average score: 0.9547 +/- standard deviation: 0.0002\n",
      "Accuracy on the test set: 0.9804\n",
      "Resource measurements: {'Training Time (s)': 65.95187258720398, 'Peak CPU Usage (%)': 100.0, 'Average CPU Usage (%)': 93.3546875}\n",
      "                precision    recall  f1-score   support\n",
      "\n",
      "           Bot       1.00      0.99      1.00     43193\n",
      "   Brute Force       1.00      0.99      1.00     28463\n",
      "          DDoS       0.91      0.99      0.95    232641\n",
      "           DoS       0.99      1.00      0.99     58890\n",
      " Infilteration       0.50      0.05      0.09     32259\n",
      "Normal Traffic       0.99      0.99      0.99   2590259\n",
      "\n",
      "      accuracy                           0.98   2985705\n",
      "     macro avg       0.90      0.84      0.83   2985705\n",
      "  weighted avg       0.98      0.98      0.98   2985705\n",
      "\n"
     ]
    }
   ],
   "source": [
    "eval_dataset_w_RF(X_train_resampled_rus, X_test, y_train_resampled_rus, y_test)"
   ]
  },
  {
   "cell_type": "code",
   "execution_count": 27,
   "id": "60515714",
   "metadata": {},
   "outputs": [
    {
     "name": "stderr",
     "output_type": "stream",
     "text": [
      "[Parallel(n_jobs=-1)]: Using backend ThreadingBackend with 16 concurrent workers.\n",
      "[Parallel(n_jobs=-1)]: Done  18 tasks      | elapsed:   14.2s\n",
      "[Parallel(n_jobs=-1)]: Done 150 out of 150 | elapsed:  1.2min finished\n",
      "[Parallel(n_jobs=16)]: Using backend ThreadingBackend with 16 concurrent workers.\n",
      "[Parallel(n_jobs=16)]: Done  18 tasks      | elapsed:    1.0s\n",
      "[Parallel(n_jobs=16)]: Done 150 out of 150 | elapsed:    6.3s finished\n"
     ]
    },
    {
     "name": "stdout",
     "output_type": "stream",
     "text": [
      "Cross validation average score: 0.9547 +/- standard deviation: 0.0002\n",
      "Accuracy on the test set: 0.9804\n",
      "Resource measurements: {'Training Time (s)': 72.00814771652222, 'Peak CPU Usage (%)': 100.0, 'Average CPU Usage (%)': 93.45769230769231}\n",
      "                precision    recall  f1-score   support\n",
      "\n",
      "           Bot       1.00      0.99      1.00     43193\n",
      "   Brute Force       1.00      0.99      1.00     28463\n",
      "          DDoS       0.91      0.99      0.95    232641\n",
      "           DoS       0.99      1.00      0.99     58890\n",
      " Infilteration       0.50      0.05      0.09     32259\n",
      "Normal Traffic       0.99      0.99      0.99   2590259\n",
      "\n",
      "      accuracy                           0.98   2985705\n",
      "     macro avg       0.90      0.84      0.83   2985705\n",
      "  weighted avg       0.98      0.98      0.98   2985705\n",
      "\n"
     ]
    }
   ],
   "source": [
    "eval_dataset_w_RF(X_train_scaled_rus_RS, X_test_RS_scaled, y_train_scaled_rus_RS, y_test)"
   ]
  },
  {
   "cell_type": "code",
   "execution_count": 28,
   "metadata": {},
   "outputs": [
    {
     "name": "stderr",
     "output_type": "stream",
     "text": [
      "[Parallel(n_jobs=-1)]: Using backend ThreadingBackend with 16 concurrent workers.\n",
      "[Parallel(n_jobs=-1)]: Done  18 tasks      | elapsed:   14.1s\n",
      "[Parallel(n_jobs=-1)]: Done 150 out of 150 | elapsed:  1.2min finished\n",
      "[Parallel(n_jobs=16)]: Using backend ThreadingBackend with 16 concurrent workers.\n",
      "[Parallel(n_jobs=16)]: Done  18 tasks      | elapsed:    1.0s\n",
      "[Parallel(n_jobs=16)]: Done 150 out of 150 | elapsed:    6.3s finished\n"
     ]
    },
    {
     "name": "stdout",
     "output_type": "stream",
     "text": [
      "Cross validation average score: 0.9547 +/- standard deviation: 0.0002\n",
      "Accuracy on the test set: 0.9804\n",
      "Resource measurements: {'Training Time (s)': 71.04313039779663, 'Peak CPU Usage (%)': 100.0, 'Average CPU Usage (%)': 93.22219387755102}\n",
      "                precision    recall  f1-score   support\n",
      "\n",
      "           Bot       1.00      0.99      1.00     43193\n",
      "   Brute Force       1.00      0.99      1.00     28463\n",
      "          DDoS       0.91      0.99      0.95    232641\n",
      "           DoS       0.99      1.00      0.99     58890\n",
      " Infilteration       0.50      0.05      0.08     32259\n",
      "Normal Traffic       0.99      0.99      0.99   2590259\n",
      "\n",
      "      accuracy                           0.98   2985705\n",
      "     macro avg       0.90      0.84      0.83   2985705\n",
      "  weighted avg       0.98      0.98      0.98   2985705\n",
      "\n"
     ]
    }
   ],
   "source": [
    "eval_dataset_w_RF(X_train_scaled_rus_SS, X_test_SS_scaled, y_train_scaled_rus_SS, y_test)"
   ]
  },
  {
   "cell_type": "code",
   "execution_count": 29,
   "id": "64a814c3",
   "metadata": {},
   "outputs": [
    {
     "name": "stderr",
     "output_type": "stream",
     "text": [
      "[Parallel(n_jobs=-1)]: Using backend ThreadingBackend with 16 concurrent workers.\n",
      "[Parallel(n_jobs=-1)]: Done  18 tasks      | elapsed:   13.7s\n",
      "[Parallel(n_jobs=-1)]: Done 150 out of 150 | elapsed:  1.1min finished\n",
      "[Parallel(n_jobs=16)]: Using backend ThreadingBackend with 16 concurrent workers.\n",
      "[Parallel(n_jobs=16)]: Done  18 tasks      | elapsed:    1.0s\n",
      "[Parallel(n_jobs=16)]: Done 150 out of 150 | elapsed:    6.4s finished\n"
     ]
    },
    {
     "name": "stdout",
     "output_type": "stream",
     "text": [
      "Cross validation average score: 0.9546 +/- standard deviation: 0.0002\n",
      "Accuracy on the test set: 0.9803\n",
      "Resource measurements: {'Training Time (s)': 68.84704279899597, 'Peak CPU Usage (%)': 100.0, 'Average CPU Usage (%)': 93.17851458885943}\n",
      "                precision    recall  f1-score   support\n",
      "\n",
      "           Bot       1.00      0.99      1.00     43193\n",
      "   Brute Force       1.00      0.99      1.00     28463\n",
      "          DDoS       0.91      0.99      0.95    232641\n",
      "           DoS       0.99      1.00      0.99     58890\n",
      " Infilteration       0.49      0.05      0.08     32259\n",
      "Normal Traffic       0.99      0.99      0.99   2590259\n",
      "\n",
      "      accuracy                           0.98   2985705\n",
      "     macro avg       0.90      0.84      0.83   2985705\n",
      "  weighted avg       0.98      0.98      0.98   2985705\n",
      "\n"
     ]
    }
   ],
   "source": [
    "eval_dataset_w_RF(X_train_scaled_rus_MMS, X_test_MMS_scaled, y_train_scaled_rus_MMS, y_test)"
   ]
  },
  {
   "cell_type": "code",
   "execution_count": 30,
   "id": "62caeeeb",
   "metadata": {},
   "outputs": [
    {
     "name": "stderr",
     "output_type": "stream",
     "text": [
      "[Parallel(n_jobs=-1)]: Using backend ThreadingBackend with 16 concurrent workers.\n",
      "[Parallel(n_jobs=-1)]: Done  18 tasks      | elapsed:    4.7s\n",
      "[Parallel(n_jobs=-1)]: Done 150 out of 150 | elapsed:   24.0s finished\n",
      "[Parallel(n_jobs=16)]: Using backend ThreadingBackend with 16 concurrent workers.\n",
      "[Parallel(n_jobs=16)]: Done  18 tasks      | elapsed:    1.0s\n",
      "[Parallel(n_jobs=16)]: Done 150 out of 150 | elapsed:    6.1s finished\n"
     ]
    },
    {
     "name": "stdout",
     "output_type": "stream",
     "text": [
      "Cross validation average score: 0.9954 +/- standard deviation: 0.0004\n",
      "Accuracy on the test set: 0.1380\n",
      "Resource measurements: {'Training Time (s)': 24.88511633872986, 'Peak CPU Usage (%)': 100.0, 'Average CPU Usage (%)': 93.80059523809524}\n",
      "                precision    recall  f1-score   support\n",
      "\n",
      "           Bot       0.99      0.99      0.99     43193\n",
      "   Brute Force       1.00      0.99      1.00     28463\n",
      "          DDoS       0.62      1.00      0.77    232641\n",
      "           DoS       0.31      1.00      0.47     58890\n",
      " Infilteration       0.01      0.97      0.03     32259\n",
      "Normal Traffic       1.00      0.01      0.01   2590259\n",
      "\n",
      "      accuracy                           0.14   2985705\n",
      "     macro avg       0.65      0.83      0.54   2985705\n",
      "  weighted avg       0.94      0.14      0.11   2985705\n",
      "\n"
     ]
    }
   ],
   "source": [
    "eval_dataset_w_RF(X_train_resampled_NM, X_test, y_train_resampled_NM, y_test)"
   ]
  },
  {
   "cell_type": "code",
   "execution_count": 31,
   "id": "9477343d",
   "metadata": {},
   "outputs": [
    {
     "name": "stderr",
     "output_type": "stream",
     "text": [
      "[Parallel(n_jobs=-1)]: Using backend ThreadingBackend with 16 concurrent workers.\n",
      "[Parallel(n_jobs=-1)]: Done  18 tasks      | elapsed:    5.9s\n",
      "[Parallel(n_jobs=-1)]: Done 150 out of 150 | elapsed:   29.0s finished\n",
      "[Parallel(n_jobs=16)]: Using backend ThreadingBackend with 16 concurrent workers.\n",
      "[Parallel(n_jobs=16)]: Done  18 tasks      | elapsed:    0.9s\n",
      "[Parallel(n_jobs=16)]: Done 150 out of 150 | elapsed:    6.1s finished\n"
     ]
    },
    {
     "name": "stdout",
     "output_type": "stream",
     "text": [
      "Cross validation average score: 0.9956 +/- standard deviation: 0.0004\n",
      "Accuracy on the test set: 0.1409\n",
      "Resource measurements: {'Training Time (s)': 29.871477127075195, 'Peak CPU Usage (%)': 100.0, 'Average CPU Usage (%)': 94.66511627906976}\n",
      "                precision    recall  f1-score   support\n",
      "\n",
      "           Bot       0.99      0.99      0.99     43193\n",
      "   Brute Force       1.00      0.99      1.00     28463\n",
      "          DDoS       0.62      1.00      0.77    232641\n",
      "           DoS       0.30      1.00      0.47     58890\n",
      " Infilteration       0.01      0.97      0.03     32259\n",
      "Normal Traffic       1.00      0.01      0.02   2590259\n",
      "\n",
      "      accuracy                           0.14   2985705\n",
      "     macro avg       0.65      0.83      0.55   2985705\n",
      "  weighted avg       0.94      0.14      0.11   2985705\n",
      "\n"
     ]
    }
   ],
   "source": [
    "eval_dataset_w_RF(X_train_scaled_NM_RS, X_test_RS_scaled, y_train_scaled_NM_RS, y_test)"
   ]
  },
  {
   "cell_type": "code",
   "execution_count": 32,
   "id": "bf922f92",
   "metadata": {},
   "outputs": [
    {
     "name": "stderr",
     "output_type": "stream",
     "text": [
      "[Parallel(n_jobs=-1)]: Using backend ThreadingBackend with 16 concurrent workers.\n",
      "[Parallel(n_jobs=-1)]: Done  18 tasks      | elapsed:    5.5s\n",
      "[Parallel(n_jobs=-1)]: Done 150 out of 150 | elapsed:   27.7s finished\n",
      "[Parallel(n_jobs=16)]: Using backend ThreadingBackend with 16 concurrent workers.\n",
      "[Parallel(n_jobs=16)]: Done  18 tasks      | elapsed:    0.8s\n",
      "[Parallel(n_jobs=16)]: Done 150 out of 150 | elapsed:    6.2s finished\n"
     ]
    },
    {
     "name": "stdout",
     "output_type": "stream",
     "text": [
      "Cross validation average score: 0.9959 +/- standard deviation: 0.0002\n",
      "Accuracy on the test set: 0.1405\n",
      "Resource measurements: {'Training Time (s)': 28.585793256759644, 'Peak CPU Usage (%)': 100.0, 'Average CPU Usage (%)': 93.95856353591161}\n",
      "                precision    recall  f1-score   support\n",
      "\n",
      "           Bot       0.99      0.99      0.99     43193\n",
      "   Brute Force       1.00      0.99      0.99     28463\n",
      "          DDoS       0.62      1.00      0.77    232641\n",
      "           DoS       0.30      1.00      0.47     58890\n",
      " Infilteration       0.01      0.98      0.03     32259\n",
      "Normal Traffic       1.00      0.01      0.02   2590259\n",
      "\n",
      "      accuracy                           0.14   2985705\n",
      "     macro avg       0.65      0.83      0.54   2985705\n",
      "  weighted avg       0.94      0.14      0.11   2985705\n",
      "\n"
     ]
    }
   ],
   "source": [
    "eval_dataset_w_RF(X_train_scaled_NM_SS, X_test_SS_scaled, y_train_scaled_NM_SS, y_test)"
   ]
  },
  {
   "cell_type": "code",
   "execution_count": 33,
   "id": "b587170e",
   "metadata": {},
   "outputs": [
    {
     "name": "stderr",
     "output_type": "stream",
     "text": [
      "[Parallel(n_jobs=-1)]: Using backend ThreadingBackend with 16 concurrent workers.\n",
      "[Parallel(n_jobs=-1)]: Done  18 tasks      | elapsed:    5.6s\n",
      "[Parallel(n_jobs=-1)]: Done 150 out of 150 | elapsed:   26.9s finished\n",
      "[Parallel(n_jobs=16)]: Using backend ThreadingBackend with 16 concurrent workers.\n",
      "[Parallel(n_jobs=16)]: Done  18 tasks      | elapsed:    1.0s\n",
      "[Parallel(n_jobs=16)]: Done 150 out of 150 | elapsed:    6.2s finished\n"
     ]
    },
    {
     "name": "stdout",
     "output_type": "stream",
     "text": [
      "Cross validation average score: 0.9961 +/- standard deviation: 0.0001\n",
      "Accuracy on the test set: 0.1323\n",
      "Resource measurements: {'Training Time (s)': 27.803845643997192, 'Peak CPU Usage (%)': 100.0, 'Average CPU Usage (%)': 93.97213114754099}\n",
      "                precision    recall  f1-score   support\n",
      "\n",
      "           Bot       0.99      0.99      0.99     43193\n",
      "   Brute Force       0.95      1.00      0.97     28463\n",
      "          DDoS       0.62      1.00      0.77    232641\n",
      "           DoS       0.30      1.00      0.47     58890\n",
      " Infilteration       0.01      0.97      0.03     32259\n",
      "Normal Traffic       1.00      0.00      0.00   2590259\n",
      "\n",
      "      accuracy                           0.13   2985705\n",
      "     macro avg       0.65      0.83      0.54   2985705\n",
      "  weighted avg       0.94      0.13      0.09   2985705\n",
      "\n"
     ]
    }
   ],
   "source": [
    "eval_dataset_w_RF(X_train_scaled_NM_MMS, X_test_MMS_scaled, y_train_scaled_NM_MMS, y_test)"
   ]
  },
  {
   "cell_type": "markdown",
   "id": "7dd3fa33",
   "metadata": {},
   "source": [
    "## Evals KNN"
   ]
  },
  {
   "cell_type": "code",
   "execution_count": 34,
   "id": "2b3bfd27",
   "metadata": {},
   "outputs": [
    {
     "name": "stdout",
     "output_type": "stream",
     "text": [
      "Cross validation average score: 0.9456 +/- standard deviation: 0.0005\n",
      "Accuracy on the test set: 0.9605\n",
      "Resource measurements: {'Training Time (s)': 21.452256202697754, 'Peak CPU Usage (%)': 23.4, 'Average CPU Usage (%)': 15.549999999999999}\n",
      "                precision    recall  f1-score   support\n",
      "\n",
      "           Bot       0.98      1.00      0.99     43193\n",
      "   Brute Force       0.97      0.99      0.98     28463\n",
      "          DDoS       0.91      0.99      0.95    232641\n",
      "           DoS       0.91      0.96      0.93     58890\n",
      " Infilteration       0.11      0.25      0.15     32259\n",
      "Normal Traffic       0.99      0.97      0.98   2590259\n",
      "\n",
      "      accuracy                           0.96   2985705\n",
      "     macro avg       0.81      0.86      0.83   2985705\n",
      "  weighted avg       0.97      0.96      0.97   2985705\n",
      "\n"
     ]
    }
   ],
   "source": [
    "eval_dataset_w_KNN(X_train_resampled_rus, X_test, y_train_resampled_rus, y_test)"
   ]
  },
  {
   "cell_type": "code",
   "execution_count": 35,
   "id": "27743a0c",
   "metadata": {},
   "outputs": [
    {
     "name": "stdout",
     "output_type": "stream",
     "text": [
      "Cross validation average score: 0.9379 +/- standard deviation: 0.0004\n",
      "Accuracy on the test set: 0.9500\n",
      "Resource measurements: {'Training Time (s)': 20.657833099365234, 'Peak CPU Usage (%)': 22.1, 'Average CPU Usage (%)': 18.650000000000002}\n",
      "                precision    recall  f1-score   support\n",
      "\n",
      "           Bot       0.98      1.00      0.99     43193\n",
      "   Brute Force       0.98      1.00      0.99     28463\n",
      "          DDoS       0.84      0.97      0.90    232641\n",
      "           DoS       0.88      0.97      0.92     58890\n",
      " Infilteration       0.12      0.30      0.18     32259\n",
      "Normal Traffic       0.99      0.95      0.97   2590259\n",
      "\n",
      "      accuracy                           0.95   2985705\n",
      "     macro avg       0.80      0.86      0.82   2985705\n",
      "  weighted avg       0.97      0.95      0.96   2985705\n",
      "\n"
     ]
    }
   ],
   "source": [
    "eval_dataset_w_KNN(X_train_scaled_rus_RS, X_test_RS_scaled, y_train_scaled_rus_RS, y_test)"
   ]
  },
  {
   "cell_type": "code",
   "execution_count": 36,
   "id": "500a2c12",
   "metadata": {},
   "outputs": [
    {
     "name": "stdout",
     "output_type": "stream",
     "text": [
      "Cross validation average score: 0.9544 +/- standard deviation: 0.0004\n",
      "Accuracy on the test set: 0.9645\n",
      "Resource measurements: {'Training Time (s)': 19.428059816360474, 'Peak CPU Usage (%)': 16.0, 'Average CPU Usage (%)': 15.200000000000001}\n",
      "                precision    recall  f1-score   support\n",
      "\n",
      "           Bot       0.99      1.00      0.99     43193\n",
      "   Brute Force       0.98      1.00      0.99     28463\n",
      "          DDoS       0.94      0.99      0.97    232641\n",
      "           DoS       0.99      1.00      0.99     58890\n",
      " Infilteration       0.13      0.31      0.18     32259\n",
      "Normal Traffic       0.99      0.97      0.98   2590259\n",
      "\n",
      "      accuracy                           0.96   2985705\n",
      "     macro avg       0.84      0.88      0.85   2985705\n",
      "  weighted avg       0.98      0.96      0.97   2985705\n",
      "\n"
     ]
    }
   ],
   "source": [
    "eval_dataset_w_KNN(X_train_scaled_rus_SS, X_test_SS_scaled, y_train_scaled_rus_SS, y_test)"
   ]
  },
  {
   "cell_type": "code",
   "execution_count": 37,
   "id": "bc67b24f",
   "metadata": {},
   "outputs": [
    {
     "name": "stdout",
     "output_type": "stream",
     "text": [
      "Cross validation average score: 0.9544 +/- standard deviation: 0.0003\n",
      "Accuracy on the test set: 0.9644\n",
      "Resource measurements: {'Training Time (s)': 19.193310737609863, 'Peak CPU Usage (%)': 19.1, 'Average CPU Usage (%)': 12.180000000000001}\n",
      "                precision    recall  f1-score   support\n",
      "\n",
      "           Bot       0.99      1.00      0.99     43193\n",
      "   Brute Force       0.98      1.00      0.99     28463\n",
      "          DDoS       0.94      0.99      0.97    232641\n",
      "           DoS       0.99      1.00      0.99     58890\n",
      " Infilteration       0.13      0.31      0.18     32259\n",
      "Normal Traffic       0.99      0.97      0.98   2590259\n",
      "\n",
      "      accuracy                           0.96   2985705\n",
      "     macro avg       0.84      0.88      0.85   2985705\n",
      "  weighted avg       0.98      0.96      0.97   2985705\n",
      "\n"
     ]
    }
   ],
   "source": [
    "eval_dataset_w_KNN(X_train_scaled_rus_MMS, X_test_MMS_scaled, y_train_scaled_rus_MMS, y_test)"
   ]
  },
  {
   "cell_type": "code",
   "execution_count": 38,
   "id": "ad00705f",
   "metadata": {},
   "outputs": [
    {
     "name": "stdout",
     "output_type": "stream",
     "text": [
      "Cross validation average score: 0.9849 +/- standard deviation: 0.0003\n",
      "Accuracy on the test set: 0.1419\n",
      "Resource measurements: {'Training Time (s)': 9.510598421096802, 'Peak CPU Usage (%)': 28.5, 'Average CPU Usage (%)': 23.475}\n",
      "                precision    recall  f1-score   support\n",
      "\n",
      "           Bot       0.86      1.00      0.92     43193\n",
      "   Brute Force       0.90      0.99      0.95     28463\n",
      "          DDoS       0.50      0.99      0.66    232641\n",
      "           DoS       0.27      0.97      0.43     58890\n",
      " Infilteration       0.01      0.97      0.03     32259\n",
      "Normal Traffic       1.00      0.01      0.03   2590259\n",
      "\n",
      "      accuracy                           0.14   2985705\n",
      "     macro avg       0.59      0.82      0.50   2985705\n",
      "  weighted avg       0.93      0.14      0.10   2985705\n",
      "\n"
     ]
    }
   ],
   "source": [
    "eval_dataset_w_KNN(X_train_resampled_NM, X_test, y_train_resampled_NM, y_test)"
   ]
  },
  {
   "cell_type": "code",
   "execution_count": 39,
   "id": "979c3b96",
   "metadata": {},
   "outputs": [
    {
     "name": "stdout",
     "output_type": "stream",
     "text": [
      "Cross validation average score: 0.9832 +/- standard deviation: 0.0001\n",
      "Accuracy on the test set: 0.1406\n",
      "Resource measurements: {'Training Time (s)': 8.061488151550293, 'Peak CPU Usage (%)': 22.0, 'Average CPU Usage (%)': 17.975}\n",
      "                precision    recall  f1-score   support\n",
      "\n",
      "           Bot       0.90      1.00      0.95     43193\n",
      "   Brute Force       0.97      0.99      0.98     28463\n",
      "          DDoS       0.43      0.99      0.60    232641\n",
      "           DoS       0.27      0.98      0.43     58890\n",
      " Infilteration       0.01      0.93      0.03     32259\n",
      "Normal Traffic       1.00      0.01      0.02   2590259\n",
      "\n",
      "      accuracy                           0.14   2985705\n",
      "     macro avg       0.60      0.82      0.50   2985705\n",
      "  weighted avg       0.93      0.14      0.10   2985705\n",
      "\n"
     ]
    }
   ],
   "source": [
    "eval_dataset_w_KNN(X_train_scaled_NM_RS, X_test_RS_scaled, y_train_scaled_NM_RS, y_test)"
   ]
  },
  {
   "cell_type": "code",
   "execution_count": 40,
   "id": "2176b1f8",
   "metadata": {},
   "outputs": [
    {
     "name": "stdout",
     "output_type": "stream",
     "text": [
      "Cross validation average score: 0.9955 +/- standard deviation: 0.0001\n",
      "Accuracy on the test set: 0.1419\n",
      "Resource measurements: {'Training Time (s)': 7.946810007095337, 'Peak CPU Usage (%)': 16.0, 'Average CPU Usage (%)': 15.075}\n",
      "                precision    recall  f1-score   support\n",
      "\n",
      "           Bot       0.94      1.00      0.97     43193\n",
      "   Brute Force       0.98      0.99      0.98     28463\n",
      "          DDoS       0.66      1.00      0.79    232641\n",
      "           DoS       0.31      1.00      0.47     58890\n",
      " Infilteration       0.01      0.98      0.03     32259\n",
      "Normal Traffic       1.00      0.01      0.02   2590259\n",
      "\n",
      "      accuracy                           0.14   2985705\n",
      "     macro avg       0.65      0.83      0.54   2985705\n",
      "  weighted avg       0.94      0.14      0.11   2985705\n",
      "\n"
     ]
    }
   ],
   "source": [
    "eval_dataset_w_KNN(X_train_scaled_NM_SS, X_test_SS_scaled, y_train_scaled_NM_SS, y_test)"
   ]
  },
  {
   "cell_type": "code",
   "execution_count": 41,
   "id": "4b8a4be9",
   "metadata": {},
   "outputs": [
    {
     "name": "stdout",
     "output_type": "stream",
     "text": [
      "Cross validation average score: 0.9959 +/- standard deviation: 0.0001\n",
      "Accuracy on the test set: 0.1413\n",
      "Resource measurements: {'Training Time (s)': 7.335773229598999, 'Peak CPU Usage (%)': 7.4, 'Average CPU Usage (%)': 5.325}\n",
      "                precision    recall  f1-score   support\n",
      "\n",
      "           Bot       0.66      1.00      0.80     43193\n",
      "   Brute Force       0.93      1.00      0.96     28463\n",
      "          DDoS       0.66      1.00      0.79    232641\n",
      "           DoS       0.30      1.00      0.46     58890\n",
      " Infilteration       0.01      0.98      0.03     32259\n",
      "Normal Traffic       1.00      0.01      0.02   2590259\n",
      "\n",
      "      accuracy                           0.14   2985705\n",
      "     macro avg       0.59      0.83      0.51   2985705\n",
      "  weighted avg       0.94      0.14      0.11   2985705\n",
      "\n"
     ]
    }
   ],
   "source": [
    "eval_dataset_w_KNN(X_train_scaled_NM_MMS, X_test_MMS_scaled, y_train_scaled_NM_MMS, y_test)"
   ]
  },
  {
   "cell_type": "markdown",
   "id": "a6e4bff5",
   "metadata": {},
   "source": [
    "## Over Sampling"
   ]
  },
  {
   "cell_type": "code",
   "execution_count": 42,
   "id": "71464ce7",
   "metadata": {},
   "outputs": [],
   "source": [
    "from imblearn.over_sampling import SMOTE, ADASYN, BorderlineSMOTE"
   ]
  },
  {
   "cell_type": "code",
   "execution_count": null,
   "id": "3fbb1994",
   "metadata": {},
   "outputs": [
    {
     "ename": "ValueError",
     "evalue": "The {'Bots'} target class is/are not present in the data.",
     "output_type": "error",
     "traceback": [
      "\u001b[31m---------------------------------------------------------------------------\u001b[39m",
      "\u001b[31mValueError\u001b[39m                                Traceback (most recent call last)",
      "\u001b[36mCell\u001b[39m\u001b[36m \u001b[39m\u001b[32mIn[43]\u001b[39m\u001b[32m, line 15\u001b[39m\n\u001b[32m     10\u001b[39m X_train_resampled_scaled_RS_SMOTE, y_train_resampled_scaled_RS_SMOTE = SMOTE(sampling_strategy={\u001b[33m'\u001b[39m\u001b[33mBot\u001b[39m\u001b[33m'\u001b[39m: \u001b[32m150000\u001b[39m, \u001b[33m'\u001b[39m\u001b[33mBrute Force\u001b[39m\u001b[33m'\u001b[39m: \u001b[32m100000\u001b[39m, \u001b[33m'\u001b[39m\u001b[33mInfilteration\u001b[39m\u001b[33m'\u001b[39m: \u001b[32m110000\u001b[39m, \u001b[33m'\u001b[39m\u001b[33mDDoS\u001b[39m\u001b[33m'\u001b[39m:\u001b[32m780000\u001b[39m, \u001b[33m'\u001b[39m\u001b[33mDoS\u001b[39m\u001b[33m'\u001b[39m: \u001b[32m200000\u001b[39m}, random_state=\u001b[32m42\u001b[39m).fit_resample(X_train_scaled_rus_RS, y_train_scaled_rus_RS)\n\u001b[32m     12\u001b[39m X_train_resampled_scaled_MMS_SMOTE, y_train_resampled_scaled_MMS_SMOTE = SMOTE(sampling_strategy={\u001b[33m'\u001b[39m\u001b[33mBot\u001b[39m\u001b[33m'\u001b[39m: \u001b[32m150000\u001b[39m, \u001b[33m'\u001b[39m\u001b[33mBrute Force\u001b[39m\u001b[33m'\u001b[39m: \u001b[32m100000\u001b[39m, \u001b[33m'\u001b[39m\u001b[33mInfilteration\u001b[39m\u001b[33m'\u001b[39m: \u001b[32m110000\u001b[39m, \u001b[33m'\u001b[39m\u001b[33mDDoS\u001b[39m\u001b[33m'\u001b[39m:\u001b[32m780000\u001b[39m, \u001b[33m'\u001b[39m\u001b[33mDoS\u001b[39m\u001b[33m'\u001b[39m: \u001b[32m200000\u001b[39m}, random_state=\u001b[32m42\u001b[39m).fit_resample(X_train_scaled_rus_MMS, y_train_scaled_rus_MMS)\n\u001b[32m---> \u001b[39m\u001b[32m15\u001b[39m X_train_resampled_BSMOTE, y_train_resampled_BSMOTE = \u001b[43mBorderlineSMOTE\u001b[49m\u001b[43m(\u001b[49m\u001b[43msampling_strategy\u001b[49m\u001b[43m=\u001b[49m\u001b[43m{\u001b[49m\u001b[33;43m'\u001b[39;49m\u001b[33;43mBots\u001b[39;49m\u001b[33;43m'\u001b[39;49m\u001b[43m:\u001b[49m\u001b[43m \u001b[49m\u001b[32;43m150000\u001b[39;49m\u001b[43m,\u001b[49m\u001b[43m \u001b[49m\u001b[33;43m'\u001b[39;49m\u001b[33;43mBrute Force\u001b[39;49m\u001b[33;43m'\u001b[39;49m\u001b[43m:\u001b[49m\u001b[43m \u001b[49m\u001b[32;43m100000\u001b[39;49m\u001b[43m,\u001b[49m\u001b[43m \u001b[49m\u001b[33;43m'\u001b[39;49m\u001b[33;43mInfilteration\u001b[39;49m\u001b[33;43m'\u001b[39;49m\u001b[43m:\u001b[49m\u001b[43m \u001b[49m\u001b[32;43m110000\u001b[39;49m\u001b[43m,\u001b[49m\u001b[43m \u001b[49m\u001b[33;43m'\u001b[39;49m\u001b[33;43mDDoS\u001b[39;49m\u001b[33;43m'\u001b[39;49m\u001b[43m:\u001b[49m\u001b[43m \u001b[49m\u001b[32;43m780000\u001b[39;49m\u001b[43m,\u001b[49m\u001b[43m \u001b[49m\u001b[33;43m'\u001b[39;49m\u001b[33;43mDoS\u001b[39;49m\u001b[33;43m'\u001b[39;49m\u001b[43m:\u001b[49m\u001b[43m \u001b[49m\u001b[32;43m200000\u001b[39;49m\u001b[43m}\u001b[49m\u001b[43m,\u001b[49m\u001b[43m \u001b[49m\u001b[43mrandom_state\u001b[49m\u001b[43m=\u001b[49m\u001b[32;43m42\u001b[39;49m\u001b[43m,\u001b[49m\u001b[43m \u001b[49m\u001b[43mk_neighbors\u001b[49m\u001b[43m=\u001b[49m\u001b[32;43m5\u001b[39;49m\u001b[43m,\u001b[49m\u001b[43m \u001b[49m\u001b[43mm_neighbors\u001b[49m\u001b[43m=\u001b[49m\u001b[32;43m10\u001b[39;49m\u001b[43m,\u001b[49m\u001b[43m \u001b[49m\u001b[43mkind\u001b[49m\u001b[43m=\u001b[49m\u001b[33;43m'\u001b[39;49m\u001b[33;43mborderline-1\u001b[39;49m\u001b[33;43m'\u001b[39;49m\u001b[43m)\u001b[49m\u001b[43m.\u001b[49m\u001b[43mfit_resample\u001b[49m\u001b[43m(\u001b[49m\u001b[43mX_train_resampled_rus\u001b[49m\u001b[43m,\u001b[49m\u001b[43m \u001b[49m\u001b[43my_train_resampled_rus\u001b[49m\u001b[43m)\u001b[49m\n\u001b[32m     17\u001b[39m X_train_resampled_scaled_RS_BSMOTE, y_train_resampled_scaled_RS_BSMOTE = BorderlineSMOTE(sampling_strategy={\u001b[33m'\u001b[39m\u001b[33mBot\u001b[39m\u001b[33m'\u001b[39m: \u001b[32m150000\u001b[39m, \u001b[33m'\u001b[39m\u001b[33mBrute Force\u001b[39m\u001b[33m'\u001b[39m: \u001b[32m100000\u001b[39m, \u001b[33m'\u001b[39m\u001b[33mInfilteration\u001b[39m\u001b[33m'\u001b[39m: \u001b[32m110000\u001b[39m, \u001b[33m'\u001b[39m\u001b[33mDDoS\u001b[39m\u001b[33m'\u001b[39m: \u001b[32m780000\u001b[39m, \u001b[33m'\u001b[39m\u001b[33mDoS\u001b[39m\u001b[33m'\u001b[39m: \u001b[32m200000\u001b[39m}, random_state=\u001b[32m42\u001b[39m, k_neighbors=\u001b[32m5\u001b[39m, m_neighbors=\u001b[32m10\u001b[39m, kind=\u001b[33m'\u001b[39m\u001b[33mborderline-1\u001b[39m\u001b[33m'\u001b[39m).fit_resample(X_train_scaled_rus_RS, y_train_scaled_rus_RS)\n\u001b[32m     19\u001b[39m X_train_resampled_scaled_MMS_BSMOTE, y_train_resampled_scaled_MMS_BSMOTE = BorderlineSMOTE(sampling_strategy={\u001b[33m'\u001b[39m\u001b[33mBot\u001b[39m\u001b[33m'\u001b[39m: \u001b[32m150000\u001b[39m, \u001b[33m'\u001b[39m\u001b[33mBrute Force\u001b[39m\u001b[33m'\u001b[39m: \u001b[32m100000\u001b[39m, \u001b[33m'\u001b[39m\u001b[33mInfilteration\u001b[39m\u001b[33m'\u001b[39m: \u001b[32m110000\u001b[39m, \u001b[33m'\u001b[39m\u001b[33mDDoS\u001b[39m\u001b[33m'\u001b[39m: \u001b[32m780000\u001b[39m, \u001b[33m'\u001b[39m\u001b[33mDoS\u001b[39m\u001b[33m'\u001b[39m: \u001b[32m200000\u001b[39m}, random_state=\u001b[32m42\u001b[39m, k_neighbors=\u001b[32m5\u001b[39m, m_neighbors=\u001b[32m10\u001b[39m, kind=\u001b[33m'\u001b[39m\u001b[33mborderline-1\u001b[39m\u001b[33m'\u001b[39m).fit_resample(X_train_scaled_rus_MMS, y_train_scaled_rus_MMS)\n",
      "\u001b[36mFile \u001b[39m\u001b[32mc:\\ML\\Lib\\site-packages\\imblearn\\base.py:202\u001b[39m, in \u001b[36mBaseSampler.fit_resample\u001b[39m\u001b[34m(self, X, y, **params)\u001b[39m\n\u001b[32m    181\u001b[39m \u001b[38;5;28;01mdef\u001b[39;00m\u001b[38;5;250m \u001b[39m\u001b[34mfit_resample\u001b[39m(\u001b[38;5;28mself\u001b[39m, X, y, **params):\n\u001b[32m    182\u001b[39m \u001b[38;5;250m    \u001b[39m\u001b[33;03m\"\"\"Resample the dataset.\u001b[39;00m\n\u001b[32m    183\u001b[39m \n\u001b[32m    184\u001b[39m \u001b[33;03m    Parameters\u001b[39;00m\n\u001b[32m   (...)\u001b[39m\u001b[32m    200\u001b[39m \u001b[33;03m        The corresponding label of `X_resampled`.\u001b[39;00m\n\u001b[32m    201\u001b[39m \u001b[33;03m    \"\"\"\u001b[39;00m\n\u001b[32m--> \u001b[39m\u001b[32m202\u001b[39m     \u001b[38;5;28;01mreturn\u001b[39;00m \u001b[38;5;28;43msuper\u001b[39;49m\u001b[43m(\u001b[49m\u001b[43m)\u001b[49m\u001b[43m.\u001b[49m\u001b[43mfit_resample\u001b[49m\u001b[43m(\u001b[49m\u001b[43mX\u001b[49m\u001b[43m,\u001b[49m\u001b[43m \u001b[49m\u001b[43my\u001b[49m\u001b[43m,\u001b[49m\u001b[43m \u001b[49m\u001b[43m*\u001b[49m\u001b[43m*\u001b[49m\u001b[43mparams\u001b[49m\u001b[43m)\u001b[49m\n",
      "\u001b[36mFile \u001b[39m\u001b[32mc:\\ML\\Lib\\site-packages\\sklearn\\base.py:1389\u001b[39m, in \u001b[36m_fit_context.<locals>.decorator.<locals>.wrapper\u001b[39m\u001b[34m(estimator, *args, **kwargs)\u001b[39m\n\u001b[32m   1382\u001b[39m     estimator._validate_params()\n\u001b[32m   1384\u001b[39m \u001b[38;5;28;01mwith\u001b[39;00m config_context(\n\u001b[32m   1385\u001b[39m     skip_parameter_validation=(\n\u001b[32m   1386\u001b[39m         prefer_skip_nested_validation \u001b[38;5;129;01mor\u001b[39;00m global_skip_validation\n\u001b[32m   1387\u001b[39m     )\n\u001b[32m   1388\u001b[39m ):\n\u001b[32m-> \u001b[39m\u001b[32m1389\u001b[39m     \u001b[38;5;28;01mreturn\u001b[39;00m \u001b[43mfit_method\u001b[49m\u001b[43m(\u001b[49m\u001b[43mestimator\u001b[49m\u001b[43m,\u001b[49m\u001b[43m \u001b[49m\u001b[43m*\u001b[49m\u001b[43margs\u001b[49m\u001b[43m,\u001b[49m\u001b[43m \u001b[49m\u001b[43m*\u001b[49m\u001b[43m*\u001b[49m\u001b[43mkwargs\u001b[49m\u001b[43m)\u001b[49m\n",
      "\u001b[36mFile \u001b[39m\u001b[32mc:\\ML\\Lib\\site-packages\\imblearn\\base.py:101\u001b[39m, in \u001b[36mSamplerMixin.fit_resample\u001b[39m\u001b[34m(self, X, y, **params)\u001b[39m\n\u001b[32m     98\u001b[39m arrays_transformer = ArraysTransformer(X, y)\n\u001b[32m     99\u001b[39m X, y, binarize_y = \u001b[38;5;28mself\u001b[39m._check_X_y(X, y)\n\u001b[32m--> \u001b[39m\u001b[32m101\u001b[39m \u001b[38;5;28mself\u001b[39m.sampling_strategy_ = \u001b[43mcheck_sampling_strategy\u001b[49m\u001b[43m(\u001b[49m\n\u001b[32m    102\u001b[39m \u001b[43m    \u001b[49m\u001b[38;5;28;43mself\u001b[39;49m\u001b[43m.\u001b[49m\u001b[43msampling_strategy\u001b[49m\u001b[43m,\u001b[49m\u001b[43m \u001b[49m\u001b[43my\u001b[49m\u001b[43m,\u001b[49m\u001b[43m \u001b[49m\u001b[38;5;28;43mself\u001b[39;49m\u001b[43m.\u001b[49m\u001b[43m_sampling_type\u001b[49m\n\u001b[32m    103\u001b[39m \u001b[43m\u001b[49m\u001b[43m)\u001b[49m\n\u001b[32m    105\u001b[39m output = \u001b[38;5;28mself\u001b[39m._fit_resample(X, y, **params)\n\u001b[32m    107\u001b[39m y_ = (\n\u001b[32m    108\u001b[39m     label_binarize(output[\u001b[32m1\u001b[39m], classes=np.unique(y)) \u001b[38;5;28;01mif\u001b[39;00m binarize_y \u001b[38;5;28;01melse\u001b[39;00m output[\u001b[32m1\u001b[39m]\n\u001b[32m    109\u001b[39m )\n",
      "\u001b[36mFile \u001b[39m\u001b[32mc:\\ML\\Lib\\site-packages\\imblearn\\utils\\_validation.py:557\u001b[39m, in \u001b[36mcheck_sampling_strategy\u001b[39m\u001b[34m(sampling_strategy, y, sampling_type, **kwargs)\u001b[39m\n\u001b[32m    552\u001b[39m     \u001b[38;5;28;01mreturn\u001b[39;00m OrderedDict(\n\u001b[32m    553\u001b[39m         \u001b[38;5;28msorted\u001b[39m(SAMPLING_TARGET_KIND[sampling_strategy](y, sampling_type).items())\n\u001b[32m    554\u001b[39m     )\n\u001b[32m    555\u001b[39m \u001b[38;5;28;01melif\u001b[39;00m \u001b[38;5;28misinstance\u001b[39m(sampling_strategy, \u001b[38;5;28mdict\u001b[39m):\n\u001b[32m    556\u001b[39m     \u001b[38;5;28;01mreturn\u001b[39;00m OrderedDict(\n\u001b[32m--> \u001b[39m\u001b[32m557\u001b[39m         \u001b[38;5;28msorted\u001b[39m(\u001b[43m_sampling_strategy_dict\u001b[49m\u001b[43m(\u001b[49m\u001b[43msampling_strategy\u001b[49m\u001b[43m,\u001b[49m\u001b[43m \u001b[49m\u001b[43my\u001b[49m\u001b[43m,\u001b[49m\u001b[43m \u001b[49m\u001b[43msampling_type\u001b[49m\u001b[43m)\u001b[49m.items())\n\u001b[32m    558\u001b[39m     )\n\u001b[32m    559\u001b[39m \u001b[38;5;28;01melif\u001b[39;00m \u001b[38;5;28misinstance\u001b[39m(sampling_strategy, \u001b[38;5;28mlist\u001b[39m):\n\u001b[32m    560\u001b[39m     \u001b[38;5;28;01mreturn\u001b[39;00m OrderedDict(\n\u001b[32m    561\u001b[39m         \u001b[38;5;28msorted\u001b[39m(_sampling_strategy_list(sampling_strategy, y, sampling_type).items())\n\u001b[32m    562\u001b[39m     )\n",
      "\u001b[36mFile \u001b[39m\u001b[32mc:\\ML\\Lib\\site-packages\\imblearn\\utils\\_validation.py:319\u001b[39m, in \u001b[36m_sampling_strategy_dict\u001b[39m\u001b[34m(sampling_strategy, y, sampling_type)\u001b[39m\n\u001b[32m    315\u001b[39m set_diff_sampling_strategy_target = \u001b[38;5;28mset\u001b[39m(sampling_strategy.keys()) - \u001b[38;5;28mset\u001b[39m(\n\u001b[32m    316\u001b[39m     target_stats.keys()\n\u001b[32m    317\u001b[39m )\n\u001b[32m    318\u001b[39m \u001b[38;5;28;01mif\u001b[39;00m \u001b[38;5;28mlen\u001b[39m(set_diff_sampling_strategy_target) > \u001b[32m0\u001b[39m:\n\u001b[32m--> \u001b[39m\u001b[32m319\u001b[39m     \u001b[38;5;28;01mraise\u001b[39;00m \u001b[38;5;167;01mValueError\u001b[39;00m(\n\u001b[32m    320\u001b[39m         \u001b[33mf\u001b[39m\u001b[33m\"\u001b[39m\u001b[33mThe \u001b[39m\u001b[38;5;132;01m{\u001b[39;00mset_diff_sampling_strategy_target\u001b[38;5;132;01m}\u001b[39;00m\u001b[33m target class is/are not \u001b[39m\u001b[33m\"\u001b[39m\n\u001b[32m    321\u001b[39m         \u001b[33m\"\u001b[39m\u001b[33mpresent in the data.\u001b[39m\u001b[33m\"\u001b[39m\n\u001b[32m    322\u001b[39m     )\n\u001b[32m    323\u001b[39m \u001b[38;5;66;03m# check that there is no negative number\u001b[39;00m\n\u001b[32m    324\u001b[39m \u001b[38;5;28;01mif\u001b[39;00m \u001b[38;5;28many\u001b[39m(n_samples < \u001b[32m0\u001b[39m \u001b[38;5;28;01mfor\u001b[39;00m n_samples \u001b[38;5;129;01min\u001b[39;00m sampling_strategy.values()):\n",
      "\u001b[31mValueError\u001b[39m: The {'Bots'} target class is/are not present in the data."
     ]
    }
   ],
   "source": [
    "X_train_resampled_ADASYN, y_train_resampled_ADASYN = ADASYN(sampling_strategy='auto', random_state=42, n_neighbors=5).fit_resample(X_train_resampled_rus, y_train_resampled_rus)\n",
    "\n",
    "X_train_resampled_scaled_RS_ADASYN, y_train_resampled_scaled_RS_ADASYN = ADASYN(sampling_strategy='auto', random_state=42, n_neighbors=5).fit_resample(X_train_scaled_rus_RS, y_train_scaled_rus_RS)\n",
    "\n",
    "X_train_resampled_scaled_MMS_ADASYN, y_train_resampled_scaled_MMS_ADASYN = ADASYN(sampling_strategy='auto', random_state=42, n_neighbors=5).fit_resample(X_train_scaled_rus_MMS, y_train_scaled_rus_MMS)\n",
    "\n",
    "\n",
    "X_train_resampled_SMOTE, y_train_resampled_SMOTE = SMOTE(sampling_strategy={'Bot': 150000, 'Brute Force': 100000, 'Infilteration': 110000, 'DDoS':780000, 'DoS': 200000}, random_state=42).fit_resample(X_train_resampled_rus, y_train_resampled_rus)\n",
    "\n",
    "X_train_resampled_scaled_RS_SMOTE, y_train_resampled_scaled_RS_SMOTE = SMOTE(sampling_strategy={'Bot': 150000, 'Brute Force': 100000, 'Infilteration': 110000, 'DDoS':780000, 'DoS': 200000}, random_state=42).fit_resample(X_train_scaled_rus_RS, y_train_scaled_rus_RS)\n",
    "\n",
    "X_train_resampled_scaled_MMS_SMOTE, y_train_resampled_scaled_MMS_SMOTE = SMOTE(sampling_strategy={'Bot': 150000, 'Brute Force': 100000, 'Infilteration': 110000, 'DDoS':780000, 'DoS': 200000}, random_state=42).fit_resample(X_train_scaled_rus_MMS, y_train_scaled_rus_MMS)\n",
    "\n",
    "\n",
    "X_train_resampled_BSMOTE, y_train_resampled_BSMOTE = BorderlineSMOTE(sampling_strategy={'Bot': 150000, 'Brute Force': 100000, 'Infilteration': 110000, 'DDoS': 780000, 'DoS': 200000}, random_state=42, k_neighbors=5, m_neighbors=10, kind='borderline-1').fit_resample(X_train_resampled_rus, y_train_resampled_rus)\n",
    "\n",
    "X_train_resampled_scaled_RS_BSMOTE, y_train_resampled_scaled_RS_BSMOTE = BorderlineSMOTE(sampling_strategy={'Bot': 150000, 'Brute Force': 100000, 'Infilteration': 110000, 'DDoS': 780000, 'DoS': 200000}, random_state=42, k_neighbors=5, m_neighbors=10, kind='borderline-1').fit_resample(X_train_scaled_rus_RS, y_train_scaled_rus_RS)\n",
    "\n",
    "X_train_resampled_scaled_MMS_BSMOTE, y_train_resampled_scaled_MMS_BSMOTE = BorderlineSMOTE(sampling_strategy={'Bot': 150000, 'Brute Force': 100000, 'Infilteration': 110000, 'DDoS': 780000, 'DoS': 200000}, random_state=42, k_neighbors=5, m_neighbors=10, kind='borderline-1').fit_resample(X_train_scaled_rus_MMS, y_train_scaled_rus_MMS)"
   ]
  },
  {
   "cell_type": "code",
   "execution_count": null,
   "id": "bcf02a16",
   "metadata": {},
   "outputs": [],
   "source": [
    "y_train_resampled_rus.value_counts()"
   ]
  },
  {
   "cell_type": "code",
   "execution_count": null,
   "id": "80f7f5b0",
   "metadata": {},
   "outputs": [],
   "source": [
    "y_train_resampled_ADASYN.value_counts()"
   ]
  },
  {
   "cell_type": "code",
   "execution_count": null,
   "id": "d6d6c686",
   "metadata": {},
   "outputs": [],
   "source": [
    "y_train_resampled_SMOTE.value_counts()"
   ]
  },
  {
   "cell_type": "code",
   "execution_count": null,
   "id": "3b6eb78f",
   "metadata": {},
   "outputs": [],
   "source": [
    "y_train_resampled_scaled.value_counts()"
   ]
  },
  {
   "cell_type": "markdown",
   "id": "da73abf9",
   "metadata": {},
   "source": [
    "## Eval RF"
   ]
  },
  {
   "cell_type": "code",
   "execution_count": null,
   "id": "f4a9cab0",
   "metadata": {},
   "outputs": [],
   "source": [
    "eval_dataset_w_RF(X_train_resampled_ADASYN, X_test, y_train_resampled_ADASYN, y_test)"
   ]
  },
  {
   "cell_type": "code",
   "execution_count": null,
   "id": "075eb08c",
   "metadata": {},
   "outputs": [],
   "source": [
    "eval_dataset_w_RF(X_train_resampled_scaled_RS_ADASYN, X_test_RS_scaled, y_train_resampled_scaled_RS_ADASYN, y_test)"
   ]
  },
  {
   "cell_type": "code",
   "execution_count": null,
   "id": "de4dcfc6",
   "metadata": {},
   "outputs": [],
   "source": [
    "eval_dataset_w_RF(X_train_resampled_scaled_MMS_ADASYN, X_test_MMS_scaled, y_train_resampled_scaled_MMS_ADASYN, y_test)"
   ]
  },
  {
   "cell_type": "code",
   "execution_count": null,
   "id": "e3f7c3bf",
   "metadata": {},
   "outputs": [],
   "source": [
    "eval_dataset_w_RF(X_train_resampled_SMOTE, X_test, y_train_resampled_SMOTE, y_test)"
   ]
  },
  {
   "cell_type": "code",
   "execution_count": null,
   "id": "c34d5496",
   "metadata": {},
   "outputs": [],
   "source": [
    "eval_dataset_w_RF(X_train_resampled_scaled_RS_SMOTE, X_test_RS_scaled, y_train_resampled_scaled_RS_SMOTE, y_test)"
   ]
  },
  {
   "cell_type": "code",
   "execution_count": null,
   "id": "f0cbd5e2",
   "metadata": {},
   "outputs": [],
   "source": [
    "eval_dataset_w_RF(X_train_resampled_scaled_MMS_SMOTE, X_test_MMS_scaled, y_train_resampled_scaled_MMS_SMOTE, y_test)"
   ]
  },
  {
   "cell_type": "code",
   "execution_count": null,
   "id": "0f12ff97",
   "metadata": {},
   "outputs": [],
   "source": [
    "eval_dataset_w_RF(X_train_resampled_BSMOTE, X_test, y_train_resampled_BSMOTE, y_test)"
   ]
  },
  {
   "cell_type": "code",
   "execution_count": null,
   "id": "2b85c54d",
   "metadata": {},
   "outputs": [],
   "source": [
    "eval_dataset_w_RF(X_train_resampled_scaled_RS_BSMOTE, X_test_RS_scaled, y_train_resampled_scaled_RS_BSMOTE, y_test)"
   ]
  },
  {
   "cell_type": "code",
   "execution_count": null,
   "id": "f91c4ecc",
   "metadata": {},
   "outputs": [],
   "source": [
    "eval_dataset_w_RF(X_train_resampled_scaled_MMS_BSMOTE, X_test_MMS_scaled, y_train_resampled_scaled_MMS_BSMOTE, y_test)"
   ]
  },
  {
   "cell_type": "markdown",
   "id": "6fb67bbb",
   "metadata": {},
   "source": [
    "## Eval KNN"
   ]
  },
  {
   "cell_type": "code",
   "execution_count": null,
   "id": "779f7e9a",
   "metadata": {},
   "outputs": [],
   "source": [
    "eval_dataset_w_KNN(X_train_resampled_ADASYN, X_test, y_train_resampled_ADASYN, y_test)"
   ]
  },
  {
   "cell_type": "code",
   "execution_count": null,
   "id": "d5b6e423",
   "metadata": {},
   "outputs": [],
   "source": [
    "eval_dataset_w_KNN(X_train_resampled_scaled_RS_ADASYN, X_test_RS_scaled, y_train_resampled_scaled_RS_ADASYN, y_test)"
   ]
  },
  {
   "cell_type": "code",
   "execution_count": null,
   "id": "8313e70c",
   "metadata": {},
   "outputs": [],
   "source": [
    "eval_dataset_w_KNN(X_train_resampled_scaled_MMS_ADASYN, X_test_MMS_scaled, y_train_resampled_scaled_MMS_ADASYN, y_test)"
   ]
  },
  {
   "cell_type": "code",
   "execution_count": null,
   "id": "29cca66a",
   "metadata": {},
   "outputs": [],
   "source": [
    "eval_dataset_w_KNN(X_train_resampled_SMOTE, X_test, y_train_resampled_SMOTE, y_test)"
   ]
  },
  {
   "cell_type": "code",
   "execution_count": null,
   "id": "0964b52f",
   "metadata": {},
   "outputs": [],
   "source": [
    "eval_dataset_w_KNN(X_train_resampled_scaled_RS_SMOTE, X_test_RS_scaled, y_train_resampled_scaled_RS_SMOTE, y_test)"
   ]
  },
  {
   "cell_type": "code",
   "execution_count": null,
   "id": "adf7b44b",
   "metadata": {},
   "outputs": [],
   "source": [
    "eval_dataset_w_KNN(X_train_resampled_scaled_MMS_SMOTE, X_test_MMS_scaled, y_train_resampled_scaled_MMS_SMOTE, y_test)"
   ]
  },
  {
   "cell_type": "code",
   "execution_count": null,
   "id": "f3ceacc8",
   "metadata": {},
   "outputs": [],
   "source": [
    "eval_dataset_w_KNN(X_train_resampled_BSMOTE, X_test, y_train_resampled_BSMOTE, y_test)"
   ]
  },
  {
   "cell_type": "code",
   "execution_count": null,
   "id": "765eeb4b",
   "metadata": {},
   "outputs": [],
   "source": [
    "eval_dataset_w_KNN(X_train_resampled_scaled_RS_BSMOTE, X_test_RS_scaled, y_train_resampled_scaled_RS_BSMOTE, y_test)"
   ]
  },
  {
   "cell_type": "code",
   "execution_count": null,
   "id": "aee05e0d",
   "metadata": {},
   "outputs": [],
   "source": [
    "eval_dataset_w_KNN(X_train_resampled_scaled_MMS_BSMOTE, X_test_MMS_scaled, y_train_resampled_scaled_MMS_BSMOTE, y_test)"
   ]
  }
 ],
 "metadata": {
  "kernelspec": {
   "display_name": "ML",
   "language": "python",
   "name": "python3"
  },
  "language_info": {
   "codemirror_mode": {
    "name": "ipython",
    "version": 3
   },
   "file_extension": ".py",
   "mimetype": "text/x-python",
   "name": "python",
   "nbconvert_exporter": "python",
   "pygments_lexer": "ipython3",
   "version": "3.12.0"
  }
 },
 "nbformat": 4,
 "nbformat_minor": 5
}
