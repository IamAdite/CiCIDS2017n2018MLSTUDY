{
 "cells": [
  {
   "cell_type": "markdown",
   "id": "4f86f9b4",
   "metadata": {},
   "source": [
    "# Imports and benchmark functions"
   ]
  },
  {
   "cell_type": "code",
   "execution_count": 2,
   "id": "6e45e3a1",
   "metadata": {},
   "outputs": [],
   "source": [
    "import pandas as pd\n",
    "import numpy as np\n",
    "from sklearn import preprocessing\n",
    "import matplotlib.pyplot as plt\n",
    "%matplotlib inline\n",
    "\n",
    "from sklearn.ensemble import RandomForestClassifier\n",
    "from sklearn.model_selection import train_test_split, cross_val_score, learning_curve, StratifiedKFold\n",
    "from sklearn.metrics import confusion_matrix, classification_report, accuracy_score, precision_score, recall_score, f1_score\n",
    "from sklearn.neighbors import KNeighborsClassifier\n",
    "\n",
    "import time\n",
    "import psutil\n",
    "import threading\n",
    "from memory_profiler import memory_usage"
   ]
  },
  {
   "cell_type": "code",
   "execution_count": 3,
   "id": "f74d9cbe",
   "metadata": {},
   "outputs": [],
   "source": [
    "def apply_rf(X_train, y_train, best_params=None, random_state=42, n_jobs=-1, cv=5): \n",
    "    measurement_rf = {}\n",
    "        \n",
    "    # Default to empty dictionary if best_params is not provided\n",
    "    best_params = best_params or {}\n",
    "\n",
    "    rf_model = RandomForestClassifier(**best_params, random_state=random_state, n_jobs=n_jobs, verbose=1)\n",
    "    \n",
    "    # Function to monitor CPU usage during training\n",
    "    cpu_usage = []\n",
    "    stop_flag = threading.Event()\n",
    "\n",
    "    def monitor_cpu():\n",
    "        while not stop_flag.is_set():\n",
    "            cpu_usage.append(psutil.cpu_percent(interval=0.1))\n",
    "\n",
    "    # Function to train the model\n",
    "    def train_model():\n",
    "        rf_model.fit(X_train, y_train)\n",
    "\n",
    "    try:\n",
    "        # Start CPU monitoring in a separate thread\n",
    "        cpu_thread = threading.Thread(target=monitor_cpu)\n",
    "        cpu_thread.start()\n",
    "\n",
    "        # Measure memory usage and training time\n",
    "        start_time = time.time()\n",
    "        train_model()\n",
    "        training_time = time.time() - start_time\n",
    "\n",
    "        # Stop CPU monitoring\n",
    "        stop_flag.set()\n",
    "        cpu_thread.join()\n",
    "\n",
    "        # Add measurements\n",
    "        measurement_rf['Training Time (s)'] = training_time\n",
    "        measurement_rf['Peak CPU Usage (%)'] = max(cpu_usage)\n",
    "        measurement_rf['Average CPU Usage (%)'] = sum(cpu_usage) / len(cpu_usage) if cpu_usage else 0\n",
    "\n",
    "        # Perform cross-validation\n",
    "        cv_scores_rf = cross_val_score(rf_model, X_train, y_train, cv=cv, n_jobs=n_jobs)\n",
    "\n",
    "        return cv_scores_rf, measurement_rf, rf_model\n",
    "\n",
    "    except Exception as e:\n",
    "        import traceback\n",
    "        print(\"⛔ Full error traceback:\")\n",
    "        traceback.print_exc()  # Print detailed error traceback\n",
    "        print(f\"Error during Random Forest training: {e}\")\n",
    "        return None, None, None"
   ]
  },
  {
   "cell_type": "code",
   "execution_count": 4,
   "id": "28a64cfe",
   "metadata": {},
   "outputs": [],
   "source": [
    "def eval_dataset_w_RF(X_train, X_test, y_train, y_test):\n",
    "    params_rf = {'n_estimators': 150, 'min_samples_split': 5, 'min_samples_leaf': 2, 'max_features': 'sqrt', 'max_depth': 8}\n",
    "\n",
    "    # Fitting the model\n",
    "    cv_scores_rf, measurement_rf, rf_model = apply_rf(X_train, y_train, best_params=params_rf)\n",
    "\n",
    "    # Making predictions\n",
    "    y_pred_rf = rf_model.predict(X_test)\n",
    "    \n",
    "    # Evaluating the model performance on the cross validation set vs accuracy on the test set\n",
    "    cv_scores_mean_rf = np.mean(cv_scores_rf)\n",
    "    print(f'Cross validation average score: {cv_scores_mean_rf:.4f} +/- standard deviation: {np.std(cv_scores_rf):.4f}')\n",
    "\n",
    "    accuracy_rf = accuracy_score(y_test, y_pred_rf)\n",
    "    print(f'Accuracy on the test set: {accuracy_rf:.4f}')\n",
    "    \n",
    "    # Checking computational cost\n",
    "    print(\"Resource measurements:\", measurement_rf)\n",
    "    print(classification_report(y_test, y_pred_rf))"
   ]
  },
  {
   "cell_type": "code",
   "execution_count": 5,
   "id": "34b82933",
   "metadata": {},
   "outputs": [],
   "source": [
    "def eval_dataset_w_KNN(X_train, X_test, y_train, y_test):\n",
    "    params_knn = {'n_neighbors': 3, 'weights': 'uniform', 'algorithm': 'kd_tree', 'leaf_size': 100, 'p': 1}\n",
    "    \n",
    "    # Fitting the model\n",
    "    cv_scores_knn, measurement_knn, knn_model = apply_knn(X_train, y_train, best_params=params_knn)\n",
    "    \n",
    "    # Making predictions\n",
    "    y_pred_knn = knn_model.predict(X_test)\n",
    "    \n",
    "    # Evaluating the model performance on the cross validation set vs accuracy on the test set\n",
    "    cv_scores_mean_knn = np.mean(cv_scores_knn)\n",
    "    print(f'Cross validation average score: {cv_scores_mean_knn:.4f} +/- standard deviation: {np.std(cv_scores_knn):.4f}')\n",
    "    \n",
    "    accuracy_knn = accuracy_score(y_test, y_pred_knn)\n",
    "    print(f'Accuracy on the test set: {accuracy_knn:.4f}')\n",
    "    \n",
    "    # Checking computational cost\n",
    "    print(\"Resource measurements:\", measurement_knn)\n",
    "    print(classification_report(y_test, y_pred_knn))"
   ]
  },
  {
   "cell_type": "code",
   "execution_count": 6,
   "id": "bb508bc9",
   "metadata": {},
   "outputs": [],
   "source": [
    "def apply_knn(X_train, y_train, best_params=None, random_state=42, n_jobs=-1, cv=5):\n",
    "    measurement_knn = {}\n",
    "    best_params = best_params or {}\n",
    "    \n",
    "    knn_model = KNeighborsClassifier(**best_params, n_jobs=n_jobs)\n",
    "    \n",
    "    cpu_usage = []\n",
    "    stop_flag = threading.Event()\n",
    "    \n",
    "    def monitor_cpu():\n",
    "        while not stop_flag.is_set():\n",
    "            cpu_usage.append(psutil.cpu_percent(interval=0.1))\n",
    "    \n",
    "    try:\n",
    "        cpu_thread = threading.Thread(target=monitor_cpu)\n",
    "        cpu_thread.start()\n",
    "        \n",
    "        # Track both training and CV time\n",
    "        total_start_time = time.time()\n",
    "        \n",
    "        # Train the model\n",
    "        knn_model.fit(X_train, y_train)\n",
    "        \n",
    "        # Perform cross-validation\n",
    "        cv_scores_knn = cross_val_score(knn_model, X_train, y_train, cv=cv, n_jobs=n_jobs)\n",
    "        \n",
    "        total_time = time.time() - total_start_time\n",
    "        \n",
    "        # Stop CPU monitoring\n",
    "        stop_flag.set()\n",
    "        cpu_thread.join()\n",
    "        \n",
    "        measurement_knn['Total Time (s)'] = total_time\n",
    "        measurement_knn['Peak CPU Usage (%)'] = max(cpu_usage)\n",
    "        measurement_knn['Average CPU Usage (%)'] = sum(cpu_usage) / len(cpu_usage) if cpu_usage else 0\n",
    "        \n",
    "        return cv_scores_knn, measurement_knn, knn_model\n",
    "        \n",
    "    except Exception as e:\n",
    "        import traceback\n",
    "        print(\"⛔ Full error traceback:\")\n",
    "        traceback.print_exc()\n",
    "        return None, None, None"
   ]
  },
  {
   "cell_type": "markdown",
   "id": "317cccbe",
   "metadata": {},
   "source": [
    "# Data balancing\n"
   ]
  },
  {
   "cell_type": "code",
   "execution_count": 7,
   "id": "e4b31da2",
   "metadata": {},
   "outputs": [],
   "source": [
    "# Reading data\n",
    "df = pd.read_csv(\"..\\..\\data prep\\cicids2018_prep\\cicids2018_final.csv\")"
   ]
  },
  {
   "cell_type": "code",
   "execution_count": 8,
   "id": "101d2cd6",
   "metadata": {},
   "outputs": [
    {
     "data": {
      "text/plain": [
       "array(['Normal Traffic', 'Bot', 'DoS', 'Brute Force', 'DDoS',\n",
       "       'Infilteration'], dtype=object)"
      ]
     },
     "execution_count": 8,
     "metadata": {},
     "output_type": "execute_result"
    }
   ],
   "source": [
    "df['Attack Type'].unique()"
   ]
  },
  {
   "cell_type": "code",
   "execution_count": 9,
   "id": "fe1ee2df",
   "metadata": {},
   "outputs": [],
   "source": [
    "from sklearn.preprocessing import RobustScaler, StandardScaler, MinMaxScaler"
   ]
  },
  {
   "cell_type": "code",
   "execution_count": 10,
   "id": "c51df8d2",
   "metadata": {},
   "outputs": [],
   "source": [
    "# Preparing training and test splits\n",
    "X = df.drop('Attack Type', axis=1)\n",
    "y = df['Attack Type']\n",
    "\n",
    "X_train, X_test, y_train, y_test = train_test_split(X, y, test_size=0.3, random_state=42, stratify=y)"
   ]
  },
  {
   "cell_type": "code",
   "execution_count": 11,
   "id": "776d7eb3",
   "metadata": {},
   "outputs": [],
   "source": [
    "# Initialize scaling algos\n",
    "RS = RobustScaler()\n",
    "X_train_RS_scaled = RS.fit_transform(X_train)\n",
    "X_test_RS_scaled = RS.transform(X_test)\n",
    "\n",
    "SS = StandardScaler()\n",
    "X_train_SS_scaled = SS.fit_transform(X_train)\n",
    "X_test_SS_scaled = SS.transform(X_test)\n",
    "\n",
    "MMS = MinMaxScaler()\n",
    "X_train_MMS_scaled = MMS.fit_transform(X_train)\n",
    "X_test_MMS_scaled = MMS.transform(X_test)"
   ]
  },
  {
   "cell_type": "code",
   "execution_count": 12,
   "id": "03f7e2e2",
   "metadata": {},
   "outputs": [
    {
     "name": "stdout",
     "output_type": "stream",
     "text": [
      "Attack Type\n",
      "Normal Traffic    8634196\n",
      "DDoS               775470\n",
      "DoS                196299\n",
      "Bot                143977\n",
      "Infilteration      107531\n",
      "Brute Force         94876\n",
      "Name: count, dtype: int64\n"
     ]
    }
   ],
   "source": [
    "print(df['Attack Type'].value_counts())"
   ]
  },
  {
   "cell_type": "markdown",
   "id": "a24942e7",
   "metadata": {},
   "source": [
    "## Evals"
   ]
  },
  {
   "cell_type": "code",
   "execution_count": 12,
   "id": "5b228c34",
   "metadata": {},
   "outputs": [
    {
     "name": "stderr",
     "output_type": "stream",
     "text": [
      "[Parallel(n_jobs=-1)]: Using backend ThreadingBackend with 16 concurrent workers.\n",
      "[Parallel(n_jobs=-1)]: Done  18 tasks      | elapsed:  1.5min\n",
      "[Parallel(n_jobs=-1)]: Done 150 out of 150 | elapsed:  6.8min finished\n",
      "[Parallel(n_jobs=16)]: Using backend ThreadingBackend with 16 concurrent workers.\n",
      "[Parallel(n_jobs=16)]: Done  18 tasks      | elapsed:    0.9s\n",
      "[Parallel(n_jobs=16)]: Done 150 out of 150 | elapsed:    6.5s finished\n"
     ]
    },
    {
     "name": "stdout",
     "output_type": "stream",
     "text": [
      "Cross validation average score: 0.9817 +/- standard deviation: 0.0011\n",
      "Accuracy on the test set: 0.9816\n",
      "Resource measurements: {'Training Time (s)': 415.8986060619354, 'Peak CPU Usage (%)': 100.0, 'Average CPU Usage (%)': 93.0798055678303}\n"
     ]
    },
    {
     "name": "stderr",
     "output_type": "stream",
     "text": [
      "f:\\!STUDY\\1TMO\\4 Сем\\ДИПЛОМ\\CODE\\NN-env\\Lib\\site-packages\\sklearn\\metrics\\_classification.py:1471: UndefinedMetricWarning: Precision and F-score are ill-defined and being set to 0.0 in labels with no predicted samples. Use `zero_division` parameter to control this behavior.\n",
      "  _warn_prf(average, modifier, msg_start, len(result))\n",
      "f:\\!STUDY\\1TMO\\4 Сем\\ДИПЛОМ\\CODE\\NN-env\\Lib\\site-packages\\sklearn\\metrics\\_classification.py:1471: UndefinedMetricWarning: Precision and F-score are ill-defined and being set to 0.0 in labels with no predicted samples. Use `zero_division` parameter to control this behavior.\n",
      "  _warn_prf(average, modifier, msg_start, len(result))\n"
     ]
    },
    {
     "name": "stdout",
     "output_type": "stream",
     "text": [
      "                precision    recall  f1-score   support\n",
      "\n",
      "           Bot       1.00      0.99      0.99     43193\n",
      "   Brute Force       1.00      0.99      1.00     28463\n",
      "          DDoS       0.99      0.92      0.95    232641\n",
      "           DoS       0.99      0.98      0.98     58890\n",
      " Infilteration       0.00      0.00      0.00     32259\n",
      "Normal Traffic       0.98      1.00      0.99   2590259\n",
      "\n",
      "      accuracy                           0.98   2985705\n",
      "     macro avg       0.83      0.81      0.82   2985705\n",
      "  weighted avg       0.97      0.98      0.98   2985705\n",
      "\n"
     ]
    },
    {
     "name": "stderr",
     "output_type": "stream",
     "text": [
      "f:\\!STUDY\\1TMO\\4 Сем\\ДИПЛОМ\\CODE\\NN-env\\Lib\\site-packages\\sklearn\\metrics\\_classification.py:1471: UndefinedMetricWarning: Precision and F-score are ill-defined and being set to 0.0 in labels with no predicted samples. Use `zero_division` parameter to control this behavior.\n",
      "  _warn_prf(average, modifier, msg_start, len(result))\n"
     ]
    }
   ],
   "source": [
    "eval_dataset_w_RF(X_train, X_test, y_train, y_test)"
   ]
  },
  {
   "cell_type": "code",
   "execution_count": 14,
   "id": "9685825e",
   "metadata": {},
   "outputs": [
    {
     "name": "stderr",
     "output_type": "stream",
     "text": [
      "[Parallel(n_jobs=-1)]: Using backend ThreadingBackend with 16 concurrent workers.\n",
      "[Parallel(n_jobs=-1)]: Done  18 tasks      | elapsed:  1.3min\n",
      "[Parallel(n_jobs=-1)]: Done 150 out of 150 | elapsed:  6.2min finished\n",
      "[Parallel(n_jobs=16)]: Using backend ThreadingBackend with 16 concurrent workers.\n",
      "[Parallel(n_jobs=16)]: Done  18 tasks      | elapsed:    0.9s\n",
      "[Parallel(n_jobs=16)]: Done 150 out of 150 | elapsed:    6.6s finished\n"
     ]
    },
    {
     "name": "stdout",
     "output_type": "stream",
     "text": [
      "Cross validation average score: 0.9817 +/- standard deviation: 0.0002\n",
      "Accuracy on the test set: 0.9833\n",
      "Resource measurements: {'Training Time (s)': 381.7312135696411, 'Peak CPU Usage (%)': 100.0, 'Average CPU Usage (%)': 93.26440922190194}\n"
     ]
    },
    {
     "name": "stderr",
     "output_type": "stream",
     "text": [
      "f:\\!STUDY\\1TMO\\4 Сем\\ДИПЛОМ\\CODE\\NN-env\\Lib\\site-packages\\sklearn\\metrics\\_classification.py:1471: UndefinedMetricWarning: Precision and F-score are ill-defined and being set to 0.0 in labels with no predicted samples. Use `zero_division` parameter to control this behavior.\n",
      "  _warn_prf(average, modifier, msg_start, len(result))\n",
      "f:\\!STUDY\\1TMO\\4 Сем\\ДИПЛОМ\\CODE\\NN-env\\Lib\\site-packages\\sklearn\\metrics\\_classification.py:1471: UndefinedMetricWarning: Precision and F-score are ill-defined and being set to 0.0 in labels with no predicted samples. Use `zero_division` parameter to control this behavior.\n",
      "  _warn_prf(average, modifier, msg_start, len(result))\n"
     ]
    },
    {
     "name": "stdout",
     "output_type": "stream",
     "text": [
      "                precision    recall  f1-score   support\n",
      "\n",
      "           Bot       1.00      0.99      0.99     43193\n",
      "   Brute Force       1.00      0.99      1.00     28463\n",
      "          DDoS       0.98      0.96      0.97    232641\n",
      "           DoS       0.99      0.98      0.99     58890\n",
      " Infilteration       0.00      0.00      0.00     32259\n",
      "Normal Traffic       0.98      1.00      0.99   2590259\n",
      "\n",
      "      accuracy                           0.98   2985705\n",
      "     macro avg       0.83      0.82      0.82   2985705\n",
      "  weighted avg       0.97      0.98      0.98   2985705\n",
      "\n"
     ]
    },
    {
     "name": "stderr",
     "output_type": "stream",
     "text": [
      "f:\\!STUDY\\1TMO\\4 Сем\\ДИПЛОМ\\CODE\\NN-env\\Lib\\site-packages\\sklearn\\metrics\\_classification.py:1471: UndefinedMetricWarning: Precision and F-score are ill-defined and being set to 0.0 in labels with no predicted samples. Use `zero_division` parameter to control this behavior.\n",
      "  _warn_prf(average, modifier, msg_start, len(result))\n"
     ]
    }
   ],
   "source": [
    "eval_dataset_w_RF(X_train_RS_scaled, X_test_RS_scaled, y_train, y_test)"
   ]
  },
  {
   "cell_type": "code",
   "execution_count": 15,
   "id": "dbedd539",
   "metadata": {},
   "outputs": [
    {
     "ename": "KeyboardInterrupt",
     "evalue": "",
     "output_type": "error",
     "traceback": [
      "\u001b[31m---------------------------------------------------------------------------\u001b[39m",
      "\u001b[31mKeyboardInterrupt\u001b[39m                         Traceback (most recent call last)",
      "\u001b[36mCell\u001b[39m\u001b[36m \u001b[39m\u001b[32mIn[15]\u001b[39m\u001b[32m, line 1\u001b[39m\n\u001b[32m----> \u001b[39m\u001b[32m1\u001b[39m \u001b[43meval_dataset_w_RF\u001b[49m\u001b[43m(\u001b[49m\u001b[43mX_train_SS_scaled\u001b[49m\u001b[43m,\u001b[49m\u001b[43m \u001b[49m\u001b[43mX_test_SS_scaled\u001b[49m\u001b[43m,\u001b[49m\u001b[43m \u001b[49m\u001b[43my_train\u001b[49m\u001b[43m,\u001b[49m\u001b[43m \u001b[49m\u001b[43my_test\u001b[49m\u001b[43m)\u001b[49m\n",
      "\u001b[36mCell\u001b[39m\u001b[36m \u001b[39m\u001b[32mIn[3]\u001b[39m\u001b[32m, line 5\u001b[39m, in \u001b[36meval_dataset_w_RF\u001b[39m\u001b[34m(X_train, X_test, y_train, y_test)\u001b[39m\n\u001b[32m      2\u001b[39m params_rf = {\u001b[33m'\u001b[39m\u001b[33mn_estimators\u001b[39m\u001b[33m'\u001b[39m: \u001b[32m150\u001b[39m, \u001b[33m'\u001b[39m\u001b[33mmin_samples_split\u001b[39m\u001b[33m'\u001b[39m: \u001b[32m5\u001b[39m, \u001b[33m'\u001b[39m\u001b[33mmin_samples_leaf\u001b[39m\u001b[33m'\u001b[39m: \u001b[32m2\u001b[39m, \u001b[33m'\u001b[39m\u001b[33mmax_features\u001b[39m\u001b[33m'\u001b[39m: \u001b[33m'\u001b[39m\u001b[33msqrt\u001b[39m\u001b[33m'\u001b[39m, \u001b[33m'\u001b[39m\u001b[33mmax_depth\u001b[39m\u001b[33m'\u001b[39m: \u001b[32m8\u001b[39m}\n\u001b[32m      4\u001b[39m \u001b[38;5;66;03m# Fitting the model\u001b[39;00m\n\u001b[32m----> \u001b[39m\u001b[32m5\u001b[39m cv_scores_rf, measurement_rf, rf_model = \u001b[43mapply_rf\u001b[49m\u001b[43m(\u001b[49m\u001b[43mX_train\u001b[49m\u001b[43m,\u001b[49m\u001b[43m \u001b[49m\u001b[43my_train\u001b[49m\u001b[43m,\u001b[49m\u001b[43m \u001b[49m\u001b[43mbest_params\u001b[49m\u001b[43m=\u001b[49m\u001b[43mparams_rf\u001b[49m\u001b[43m)\u001b[49m\n\u001b[32m      7\u001b[39m \u001b[38;5;66;03m# Making predictions\u001b[39;00m\n\u001b[32m      8\u001b[39m y_pred_rf = rf_model.predict(X_test)\n",
      "\u001b[36mCell\u001b[39m\u001b[36m \u001b[39m\u001b[32mIn[2]\u001b[39m\u001b[32m, line 28\u001b[39m, in \u001b[36mapply_rf\u001b[39m\u001b[34m(X_train, y_train, best_params, random_state, n_jobs, cv)\u001b[39m\n\u001b[32m     26\u001b[39m \u001b[38;5;66;03m# Measure memory usage and training time\u001b[39;00m\n\u001b[32m     27\u001b[39m start_time = time.time()\n\u001b[32m---> \u001b[39m\u001b[32m28\u001b[39m \u001b[43mtrain_model\u001b[49m\u001b[43m(\u001b[49m\u001b[43m)\u001b[49m\n\u001b[32m     29\u001b[39m training_time = time.time() - start_time\n\u001b[32m     31\u001b[39m \u001b[38;5;66;03m# Stop CPU monitoring\u001b[39;00m\n",
      "\u001b[36mCell\u001b[39m\u001b[36m \u001b[39m\u001b[32mIn[2]\u001b[39m\u001b[32m, line 19\u001b[39m, in \u001b[36mapply_rf.<locals>.train_model\u001b[39m\u001b[34m()\u001b[39m\n\u001b[32m     18\u001b[39m \u001b[38;5;28;01mdef\u001b[39;00m\u001b[38;5;250m \u001b[39m\u001b[34mtrain_model\u001b[39m():\n\u001b[32m---> \u001b[39m\u001b[32m19\u001b[39m     \u001b[43mrf_model\u001b[49m\u001b[43m.\u001b[49m\u001b[43mfit\u001b[49m\u001b[43m(\u001b[49m\u001b[43mX_train\u001b[49m\u001b[43m,\u001b[49m\u001b[43m \u001b[49m\u001b[43my_train\u001b[49m\u001b[43m)\u001b[49m\n",
      "\u001b[36mFile \u001b[39m\u001b[32mf:\\!STUDY\\1TMO\\4 Сем\\ДИПЛОМ\\CODE\\NN-env\\Lib\\site-packages\\sklearn\\base.py:1152\u001b[39m, in \u001b[36m_fit_context.<locals>.decorator.<locals>.wrapper\u001b[39m\u001b[34m(estimator, *args, **kwargs)\u001b[39m\n\u001b[32m   1145\u001b[39m     estimator._validate_params()\n\u001b[32m   1147\u001b[39m \u001b[38;5;28;01mwith\u001b[39;00m config_context(\n\u001b[32m   1148\u001b[39m     skip_parameter_validation=(\n\u001b[32m   1149\u001b[39m         prefer_skip_nested_validation \u001b[38;5;129;01mor\u001b[39;00m global_skip_validation\n\u001b[32m   1150\u001b[39m     )\n\u001b[32m   1151\u001b[39m ):\n\u001b[32m-> \u001b[39m\u001b[32m1152\u001b[39m     \u001b[38;5;28;01mreturn\u001b[39;00m \u001b[43mfit_method\u001b[49m\u001b[43m(\u001b[49m\u001b[43mestimator\u001b[49m\u001b[43m,\u001b[49m\u001b[43m \u001b[49m\u001b[43m*\u001b[49m\u001b[43margs\u001b[49m\u001b[43m,\u001b[49m\u001b[43m \u001b[49m\u001b[43m*\u001b[49m\u001b[43m*\u001b[49m\u001b[43mkwargs\u001b[49m\u001b[43m)\u001b[49m\n",
      "\u001b[36mFile \u001b[39m\u001b[32mf:\\!STUDY\\1TMO\\4 Сем\\ДИПЛОМ\\CODE\\NN-env\\Lib\\site-packages\\sklearn\\ensemble\\_forest.py:390\u001b[39m, in \u001b[36mBaseForest.fit\u001b[39m\u001b[34m(self, X, y, sample_weight)\u001b[39m\n\u001b[32m    383\u001b[39m         \u001b[38;5;28;01mraise\u001b[39;00m \u001b[38;5;167;01mValueError\u001b[39;00m(\n\u001b[32m    384\u001b[39m             \u001b[33m\"\u001b[39m\u001b[33mSum of y is not strictly positive which \u001b[39m\u001b[33m\"\u001b[39m\n\u001b[32m    385\u001b[39m             \u001b[33m\"\u001b[39m\u001b[33mis necessary for Poisson regression.\u001b[39m\u001b[33m\"\u001b[39m\n\u001b[32m    386\u001b[39m         )\n\u001b[32m    388\u001b[39m \u001b[38;5;28mself\u001b[39m.n_outputs_ = y.shape[\u001b[32m1\u001b[39m]\n\u001b[32m--> \u001b[39m\u001b[32m390\u001b[39m y, expanded_class_weight = \u001b[38;5;28;43mself\u001b[39;49m\u001b[43m.\u001b[49m\u001b[43m_validate_y_class_weight\u001b[49m\u001b[43m(\u001b[49m\u001b[43my\u001b[49m\u001b[43m)\u001b[49m\n\u001b[32m    392\u001b[39m \u001b[38;5;28;01mif\u001b[39;00m \u001b[38;5;28mgetattr\u001b[39m(y, \u001b[33m\"\u001b[39m\u001b[33mdtype\u001b[39m\u001b[33m\"\u001b[39m, \u001b[38;5;28;01mNone\u001b[39;00m) != DOUBLE \u001b[38;5;129;01mor\u001b[39;00m \u001b[38;5;129;01mnot\u001b[39;00m y.flags.contiguous:\n\u001b[32m    393\u001b[39m     y = np.ascontiguousarray(y, dtype=DOUBLE)\n",
      "\u001b[36mFile \u001b[39m\u001b[32mf:\\!STUDY\\1TMO\\4 Сем\\ДИПЛОМ\\CODE\\NN-env\\Lib\\site-packages\\sklearn\\ensemble\\_forest.py:749\u001b[39m, in \u001b[36mForestClassifier._validate_y_class_weight\u001b[39m\u001b[34m(self, y)\u001b[39m\n\u001b[32m    748\u001b[39m \u001b[38;5;28;01mdef\u001b[39;00m\u001b[38;5;250m \u001b[39m\u001b[34m_validate_y_class_weight\u001b[39m(\u001b[38;5;28mself\u001b[39m, y):\n\u001b[32m--> \u001b[39m\u001b[32m749\u001b[39m     \u001b[43mcheck_classification_targets\u001b[49m\u001b[43m(\u001b[49m\u001b[43my\u001b[49m\u001b[43m)\u001b[49m\n\u001b[32m    751\u001b[39m     y = np.copy(y)\n\u001b[32m    752\u001b[39m     expanded_class_weight = \u001b[38;5;28;01mNone\u001b[39;00m\n",
      "\u001b[36mFile \u001b[39m\u001b[32mf:\\!STUDY\\1TMO\\4 Сем\\ДИПЛОМ\\CODE\\NN-env\\Lib\\site-packages\\sklearn\\utils\\multiclass.py:208\u001b[39m, in \u001b[36mcheck_classification_targets\u001b[39m\u001b[34m(y)\u001b[39m\n\u001b[32m    196\u001b[39m \u001b[38;5;28;01mdef\u001b[39;00m\u001b[38;5;250m \u001b[39m\u001b[34mcheck_classification_targets\u001b[39m(y):\n\u001b[32m    197\u001b[39m \u001b[38;5;250m    \u001b[39m\u001b[33;03m\"\"\"Ensure that target y is of a non-regression type.\u001b[39;00m\n\u001b[32m    198\u001b[39m \n\u001b[32m    199\u001b[39m \u001b[33;03m    Only the following target types (as defined in type_of_target) are allowed:\u001b[39;00m\n\u001b[32m   (...)\u001b[39m\u001b[32m    206\u001b[39m \u001b[33;03m        Target values.\u001b[39;00m\n\u001b[32m    207\u001b[39m \u001b[33;03m    \"\"\"\u001b[39;00m\n\u001b[32m--> \u001b[39m\u001b[32m208\u001b[39m     y_type = \u001b[43mtype_of_target\u001b[49m\u001b[43m(\u001b[49m\u001b[43my\u001b[49m\u001b[43m,\u001b[49m\u001b[43m \u001b[49m\u001b[43minput_name\u001b[49m\u001b[43m=\u001b[49m\u001b[33;43m\"\u001b[39;49m\u001b[33;43my\u001b[39;49m\u001b[33;43m\"\u001b[39;49m\u001b[43m)\u001b[49m\n\u001b[32m    209\u001b[39m     \u001b[38;5;28;01mif\u001b[39;00m y_type \u001b[38;5;129;01mnot\u001b[39;00m \u001b[38;5;129;01min\u001b[39;00m [\n\u001b[32m    210\u001b[39m         \u001b[33m\"\u001b[39m\u001b[33mbinary\u001b[39m\u001b[33m\"\u001b[39m,\n\u001b[32m    211\u001b[39m         \u001b[33m\"\u001b[39m\u001b[33mmulticlass\u001b[39m\u001b[33m\"\u001b[39m,\n\u001b[32m   (...)\u001b[39m\u001b[32m    214\u001b[39m         \u001b[33m\"\u001b[39m\u001b[33mmultilabel-sequences\u001b[39m\u001b[33m\"\u001b[39m,\n\u001b[32m    215\u001b[39m     ]:\n\u001b[32m    216\u001b[39m         \u001b[38;5;28;01mraise\u001b[39;00m \u001b[38;5;167;01mValueError\u001b[39;00m(\n\u001b[32m    217\u001b[39m             \u001b[33mf\u001b[39m\u001b[33m\"\u001b[39m\u001b[33mUnknown label type: \u001b[39m\u001b[38;5;132;01m{\u001b[39;00my_type\u001b[38;5;132;01m}\u001b[39;00m\u001b[33m. Maybe you are trying to fit a \u001b[39m\u001b[33m\"\u001b[39m\n\u001b[32m    218\u001b[39m             \u001b[33m\"\u001b[39m\u001b[33mclassifier, which expects discrete classes on a \u001b[39m\u001b[33m\"\u001b[39m\n\u001b[32m    219\u001b[39m             \u001b[33m\"\u001b[39m\u001b[33mregression target with continuous values.\u001b[39m\u001b[33m\"\u001b[39m\n\u001b[32m    220\u001b[39m         )\n",
      "\u001b[36mFile \u001b[39m\u001b[32mf:\\!STUDY\\1TMO\\4 Сем\\ДИПЛОМ\\CODE\\NN-env\\Lib\\site-packages\\sklearn\\utils\\multiclass.py:388\u001b[39m, in \u001b[36mtype_of_target\u001b[39m\u001b[34m(y, input_name)\u001b[39m\n\u001b[32m    386\u001b[39m \u001b[38;5;66;03m# Check multiclass\u001b[39;00m\n\u001b[32m    387\u001b[39m first_row = y[\u001b[32m0\u001b[39m] \u001b[38;5;28;01mif\u001b[39;00m \u001b[38;5;129;01mnot\u001b[39;00m issparse(y) \u001b[38;5;28;01melse\u001b[39;00m y.getrow(\u001b[32m0\u001b[39m).data\n\u001b[32m--> \u001b[39m\u001b[32m388\u001b[39m \u001b[38;5;28;01mif\u001b[39;00m \u001b[43mxp\u001b[49m\u001b[43m.\u001b[49m\u001b[43munique_values\u001b[49m\u001b[43m(\u001b[49m\u001b[43my\u001b[49m\u001b[43m)\u001b[49m.shape[\u001b[32m0\u001b[39m] > \u001b[32m2\u001b[39m \u001b[38;5;129;01mor\u001b[39;00m (y.ndim == \u001b[32m2\u001b[39m \u001b[38;5;129;01mand\u001b[39;00m \u001b[38;5;28mlen\u001b[39m(first_row) > \u001b[32m1\u001b[39m):\n\u001b[32m    389\u001b[39m     \u001b[38;5;66;03m# [1, 2, 3] or [[1., 2., 3]] or [[1, 2]]\u001b[39;00m\n\u001b[32m    390\u001b[39m     \u001b[38;5;28;01mreturn\u001b[39;00m \u001b[33m\"\u001b[39m\u001b[33mmulticlass\u001b[39m\u001b[33m\"\u001b[39m + suffix\n\u001b[32m    391\u001b[39m \u001b[38;5;28;01melse\u001b[39;00m:\n",
      "\u001b[36mFile \u001b[39m\u001b[32mf:\\!STUDY\\1TMO\\4 Сем\\ДИПЛОМ\\CODE\\NN-env\\Lib\\site-packages\\sklearn\\utils\\_array_api.py:262\u001b[39m, in \u001b[36m_NumPyAPIWrapper.unique_values\u001b[39m\u001b[34m(self, x)\u001b[39m\n\u001b[32m    261\u001b[39m \u001b[38;5;28;01mdef\u001b[39;00m\u001b[38;5;250m \u001b[39m\u001b[34munique_values\u001b[39m(\u001b[38;5;28mself\u001b[39m, x):\n\u001b[32m--> \u001b[39m\u001b[32m262\u001b[39m     \u001b[38;5;28;01mreturn\u001b[39;00m \u001b[43mnumpy\u001b[49m\u001b[43m.\u001b[49m\u001b[43munique\u001b[49m\u001b[43m(\u001b[49m\u001b[43mx\u001b[49m\u001b[43m)\u001b[49m\n",
      "\u001b[36mFile \u001b[39m\u001b[32m<__array_function__ internals>:180\u001b[39m, in \u001b[36munique\u001b[39m\u001b[34m(*args, **kwargs)\u001b[39m\n",
      "\u001b[36mFile \u001b[39m\u001b[32mf:\\!STUDY\\1TMO\\4 Сем\\ДИПЛОМ\\CODE\\NN-env\\Lib\\site-packages\\numpy\\lib\\arraysetops.py:274\u001b[39m, in \u001b[36munique\u001b[39m\u001b[34m(ar, return_index, return_inverse, return_counts, axis, equal_nan)\u001b[39m\n\u001b[32m    272\u001b[39m ar = np.asanyarray(ar)\n\u001b[32m    273\u001b[39m \u001b[38;5;28;01mif\u001b[39;00m axis \u001b[38;5;129;01mis\u001b[39;00m \u001b[38;5;28;01mNone\u001b[39;00m:\n\u001b[32m--> \u001b[39m\u001b[32m274\u001b[39m     ret = \u001b[43m_unique1d\u001b[49m\u001b[43m(\u001b[49m\u001b[43mar\u001b[49m\u001b[43m,\u001b[49m\u001b[43m \u001b[49m\u001b[43mreturn_index\u001b[49m\u001b[43m,\u001b[49m\u001b[43m \u001b[49m\u001b[43mreturn_inverse\u001b[49m\u001b[43m,\u001b[49m\u001b[43m \u001b[49m\u001b[43mreturn_counts\u001b[49m\u001b[43m,\u001b[49m\u001b[43m \u001b[49m\n\u001b[32m    275\u001b[39m \u001b[43m                    \u001b[49m\u001b[43mequal_nan\u001b[49m\u001b[43m=\u001b[49m\u001b[43mequal_nan\u001b[49m\u001b[43m)\u001b[49m\n\u001b[32m    276\u001b[39m     \u001b[38;5;28;01mreturn\u001b[39;00m _unpack_tuple(ret)\n\u001b[32m    278\u001b[39m \u001b[38;5;66;03m# axis was specified and not None\u001b[39;00m\n",
      "\u001b[36mFile \u001b[39m\u001b[32mf:\\!STUDY\\1TMO\\4 Сем\\ДИПЛОМ\\CODE\\NN-env\\Lib\\site-packages\\numpy\\lib\\arraysetops.py:338\u001b[39m, in \u001b[36m_unique1d\u001b[39m\u001b[34m(ar, return_index, return_inverse, return_counts, equal_nan)\u001b[39m\n\u001b[32m    336\u001b[39m     ar.sort()\n\u001b[32m    337\u001b[39m     aux = ar\n\u001b[32m--> \u001b[39m\u001b[32m338\u001b[39m mask = np.empty(aux.shape, dtype=np.bool_)\n\u001b[32m    339\u001b[39m mask[:\u001b[32m1\u001b[39m] = \u001b[38;5;28;01mTrue\u001b[39;00m\n\u001b[32m    340\u001b[39m \u001b[38;5;28;01mif\u001b[39;00m (equal_nan \u001b[38;5;129;01mand\u001b[39;00m aux.shape[\u001b[32m0\u001b[39m] > \u001b[32m0\u001b[39m \u001b[38;5;129;01mand\u001b[39;00m aux.dtype.kind \u001b[38;5;129;01min\u001b[39;00m \u001b[33m\"\u001b[39m\u001b[33mcfmM\u001b[39m\u001b[33m\"\u001b[39m \u001b[38;5;129;01mand\u001b[39;00m\n\u001b[32m    341\u001b[39m         np.isnan(aux[-\u001b[32m1\u001b[39m])):\n",
      "\u001b[31mKeyboardInterrupt\u001b[39m: "
     ]
    }
   ],
   "source": [
    "eval_dataset_w_RF(X_train_SS_scaled, X_test_SS_scaled, y_train, y_test)"
   ]
  },
  {
   "cell_type": "code",
   "execution_count": null,
   "id": "95270f22",
   "metadata": {},
   "outputs": [],
   "source": [
    "eval_dataset_w_RF(X_train_MMS_scaled, X_test_MMS_scaled, y_train, y_test)"
   ]
  },
  {
   "cell_type": "code",
   "execution_count": null,
   "id": "84792a23",
   "metadata": {},
   "outputs": [],
   "source": [
    "eval_dataset_w_KNN(X_train, X_test, y_train, y_test)"
   ]
  },
  {
   "cell_type": "code",
   "execution_count": null,
   "id": "b4fdd384",
   "metadata": {},
   "outputs": [],
   "source": [
    "eval_dataset_w_KNN(X_train_RS_scaled, X_test_RS_scaled, y_train, y_test)"
   ]
  },
  {
   "cell_type": "code",
   "execution_count": null,
   "id": "1b68dea1",
   "metadata": {},
   "outputs": [],
   "source": [
    "eval_dataset_w_KNN(X_train_SS_scaled, X_test_SS_scaled, y_train, y_test)"
   ]
  },
  {
   "cell_type": "code",
   "execution_count": null,
   "id": "1df26d26",
   "metadata": {},
   "outputs": [],
   "source": [
    "eval_dataset_w_KNN(X_train_MMS_scaled, X_test_MMS_scaled, y_train, y_test)"
   ]
  },
  {
   "cell_type": "markdown",
   "id": "b6f74929",
   "metadata": {},
   "source": [
    "## Under Sampling"
   ]
  },
  {
   "cell_type": "code",
   "execution_count": 14,
   "id": "68795543",
   "metadata": {},
   "outputs": [],
   "source": [
    "from imblearn.under_sampling import RandomUnderSampler, NearMiss"
   ]
  },
  {
   "cell_type": "code",
   "execution_count": 13,
   "id": "eaaa3ca7",
   "metadata": {},
   "outputs": [],
   "source": [
    "# Initializing the undersampling for the clean df\n",
    "X_train_resampled_rus, y_train_resampled_rus = RandomUnderSampler(sampling_strategy={'Normal Traffic': 1000000}, random_state=42).fit_resample(X_train, y_train)\n",
    "\n",
    "# Initializing the undersampling for the scaled df\n",
    "X_train_scaled_rus_RS, y_train_scaled_rus_RS = RandomUnderSampler(sampling_strategy={'Normal Traffic': 1000000}, random_state=42).fit_resample(X_train_RS_scaled, y_train)\n",
    "\n",
    "X_train_scaled_rus_SS, y_train_scaled_rus_SS = RandomUnderSampler(sampling_strategy={'Normal Traffic': 1000000}, random_state=42).fit_resample(X_train_SS_scaled, y_train)\n",
    "\n",
    "X_train_scaled_rus_MMS, y_train_scaled_rus_MMS = RandomUnderSampler(sampling_strategy={'Normal Traffic': 1000000}, random_state=42).fit_resample(X_train_MMS_scaled, y_train)"
   ]
  },
  {
   "cell_type": "code",
   "execution_count": 14,
   "id": "9b9dc7c3",
   "metadata": {},
   "outputs": [
    {
     "name": "stderr",
     "output_type": "stream",
     "text": [
      "f:\\!STUDY\\1TMO\\4 Сем\\ДИПЛОМ\\CODE\\NN-env\\Lib\\site-packages\\imblearn\\under_sampling\\_prototype_selection\\_nearmiss.py:203: UserWarning: The number of the samples to be selected is larger than the number of samples available. The balancing ratio cannot be ensure and all samples will be returned.\n",
      "  warnings.warn(\n",
      "f:\\!STUDY\\1TMO\\4 Сем\\ДИПЛОМ\\CODE\\NN-env\\Lib\\site-packages\\imblearn\\under_sampling\\_prototype_selection\\_nearmiss.py:203: UserWarning: The number of the samples to be selected is larger than the number of samples available. The balancing ratio cannot be ensure and all samples will be returned.\n",
      "  warnings.warn(\n",
      "f:\\!STUDY\\1TMO\\4 Сем\\ДИПЛОМ\\CODE\\NN-env\\Lib\\site-packages\\imblearn\\under_sampling\\_prototype_selection\\_nearmiss.py:203: UserWarning: The number of the samples to be selected is larger than the number of samples available. The balancing ratio cannot be ensure and all samples will be returned.\n",
      "  warnings.warn(\n",
      "f:\\!STUDY\\1TMO\\4 Сем\\ДИПЛОМ\\CODE\\NN-env\\Lib\\site-packages\\imblearn\\under_sampling\\_prototype_selection\\_nearmiss.py:203: UserWarning: The number of the samples to be selected is larger than the number of samples available. The balancing ratio cannot be ensure and all samples will be returned.\n",
      "  warnings.warn(\n"
     ]
    }
   ],
   "source": [
    "# Initializing the undersampling for the clean df\n",
    "X_train_resampled_NM, y_train_resampled_NM = NearMiss(sampling_strategy={'Normal Traffic': 1000000}, version=3).fit_resample(X_train, y_train)\n",
    "\n",
    "# Initializing the undersampling for the scaled df\n",
    "X_train_scaled_NM_RS, y_train_scaled_NM_RS = NearMiss(sampling_strategy={'Normal Traffic': 1000000}, version=3).fit_resample(X_train_RS_scaled, y_train)\n",
    "\n",
    "X_train_scaled_NM_SS, y_train_scaled_NM_SS = NearMiss(sampling_strategy={'Normal Traffic': 1000000}, version=3).fit_resample(X_train_SS_scaled, y_train)\n",
    "\n",
    "X_train_scaled_NM_MMS, y_train_scaled_NM_MMS = NearMiss(sampling_strategy={'Normal Traffic': 1000000}, version=3).fit_resample(X_train_MMS_scaled, y_train)\n"
   ]
  },
  {
   "cell_type": "markdown",
   "id": "d3fe75c8",
   "metadata": {},
   "source": [
    "## Evals RF"
   ]
  },
  {
   "cell_type": "code",
   "execution_count": 15,
   "id": "dedc58af",
   "metadata": {},
   "outputs": [
    {
     "name": "stderr",
     "output_type": "stream",
     "text": [
      "[Parallel(n_jobs=-1)]: Using backend ThreadingBackend with 16 concurrent workers.\n",
      "[Parallel(n_jobs=-1)]: Done  18 tasks      | elapsed:   18.0s\n",
      "[Parallel(n_jobs=-1)]: Done 150 out of 150 | elapsed:  1.5min finished\n",
      "[Parallel(n_jobs=16)]: Using backend ThreadingBackend with 16 concurrent workers.\n",
      "[Parallel(n_jobs=16)]: Done  18 tasks      | elapsed:    0.9s\n",
      "[Parallel(n_jobs=16)]: Done 150 out of 150 | elapsed:    6.8s finished\n"
     ]
    },
    {
     "name": "stdout",
     "output_type": "stream",
     "text": [
      "Cross validation average score: 0.9547 +/- standard deviation: 0.0002\n",
      "Accuracy on the test set: 0.9804\n",
      "Resource measurements: {'Training Time (s)': 94.44755840301514, 'Peak CPU Usage (%)': 100.0, 'Average CPU Usage (%)': 94.07591463414637}\n",
      "                precision    recall  f1-score   support\n",
      "\n",
      "           Bot       1.00      0.99      1.00     43193\n",
      "   Brute Force       1.00      0.99      1.00     28463\n",
      "          DDoS       0.91      0.99      0.95    232641\n",
      "           DoS       0.99      1.00      0.99     58890\n",
      " Infilteration       0.50      0.05      0.09     32259\n",
      "Normal Traffic       0.99      0.99      0.99   2590259\n",
      "\n",
      "      accuracy                           0.98   2985705\n",
      "     macro avg       0.90      0.84      0.83   2985705\n",
      "  weighted avg       0.98      0.98      0.98   2985705\n",
      "\n"
     ]
    }
   ],
   "source": [
    "eval_dataset_w_RF(X_train_resampled_rus, X_test, y_train_resampled_rus, y_test)"
   ]
  },
  {
   "cell_type": "code",
   "execution_count": 16,
   "id": "60515714",
   "metadata": {},
   "outputs": [
    {
     "name": "stderr",
     "output_type": "stream",
     "text": [
      "[Parallel(n_jobs=-1)]: Using backend ThreadingBackend with 16 concurrent workers.\n",
      "[Parallel(n_jobs=-1)]: Done  18 tasks      | elapsed:   17.8s\n",
      "[Parallel(n_jobs=-1)]: Done 150 out of 150 | elapsed:  1.5min finished\n",
      "[Parallel(n_jobs=16)]: Using backend ThreadingBackend with 16 concurrent workers.\n",
      "[Parallel(n_jobs=16)]: Done  18 tasks      | elapsed:    0.9s\n",
      "[Parallel(n_jobs=16)]: Done 150 out of 150 | elapsed:    6.5s finished\n"
     ]
    },
    {
     "name": "stdout",
     "output_type": "stream",
     "text": [
      "Cross validation average score: 0.9547 +/- standard deviation: 0.0002\n",
      "Accuracy on the test set: 0.9804\n",
      "Resource measurements: {'Training Time (s)': 91.2171380519867, 'Peak CPU Usage (%)': 100.0, 'Average CPU Usage (%)': 93.30794392523362}\n",
      "                precision    recall  f1-score   support\n",
      "\n",
      "           Bot       1.00      0.99      1.00     43193\n",
      "   Brute Force       1.00      0.99      1.00     28463\n",
      "          DDoS       0.91      0.99      0.95    232641\n",
      "           DoS       0.99      1.00      0.99     58890\n",
      " Infilteration       0.50      0.05      0.09     32259\n",
      "Normal Traffic       0.99      0.99      0.99   2590259\n",
      "\n",
      "      accuracy                           0.98   2985705\n",
      "     macro avg       0.90      0.84      0.83   2985705\n",
      "  weighted avg       0.98      0.98      0.98   2985705\n",
      "\n"
     ]
    }
   ],
   "source": [
    "eval_dataset_w_RF(X_train_scaled_rus_RS, X_test_RS_scaled, y_train_scaled_rus_RS, y_test)"
   ]
  },
  {
   "cell_type": "code",
   "execution_count": 17,
   "metadata": {},
   "outputs": [
    {
     "name": "stderr",
     "output_type": "stream",
     "text": [
      "[Parallel(n_jobs=-1)]: Using backend ThreadingBackend with 16 concurrent workers.\n",
      "[Parallel(n_jobs=-1)]: Done  18 tasks      | elapsed:   13.8s\n",
      "[Parallel(n_jobs=-1)]: Done 150 out of 150 | elapsed:  1.1min finished\n",
      "[Parallel(n_jobs=16)]: Using backend ThreadingBackend with 16 concurrent workers.\n",
      "[Parallel(n_jobs=16)]: Done  18 tasks      | elapsed:    0.9s\n",
      "[Parallel(n_jobs=16)]: Done 150 out of 150 | elapsed:    6.5s finished\n"
     ]
    },
    {
     "name": "stdout",
     "output_type": "stream",
     "text": [
      "Cross validation average score: 0.9547 +/- standard deviation: 0.0002\n",
      "Accuracy on the test set: 0.9804\n",
      "Resource measurements: {'Training Time (s)': 70.78761100769043, 'Peak CPU Usage (%)': 100.0, 'Average CPU Usage (%)': 93.6647524752475}\n",
      "                precision    recall  f1-score   support\n",
      "\n",
      "           Bot       1.00      0.99      1.00     43193\n",
      "   Brute Force       1.00      0.99      1.00     28463\n",
      "          DDoS       0.91      0.99      0.95    232641\n",
      "           DoS       0.99      1.00      0.99     58890\n",
      " Infilteration       0.48      0.05      0.09     32259\n",
      "Normal Traffic       0.99      0.99      0.99   2590259\n",
      "\n",
      "      accuracy                           0.98   2985705\n",
      "     macro avg       0.89      0.84      0.83   2985705\n",
      "  weighted avg       0.98      0.98      0.98   2985705\n",
      "\n"
     ]
    }
   ],
   "source": [
    "eval_dataset_w_RF(X_train_scaled_rus_SS, X_test_SS_scaled, y_train_scaled_rus_SS, y_test)"
   ]
  },
  {
   "cell_type": "code",
   "execution_count": 18,
   "id": "64a814c3",
   "metadata": {},
   "outputs": [
    {
     "name": "stderr",
     "output_type": "stream",
     "text": [
      "[Parallel(n_jobs=-1)]: Using backend ThreadingBackend with 16 concurrent workers.\n",
      "[Parallel(n_jobs=-1)]: Done  18 tasks      | elapsed:   10.4s\n",
      "[Parallel(n_jobs=-1)]: Done 150 out of 150 | elapsed:   51.2s finished\n",
      "[Parallel(n_jobs=16)]: Using backend ThreadingBackend with 16 concurrent workers.\n",
      "[Parallel(n_jobs=16)]: Done  18 tasks      | elapsed:    0.9s\n",
      "[Parallel(n_jobs=16)]: Done 150 out of 150 | elapsed:    6.4s finished\n"
     ]
    },
    {
     "name": "stdout",
     "output_type": "stream",
     "text": [
      "Cross validation average score: 0.9544 +/- standard deviation: 0.0001\n",
      "Accuracy on the test set: 0.9802\n",
      "Resource measurements: {'Training Time (s)': 53.128422021865845, 'Peak CPU Usage (%)': 100.0, 'Average CPU Usage (%)': 93.67556109725685}\n",
      "                precision    recall  f1-score   support\n",
      "\n",
      "           Bot       1.00      0.99      1.00     43193\n",
      "   Brute Force       1.00      0.99      1.00     28463\n",
      "          DDoS       0.91      0.99      0.95    232641\n",
      "           DoS       0.97      1.00      0.98     58890\n",
      " Infilteration       0.49      0.04      0.08     32259\n",
      "Normal Traffic       0.99      0.99      0.99   2590259\n",
      "\n",
      "      accuracy                           0.98   2985705\n",
      "     macro avg       0.89      0.83      0.83   2985705\n",
      "  weighted avg       0.98      0.98      0.98   2985705\n",
      "\n"
     ]
    }
   ],
   "source": [
    "eval_dataset_w_RF(X_train_scaled_rus_MMS, X_test_MMS_scaled, y_train_scaled_rus_MMS, y_test)"
   ]
  },
  {
   "cell_type": "code",
   "execution_count": 19,
   "id": "62caeeeb",
   "metadata": {},
   "outputs": [
    {
     "name": "stderr",
     "output_type": "stream",
     "text": [
      "[Parallel(n_jobs=-1)]: Using backend ThreadingBackend with 16 concurrent workers.\n",
      "[Parallel(n_jobs=-1)]: Done  18 tasks      | elapsed:    6.1s\n",
      "[Parallel(n_jobs=-1)]: Done 150 out of 150 | elapsed:   33.0s finished\n",
      "[Parallel(n_jobs=16)]: Using backend ThreadingBackend with 16 concurrent workers.\n",
      "[Parallel(n_jobs=16)]: Done  18 tasks      | elapsed:    0.9s\n",
      "[Parallel(n_jobs=16)]: Done 150 out of 150 | elapsed:    6.1s finished\n"
     ]
    },
    {
     "name": "stdout",
     "output_type": "stream",
     "text": [
      "Cross validation average score: 0.9954 +/- standard deviation: 0.0004\n",
      "Accuracy on the test set: 0.1410\n",
      "Resource measurements: {'Training Time (s)': 33.91410732269287, 'Peak CPU Usage (%)': 100.0, 'Average CPU Usage (%)': 94.62546125461256}\n",
      "                precision    recall  f1-score   support\n",
      "\n",
      "           Bot       0.99      0.99      0.99     43193\n",
      "   Brute Force       1.00      0.99      1.00     28463\n",
      "          DDoS       0.62      1.00      0.77    232641\n",
      "           DoS       0.31      1.00      0.47     58890\n",
      " Infilteration       0.01      0.97      0.03     32259\n",
      "Normal Traffic       1.00      0.01      0.02   2590259\n",
      "\n",
      "      accuracy                           0.14   2985705\n",
      "     macro avg       0.65      0.83      0.55   2985705\n",
      "  weighted avg       0.94      0.14      0.11   2985705\n",
      "\n"
     ]
    }
   ],
   "source": [
    "eval_dataset_w_RF(X_train_resampled_NM, X_test, y_train_resampled_NM, y_test)"
   ]
  },
  {
   "cell_type": "code",
   "execution_count": 20,
   "id": "9477343d",
   "metadata": {},
   "outputs": [
    {
     "name": "stderr",
     "output_type": "stream",
     "text": [
      "[Parallel(n_jobs=-1)]: Using backend ThreadingBackend with 16 concurrent workers.\n",
      "[Parallel(n_jobs=-1)]: Done  18 tasks      | elapsed:    6.8s\n",
      "[Parallel(n_jobs=-1)]: Done 150 out of 150 | elapsed:   33.3s finished\n",
      "[Parallel(n_jobs=16)]: Using backend ThreadingBackend with 16 concurrent workers.\n",
      "[Parallel(n_jobs=16)]: Done  18 tasks      | elapsed:    0.9s\n",
      "[Parallel(n_jobs=16)]: Done 150 out of 150 | elapsed:    6.1s finished\n"
     ]
    },
    {
     "name": "stdout",
     "output_type": "stream",
     "text": [
      "Cross validation average score: 0.9956 +/- standard deviation: 0.0004\n",
      "Accuracy on the test set: 0.1411\n",
      "Resource measurements: {'Training Time (s)': 34.245667934417725, 'Peak CPU Usage (%)': 100.0, 'Average CPU Usage (%)': 95.13248175182481}\n",
      "                precision    recall  f1-score   support\n",
      "\n",
      "           Bot       0.99      0.99      0.99     43193\n",
      "   Brute Force       1.00      0.99      1.00     28463\n",
      "          DDoS       0.62      1.00      0.77    232641\n",
      "           DoS       0.30      1.00      0.47     58890\n",
      " Infilteration       0.01      0.97      0.03     32259\n",
      "Normal Traffic       1.00      0.01      0.02   2590259\n",
      "\n",
      "      accuracy                           0.14   2985705\n",
      "     macro avg       0.66      0.83      0.55   2985705\n",
      "  weighted avg       0.94      0.14      0.11   2985705\n",
      "\n"
     ]
    }
   ],
   "source": [
    "eval_dataset_w_RF(X_train_scaled_NM_RS, X_test_RS_scaled, y_train_scaled_NM_RS, y_test)"
   ]
  },
  {
   "cell_type": "code",
   "execution_count": 21,
   "id": "bf922f92",
   "metadata": {},
   "outputs": [
    {
     "name": "stderr",
     "output_type": "stream",
     "text": [
      "[Parallel(n_jobs=-1)]: Using backend ThreadingBackend with 16 concurrent workers.\n",
      "[Parallel(n_jobs=-1)]: Done  18 tasks      | elapsed:    5.1s\n",
      "[Parallel(n_jobs=-1)]: Done 150 out of 150 | elapsed:   25.9s finished\n",
      "[Parallel(n_jobs=16)]: Using backend ThreadingBackend with 16 concurrent workers.\n",
      "[Parallel(n_jobs=16)]: Done  18 tasks      | elapsed:    0.9s\n",
      "[Parallel(n_jobs=16)]: Done 150 out of 150 | elapsed:    6.1s finished\n"
     ]
    },
    {
     "name": "stdout",
     "output_type": "stream",
     "text": [
      "Cross validation average score: 0.9958 +/- standard deviation: 0.0002\n",
      "Accuracy on the test set: 0.1341\n",
      "Resource measurements: {'Training Time (s)': 26.811686038970947, 'Peak CPU Usage (%)': 100.0, 'Average CPU Usage (%)': 93.9864864864865}\n",
      "                precision    recall  f1-score   support\n",
      "\n",
      "           Bot       0.99      0.99      0.99     43193\n",
      "   Brute Force       0.99      0.99      0.99     28463\n",
      "          DDoS       0.62      1.00      0.77    232641\n",
      "           DoS       0.30      1.00      0.47     58890\n",
      " Infilteration       0.01      0.97      0.03     32259\n",
      "Normal Traffic       0.99      0.00      0.00   2590259\n",
      "\n",
      "      accuracy                           0.13   2985705\n",
      "     macro avg       0.65      0.83      0.54   2985705\n",
      "  weighted avg       0.94      0.13      0.10   2985705\n",
      "\n"
     ]
    }
   ],
   "source": [
    "eval_dataset_w_RF(X_train_scaled_NM_SS, X_test_SS_scaled, y_train_scaled_NM_SS, y_test)"
   ]
  },
  {
   "cell_type": "code",
   "execution_count": 22,
   "id": "b587170e",
   "metadata": {},
   "outputs": [
    {
     "name": "stderr",
     "output_type": "stream",
     "text": [
      "[Parallel(n_jobs=-1)]: Using backend ThreadingBackend with 16 concurrent workers.\n",
      "[Parallel(n_jobs=-1)]: Done  18 tasks      | elapsed:    3.5s\n",
      "[Parallel(n_jobs=-1)]: Done 150 out of 150 | elapsed:   18.5s finished\n",
      "[Parallel(n_jobs=16)]: Using backend ThreadingBackend with 16 concurrent workers.\n",
      "[Parallel(n_jobs=16)]: Done  18 tasks      | elapsed:    0.9s\n",
      "[Parallel(n_jobs=16)]: Done 150 out of 150 | elapsed:    6.1s finished\n"
     ]
    },
    {
     "name": "stdout",
     "output_type": "stream",
     "text": [
      "Cross validation average score: 0.9960 +/- standard deviation: 0.0001\n",
      "Accuracy on the test set: 0.1321\n",
      "Resource measurements: {'Training Time (s)': 19.3809974193573, 'Peak CPU Usage (%)': 100.0, 'Average CPU Usage (%)': 94.41867469879519}\n",
      "                precision    recall  f1-score   support\n",
      "\n",
      "           Bot       1.00      0.99      1.00     43193\n",
      "   Brute Force       0.95      1.00      0.97     28463\n",
      "          DDoS       0.62      1.00      0.77    232641\n",
      "           DoS       0.30      1.00      0.47     58890\n",
      " Infilteration       0.01      0.97      0.03     32259\n",
      "Normal Traffic       0.99      0.00      0.00   2590259\n",
      "\n",
      "      accuracy                           0.13   2985705\n",
      "     macro avg       0.65      0.83      0.54   2985705\n",
      "  weighted avg       0.94      0.13      0.09   2985705\n",
      "\n"
     ]
    }
   ],
   "source": [
    "eval_dataset_w_RF(X_train_scaled_NM_MMS, X_test_MMS_scaled, y_train_scaled_NM_MMS, y_test)"
   ]
  },
  {
   "cell_type": "markdown",
   "id": "7dd3fa33",
   "metadata": {},
   "source": [
    "## Evals KNN"
   ]
  },
  {
   "cell_type": "code",
   "execution_count": 23,
   "id": "2b3bfd27",
   "metadata": {},
   "outputs": [
    {
     "name": "stdout",
     "output_type": "stream",
     "text": [
      "Cross validation average score: 0.9456 +/- standard deviation: 0.0005\n",
      "Accuracy on the test set: 0.9605\n",
      "Resource measurements: {'Training Time (s)': 15.822944641113281, 'Peak CPU Usage (%)': 14.0, 'Average CPU Usage (%)': 8.185714285714285}\n",
      "                precision    recall  f1-score   support\n",
      "\n",
      "           Bot       0.98      1.00      0.99     43193\n",
      "   Brute Force       0.97      0.99      0.98     28463\n",
      "          DDoS       0.91      0.99      0.95    232641\n",
      "           DoS       0.91      0.96      0.93     58890\n",
      " Infilteration       0.11      0.25      0.15     32259\n",
      "Normal Traffic       0.99      0.97      0.98   2590259\n",
      "\n",
      "      accuracy                           0.96   2985705\n",
      "     macro avg       0.81      0.86      0.83   2985705\n",
      "  weighted avg       0.97      0.96      0.97   2985705\n",
      "\n"
     ]
    }
   ],
   "source": [
    "eval_dataset_w_KNN(X_train_resampled_rus, X_test, y_train_resampled_rus, y_test)"
   ]
  },
  {
   "cell_type": "code",
   "execution_count": 24,
   "id": "27743a0c",
   "metadata": {},
   "outputs": [
    {
     "name": "stdout",
     "output_type": "stream",
     "text": [
      "Cross validation average score: 0.9379 +/- standard deviation: 0.0004\n",
      "Accuracy on the test set: 0.9500\n",
      "Resource measurements: {'Training Time (s)': 14.49321985244751, 'Peak CPU Usage (%)': 9.4, 'Average CPU Usage (%)': 7.339999999999999}\n",
      "                precision    recall  f1-score   support\n",
      "\n",
      "           Bot       0.98      1.00      0.99     43193\n",
      "   Brute Force       0.98      1.00      0.99     28463\n",
      "          DDoS       0.84      0.97      0.90    232641\n",
      "           DoS       0.88      0.97      0.92     58890\n",
      " Infilteration       0.12      0.30      0.18     32259\n",
      "Normal Traffic       0.99      0.95      0.97   2590259\n",
      "\n",
      "      accuracy                           0.95   2985705\n",
      "     macro avg       0.80      0.86      0.82   2985705\n",
      "  weighted avg       0.97      0.95      0.96   2985705\n",
      "\n"
     ]
    }
   ],
   "source": [
    "eval_dataset_w_KNN(X_train_scaled_rus_RS, X_test_RS_scaled, y_train_scaled_rus_RS, y_test)"
   ]
  },
  {
   "cell_type": "code",
   "execution_count": 25,
   "id": "500a2c12",
   "metadata": {},
   "outputs": [
    {
     "name": "stdout",
     "output_type": "stream",
     "text": [
      "Cross validation average score: 0.9544 +/- standard deviation: 0.0004\n",
      "Accuracy on the test set: 0.9645\n",
      "Resource measurements: {'Training Time (s)': 14.538728952407837, 'Peak CPU Usage (%)': 8.9, 'Average CPU Usage (%)': 6.860000000000001}\n",
      "                precision    recall  f1-score   support\n",
      "\n",
      "           Bot       0.99      1.00      0.99     43193\n",
      "   Brute Force       0.98      1.00      0.99     28463\n",
      "          DDoS       0.94      0.99      0.97    232641\n",
      "           DoS       0.99      1.00      0.99     58890\n",
      " Infilteration       0.13      0.31      0.18     32259\n",
      "Normal Traffic       0.99      0.97      0.98   2590259\n",
      "\n",
      "      accuracy                           0.96   2985705\n",
      "     macro avg       0.84      0.88      0.85   2985705\n",
      "  weighted avg       0.98      0.96      0.97   2985705\n",
      "\n"
     ]
    }
   ],
   "source": [
    "eval_dataset_w_KNN(X_train_scaled_rus_SS, X_test_SS_scaled, y_train_scaled_rus_SS, y_test)"
   ]
  },
  {
   "cell_type": "code",
   "execution_count": 26,
   "id": "bc67b24f",
   "metadata": {},
   "outputs": [
    {
     "name": "stdout",
     "output_type": "stream",
     "text": [
      "Cross validation average score: 0.9544 +/- standard deviation: 0.0003\n",
      "Accuracy on the test set: 0.9644\n",
      "Resource measurements: {'Training Time (s)': 14.576143503189087, 'Peak CPU Usage (%)': 10.3, 'Average CPU Usage (%)': 7.340000000000001}\n",
      "                precision    recall  f1-score   support\n",
      "\n",
      "           Bot       0.99      1.00      0.99     43193\n",
      "   Brute Force       0.98      1.00      0.99     28463\n",
      "          DDoS       0.94      0.99      0.97    232641\n",
      "           DoS       0.99      1.00      0.99     58890\n",
      " Infilteration       0.13      0.31      0.18     32259\n",
      "Normal Traffic       0.99      0.97      0.98   2590259\n",
      "\n",
      "      accuracy                           0.96   2985705\n",
      "     macro avg       0.84      0.88      0.85   2985705\n",
      "  weighted avg       0.98      0.96      0.97   2985705\n",
      "\n"
     ]
    }
   ],
   "source": [
    "eval_dataset_w_KNN(X_train_scaled_rus_MMS, X_test_MMS_scaled, y_train_scaled_rus_MMS, y_test)"
   ]
  },
  {
   "cell_type": "code",
   "execution_count": 27,
   "id": "ad00705f",
   "metadata": {},
   "outputs": [
    {
     "name": "stdout",
     "output_type": "stream",
     "text": [
      "Cross validation average score: 0.9849 +/- standard deviation: 0.0003\n",
      "Accuracy on the test set: 0.1419\n",
      "Resource measurements: {'Training Time (s)': 6.213958263397217, 'Peak CPU Usage (%)': 10.0, 'Average CPU Usage (%)': 7.219999999999999}\n",
      "                precision    recall  f1-score   support\n",
      "\n",
      "           Bot       0.86      1.00      0.92     43193\n",
      "   Brute Force       0.90      0.99      0.95     28463\n",
      "          DDoS       0.50      0.99      0.66    232641\n",
      "           DoS       0.27      0.97      0.43     58890\n",
      " Infilteration       0.01      0.97      0.03     32259\n",
      "Normal Traffic       1.00      0.01      0.03   2590259\n",
      "\n",
      "      accuracy                           0.14   2985705\n",
      "     macro avg       0.59      0.82      0.50   2985705\n",
      "  weighted avg       0.93      0.14      0.10   2985705\n",
      "\n"
     ]
    }
   ],
   "source": [
    "eval_dataset_w_KNN(X_train_resampled_NM, X_test, y_train_resampled_NM, y_test)"
   ]
  },
  {
   "cell_type": "code",
   "execution_count": 28,
   "id": "979c3b96",
   "metadata": {},
   "outputs": [
    {
     "name": "stdout",
     "output_type": "stream",
     "text": [
      "Cross validation average score: 0.9832 +/- standard deviation: 0.0001\n",
      "Accuracy on the test set: 0.1406\n",
      "Resource measurements: {'Training Time (s)': 5.580179691314697, 'Peak CPU Usage (%)': 10.5, 'Average CPU Usage (%)': 7.175}\n",
      "                precision    recall  f1-score   support\n",
      "\n",
      "           Bot       0.90      1.00      0.95     43193\n",
      "   Brute Force       0.97      0.99      0.98     28463\n",
      "          DDoS       0.43      0.99      0.60    232641\n",
      "           DoS       0.27      0.98      0.43     58890\n",
      " Infilteration       0.01      0.93      0.03     32259\n",
      "Normal Traffic       1.00      0.01      0.02   2590259\n",
      "\n",
      "      accuracy                           0.14   2985705\n",
      "     macro avg       0.60      0.82      0.50   2985705\n",
      "  weighted avg       0.93      0.14      0.10   2985705\n",
      "\n"
     ]
    }
   ],
   "source": [
    "eval_dataset_w_KNN(X_train_scaled_NM_RS, X_test_RS_scaled, y_train_scaled_NM_RS, y_test)"
   ]
  },
  {
   "cell_type": "code",
   "execution_count": 29,
   "id": "2176b1f8",
   "metadata": {},
   "outputs": [
    {
     "name": "stdout",
     "output_type": "stream",
     "text": [
      "Cross validation average score: 0.9955 +/- standard deviation: 0.0001\n",
      "Accuracy on the test set: 0.1419\n",
      "Resource measurements: {'Training Time (s)': 7.933487415313721, 'Peak CPU Usage (%)': 24.2, 'Average CPU Usage (%)': 17.8}\n",
      "                precision    recall  f1-score   support\n",
      "\n",
      "           Bot       0.94      1.00      0.97     43193\n",
      "   Brute Force       0.98      0.99      0.98     28463\n",
      "          DDoS       0.66      1.00      0.79    232641\n",
      "           DoS       0.31      1.00      0.47     58890\n",
      " Infilteration       0.01      0.98      0.03     32259\n",
      "Normal Traffic       1.00      0.01      0.02   2590259\n",
      "\n",
      "      accuracy                           0.14   2985705\n",
      "     macro avg       0.65      0.83      0.54   2985705\n",
      "  weighted avg       0.94      0.14      0.11   2985705\n",
      "\n"
     ]
    }
   ],
   "source": [
    "eval_dataset_w_KNN(X_train_scaled_NM_SS, X_test_SS_scaled, y_train_scaled_NM_SS, y_test)"
   ]
  },
  {
   "cell_type": "code",
   "execution_count": 30,
   "id": "4b8a4be9",
   "metadata": {},
   "outputs": [
    {
     "name": "stdout",
     "output_type": "stream",
     "text": [
      "Cross validation average score: 0.9959 +/- standard deviation: 0.0001\n",
      "Accuracy on the test set: 0.1413\n",
      "Resource measurements: {'Training Time (s)': 5.639127254486084, 'Peak CPU Usage (%)': 9.8, 'Average CPU Usage (%)': 8.825}\n",
      "                precision    recall  f1-score   support\n",
      "\n",
      "           Bot       0.66      1.00      0.80     43193\n",
      "   Brute Force       0.93      1.00      0.96     28463\n",
      "          DDoS       0.66      1.00      0.79    232641\n",
      "           DoS       0.30      1.00      0.46     58890\n",
      " Infilteration       0.01      0.98      0.03     32259\n",
      "Normal Traffic       1.00      0.01      0.02   2590259\n",
      "\n",
      "      accuracy                           0.14   2985705\n",
      "     macro avg       0.59      0.83      0.51   2985705\n",
      "  weighted avg       0.94      0.14      0.11   2985705\n",
      "\n"
     ]
    }
   ],
   "source": [
    "eval_dataset_w_KNN(X_train_scaled_NM_MMS, X_test_MMS_scaled, y_train_scaled_NM_MMS, y_test)"
   ]
  },
  {
   "cell_type": "markdown",
   "id": "a6e4bff5",
   "metadata": {},
   "source": [
    "## Over Sampling"
   ]
  },
  {
   "cell_type": "code",
   "execution_count": 13,
   "id": "71464ce7",
   "metadata": {},
   "outputs": [],
   "source": [
    "from imblearn.over_sampling import SMOTE, ADASYN, BorderlineSMOTE"
   ]
  },
  {
   "cell_type": "code",
   "execution_count": 33,
   "id": "3fbb1994",
   "metadata": {},
   "outputs": [],
   "source": [
    "X_train_resampled_ADASYN, y_train_resampled_ADASYN = ADASYN(sampling_strategy='auto', random_state=42, n_neighbors=5).fit_resample(X_train_resampled_rus, y_train_resampled_rus)\n",
    "\n",
    "X_train_resampled_scaled_RS_ADASYN, y_train_resampled_scaled_RS_ADASYN = ADASYN(sampling_strategy='auto', random_state=42, n_neighbors=5).fit_resample(X_train_scaled_rus_RS, y_train_scaled_rus_RS)\n",
    "\n",
    "X_train_resampled_scaled_MMS_ADASYN, y_train_resampled_scaled_MMS_ADASYN = ADASYN(sampling_strategy='auto', random_state=42, n_neighbors=5).fit_resample(X_train_scaled_rus_MMS, y_train_scaled_rus_MMS)\n",
    "\n",
    "\n",
    "X_train_resampled_SMOTE, y_train_resampled_SMOTE = SMOTE(sampling_strategy={'Bot': 150000, 'Brute Force': 100000, 'Infilteration': 110000, 'DDoS':780000, 'DoS': 200000}, random_state=42).fit_resample(X_train_resampled_rus, y_train_resampled_rus)\n",
    "\n",
    "X_train_resampled_scaled_RS_SMOTE, y_train_resampled_scaled_RS_SMOTE = SMOTE(sampling_strategy={'Bot': 150000, 'Brute Force': 100000, 'Infilteration': 110000, 'DDoS':780000, 'DoS': 200000}, random_state=42).fit_resample(X_train_scaled_rus_RS, y_train_scaled_rus_RS)\n",
    "\n",
    "X_train_resampled_scaled_MMS_SMOTE, y_train_resampled_scaled_MMS_SMOTE = SMOTE(sampling_strategy={'Bot': 150000, 'Brute Force': 100000, 'Infilteration': 110000, 'DDoS':780000, 'DoS': 200000}, random_state=42).fit_resample(X_train_scaled_rus_MMS, y_train_scaled_rus_MMS)\n",
    "\n",
    "\n",
    "X_train_resampled_BSMOTE, y_train_resampled_BSMOTE = BorderlineSMOTE(sampling_strategy={'Bot': 150000, 'Brute Force': 100000, 'Infilteration': 110000, 'DDoS': 780000, 'DoS': 200000}, random_state=42, k_neighbors=5, m_neighbors=10, kind='borderline-1').fit_resample(X_train_resampled_rus, y_train_resampled_rus)\n",
    "\n",
    "X_train_resampled_scaled_RS_BSMOTE, y_train_resampled_scaled_RS_BSMOTE = BorderlineSMOTE(sampling_strategy={'Bot': 150000, 'Brute Force': 100000, 'Infilteration': 110000, 'DDoS': 780000, 'DoS': 200000}, random_state=42, k_neighbors=5, m_neighbors=10, kind='borderline-1').fit_resample(X_train_scaled_rus_RS, y_train_scaled_rus_RS)\n",
    "\n",
    "X_train_resampled_scaled_MMS_BSMOTE, y_train_resampled_scaled_MMS_BSMOTE = BorderlineSMOTE(sampling_strategy={'Bot': 150000, 'Brute Force': 100000, 'Infilteration': 110000, 'DDoS': 780000, 'DoS': 200000}, random_state=42, k_neighbors=5, m_neighbors=10, kind='borderline-1').fit_resample(X_train_scaled_rus_MMS, y_train_scaled_rus_MMS)"
   ]
  },
  {
   "cell_type": "code",
   "execution_count": 34,
   "id": "bcf02a16",
   "metadata": {},
   "outputs": [
    {
     "data": {
      "text/plain": [
       "Attack Type\n",
       "Normal Traffic    1000000\n",
       "DDoS               542829\n",
       "DoS                137409\n",
       "Bot                100784\n",
       "Infilteration       75272\n",
       "Brute Force         66413\n",
       "Name: count, dtype: int64"
      ]
     },
     "execution_count": 34,
     "metadata": {},
     "output_type": "execute_result"
    }
   ],
   "source": [
    "y_train_resampled_rus.value_counts()"
   ]
  },
  {
   "cell_type": "code",
   "execution_count": 35,
   "id": "80f7f5b0",
   "metadata": {},
   "outputs": [
    {
     "data": {
      "text/plain": [
       "Attack Type\n",
       "Infilteration     1010750\n",
       "DDoS              1005961\n",
       "DoS               1002119\n",
       "Bot               1000061\n",
       "Normal Traffic    1000000\n",
       "Brute Force        999943\n",
       "Name: count, dtype: int64"
      ]
     },
     "execution_count": 35,
     "metadata": {},
     "output_type": "execute_result"
    }
   ],
   "source": [
    "y_train_resampled_ADASYN.value_counts()"
   ]
  },
  {
   "cell_type": "code",
   "execution_count": 36,
   "id": "d6d6c686",
   "metadata": {},
   "outputs": [
    {
     "data": {
      "text/plain": [
       "Attack Type\n",
       "Normal Traffic    1000000\n",
       "DDoS               780000\n",
       "DoS                200000\n",
       "Bot                150000\n",
       "Infilteration      110000\n",
       "Brute Force        100000\n",
       "Name: count, dtype: int64"
      ]
     },
     "execution_count": 36,
     "metadata": {},
     "output_type": "execute_result"
    }
   ],
   "source": [
    "y_train_resampled_SMOTE.value_counts()"
   ]
  },
  {
   "cell_type": "markdown",
   "id": "da73abf9",
   "metadata": {},
   "source": [
    "## Eval RF"
   ]
  },
  {
   "cell_type": "code",
   "execution_count": 38,
   "id": "f4a9cab0",
   "metadata": {},
   "outputs": [
    {
     "name": "stderr",
     "output_type": "stream",
     "text": [
      "[Parallel(n_jobs=-1)]: Using backend ThreadingBackend with 16 concurrent workers.\n",
      "[Parallel(n_jobs=-1)]: Done  18 tasks      | elapsed:  1.1min\n",
      "[Parallel(n_jobs=-1)]: Done 150 out of 150 | elapsed:  5.0min finished\n",
      "[Parallel(n_jobs=16)]: Using backend ThreadingBackend with 16 concurrent workers.\n",
      "[Parallel(n_jobs=16)]: Done  18 tasks      | elapsed:    0.9s\n",
      "[Parallel(n_jobs=16)]: Done 150 out of 150 | elapsed:    6.5s finished\n"
     ]
    },
    {
     "name": "stdout",
     "output_type": "stream",
     "text": [
      "Cross validation average score: 0.8661 +/- standard deviation: 0.0129\n",
      "Accuracy on the test set: 0.6599\n",
      "Resource measurements: {'Training Time (s)': 307.0943458080292, 'Peak CPU Usage (%)': 100.0, 'Average CPU Usage (%)': 94.93222013170264}\n",
      "                precision    recall  f1-score   support\n",
      "\n",
      "           Bot       0.82      1.00      0.90     43193\n",
      "   Brute Force       0.76      1.00      0.86     28463\n",
      "          DDoS       0.73      0.99      0.84    232641\n",
      "           DoS       0.94      1.00      0.97     58890\n",
      " Infilteration       0.03      0.78      0.05     32259\n",
      "Normal Traffic       1.00      0.61      0.76   2590259\n",
      "\n",
      "      accuracy                           0.66   2985705\n",
      "     macro avg       0.71      0.90      0.73   2985705\n",
      "  weighted avg       0.96      0.66      0.76   2985705\n",
      "\n"
     ]
    }
   ],
   "source": [
    "eval_dataset_w_RF(X_train_resampled_ADASYN, X_test, y_train_resampled_ADASYN, y_test)"
   ]
  },
  {
   "cell_type": "code",
   "execution_count": 39,
   "id": "075eb08c",
   "metadata": {},
   "outputs": [
    {
     "name": "stderr",
     "output_type": "stream",
     "text": [
      "[Parallel(n_jobs=-1)]: Using backend ThreadingBackend with 16 concurrent workers.\n",
      "[Parallel(n_jobs=-1)]: Done  18 tasks      | elapsed:   56.7s\n",
      "[Parallel(n_jobs=-1)]: Done 150 out of 150 | elapsed:  4.6min finished\n",
      "[Parallel(n_jobs=16)]: Using backend ThreadingBackend with 16 concurrent workers.\n",
      "[Parallel(n_jobs=16)]: Done  18 tasks      | elapsed:    0.9s\n",
      "[Parallel(n_jobs=16)]: Done 150 out of 150 | elapsed:    6.6s finished\n"
     ]
    },
    {
     "name": "stdout",
     "output_type": "stream",
     "text": [
      "Cross validation average score: 0.8669 +/- standard deviation: 0.0240\n",
      "Accuracy on the test set: 0.7108\n",
      "Resource measurements: {'Training Time (s)': 286.75903844833374, 'Peak CPU Usage (%)': 100.0, 'Average CPU Usage (%)': 92.19229357798174}\n",
      "                precision    recall  f1-score   support\n",
      "\n",
      "           Bot       0.86      1.00      0.92     43193\n",
      "   Brute Force       0.84      1.00      0.91     28463\n",
      "          DDoS       0.91      0.98      0.94    232641\n",
      "           DoS       0.96      0.99      0.97     58890\n",
      " Infilteration       0.03      0.78      0.06     32259\n",
      "Normal Traffic       1.00      0.67      0.80   2590259\n",
      "\n",
      "      accuracy                           0.71   2985705\n",
      "     macro avg       0.76      0.90      0.77   2985705\n",
      "  weighted avg       0.97      0.71      0.81   2985705\n",
      "\n"
     ]
    }
   ],
   "source": [
    "eval_dataset_w_RF(X_train_resampled_scaled_RS_ADASYN, X_test_RS_scaled, y_train_resampled_scaled_RS_ADASYN, y_test)"
   ]
  },
  {
   "cell_type": "code",
   "execution_count": 40,
   "id": "de4dcfc6",
   "metadata": {},
   "outputs": [
    {
     "name": "stderr",
     "output_type": "stream",
     "text": [
      "[Parallel(n_jobs=-1)]: Using backend ThreadingBackend with 16 concurrent workers.\n",
      "[Parallel(n_jobs=-1)]: Done  18 tasks      | elapsed:   28.2s\n",
      "[Parallel(n_jobs=-1)]: Done 150 out of 150 | elapsed:  2.4min finished\n",
      "[Parallel(n_jobs=16)]: Using backend ThreadingBackend with 16 concurrent workers.\n",
      "[Parallel(n_jobs=16)]: Done  18 tasks      | elapsed:    1.0s\n",
      "[Parallel(n_jobs=16)]: Done 150 out of 150 | elapsed:    7.6s finished\n"
     ]
    },
    {
     "name": "stdout",
     "output_type": "stream",
     "text": [
      "Cross validation average score: 0.7324 +/- standard deviation: 0.0586\n",
      "Accuracy on the test set: 0.6245\n",
      "Resource measurements: {'Training Time (s)': 152.39505314826965, 'Peak CPU Usage (%)': 100.0, 'Average CPU Usage (%)': 93.67130620985013}\n",
      "                precision    recall  f1-score   support\n",
      "\n",
      "           Bot       0.40      1.00      0.58     43193\n",
      "   Brute Force       0.48      1.00      0.65     28463\n",
      "          DDoS       0.78      0.91      0.84    232641\n",
      "           DoS       0.92      1.00      0.96     58890\n",
      " Infilteration       0.03      0.80      0.05     32259\n",
      "Normal Traffic       1.00      0.58      0.73   2590259\n",
      "\n",
      "      accuracy                           0.62   2985705\n",
      "     macro avg       0.60      0.88      0.63   2985705\n",
      "  weighted avg       0.95      0.62      0.73   2985705\n",
      "\n"
     ]
    }
   ],
   "source": [
    "eval_dataset_w_RF(X_train_resampled_scaled_MMS_ADASYN, X_test_MMS_scaled, y_train_resampled_scaled_MMS_ADASYN, y_test)"
   ]
  },
  {
   "cell_type": "code",
   "execution_count": 41,
   "id": "e3f7c3bf",
   "metadata": {},
   "outputs": [
    {
     "name": "stderr",
     "output_type": "stream",
     "text": [
      "[Parallel(n_jobs=-1)]: Using backend ThreadingBackend with 16 concurrent workers.\n",
      "[Parallel(n_jobs=-1)]: Done  18 tasks      | elapsed:   26.5s\n",
      "[Parallel(n_jobs=-1)]: Done 150 out of 150 | elapsed:  2.1min finished\n",
      "[Parallel(n_jobs=16)]: Using backend ThreadingBackend with 16 concurrent workers.\n",
      "[Parallel(n_jobs=16)]: Done  18 tasks      | elapsed:    0.8s\n",
      "[Parallel(n_jobs=16)]: Done 150 out of 150 | elapsed:    6.4s finished\n"
     ]
    },
    {
     "name": "stdout",
     "output_type": "stream",
     "text": [
      "Cross validation average score: 0.9488 +/- standard deviation: 0.0002\n",
      "Accuracy on the test set: 0.9798\n",
      "Resource measurements: {'Training Time (s)': 127.03153467178345, 'Peak CPU Usage (%)': 100.0, 'Average CPU Usage (%)': 93.86833333333338}\n",
      "                precision    recall  f1-score   support\n",
      "\n",
      "           Bot       1.00      0.99      1.00     43193\n",
      "   Brute Force       1.00      0.99      1.00     28463\n",
      "          DDoS       0.90      0.99      0.95    232641\n",
      "           DoS       0.99      1.00      0.99     58890\n",
      " Infilteration       0.40      0.09      0.14     32259\n",
      "Normal Traffic       0.99      0.99      0.99   2590259\n",
      "\n",
      "      accuracy                           0.98   2985705\n",
      "     macro avg       0.88      0.84      0.84   2985705\n",
      "  weighted avg       0.98      0.98      0.98   2985705\n",
      "\n"
     ]
    }
   ],
   "source": [
    "eval_dataset_w_RF(X_train_resampled_SMOTE, X_test, y_train_resampled_SMOTE, y_test)"
   ]
  },
  {
   "cell_type": "code",
   "execution_count": 42,
   "id": "c34d5496",
   "metadata": {},
   "outputs": [
    {
     "name": "stderr",
     "output_type": "stream",
     "text": [
      "[Parallel(n_jobs=-1)]: Using backend ThreadingBackend with 16 concurrent workers.\n",
      "[Parallel(n_jobs=-1)]: Done  18 tasks      | elapsed:   20.8s\n",
      "[Parallel(n_jobs=-1)]: Done 150 out of 150 | elapsed:  1.7min finished\n",
      "[Parallel(n_jobs=16)]: Using backend ThreadingBackend with 16 concurrent workers.\n",
      "[Parallel(n_jobs=16)]: Done  18 tasks      | elapsed:    0.8s\n",
      "[Parallel(n_jobs=16)]: Done 150 out of 150 | elapsed:    6.2s finished\n"
     ]
    },
    {
     "name": "stdout",
     "output_type": "stream",
     "text": [
      "Cross validation average score: 0.9490 +/- standard deviation: 0.0003\n",
      "Accuracy on the test set: 0.9800\n",
      "Resource measurements: {'Training Time (s)': 106.99099493026733, 'Peak CPU Usage (%)': 100.0, 'Average CPU Usage (%)': 92.2897260273973}\n",
      "                precision    recall  f1-score   support\n",
      "\n",
      "           Bot       1.00      0.99      1.00     43193\n",
      "   Brute Force       1.00      0.99      1.00     28463\n",
      "          DDoS       0.90      0.99      0.95    232641\n",
      "           DoS       0.99      1.00      0.99     58890\n",
      " Infilteration       0.41      0.09      0.14     32259\n",
      "Normal Traffic       0.99      0.99      0.99   2590259\n",
      "\n",
      "      accuracy                           0.98   2985705\n",
      "     macro avg       0.88      0.84      0.84   2985705\n",
      "  weighted avg       0.98      0.98      0.98   2985705\n",
      "\n"
     ]
    }
   ],
   "source": [
    "eval_dataset_w_RF(X_train_resampled_scaled_RS_SMOTE, X_test_RS_scaled, y_train_resampled_scaled_RS_SMOTE, y_test)"
   ]
  },
  {
   "cell_type": "code",
   "execution_count": 43,
   "id": "f0cbd5e2",
   "metadata": {},
   "outputs": [
    {
     "name": "stderr",
     "output_type": "stream",
     "text": [
      "[Parallel(n_jobs=-1)]: Using backend ThreadingBackend with 16 concurrent workers.\n",
      "[Parallel(n_jobs=-1)]: Done  18 tasks      | elapsed:   12.2s\n",
      "[Parallel(n_jobs=-1)]: Done 150 out of 150 | elapsed:   59.1s finished\n",
      "[Parallel(n_jobs=16)]: Using backend ThreadingBackend with 16 concurrent workers.\n",
      "[Parallel(n_jobs=16)]: Done  18 tasks      | elapsed:    0.8s\n",
      "[Parallel(n_jobs=16)]: Done 150 out of 150 | elapsed:    6.0s finished\n"
     ]
    },
    {
     "name": "stdout",
     "output_type": "stream",
     "text": [
      "Cross validation average score: 0.9486 +/- standard deviation: 0.0006\n",
      "Accuracy on the test set: 0.9799\n",
      "Resource measurements: {'Training Time (s)': 62.386807441711426, 'Peak CPU Usage (%)': 100.0, 'Average CPU Usage (%)': 91.2165577342048}\n",
      "                precision    recall  f1-score   support\n",
      "\n",
      "           Bot       1.00      0.99      1.00     43193\n",
      "   Brute Force       1.00      0.99      1.00     28463\n",
      "          DDoS       0.90      0.99      0.95    232641\n",
      "           DoS       0.97      1.00      0.98     58890\n",
      " Infilteration       0.48      0.06      0.10     32259\n",
      "Normal Traffic       0.99      0.99      0.99   2590259\n",
      "\n",
      "      accuracy                           0.98   2985705\n",
      "     macro avg       0.89      0.84      0.84   2985705\n",
      "  weighted avg       0.98      0.98      0.98   2985705\n",
      "\n"
     ]
    }
   ],
   "source": [
    "eval_dataset_w_RF(X_train_resampled_scaled_MMS_SMOTE, X_test_MMS_scaled, y_train_resampled_scaled_MMS_SMOTE, y_test)"
   ]
  },
  {
   "cell_type": "code",
   "execution_count": 44,
   "id": "0f12ff97",
   "metadata": {},
   "outputs": [
    {
     "name": "stderr",
     "output_type": "stream",
     "text": [
      "[Parallel(n_jobs=-1)]: Using backend ThreadingBackend with 16 concurrent workers.\n",
      "[Parallel(n_jobs=-1)]: Done  18 tasks      | elapsed:   20.9s\n",
      "[Parallel(n_jobs=-1)]: Done 150 out of 150 | elapsed:  1.8min finished\n",
      "[Parallel(n_jobs=16)]: Using backend ThreadingBackend with 16 concurrent workers.\n",
      "[Parallel(n_jobs=16)]: Done  18 tasks      | elapsed:    0.9s\n",
      "[Parallel(n_jobs=16)]: Done 150 out of 150 | elapsed:    6.2s finished\n"
     ]
    },
    {
     "name": "stdout",
     "output_type": "stream",
     "text": [
      "Cross validation average score: 0.9343 +/- standard deviation: 0.0172\n",
      "Accuracy on the test set: 0.9760\n",
      "Resource measurements: {'Training Time (s)': 109.25994896888733, 'Peak CPU Usage (%)': 100.0, 'Average CPU Usage (%)': 91.75775978407553}\n",
      "                precision    recall  f1-score   support\n",
      "\n",
      "           Bot       0.97      1.00      0.99     43193\n",
      "   Brute Force       0.92      1.00      0.96     28463\n",
      "          DDoS       0.87      1.00      0.93    232641\n",
      "           DoS       0.98      1.00      0.99     58890\n",
      " Infilteration       0.43      0.08      0.13     32259\n",
      "Normal Traffic       0.99      0.98      0.99   2590259\n",
      "\n",
      "      accuracy                           0.98   2985705\n",
      "     macro avg       0.86      0.84      0.83   2985705\n",
      "  weighted avg       0.97      0.98      0.97   2985705\n",
      "\n"
     ]
    }
   ],
   "source": [
    "eval_dataset_w_RF(X_train_resampled_BSMOTE, X_test, y_train_resampled_BSMOTE, y_test)"
   ]
  },
  {
   "cell_type": "code",
   "execution_count": 45,
   "id": "2b85c54d",
   "metadata": {},
   "outputs": [
    {
     "name": "stderr",
     "output_type": "stream",
     "text": [
      "[Parallel(n_jobs=-1)]: Using backend ThreadingBackend with 16 concurrent workers.\n",
      "[Parallel(n_jobs=-1)]: Done  18 tasks      | elapsed:   21.2s\n",
      "[Parallel(n_jobs=-1)]: Done 150 out of 150 | elapsed:  1.7min finished\n",
      "[Parallel(n_jobs=16)]: Using backend ThreadingBackend with 16 concurrent workers.\n",
      "[Parallel(n_jobs=16)]: Done  18 tasks      | elapsed:    0.8s\n",
      "[Parallel(n_jobs=16)]: Done 150 out of 150 | elapsed:    6.3s finished\n"
     ]
    },
    {
     "name": "stdout",
     "output_type": "stream",
     "text": [
      "Cross validation average score: 0.9414 +/- standard deviation: 0.0083\n",
      "Accuracy on the test set: 0.9789\n",
      "Resource measurements: {'Training Time (s)': 106.98057055473328, 'Peak CPU Usage (%)': 100.0, 'Average CPU Usage (%)': 92.47864077669898}\n",
      "                precision    recall  f1-score   support\n",
      "\n",
      "           Bot       0.98      1.00      0.99     43193\n",
      "   Brute Force       0.91      1.00      0.95     28463\n",
      "          DDoS       0.90      0.99      0.95    232641\n",
      "           DoS       0.99      1.00      0.99     58890\n",
      " Infilteration       0.43      0.08      0.13     32259\n",
      "Normal Traffic       0.99      0.99      0.99   2590259\n",
      "\n",
      "      accuracy                           0.98   2985705\n",
      "     macro avg       0.87      0.84      0.83   2985705\n",
      "  weighted avg       0.97      0.98      0.98   2985705\n",
      "\n"
     ]
    }
   ],
   "source": [
    "eval_dataset_w_RF(X_train_resampled_scaled_RS_BSMOTE, X_test_RS_scaled, y_train_resampled_scaled_RS_BSMOTE, y_test)"
   ]
  },
  {
   "cell_type": "code",
   "execution_count": 46,
   "id": "f91c4ecc",
   "metadata": {},
   "outputs": [
    {
     "name": "stderr",
     "output_type": "stream",
     "text": [
      "[Parallel(n_jobs=-1)]: Using backend ThreadingBackend with 16 concurrent workers.\n",
      "[Parallel(n_jobs=-1)]: Done  18 tasks      | elapsed:   12.0s\n",
      "[Parallel(n_jobs=-1)]: Done 150 out of 150 | elapsed:   58.0s finished\n",
      "[Parallel(n_jobs=16)]: Using backend ThreadingBackend with 16 concurrent workers.\n",
      "[Parallel(n_jobs=16)]: Done  18 tasks      | elapsed:    0.8s\n",
      "[Parallel(n_jobs=16)]: Done 150 out of 150 | elapsed:    6.2s finished\n"
     ]
    },
    {
     "name": "stdout",
     "output_type": "stream",
     "text": [
      "Cross validation average score: 0.9020 +/- standard deviation: 0.0488\n",
      "Accuracy on the test set: 0.9586\n",
      "Resource measurements: {'Training Time (s)': 60.74031662940979, 'Peak CPU Usage (%)': 100.0, 'Average CPU Usage (%)': 93.24832962138082}\n",
      "                precision    recall  f1-score   support\n",
      "\n",
      "           Bot       1.00      0.99      1.00     43193\n",
      "   Brute Force       1.00      0.99      1.00     28463\n",
      "          DDoS       0.72      1.00      0.84    232641\n",
      "           DoS       0.96      1.00      0.98     58890\n",
      " Infilteration       0.48      0.04      0.08     32259\n",
      "Normal Traffic       0.99      0.96      0.98   2590259\n",
      "\n",
      "      accuracy                           0.96   2985705\n",
      "     macro avg       0.86      0.83      0.81   2985705\n",
      "  weighted avg       0.96      0.96      0.96   2985705\n",
      "\n"
     ]
    }
   ],
   "source": [
    "eval_dataset_w_RF(X_train_resampled_scaled_MMS_BSMOTE, X_test_MMS_scaled, y_train_resampled_scaled_MMS_BSMOTE, y_test)"
   ]
  },
  {
   "cell_type": "markdown",
   "id": "6fb67bbb",
   "metadata": {},
   "source": [
    "## Eval KNN"
   ]
  },
  {
   "cell_type": "code",
   "execution_count": 47,
   "id": "779f7e9a",
   "metadata": {},
   "outputs": [
    {
     "name": "stdout",
     "output_type": "stream",
     "text": [
      "Cross validation average score: 0.8732 +/- standard deviation: 0.0157\n",
      "Accuracy on the test set: 0.8317\n",
      "Resource measurements: {'Training Time (s)': 50.47208070755005, 'Peak CPU Usage (%)': 22.3, 'Average CPU Usage (%)': 9.303125}\n",
      "                precision    recall  f1-score   support\n",
      "\n",
      "           Bot       0.89      1.00      0.94     43193\n",
      "   Brute Force       0.88      1.00      0.94     28463\n",
      "          DDoS       0.86      0.97      0.91    232641\n",
      "           DoS       0.80      0.98      0.88     58890\n",
      " Infilteration       0.04      0.54      0.07     32259\n",
      "Normal Traffic       0.99      0.82      0.90   2590259\n",
      "\n",
      "      accuracy                           0.83   2985705\n",
      "     macro avg       0.75      0.88      0.77   2985705\n",
      "  weighted avg       0.97      0.83      0.89   2985705\n",
      "\n"
     ]
    }
   ],
   "source": [
    "eval_dataset_w_KNN(X_train_resampled_ADASYN, X_test, y_train_resampled_ADASYN, y_test)"
   ]
  },
  {
   "cell_type": "code",
   "execution_count": 48,
   "id": "d5b6e423",
   "metadata": {},
   "outputs": [
    {
     "name": "stdout",
     "output_type": "stream",
     "text": [
      "Cross validation average score: 0.8553 +/- standard deviation: 0.0304\n",
      "Accuracy on the test set: 0.8203\n",
      "Resource measurements: {'Training Time (s)': 43.186851978302, 'Peak CPU Usage (%)': 12.1, 'Average CPU Usage (%)': 5.824137931034483}\n",
      "                precision    recall  f1-score   support\n",
      "\n",
      "           Bot       0.88      1.00      0.94     43193\n",
      "   Brute Force       0.91      1.00      0.95     28463\n",
      "          DDoS       0.75      0.98      0.85    232641\n",
      "           DoS       0.57      0.99      0.73     58890\n",
      " Infilteration       0.04      0.57      0.08     32259\n",
      "Normal Traffic       0.99      0.80      0.89   2590259\n",
      "\n",
      "      accuracy                           0.82   2985705\n",
      "     macro avg       0.69      0.89      0.74   2985705\n",
      "  weighted avg       0.95      0.82      0.87   2985705\n",
      "\n"
     ]
    }
   ],
   "source": [
    "eval_dataset_w_KNN(X_train_resampled_scaled_RS_ADASYN, X_test_RS_scaled, y_train_resampled_scaled_RS_ADASYN, y_test)"
   ]
  },
  {
   "cell_type": "code",
   "execution_count": 49,
   "id": "8313e70c",
   "metadata": {},
   "outputs": [
    {
     "name": "stdout",
     "output_type": "stream",
     "text": [
      "Cross validation average score: 0.8124 +/- standard deviation: 0.0508\n",
      "Accuracy on the test set: 0.8573\n",
      "Resource measurements: {'Training Time (s)': 41.4168586730957, 'Peak CPU Usage (%)': 11.9, 'Average CPU Usage (%)': 7.3500000000000005}\n",
      "                precision    recall  f1-score   support\n",
      "\n",
      "           Bot       0.93      1.00      0.96     43193\n",
      "   Brute Force       0.91      1.00      0.95     28463\n",
      "          DDoS       0.91      0.99      0.95    232641\n",
      "           DoS       0.98      0.99      0.99     58890\n",
      " Infilteration       0.05      0.60      0.09     32259\n",
      "Normal Traffic       0.99      0.84      0.91   2590259\n",
      "\n",
      "      accuracy                           0.86   2985705\n",
      "     macro avg       0.80      0.90      0.81   2985705\n",
      "  weighted avg       0.98      0.86      0.91   2985705\n",
      "\n"
     ]
    }
   ],
   "source": [
    "eval_dataset_w_KNN(X_train_resampled_scaled_MMS_ADASYN, X_test_MMS_scaled, y_train_resampled_scaled_MMS_ADASYN, y_test)"
   ]
  },
  {
   "cell_type": "code",
   "execution_count": 50,
   "id": "29cca66a",
   "metadata": {},
   "outputs": [
    {
     "name": "stdout",
     "output_type": "stream",
     "text": [
      "Cross validation average score: 0.9447 +/- standard deviation: 0.0045\n",
      "Accuracy on the test set: 0.9454\n",
      "Resource measurements: {'Training Time (s)': 18.83424711227417, 'Peak CPU Usage (%)': 13.2, 'Average CPU Usage (%)': 8.075000000000001}\n",
      "                precision    recall  f1-score   support\n",
      "\n",
      "           Bot       0.98      1.00      0.99     43193\n",
      "   Brute Force       0.97      0.99      0.98     28463\n",
      "          DDoS       0.91      0.99      0.95    232641\n",
      "           DoS       0.91      0.96      0.93     58890\n",
      " Infilteration       0.08      0.30      0.13     32259\n",
      "Normal Traffic       0.99      0.95      0.97   2590259\n",
      "\n",
      "      accuracy                           0.95   2985705\n",
      "     macro avg       0.81      0.86      0.82   2985705\n",
      "  weighted avg       0.97      0.95      0.96   2985705\n",
      "\n"
     ]
    }
   ],
   "source": [
    "eval_dataset_w_KNN(X_train_resampled_SMOTE, X_test, y_train_resampled_SMOTE, y_test)"
   ]
  },
  {
   "cell_type": "code",
   "execution_count": 51,
   "id": "0964b52f",
   "metadata": {},
   "outputs": [
    {
     "name": "stdout",
     "output_type": "stream",
     "text": [
      "Cross validation average score: 0.9388 +/- standard deviation: 0.0043\n",
      "Accuracy on the test set: 0.9364\n",
      "Resource measurements: {'Training Time (s)': 16.681118726730347, 'Peak CPU Usage (%)': 8.1, 'Average CPU Usage (%)': 6.14}\n",
      "                precision    recall  f1-score   support\n",
      "\n",
      "           Bot       0.98      1.00      0.99     43193\n",
      "   Brute Force       0.98      0.99      0.99     28463\n",
      "          DDoS       0.82      0.98      0.89    232641\n",
      "           DoS       0.86      0.97      0.91     58890\n",
      " Infilteration       0.10      0.34      0.15     32259\n",
      "Normal Traffic       0.99      0.94      0.96   2590259\n",
      "\n",
      "      accuracy                           0.94   2985705\n",
      "     macro avg       0.79      0.87      0.82   2985705\n",
      "  weighted avg       0.96      0.94      0.95   2985705\n",
      "\n"
     ]
    }
   ],
   "source": [
    "eval_dataset_w_KNN(X_train_resampled_scaled_RS_SMOTE, X_test_RS_scaled, y_train_resampled_scaled_RS_SMOTE, y_test)"
   ]
  },
  {
   "cell_type": "code",
   "execution_count": 52,
   "id": "adf7b44b",
   "metadata": {},
   "outputs": [
    {
     "name": "stdout",
     "output_type": "stream",
     "text": [
      "Cross validation average score: 0.9535 +/- standard deviation: 0.0030\n",
      "Accuracy on the test set: 0.9540\n",
      "Resource measurements: {'Training Time (s)': 16.674004316329956, 'Peak CPU Usage (%)': 7.6, 'Average CPU Usage (%)': 5.5600000000000005}\n",
      "                precision    recall  f1-score   support\n",
      "\n",
      "           Bot       0.99      1.00      0.99     43193\n",
      "   Brute Force       0.98      1.00      0.99     28463\n",
      "          DDoS       0.94      0.99      0.97    232641\n",
      "           DoS       0.99      1.00      0.99     58890\n",
      " Infilteration       0.10      0.35      0.16     32259\n",
      "Normal Traffic       0.99      0.96      0.97   2590259\n",
      "\n",
      "      accuracy                           0.95   2985705\n",
      "     macro avg       0.83      0.88      0.85   2985705\n",
      "  weighted avg       0.98      0.95      0.96   2985705\n",
      "\n"
     ]
    }
   ],
   "source": [
    "eval_dataset_w_KNN(X_train_resampled_scaled_MMS_SMOTE, X_test_MMS_scaled, y_train_resampled_scaled_MMS_SMOTE, y_test)"
   ]
  },
  {
   "cell_type": "code",
   "execution_count": 53,
   "id": "f3ceacc8",
   "metadata": {},
   "outputs": [
    {
     "name": "stdout",
     "output_type": "stream",
     "text": [
      "Cross validation average score: 0.9281 +/- standard deviation: 0.0157\n",
      "Accuracy on the test set: 0.9404\n",
      "Resource measurements: {'Training Time (s)': 19.088042974472046, 'Peak CPU Usage (%)': 12.7, 'Average CPU Usage (%)': 8.612499999999999}\n",
      "                precision    recall  f1-score   support\n",
      "\n",
      "           Bot       0.96      1.00      0.98     43193\n",
      "   Brute Force       0.93      1.00      0.96     28463\n",
      "          DDoS       0.87      0.99      0.92    232641\n",
      "           DoS       0.89      0.95      0.92     58890\n",
      " Infilteration       0.08      0.31      0.13     32259\n",
      "Normal Traffic       0.99      0.94      0.97   2590259\n",
      "\n",
      "      accuracy                           0.94   2985705\n",
      "     macro avg       0.79      0.86      0.81   2985705\n",
      "  weighted avg       0.97      0.94      0.95   2985705\n",
      "\n"
     ]
    }
   ],
   "source": [
    "eval_dataset_w_KNN(X_train_resampled_BSMOTE, X_test, y_train_resampled_BSMOTE, y_test)"
   ]
  },
  {
   "cell_type": "code",
   "execution_count": 54,
   "id": "765eeb4b",
   "metadata": {},
   "outputs": [
    {
     "name": "stdout",
     "output_type": "stream",
     "text": [
      "Cross validation average score: 0.9233 +/- standard deviation: 0.0146\n",
      "Accuracy on the test set: 0.9231\n",
      "Resource measurements: {'Training Time (s)': 17.716742038726807, 'Peak CPU Usage (%)': 13.6, 'Average CPU Usage (%)': 9.866666666666665}\n",
      "                precision    recall  f1-score   support\n",
      "\n",
      "           Bot       0.95      1.00      0.97     43193\n",
      "   Brute Force       0.94      1.00      0.97     28463\n",
      "          DDoS       0.73      0.99      0.84    232641\n",
      "           DoS       0.82      0.98      0.89     58890\n",
      " Infilteration       0.10      0.35      0.15     32259\n",
      "Normal Traffic       0.99      0.92      0.95   2590259\n",
      "\n",
      "      accuracy                           0.92   2985705\n",
      "     macro avg       0.75      0.87      0.80   2985705\n",
      "  weighted avg       0.96      0.92      0.94   2985705\n",
      "\n"
     ]
    }
   ],
   "source": [
    "eval_dataset_w_KNN(X_train_resampled_scaled_RS_BSMOTE, X_test_RS_scaled, y_train_resampled_scaled_RS_BSMOTE, y_test)"
   ]
  },
  {
   "cell_type": "code",
   "execution_count": 55,
   "id": "aee05e0d",
   "metadata": {},
   "outputs": [
    {
     "name": "stdout",
     "output_type": "stream",
     "text": [
      "Cross validation average score: 0.9264 +/- standard deviation: 0.0290\n",
      "Accuracy on the test set: 0.9484\n",
      "Resource measurements: {'Training Time (s)': 19.293482303619385, 'Peak CPU Usage (%)': 17.7, 'Average CPU Usage (%)': 12.25}\n",
      "                precision    recall  f1-score   support\n",
      "\n",
      "           Bot       0.97      1.00      0.98     43193\n",
      "   Brute Force       0.95      1.00      0.97     28463\n",
      "          DDoS       0.90      0.99      0.95    232641\n",
      "           DoS       0.98      1.00      0.99     58890\n",
      " Infilteration       0.10      0.36      0.16     32259\n",
      "Normal Traffic       0.99      0.95      0.97   2590259\n",
      "\n",
      "      accuracy                           0.95   2985705\n",
      "     macro avg       0.82      0.88      0.84   2985705\n",
      "  weighted avg       0.97      0.95      0.96   2985705\n",
      "\n"
     ]
    }
   ],
   "source": [
    "eval_dataset_w_KNN(X_train_resampled_scaled_MMS_BSMOTE, X_test_MMS_scaled, y_train_resampled_scaled_MMS_BSMOTE, y_test)"
   ]
  },
  {
   "cell_type": "markdown",
   "id": "c0b9f104",
   "metadata": {},
   "source": [
    "## Tweaking OverSampling"
   ]
  },
  {
   "cell_type": "code",
   "execution_count": 58,
   "id": "57dc02f2",
   "metadata": {},
   "outputs": [],
   "source": [
    "X_train_scaled_rus_MMS, y_train_scaled_rus_MMS = RandomUnderSampler(sampling_strategy={'Normal Traffic': 1000000}, random_state=42).fit_resample(X_train_MMS_scaled, y_train)\n",
    "\n",
    "X_train_resampled_scaled_MMS_SMOTE, y_train_resampled_scaled_MMS_SMOTE = SMOTE(sampling_strategy={'Bot': 150000, 'Brute Force': 100000, 'Infilteration': 150000, 'DDoS':780000, 'DoS': 200000}, random_state=42).fit_resample(X_train_scaled_rus_MMS, y_train_scaled_rus_MMS)"
   ]
  },
  {
   "cell_type": "code",
   "execution_count": 59,
   "id": "49eb4707",
   "metadata": {},
   "outputs": [
    {
     "name": "stderr",
     "output_type": "stream",
     "text": [
      "[Parallel(n_jobs=-1)]: Using backend ThreadingBackend with 16 concurrent workers.\n",
      "[Parallel(n_jobs=-1)]: Done  18 tasks      | elapsed:   13.5s\n",
      "[Parallel(n_jobs=-1)]: Done 150 out of 150 | elapsed:  1.1min finished\n",
      "[Parallel(n_jobs=16)]: Using backend ThreadingBackend with 16 concurrent workers.\n",
      "[Parallel(n_jobs=16)]: Done  18 tasks      | elapsed:    0.9s\n",
      "[Parallel(n_jobs=16)]: Done 150 out of 150 | elapsed:    6.5s finished\n"
     ]
    },
    {
     "name": "stdout",
     "output_type": "stream",
     "text": [
      "Cross validation average score: 0.9353 +/- standard deviation: 0.0005\n",
      "Accuracy on the test set: 0.9792\n",
      "Resource measurements: {'Training Time (s)': 67.4256956577301, 'Peak CPU Usage (%)': 100.0, 'Average CPU Usage (%)': 93.48983739837395}\n",
      "                precision    recall  f1-score   support\n",
      "\n",
      "           Bot       1.00      0.99      1.00     43193\n",
      "   Brute Force       1.00      0.99      1.00     28463\n",
      "          DDoS       0.90      0.99      0.95    232641\n",
      "           DoS       0.97      1.00      0.98     58890\n",
      " Infilteration       0.37      0.10      0.15     32259\n",
      "Normal Traffic       0.99      0.99      0.99   2590259\n",
      "\n",
      "      accuracy                           0.98   2985705\n",
      "     macro avg       0.87      0.84      0.84   2985705\n",
      "  weighted avg       0.97      0.98      0.98   2985705\n",
      "\n"
     ]
    }
   ],
   "source": [
    "eval_dataset_w_RF(X_train_resampled_scaled_MMS_SMOTE, X_test_MMS_scaled, y_train_resampled_scaled_MMS_SMOTE, y_test)"
   ]
  },
  {
   "cell_type": "code",
   "execution_count": 60,
   "id": "9471dbf2",
   "metadata": {},
   "outputs": [],
   "source": [
    "X_train_scaled_rus_MMS, y_train_scaled_rus_MMS = RandomUnderSampler(sampling_strategy={'Normal Traffic': 1000000}, random_state=42).fit_resample(X_train_MMS_scaled, y_train)\n",
    "\n",
    "X_train_resampled_scaled_MMS_SMOTE, y_train_resampled_scaled_MMS_SMOTE = SMOTE(sampling_strategy={'Bot': 150000, 'Brute Force': 100000, 'Infilteration': 200000, 'DDoS':780000, 'DoS': 200000}, random_state=42).fit_resample(X_train_scaled_rus_MMS, y_train_scaled_rus_MMS)\n"
   ]
  },
  {
   "cell_type": "code",
   "execution_count": 61,
   "id": "2630ff97",
   "metadata": {},
   "outputs": [
    {
     "name": "stderr",
     "output_type": "stream",
     "text": [
      "[Parallel(n_jobs=-1)]: Using backend ThreadingBackend with 16 concurrent workers.\n",
      "[Parallel(n_jobs=-1)]: Done  18 tasks      | elapsed:   13.7s\n",
      "[Parallel(n_jobs=-1)]: Done 150 out of 150 | elapsed:  1.1min finished\n",
      "[Parallel(n_jobs=16)]: Using backend ThreadingBackend with 16 concurrent workers.\n",
      "[Parallel(n_jobs=16)]: Done  18 tasks      | elapsed:    0.9s\n",
      "[Parallel(n_jobs=16)]: Done 150 out of 150 | elapsed:    6.6s finished\n"
     ]
    },
    {
     "name": "stdout",
     "output_type": "stream",
     "text": [
      "Cross validation average score: 0.9193 +/- standard deviation: 0.0003\n",
      "Accuracy on the test set: 0.9763\n",
      "Resource measurements: {'Training Time (s)': 69.95448899269104, 'Peak CPU Usage (%)': 100.0, 'Average CPU Usage (%)': 94.39117647058825}\n",
      "                precision    recall  f1-score   support\n",
      "\n",
      "           Bot       1.00      0.99      1.00     43193\n",
      "   Brute Force       1.00      0.99      1.00     28463\n",
      "          DDoS       0.90      0.99      0.95    232641\n",
      "           DoS       0.97      1.00      0.98     58890\n",
      " Infilteration       0.22      0.14      0.17     32259\n",
      "Normal Traffic       0.99      0.98      0.99   2590259\n",
      "\n",
      "      accuracy                           0.98   2985705\n",
      "     macro avg       0.85      0.85      0.85   2985705\n",
      "  weighted avg       0.97      0.98      0.97   2985705\n",
      "\n"
     ]
    }
   ],
   "source": [
    "eval_dataset_w_RF(X_train_resampled_scaled_MMS_SMOTE, X_test_MMS_scaled, y_train_resampled_scaled_MMS_SMOTE, y_test)"
   ]
  },
  {
   "cell_type": "code",
   "execution_count": 62,
   "id": "e9aaf427",
   "metadata": {},
   "outputs": [],
   "source": [
    "X_train_scaled_rus_MMS, y_train_scaled_rus_MMS = RandomUnderSampler(sampling_strategy={'Normal Traffic': 1000000}, random_state=42).fit_resample(X_train_MMS_scaled, y_train)\n",
    "\n",
    "X_train_resampled_scaled_MMS_SMOTE, y_train_resampled_scaled_MMS_SMOTE = SMOTE(sampling_strategy={'Bot': 150000, 'Brute Force': 100000, 'Infilteration': 250000, 'DDoS':780000, 'DoS': 200000}, random_state=42).fit_resample(X_train_scaled_rus_MMS, y_train_scaled_rus_MMS)"
   ]
  },
  {
   "cell_type": "code",
   "execution_count": 63,
   "id": "275ab284",
   "metadata": {},
   "outputs": [
    {
     "name": "stderr",
     "output_type": "stream",
     "text": [
      "[Parallel(n_jobs=-1)]: Using backend ThreadingBackend with 16 concurrent workers.\n",
      "[Parallel(n_jobs=-1)]: Done  18 tasks      | elapsed:   13.6s\n",
      "[Parallel(n_jobs=-1)]: Done 150 out of 150 | elapsed:  1.2min finished\n",
      "[Parallel(n_jobs=16)]: Using backend ThreadingBackend with 16 concurrent workers.\n",
      "[Parallel(n_jobs=16)]: Done  18 tasks      | elapsed:    1.0s\n",
      "[Parallel(n_jobs=16)]: Done 150 out of 150 | elapsed:    7.2s finished\n"
     ]
    },
    {
     "name": "stdout",
     "output_type": "stream",
     "text": [
      "Cross validation average score: 0.9080 +/- standard deviation: 0.0002\n",
      "Accuracy on the test set: 0.9655\n",
      "Resource measurements: {'Training Time (s)': 73.9387412071228, 'Peak CPU Usage (%)': 100.0, 'Average CPU Usage (%)': 95.15779092702168}\n",
      "                precision    recall  f1-score   support\n",
      "\n",
      "           Bot       1.00      0.99      1.00     43193\n",
      "   Brute Force       1.00      0.99      1.00     28463\n",
      "          DDoS       0.90      0.99      0.95    232641\n",
      "           DoS       0.97      1.00      0.98     58890\n",
      " Infilteration       0.13      0.22      0.16     32259\n",
      "Normal Traffic       0.99      0.97      0.98   2590259\n",
      "\n",
      "      accuracy                           0.97   2985705\n",
      "     macro avg       0.83      0.86      0.84   2985705\n",
      "  weighted avg       0.97      0.97      0.97   2985705\n",
      "\n"
     ]
    }
   ],
   "source": [
    "eval_dataset_w_RF(X_train_resampled_scaled_MMS_SMOTE, X_test_MMS_scaled, y_train_resampled_scaled_MMS_SMOTE, y_test)"
   ]
  },
  {
   "cell_type": "code",
   "execution_count": 64,
   "id": "6c907810",
   "metadata": {},
   "outputs": [],
   "source": [
    "X_train_scaled_rus_MMS, y_train_scaled_rus_MMS = RandomUnderSampler(sampling_strategy={'Normal Traffic': 1000000}, random_state=42).fit_resample(X_train_MMS_scaled, y_train)\n",
    "\n",
    "X_train_resampled_scaled_MMS_SMOTE, y_train_resampled_scaled_MMS_SMOTE = SMOTE(sampling_strategy={'Bot': 150000, 'Brute Force': 100000, 'Infilteration': 300000, 'DDoS':780000, 'DoS': 200000}, random_state=42).fit_resample(X_train_scaled_rus_MMS, y_train_scaled_rus_MMS)"
   ]
  },
  {
   "cell_type": "code",
   "execution_count": 65,
   "id": "f1fd4161",
   "metadata": {},
   "outputs": [
    {
     "name": "stderr",
     "output_type": "stream",
     "text": [
      "[Parallel(n_jobs=-1)]: Using backend ThreadingBackend with 16 concurrent workers.\n",
      "[Parallel(n_jobs=-1)]: Done  18 tasks      | elapsed:   15.5s\n",
      "[Parallel(n_jobs=-1)]: Done 150 out of 150 | elapsed:  1.3min finished\n",
      "[Parallel(n_jobs=16)]: Using backend ThreadingBackend with 16 concurrent workers.\n",
      "[Parallel(n_jobs=16)]: Done  18 tasks      | elapsed:    0.9s\n",
      "[Parallel(n_jobs=16)]: Done 150 out of 150 | elapsed:    6.8s finished\n"
     ]
    },
    {
     "name": "stdout",
     "output_type": "stream",
     "text": [
      "Cross validation average score: 0.8958 +/- standard deviation: 0.0006\n",
      "Accuracy on the test set: 0.9615\n",
      "Resource measurements: {'Training Time (s)': 78.69945096969604, 'Peak CPU Usage (%)': 100.0, 'Average CPU Usage (%)': 94.82504604051569}\n",
      "                precision    recall  f1-score   support\n",
      "\n",
      "           Bot       1.00      0.99      1.00     43193\n",
      "   Brute Force       1.00      0.99      1.00     28463\n",
      "          DDoS       0.90      0.99      0.94    232641\n",
      "           DoS       0.97      1.00      0.98     58890\n",
      " Infilteration       0.12      0.25      0.16     32259\n",
      "Normal Traffic       0.99      0.97      0.98   2590259\n",
      "\n",
      "      accuracy                           0.96   2985705\n",
      "     macro avg       0.83      0.87      0.84   2985705\n",
      "  weighted avg       0.97      0.96      0.97   2985705\n",
      "\n"
     ]
    }
   ],
   "source": [
    "eval_dataset_w_RF(X_train_resampled_scaled_MMS_SMOTE, X_test_MMS_scaled, y_train_resampled_scaled_MMS_SMOTE, y_test)"
   ]
  },
  {
   "cell_type": "code",
   "execution_count": 66,
   "id": "7efc7a1f",
   "metadata": {},
   "outputs": [],
   "source": [
    "X_train_scaled_rus_MMS, y_train_scaled_rus_MMS = RandomUnderSampler(sampling_strategy={'Normal Traffic': 1000000}, random_state=42).fit_resample(X_train_MMS_scaled, y_train)\n",
    "\n",
    "X_train_resampled_scaled_MMS_SMOTE, y_train_resampled_scaled_MMS_SMOTE = SMOTE(sampling_strategy={'Bot': 150000, 'Brute Force': 100000, 'Infilteration': 400000, 'DDoS':780000, 'DoS': 200000}, random_state=42).fit_resample(X_train_scaled_rus_MMS, y_train_scaled_rus_MMS)"
   ]
  },
  {
   "cell_type": "code",
   "execution_count": 67,
   "id": "f5d9c983",
   "metadata": {},
   "outputs": [
    {
     "name": "stderr",
     "output_type": "stream",
     "text": [
      "[Parallel(n_jobs=-1)]: Using backend ThreadingBackend with 16 concurrent workers.\n",
      "[Parallel(n_jobs=-1)]: Done  18 tasks      | elapsed:   15.6s\n",
      "[Parallel(n_jobs=-1)]: Done 150 out of 150 | elapsed:  1.3min finished\n",
      "[Parallel(n_jobs=16)]: Using backend ThreadingBackend with 16 concurrent workers.\n",
      "[Parallel(n_jobs=16)]: Done  18 tasks      | elapsed:    0.9s\n",
      "[Parallel(n_jobs=16)]: Done 150 out of 150 | elapsed:    6.6s finished\n"
     ]
    },
    {
     "name": "stdout",
     "output_type": "stream",
     "text": [
      "Cross validation average score: 0.8758 +/- standard deviation: 0.0006\n",
      "Accuracy on the test set: 0.9311\n",
      "Resource measurements: {'Training Time (s)': 78.87329125404358, 'Peak CPU Usage (%)': 100.0, 'Average CPU Usage (%)': 94.45982142857143}\n",
      "                precision    recall  f1-score   support\n",
      "\n",
      "           Bot       1.00      0.99      1.00     43193\n",
      "   Brute Force       1.00      0.99      1.00     28463\n",
      "          DDoS       0.90      0.99      0.94    232641\n",
      "           DoS       0.97      1.00      0.98     58890\n",
      " Infilteration       0.07      0.37      0.12     32259\n",
      "Normal Traffic       0.99      0.93      0.96   2590259\n",
      "\n",
      "      accuracy                           0.93   2985705\n",
      "     macro avg       0.82      0.88      0.83   2985705\n",
      "  weighted avg       0.97      0.93      0.95   2985705\n",
      "\n"
     ]
    }
   ],
   "source": [
    "eval_dataset_w_RF(X_train_resampled_scaled_MMS_SMOTE, X_test_MMS_scaled, y_train_resampled_scaled_MMS_SMOTE, y_test)"
   ]
  },
  {
   "cell_type": "code",
   "execution_count": 68,
   "id": "5b5a898b",
   "metadata": {},
   "outputs": [],
   "source": [
    "X_train_scaled_rus_MMS, y_train_scaled_rus_MMS = RandomUnderSampler(sampling_strategy={'Normal Traffic': 1000000}, random_state=42).fit_resample(X_train_MMS_scaled, y_train)\n",
    "\n",
    "X_train_resampled_scaled_MMS_SMOTE, y_train_resampled_scaled_MMS_SMOTE = SMOTE(sampling_strategy={'Bot': 150000, 'Brute Force': 100000, 'Infilteration': 500000, 'DDoS':780000, 'DoS': 200000}, random_state=42).fit_resample(X_train_scaled_rus_MMS, y_train_scaled_rus_MMS)"
   ]
  },
  {
   "cell_type": "code",
   "execution_count": 69,
   "id": "b9d89c20",
   "metadata": {},
   "outputs": [
    {
     "name": "stderr",
     "output_type": "stream",
     "text": [
      "[Parallel(n_jobs=-1)]: Using backend ThreadingBackend with 16 concurrent workers.\n",
      "[Parallel(n_jobs=-1)]: Done  18 tasks      | elapsed:   15.6s\n",
      "[Parallel(n_jobs=-1)]: Done 150 out of 150 | elapsed:  1.3min finished\n",
      "[Parallel(n_jobs=16)]: Using backend ThreadingBackend with 16 concurrent workers.\n",
      "[Parallel(n_jobs=16)]: Done  18 tasks      | elapsed:    0.8s\n",
      "[Parallel(n_jobs=16)]: Done 150 out of 150 | elapsed:    6.5s finished\n"
     ]
    },
    {
     "name": "stdout",
     "output_type": "stream",
     "text": [
      "Cross validation average score: 0.8586 +/- standard deviation: 0.0008\n",
      "Accuracy on the test set: 0.9152\n",
      "Resource measurements: {'Training Time (s)': 78.65905475616455, 'Peak CPU Usage (%)': 100.0, 'Average CPU Usage (%)': 93.65591397849457}\n",
      "                precision    recall  f1-score   support\n",
      "\n",
      "           Bot       1.00      0.99      1.00     43193\n",
      "   Brute Force       1.00      0.99      1.00     28463\n",
      "          DDoS       0.90      0.99      0.95    232641\n",
      "           DoS       0.97      1.00      0.98     58890\n",
      " Infilteration       0.06      0.41      0.11     32259\n",
      "Normal Traffic       0.99      0.91      0.95   2590259\n",
      "\n",
      "      accuracy                           0.92   2985705\n",
      "     macro avg       0.82      0.88      0.83   2985705\n",
      "  weighted avg       0.97      0.92      0.94   2985705\n",
      "\n"
     ]
    }
   ],
   "source": [
    "eval_dataset_w_RF(X_train_resampled_scaled_MMS_SMOTE, X_test_MMS_scaled, y_train_resampled_scaled_MMS_SMOTE, y_test)"
   ]
  },
  {
   "cell_type": "markdown",
   "id": "d7054340",
   "metadata": {},
   "source": [
    "## Tweaking Under Sampling"
   ]
  },
  {
   "cell_type": "code",
   "execution_count": 15,
   "id": "5d118309",
   "metadata": {},
   "outputs": [],
   "source": [
    "X_train_scaled_rus_MMS, y_train_scaled_rus_MMS = RandomUnderSampler(sampling_strategy={'Normal Traffic': 800000}, random_state=42).fit_resample(X_train_MMS_scaled, y_train)\n",
    "\n",
    "X_train_resampled_scaled_MMS_SMOTE, y_train_resampled_scaled_MMS_SMOTE = SMOTE(sampling_strategy={'Bot': 150000, 'Brute Force': 100000, 'Infilteration': 200000, 'DDoS':780000, 'DoS': 200000}, random_state=42).fit_resample(X_train_scaled_rus_MMS, y_train_scaled_rus_MMS)\n"
   ]
  },
  {
   "cell_type": "code",
   "execution_count": 16,
   "id": "accca867",
   "metadata": {},
   "outputs": [
    {
     "name": "stderr",
     "output_type": "stream",
     "text": [
      "[Parallel(n_jobs=-1)]: Using backend ThreadingBackend with 16 concurrent workers.\n",
      "[Parallel(n_jobs=-1)]: Done  18 tasks      | elapsed:   12.5s\n",
      "[Parallel(n_jobs=-1)]: Done 150 out of 150 | elapsed:  1.0min finished\n",
      "[Parallel(n_jobs=16)]: Using backend ThreadingBackend with 16 concurrent workers.\n",
      "[Parallel(n_jobs=16)]: Done  18 tasks      | elapsed:    1.0s\n",
      "[Parallel(n_jobs=16)]: Done 150 out of 150 | elapsed:    7.0s finished\n"
     ]
    },
    {
     "name": "stdout",
     "output_type": "stream",
     "text": [
      "Cross validation average score: 0.9172 +/- standard deviation: 0.0003\n",
      "Accuracy on the test set: 0.9655\n",
      "Resource measurements: {'Training Time (s)': 64.43061780929565, 'Peak CPU Usage (%)': 100.0, 'Average CPU Usage (%)': 95.85849056603774}\n",
      "                precision    recall  f1-score   support\n",
      "\n",
      "           Bot       1.00      0.99      1.00     43193\n",
      "   Brute Force       1.00      0.99      1.00     28463\n",
      "          DDoS       0.90      0.99      0.95    232641\n",
      "           DoS       0.97      1.00      0.98     58890\n",
      " Infilteration       0.13      0.22      0.16     32259\n",
      "Normal Traffic       0.99      0.97      0.98   2590259\n",
      "\n",
      "      accuracy                           0.97   2985705\n",
      "     macro avg       0.83      0.86      0.84   2985705\n",
      "  weighted avg       0.97      0.97      0.97   2985705\n",
      "\n"
     ]
    }
   ],
   "source": [
    "eval_dataset_w_RF(X_train_resampled_scaled_MMS_SMOTE, X_test_MMS_scaled, y_train_resampled_scaled_MMS_SMOTE, y_test)"
   ]
  },
  {
   "cell_type": "code",
   "execution_count": 25,
   "id": "d6020518",
   "metadata": {},
   "outputs": [],
   "source": [
    "X_train_scaled_rus_MMS, y_train_scaled_rus_MMS = RandomUnderSampler(sampling_strategy={'Normal Traffic': 1000000}, random_state=42).fit_resample(X_train_MMS_scaled, y_train)\n",
    "\n",
    "X_train_resampled_scaled_MMS_SMOTE, y_train_resampled_scaled_MMS_SMOTE = SMOTE(sampling_strategy={'Bot': 150000, 'Brute Force': 100000, 'Infilteration': 200000, 'DDoS':780000, 'DoS': 200000}, random_state=42).fit_resample(X_train_scaled_rus_MMS, y_train_scaled_rus_MMS)\n"
   ]
  },
  {
   "cell_type": "code",
   "execution_count": 26,
   "id": "fb413a39",
   "metadata": {},
   "outputs": [
    {
     "name": "stderr",
     "output_type": "stream",
     "text": [
      "[Parallel(n_jobs=-1)]: Using backend ThreadingBackend with 16 concurrent workers.\n",
      "[Parallel(n_jobs=-1)]: Done  18 tasks      | elapsed:   15.6s\n",
      "[Parallel(n_jobs=-1)]: Done 150 out of 150 | elapsed:  1.2min finished\n",
      "[Parallel(n_jobs=16)]: Using backend ThreadingBackend with 16 concurrent workers.\n",
      "[Parallel(n_jobs=16)]: Done  18 tasks      | elapsed:    0.9s\n",
      "[Parallel(n_jobs=16)]: Done 150 out of 150 | elapsed:    6.7s finished\n"
     ]
    },
    {
     "name": "stdout",
     "output_type": "stream",
     "text": [
      "Cross validation average score: 0.9193 +/- standard deviation: 0.0003\n",
      "Accuracy on the test set: 0.9763\n",
      "Resource measurements: {'Training Time (s)': 74.87904787063599, 'Peak CPU Usage (%)': 100.0, 'Average CPU Usage (%)': 95.95523255813953}\n",
      "                precision    recall  f1-score   support\n",
      "\n",
      "           Bot       1.00      0.99      1.00     43193\n",
      "   Brute Force       1.00      0.99      1.00     28463\n",
      "          DDoS       0.90      0.99      0.95    232641\n",
      "           DoS       0.97      1.00      0.98     58890\n",
      " Infilteration       0.22      0.14      0.17     32259\n",
      "Normal Traffic       0.99      0.98      0.99   2590259\n",
      "\n",
      "      accuracy                           0.98   2985705\n",
      "     macro avg       0.85      0.85      0.85   2985705\n",
      "  weighted avg       0.97      0.98      0.97   2985705\n",
      "\n"
     ]
    }
   ],
   "source": [
    "eval_dataset_w_RF(X_train_resampled_scaled_MMS_SMOTE, X_test_MMS_scaled, y_train_resampled_scaled_MMS_SMOTE, y_test)"
   ]
  },
  {
   "cell_type": "code",
   "execution_count": 17,
   "id": "8250cc81",
   "metadata": {},
   "outputs": [],
   "source": [
    "X_train_scaled_rus_MMS, y_train_scaled_rus_MMS = RandomUnderSampler(sampling_strategy={'Normal Traffic': 1250000}, random_state=42).fit_resample(X_train_MMS_scaled, y_train)\n",
    "\n",
    "X_train_resampled_scaled_MMS_SMOTE, y_train_resampled_scaled_MMS_SMOTE = SMOTE(sampling_strategy={'Bot': 150000, 'Brute Force': 100000, 'Infilteration': 200000, 'DDoS':780000, 'DoS': 200000}, random_state=42).fit_resample(X_train_scaled_rus_MMS, y_train_scaled_rus_MMS)\n"
   ]
  },
  {
   "cell_type": "code",
   "execution_count": 18,
   "id": "5753c9ea",
   "metadata": {},
   "outputs": [
    {
     "name": "stderr",
     "output_type": "stream",
     "text": [
      "[Parallel(n_jobs=-1)]: Using backend ThreadingBackend with 16 concurrent workers.\n",
      "[Parallel(n_jobs=-1)]: Done  18 tasks      | elapsed:   16.0s\n",
      "[Parallel(n_jobs=-1)]: Done 150 out of 150 | elapsed:  1.3min finished\n",
      "[Parallel(n_jobs=16)]: Using backend ThreadingBackend with 16 concurrent workers.\n",
      "[Parallel(n_jobs=16)]: Done  18 tasks      | elapsed:    0.9s\n",
      "[Parallel(n_jobs=16)]: Done 150 out of 150 | elapsed:    6.6s finished\n"
     ]
    },
    {
     "name": "stdout",
     "output_type": "stream",
     "text": [
      "Cross validation average score: 0.9243 +/- standard deviation: 0.0004\n",
      "Accuracy on the test set: 0.9789\n",
      "Resource measurements: {'Training Time (s)': 79.71161079406738, 'Peak CPU Usage (%)': 100.0, 'Average CPU Usage (%)': 94.67264492753623}\n",
      "                precision    recall  f1-score   support\n",
      "\n",
      "           Bot       1.00      0.99      1.00     43193\n",
      "   Brute Force       1.00      0.99      1.00     28463\n",
      "          DDoS       0.91      0.99      0.95    232641\n",
      "           DoS       0.97      1.00      0.98     58890\n",
      " Infilteration       0.34      0.10      0.16     32259\n",
      "Normal Traffic       0.99      0.99      0.99   2590259\n",
      "\n",
      "      accuracy                           0.98   2985705\n",
      "     macro avg       0.87      0.84      0.84   2985705\n",
      "  weighted avg       0.97      0.98      0.98   2985705\n",
      "\n"
     ]
    }
   ],
   "source": [
    "eval_dataset_w_RF(X_train_resampled_scaled_MMS_SMOTE, X_test_MMS_scaled, y_train_resampled_scaled_MMS_SMOTE, y_test)"
   ]
  },
  {
   "cell_type": "code",
   "execution_count": 19,
   "id": "d7e143a1",
   "metadata": {},
   "outputs": [],
   "source": [
    "X_train_scaled_rus_MMS, y_train_scaled_rus_MMS = RandomUnderSampler(sampling_strategy={'Normal Traffic': 1500000}, random_state=42).fit_resample(X_train_MMS_scaled, y_train)\n",
    "\n",
    "X_train_resampled_scaled_MMS_SMOTE, y_train_resampled_scaled_MMS_SMOTE = SMOTE(sampling_strategy={'Bot': 150000, 'Brute Force': 100000, 'Infilteration': 200000, 'DDoS':780000, 'DoS': 200000}, random_state=42).fit_resample(X_train_scaled_rus_MMS, y_train_scaled_rus_MMS)\n"
   ]
  },
  {
   "cell_type": "code",
   "execution_count": 20,
   "id": "fd01c776",
   "metadata": {},
   "outputs": [
    {
     "name": "stderr",
     "output_type": "stream",
     "text": [
      "[Parallel(n_jobs=-1)]: Using backend ThreadingBackend with 16 concurrent workers.\n",
      "[Parallel(n_jobs=-1)]: Done  18 tasks      | elapsed:   16.5s\n",
      "[Parallel(n_jobs=-1)]: Done 150 out of 150 | elapsed:  1.3min finished\n",
      "[Parallel(n_jobs=16)]: Using backend ThreadingBackend with 16 concurrent workers.\n",
      "[Parallel(n_jobs=16)]: Done  18 tasks      | elapsed:    0.9s\n",
      "[Parallel(n_jobs=16)]: Done 150 out of 150 | elapsed:    6.4s finished\n"
     ]
    },
    {
     "name": "stdout",
     "output_type": "stream",
     "text": [
      "Cross validation average score: 0.9292 +/- standard deviation: 0.0002\n",
      "Accuracy on the test set: 0.9794\n",
      "Resource measurements: {'Training Time (s)': 83.83788704872131, 'Peak CPU Usage (%)': 100.0, 'Average CPU Usage (%)': 93.29611486486485}\n",
      "                precision    recall  f1-score   support\n",
      "\n",
      "           Bot       1.00      0.99      1.00     43193\n",
      "   Brute Force       1.00      0.99      1.00     28463\n",
      "          DDoS       0.90      0.99      0.95    232641\n",
      "           DoS       0.97      1.00      0.98     58890\n",
      " Infilteration       0.40      0.09      0.15     32259\n",
      "Normal Traffic       0.99      0.99      0.99   2590259\n",
      "\n",
      "      accuracy                           0.98   2985705\n",
      "     macro avg       0.88      0.84      0.84   2985705\n",
      "  weighted avg       0.98      0.98      0.98   2985705\n",
      "\n"
     ]
    }
   ],
   "source": [
    "eval_dataset_w_RF(X_train_resampled_scaled_MMS_SMOTE, X_test_MMS_scaled, y_train_resampled_scaled_MMS_SMOTE, y_test)"
   ]
  },
  {
   "cell_type": "code",
   "execution_count": 21,
   "id": "ef280aa0",
   "metadata": {},
   "outputs": [],
   "source": [
    "X_train_scaled_rus_MMS, y_train_scaled_rus_MMS = RandomUnderSampler(sampling_strategy={'Normal Traffic': 1750000}, random_state=42).fit_resample(X_train_MMS_scaled, y_train)\n",
    "\n",
    "X_train_resampled_scaled_MMS_SMOTE, y_train_resampled_scaled_MMS_SMOTE = SMOTE(sampling_strategy={'Bot': 150000, 'Brute Force': 100000, 'Infilteration': 200000, 'DDoS':780000, 'DoS': 200000}, random_state=42).fit_resample(X_train_scaled_rus_MMS, y_train_scaled_rus_MMS)"
   ]
  },
  {
   "cell_type": "code",
   "execution_count": 22,
   "id": "1de96a0b",
   "metadata": {},
   "outputs": [
    {
     "name": "stderr",
     "output_type": "stream",
     "text": [
      "[Parallel(n_jobs=-1)]: Using backend ThreadingBackend with 16 concurrent workers.\n",
      "[Parallel(n_jobs=-1)]: Done  18 tasks      | elapsed:   17.9s\n",
      "[Parallel(n_jobs=-1)]: Done 150 out of 150 | elapsed:  1.5min finished\n",
      "[Parallel(n_jobs=16)]: Using backend ThreadingBackend with 16 concurrent workers.\n",
      "[Parallel(n_jobs=16)]: Done  18 tasks      | elapsed:    0.8s\n",
      "[Parallel(n_jobs=16)]: Done 150 out of 150 | elapsed:    6.4s finished\n"
     ]
    },
    {
     "name": "stdout",
     "output_type": "stream",
     "text": [
      "Cross validation average score: 0.9330 +/- standard deviation: 0.0002\n",
      "Accuracy on the test set: 0.9800\n",
      "Resource measurements: {'Training Time (s)': 92.54423308372498, 'Peak CPU Usage (%)': 100.0, 'Average CPU Usage (%)': 93.46625954198475}\n",
      "                precision    recall  f1-score   support\n",
      "\n",
      "           Bot       1.00      0.99      1.00     43193\n",
      "   Brute Force       1.00      0.99      1.00     28463\n",
      "          DDoS       0.91      0.99      0.95    232641\n",
      "           DoS       0.97      1.00      0.98     58890\n",
      " Infilteration       0.43      0.07      0.12     32259\n",
      "Normal Traffic       0.99      0.99      0.99   2590259\n",
      "\n",
      "      accuracy                           0.98   2985705\n",
      "     macro avg       0.88      0.84      0.84   2985705\n",
      "  weighted avg       0.98      0.98      0.98   2985705\n",
      "\n"
     ]
    }
   ],
   "source": [
    "eval_dataset_w_RF(X_train_resampled_scaled_MMS_SMOTE, X_test_MMS_scaled, y_train_resampled_scaled_MMS_SMOTE, y_test)"
   ]
  },
  {
   "cell_type": "code",
   "execution_count": 23,
   "id": "242c71f9",
   "metadata": {},
   "outputs": [],
   "source": [
    "X_train_scaled_rus_MMS, y_train_scaled_rus_MMS = RandomUnderSampler(sampling_strategy={'Normal Traffic': 2000000}, random_state=42).fit_resample(X_train_MMS_scaled, y_train)\n",
    "\n",
    "X_train_resampled_scaled_MMS_SMOTE, y_train_resampled_scaled_MMS_SMOTE = SMOTE(sampling_strategy={'Bot': 150000, 'Brute Force': 100000, 'Infilteration': 200000, 'DDoS':780000, 'DoS': 200000}, random_state=42).fit_resample(X_train_scaled_rus_MMS, y_train_scaled_rus_MMS)"
   ]
  },
  {
   "cell_type": "code",
   "execution_count": 24,
   "id": "e1ec1c81",
   "metadata": {},
   "outputs": [
    {
     "name": "stderr",
     "output_type": "stream",
     "text": [
      "[Parallel(n_jobs=-1)]: Using backend ThreadingBackend with 16 concurrent workers.\n",
      "[Parallel(n_jobs=-1)]: Done  18 tasks      | elapsed:   23.5s\n",
      "[Parallel(n_jobs=-1)]: Done 150 out of 150 | elapsed:  1.9min finished\n",
      "[Parallel(n_jobs=16)]: Using backend ThreadingBackend with 16 concurrent workers.\n",
      "[Parallel(n_jobs=16)]: Done  18 tasks      | elapsed:    1.0s\n",
      "[Parallel(n_jobs=16)]: Done 150 out of 150 | elapsed:    7.4s finished\n"
     ]
    },
    {
     "name": "stdout",
     "output_type": "stream",
     "text": [
      "Cross validation average score: 0.9367 +/- standard deviation: 0.0001\n",
      "Accuracy on the test set: 0.9802\n",
      "Resource measurements: {'Training Time (s)': 115.90941166877747, 'Peak CPU Usage (%)': 100.0, 'Average CPU Usage (%)': 95.70013908205841}\n",
      "                precision    recall  f1-score   support\n",
      "\n",
      "           Bot       1.00      0.99      1.00     43193\n",
      "   Brute Force       1.00      0.99      1.00     28463\n",
      "          DDoS       0.91      0.99      0.95    232641\n",
      "           DoS       0.97      1.00      0.98     58890\n",
      " Infilteration       0.46      0.05      0.09     32259\n",
      "Normal Traffic       0.99      0.99      0.99   2590259\n",
      "\n",
      "      accuracy                           0.98   2985705\n",
      "     macro avg       0.89      0.84      0.83   2985705\n",
      "  weighted avg       0.98      0.98      0.98   2985705\n",
      "\n"
     ]
    }
   ],
   "source": [
    "eval_dataset_w_RF(X_train_resampled_scaled_MMS_SMOTE, X_test_MMS_scaled, y_train_resampled_scaled_MMS_SMOTE, y_test)"
   ]
  }
 ],
 "metadata": {
  "kernelspec": {
   "display_name": "NN-env",
   "language": "python",
   "name": "python3"
  },
  "language_info": {
   "codemirror_mode": {
    "name": "ipython",
    "version": 3
   },
   "file_extension": ".py",
   "mimetype": "text/x-python",
   "name": "python",
   "nbconvert_exporter": "python",
   "pygments_lexer": "ipython3",
   "version": "3.11.9"
  }
 },
 "nbformat": 4,
 "nbformat_minor": 5
}
