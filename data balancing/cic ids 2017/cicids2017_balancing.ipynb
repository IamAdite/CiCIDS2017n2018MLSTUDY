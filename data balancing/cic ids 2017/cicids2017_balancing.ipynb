{
 "cells": [
  {
   "cell_type": "markdown",
   "id": "4f86f9b4",
   "metadata": {},
   "source": [
    "# Imports and benchmark functions"
   ]
  },
  {
   "cell_type": "code",
   "execution_count": 1,
   "id": "6e45e3a1",
   "metadata": {},
   "outputs": [],
   "source": [
    "import pandas as pd\n",
    "import numpy as np\n",
    "from sklearn import preprocessing\n",
    "import matplotlib.pyplot as plt\n",
    "%matplotlib inline\n",
    "\n",
    "from sklearn.ensemble import RandomForestClassifier\n",
    "from sklearn.model_selection import train_test_split, cross_val_score, learning_curve, StratifiedKFold\n",
    "from sklearn.metrics import confusion_matrix, classification_report, accuracy_score, precision_score, recall_score, f1_score\n",
    "from sklearn.neighbors import KNeighborsClassifier\n",
    "\n",
    "import time\n",
    "import psutil\n",
    "import threading\n",
    "from memory_profiler import memory_usage"
   ]
  },
  {
   "cell_type": "code",
   "execution_count": 62,
   "id": "f74d9cbe",
   "metadata": {},
   "outputs": [],
   "source": [
    "def apply_rf(X_train, y_train, best_params=None, random_state=42, n_jobs=-1, cv=5): \n",
    "    measurement_rf = {}\n",
    "        \n",
    "    # Default to empty dictionary if best_params is not provided\n",
    "    best_params = best_params or {}\n",
    "\n",
    "    rf_model = RandomForestClassifier(**best_params, random_state=random_state, n_jobs=n_jobs, verbose=1)\n",
    "    \n",
    "    # Function to monitor CPU usage during training\n",
    "    cpu_usage = []\n",
    "    stop_flag = threading.Event()\n",
    "\n",
    "    def monitor_cpu():\n",
    "        while not stop_flag.is_set():\n",
    "            cpu_usage.append(psutil.cpu_percent(interval=0.1))\n",
    "\n",
    "    # Function to train the model\n",
    "    def train_model():\n",
    "        rf_model.fit(X_train, y_train)\n",
    "\n",
    "    try:\n",
    "        # Start CPU monitoring in a separate thread\n",
    "        cpu_thread = threading.Thread(target=monitor_cpu)\n",
    "        cpu_thread.start()\n",
    "\n",
    "        # Measure memory usage and training time\n",
    "        start_time = time.time()\n",
    "        train_model()\n",
    "        training_time = time.time() - start_time\n",
    "\n",
    "        # Stop CPU monitoring\n",
    "        stop_flag.set()\n",
    "        cpu_thread.join()\n",
    "\n",
    "        # Add measurements\n",
    "        measurement_rf['Training Time (s)'] = training_time\n",
    "        measurement_rf['Peak CPU Usage (%)'] = max(cpu_usage)\n",
    "        measurement_rf['Average CPU Usage (%)'] = sum(cpu_usage) / len(cpu_usage) if cpu_usage else 0\n",
    "\n",
    "        # Perform cross-validation\n",
    "        cv_scores_rf = cross_val_score(rf_model, X_train, y_train, cv=cv, n_jobs=n_jobs)\n",
    "\n",
    "        return cv_scores_rf, measurement_rf, rf_model\n",
    "\n",
    "    except Exception as e:\n",
    "        import traceback\n",
    "        print(\"⛔ Full error traceback:\")\n",
    "        traceback.print_exc()  # Print detailed error traceback\n",
    "        print(f\"Error during Random Forest training: {e}\")\n",
    "        return None, None, None"
   ]
  },
  {
   "cell_type": "code",
   "execution_count": 88,
   "id": "28a64cfe",
   "metadata": {},
   "outputs": [],
   "source": [
    "def eval_dataset_w_RF(X_train, X_test, y_train, y_test):\n",
    "    params_rf = {'n_estimators': 150, 'min_samples_split': 5, 'min_samples_leaf': 2, 'max_features': 'sqrt', 'max_depth': 10}\n",
    "\n",
    "    # Fitting the model\n",
    "    cv_scores_rf, measurement_rf, rf_model = apply_rf(X_train, y_train, best_params=params_rf)\n",
    "\n",
    "    # Making predictions\n",
    "    y_pred_rf = rf_model.predict(X_test)\n",
    "    \n",
    "    # Evaluating the model performance on the cross validation set vs accuracy on the test set\n",
    "    cv_scores_mean_rf = np.mean(cv_scores_rf)\n",
    "    print(f'Cross validation average score: {cv_scores_mean_rf:.4f} +/- standard deviation: {np.std(cv_scores_rf):.4f}')\n",
    "\n",
    "    accuracy_rf = accuracy_score(y_test, y_pred_rf)\n",
    "    print(f'Accuracy on the test set: {accuracy_rf:.4f}')\n",
    "    \n",
    "    # Checking computational cost\n",
    "    print(\"Resource measurements:\", measurement_rf)\n",
    "    print(classification_report(y_test, y_pred_rf))"
   ]
  },
  {
   "cell_type": "code",
   "execution_count": 98,
   "id": "34b82933",
   "metadata": {},
   "outputs": [],
   "source": [
    "def eval_dataset_w_KNN(X_train, X_test, y_train, y_test):\n",
    "    params_knn = {'n_neighbors': 3, 'weights': 'uniform', 'algorithm': 'kd_tree', 'leaf_size': 100, 'p': 1}\n",
    "    \n",
    "    # Fitting the model\n",
    "    cv_scores_knn, measurement_knn, knn_model = apply_knn(X_train, y_train, best_params=params_knn)\n",
    "    \n",
    "    # Making predictions\n",
    "    y_pred_knn = knn_model.predict(X_test)\n",
    "    \n",
    "    # Evaluating the model performance on the cross validation set vs accuracy on the test set\n",
    "    cv_scores_mean_knn = np.mean(cv_scores_knn)\n",
    "    print(f'Cross validation average score: {cv_scores_mean_knn:.4f} +/- standard deviation: {np.std(cv_scores_knn):.4f}')\n",
    "    \n",
    "    accuracy_knn = accuracy_score(y_test, y_pred_knn)\n",
    "    print(f'Accuracy on the test set: {accuracy_knn:.4f}')\n",
    "    \n",
    "    # Checking computational cost\n",
    "    print(\"Resource measurements:\", measurement_knn)\n",
    "    print(classification_report(y_test, y_pred_knn))"
   ]
  },
  {
   "cell_type": "code",
   "execution_count": 5,
   "id": "bb508bc9",
   "metadata": {},
   "outputs": [],
   "source": [
    "def apply_knn(X_train, y_train, best_params=None, random_state=42, n_jobs=-1, cv=5):\n",
    "    measurement_knn = {}\n",
    "    \n",
    "    # Default to empty dictionary if best_params is not provided\n",
    "    best_params = best_params or {}\n",
    "    \n",
    "    knn_model = KNeighborsClassifier(**best_params, n_jobs=n_jobs)\n",
    "    \n",
    "    # Function to monitor CPU usage during training\n",
    "    cpu_usage = []\n",
    "    stop_flag = threading.Event()\n",
    "    \n",
    "    def monitor_cpu():\n",
    "        while not stop_flag.is_set():\n",
    "            cpu_usage.append(psutil.cpu_percent(interval=0.1))\n",
    "    \n",
    "    # Function to train the model\n",
    "    def train_model():\n",
    "        knn_model.fit(X_train, y_train)\n",
    "    \n",
    "    try:\n",
    "        # Start CPU monitoring in a separate thread\n",
    "        cpu_thread = threading.Thread(target=monitor_cpu)\n",
    "        cpu_thread.start()\n",
    "        \n",
    "        # Measure memory usage and training time\n",
    "        start_time = time.time()\n",
    "        train_model()\n",
    "        training_time = time.time() - start_time\n",
    "        \n",
    "        # Stop CPU monitoring\n",
    "        stop_flag.set()\n",
    "        cpu_thread.join()\n",
    "        \n",
    "        # Add measurements\n",
    "        measurement_knn['Training Time (s)'] = training_time\n",
    "        measurement_knn['Peak CPU Usage (%)'] = max(cpu_usage)\n",
    "        measurement_knn['Average CPU Usage (%)'] = sum(cpu_usage) / len(cpu_usage) if cpu_usage else 0\n",
    "        \n",
    "        # Perform cross-validation\n",
    "        cv_scores_knn = cross_val_score(knn_model, X_train, y_train, cv=cv, n_jobs=n_jobs)\n",
    "        \n",
    "        return cv_scores_knn, measurement_knn, knn_model\n",
    "        \n",
    "    except Exception as e:\n",
    "        import traceback\n",
    "        print(\"⛔ Full error traceback:\")\n",
    "        traceback.print_exc()  # Print detailed error traceback\n",
    "        print(f\"Error during KNN training: {e}\")\n",
    "        return None, None, None"
   ]
  },
  {
   "cell_type": "markdown",
   "id": "317cccbe",
   "metadata": {},
   "source": [
    "# Data balancing\n"
   ]
  },
  {
   "cell_type": "code",
   "execution_count": 89,
   "id": "e4b31da2",
   "metadata": {},
   "outputs": [],
   "source": [
    "# Reading data\n",
    "df = pd.read_csv(\"..\\..\\data prep\\cicids2017_prep\\cicids2017_FINAL_no_class_sync.csv\")"
   ]
  },
  {
   "cell_type": "code",
   "execution_count": 7,
   "id": "fe1ee2df",
   "metadata": {},
   "outputs": [],
   "source": [
    "from sklearn.preprocessing import RobustScaler, StandardScaler, MinMaxScaler"
   ]
  },
  {
   "cell_type": "code",
   "execution_count": 91,
   "id": "c51df8d2",
   "metadata": {},
   "outputs": [],
   "source": [
    "# Preparing training and test splits\n",
    "X = df.drop('Attack Type', axis=1)\n",
    "y = df['Attack Type']\n",
    "\n",
    "X_train, X_test, y_train, y_test = train_test_split(X, y, test_size=0.3, random_state=42, stratify=y)"
   ]
  },
  {
   "cell_type": "code",
   "execution_count": 104,
   "id": "776d7eb3",
   "metadata": {},
   "outputs": [],
   "source": [
    "# Initialize scaling algos\n",
    "RS = RobustScaler()\n",
    "X_train_RS_scaled = RS.fit_transform(X_train)\n",
    "X_test_RS_scaled = RS.transform(X_test)\n",
    "\n",
    "SS = StandardScaler()\n",
    "X_train_SS_scaled = SS.fit_transform(X_train)\n",
    "X_test_SS_scaled = SS.transform(X_test)\n",
    "\n",
    "MMS = MinMaxScaler()\n",
    "X_train_MMS_scaled = MMS.fit_transform(X_train)\n",
    "X_test_MMS_scaled = MMS.transform(X_test)"
   ]
  },
  {
   "cell_type": "code",
   "execution_count": 93,
   "id": "03f7e2e2",
   "metadata": {},
   "outputs": [
    {
     "name": "stdout",
     "output_type": "stream",
     "text": [
      "Attack Type\n",
      "Normal Traffic    2095057\n",
      "DoS                193745\n",
      "DDoS               128014\n",
      "Port Scanning       90694\n",
      "Brute Force          9150\n",
      "Web Attacks          2143\n",
      "Bots                 1948\n",
      "Name: count, dtype: int64\n"
     ]
    }
   ],
   "source": [
    "print(df['Attack Type'].value_counts())"
   ]
  },
  {
   "cell_type": "markdown",
   "id": "a24942e7",
   "metadata": {},
   "source": [
    "## Evals"
   ]
  },
  {
   "cell_type": "code",
   "execution_count": 94,
   "id": "5b228c34",
   "metadata": {},
   "outputs": [
    {
     "name": "stderr",
     "output_type": "stream",
     "text": [
      "[Parallel(n_jobs=-1)]: Using backend ThreadingBackend with 16 concurrent workers.\n",
      "[Parallel(n_jobs=-1)]: Done  18 tasks      | elapsed:   22.4s\n",
      "[Parallel(n_jobs=-1)]: Done 150 out of 150 | elapsed:  2.0min finished\n",
      "[Parallel(n_jobs=16)]: Using backend ThreadingBackend with 16 concurrent workers.\n",
      "[Parallel(n_jobs=16)]: Done  18 tasks      | elapsed:    0.2s\n",
      "[Parallel(n_jobs=16)]: Done 150 out of 150 | elapsed:    2.0s finished\n"
     ]
    },
    {
     "name": "stdout",
     "output_type": "stream",
     "text": [
      "Cross validation average score: 0.9955 +/- standard deviation: 0.0001\n",
      "Accuracy on the test set: 0.9956\n",
      "Resource measurements: {'Training Time (s)': 120.61213088035583, 'Peak CPU Usage (%)': 100.0, 'Average CPU Usage (%)': 95.65379213483142}\n",
      "                precision    recall  f1-score   support\n",
      "\n",
      "          Bots       1.00      0.01      0.02       584\n",
      "   Brute Force       1.00      0.96      0.98      2745\n",
      "          DDoS       1.00      1.00      1.00     38404\n",
      "           DoS       1.00      0.98      0.99     58124\n",
      "Normal Traffic       1.00      1.00      1.00    628518\n",
      " Port Scanning       0.99      1.00      0.99     27208\n",
      "   Web Attacks       1.00      0.04      0.07       643\n",
      "\n",
      "      accuracy                           1.00    756226\n",
      "     macro avg       1.00      0.71      0.72    756226\n",
      "  weighted avg       1.00      1.00      0.99    756226\n",
      "\n"
     ]
    }
   ],
   "source": [
    "eval_dataset_w_RF(X_train, X_test, y_train, y_test)"
   ]
  },
  {
   "cell_type": "code",
   "execution_count": 95,
   "id": "9685825e",
   "metadata": {},
   "outputs": [
    {
     "name": "stderr",
     "output_type": "stream",
     "text": [
      "[Parallel(n_jobs=-1)]: Using backend ThreadingBackend with 16 concurrent workers.\n",
      "[Parallel(n_jobs=-1)]: Done  18 tasks      | elapsed:   20.1s\n",
      "[Parallel(n_jobs=-1)]: Done 150 out of 150 | elapsed:  1.7min finished\n",
      "[Parallel(n_jobs=16)]: Using backend ThreadingBackend with 16 concurrent workers.\n",
      "[Parallel(n_jobs=16)]: Done  18 tasks      | elapsed:    0.2s\n",
      "[Parallel(n_jobs=16)]: Done 150 out of 150 | elapsed:    1.9s finished\n"
     ]
    },
    {
     "name": "stdout",
     "output_type": "stream",
     "text": [
      "Cross validation average score: 0.9955 +/- standard deviation: 0.0001\n",
      "Accuracy on the test set: 0.9956\n",
      "Resource measurements: {'Training Time (s)': 102.1338119506836, 'Peak CPU Usage (%)': 100.0, 'Average CPU Usage (%)': 94.26848874598076}\n",
      "                precision    recall  f1-score   support\n",
      "\n",
      "          Bots       1.00      0.01      0.03       584\n",
      "   Brute Force       1.00      0.96      0.98      2745\n",
      "          DDoS       1.00      1.00      1.00     38404\n",
      "           DoS       1.00      0.98      0.99     58124\n",
      "Normal Traffic       1.00      1.00      1.00    628518\n",
      " Port Scanning       0.99      1.00      0.99     27208\n",
      "   Web Attacks       1.00      0.01      0.01       643\n",
      "\n",
      "      accuracy                           1.00    756226\n",
      "     macro avg       1.00      0.71      0.71    756226\n",
      "  weighted avg       1.00      1.00      0.99    756226\n",
      "\n"
     ]
    }
   ],
   "source": [
    "eval_dataset_w_RF(X_train_RS_scaled, X_test_RS_scaled, y_train, y_test)"
   ]
  },
  {
   "cell_type": "code",
   "execution_count": 96,
   "id": "dbedd539",
   "metadata": {},
   "outputs": [
    {
     "name": "stderr",
     "output_type": "stream",
     "text": [
      "[Parallel(n_jobs=-1)]: Using backend ThreadingBackend with 16 concurrent workers.\n",
      "[Parallel(n_jobs=-1)]: Done  18 tasks      | elapsed:   17.4s\n",
      "[Parallel(n_jobs=-1)]: Done 150 out of 150 | elapsed:  1.5min finished\n",
      "[Parallel(n_jobs=16)]: Using backend ThreadingBackend with 16 concurrent workers.\n",
      "[Parallel(n_jobs=16)]: Done  18 tasks      | elapsed:    0.2s\n",
      "[Parallel(n_jobs=16)]: Done 150 out of 150 | elapsed:    1.8s finished\n"
     ]
    },
    {
     "name": "stdout",
     "output_type": "stream",
     "text": [
      "Cross validation average score: 0.9955 +/- standard deviation: 0.0001\n",
      "Accuracy on the test set: 0.9956\n",
      "Resource measurements: {'Training Time (s)': 90.93157124519348, 'Peak CPU Usage (%)': 100.0, 'Average CPU Usage (%)': 93.52833607907743}\n",
      "                precision    recall  f1-score   support\n",
      "\n",
      "          Bots       1.00      0.01      0.03       584\n",
      "   Brute Force       1.00      0.96      0.98      2745\n",
      "          DDoS       1.00      1.00      1.00     38404\n",
      "           DoS       1.00      0.98      0.99     58124\n",
      "Normal Traffic       1.00      1.00      1.00    628518\n",
      " Port Scanning       0.99      1.00      0.99     27208\n",
      "   Web Attacks       1.00      0.04      0.08       643\n",
      "\n",
      "      accuracy                           1.00    756226\n",
      "     macro avg       1.00      0.71      0.72    756226\n",
      "  weighted avg       1.00      1.00      0.99    756226\n",
      "\n"
     ]
    }
   ],
   "source": [
    "eval_dataset_w_RF(X_train_SS_scaled, X_test_SS_scaled, y_train, y_test)"
   ]
  },
  {
   "cell_type": "code",
   "execution_count": 97,
   "id": "95270f22",
   "metadata": {},
   "outputs": [
    {
     "name": "stderr",
     "output_type": "stream",
     "text": [
      "[Parallel(n_jobs=-1)]: Using backend ThreadingBackend with 16 concurrent workers.\n",
      "[Parallel(n_jobs=-1)]: Done  18 tasks      | elapsed:   13.9s\n",
      "[Parallel(n_jobs=-1)]: Done 150 out of 150 | elapsed:  1.2min finished\n",
      "[Parallel(n_jobs=16)]: Using backend ThreadingBackend with 16 concurrent workers.\n",
      "[Parallel(n_jobs=16)]: Done  18 tasks      | elapsed:    0.2s\n",
      "[Parallel(n_jobs=16)]: Done 150 out of 150 | elapsed:    1.8s finished\n"
     ]
    },
    {
     "name": "stdout",
     "output_type": "stream",
     "text": [
      "Cross validation average score: 0.9955 +/- standard deviation: 0.0001\n",
      "Accuracy on the test set: 0.9955\n",
      "Resource measurements: {'Training Time (s)': 71.45124316215515, 'Peak CPU Usage (%)': 100.0, 'Average CPU Usage (%)': 93.99862475442038}\n",
      "                precision    recall  f1-score   support\n",
      "\n",
      "          Bots       1.00      0.01      0.03       584\n",
      "   Brute Force       1.00      0.96      0.98      2745\n",
      "          DDoS       1.00      1.00      1.00     38404\n",
      "           DoS       1.00      0.98      0.99     58124\n",
      "Normal Traffic       1.00      1.00      1.00    628518\n",
      " Port Scanning       0.99      1.00      0.99     27208\n",
      "   Web Attacks       1.00      0.01      0.01       643\n",
      "\n",
      "      accuracy                           1.00    756226\n",
      "     macro avg       1.00      0.71      0.71    756226\n",
      "  weighted avg       1.00      1.00      0.99    756226\n",
      "\n"
     ]
    }
   ],
   "source": [
    "eval_dataset_w_RF(X_train_MMS_scaled, X_test_MMS_scaled, y_train, y_test)"
   ]
  },
  {
   "cell_type": "code",
   "execution_count": 99,
   "id": "84792a23",
   "metadata": {},
   "outputs": [
    {
     "name": "stdout",
     "output_type": "stream",
     "text": [
      "Cross validation average score: 0.9935 +/- standard deviation: 0.0001\n",
      "Accuracy on the test set: 0.9939\n",
      "Resource measurements: {'Training Time (s)': 15.792449235916138, 'Peak CPU Usage (%)': 18.6, 'Average CPU Usage (%)': 14.314285714285715}\n",
      "                precision    recall  f1-score   support\n",
      "\n",
      "          Bots       0.75      0.47      0.58       584\n",
      "   Brute Force       0.99      0.96      0.97      2745\n",
      "          DDoS       0.97      0.98      0.98     38404\n",
      "           DoS       0.98      0.98      0.98     58124\n",
      "Normal Traffic       1.00      1.00      1.00    628518\n",
      " Port Scanning       0.98      1.00      0.99     27208\n",
      "   Web Attacks       0.97      0.93      0.95       643\n",
      "\n",
      "      accuracy                           0.99    756226\n",
      "     macro avg       0.95      0.90      0.92    756226\n",
      "  weighted avg       0.99      0.99      0.99    756226\n",
      "\n"
     ]
    }
   ],
   "source": [
    "eval_dataset_w_KNN(X_train, X_test, y_train, y_test)"
   ]
  },
  {
   "cell_type": "code",
   "execution_count": 148,
   "id": "b4fdd384",
   "metadata": {},
   "outputs": [
    {
     "name": "stdout",
     "output_type": "stream",
     "text": [
      "Cross validation average score: 0.9867 +/- standard deviation: 0.0003\n",
      "Accuracy on the test set: 0.9875\n",
      "Resource measurements: {'Training Time (s)': 14.503502607345581, 'Peak CPU Usage (%)': 20.8, 'Average CPU Usage (%)': 8.866666666666667}\n",
      "                precision    recall  f1-score   support\n",
      "\n",
      "          Bots       0.67      0.49      0.56       584\n",
      "   Brute Force       1.00      0.97      0.98      2745\n",
      "          DDoS       0.92      0.93      0.93     38404\n",
      "           DoS       0.97      0.97      0.97     58124\n",
      "Normal Traffic       0.99      0.99      0.99    628518\n",
      " Port Scanning       0.99      1.00      0.99     27208\n",
      "   Web Attacks       0.97      0.93      0.95       643\n",
      "\n",
      "      accuracy                           0.99    756226\n",
      "     macro avg       0.93      0.90      0.91    756226\n",
      "  weighted avg       0.99      0.99      0.99    756226\n",
      "\n"
     ]
    }
   ],
   "source": [
    "eval_dataset_w_KNN(X_train_RS_scaled, X_test_RS_scaled, y_train, y_test)"
   ]
  },
  {
   "cell_type": "code",
   "execution_count": 149,
   "id": "1b68dea1",
   "metadata": {},
   "outputs": [
    {
     "name": "stdout",
     "output_type": "stream",
     "text": [
      "Cross validation average score: 0.9973 +/- standard deviation: 0.0001\n",
      "Accuracy on the test set: 0.9974\n",
      "Resource measurements: {'Training Time (s)': 14.706319808959961, 'Peak CPU Usage (%)': 31.2, 'Average CPU Usage (%)': 12.0125}\n",
      "                precision    recall  f1-score   support\n",
      "\n",
      "          Bots       0.68      0.50      0.58       584\n",
      "   Brute Force       1.00      0.97      0.98      2745\n",
      "          DDoS       1.00      1.00      1.00     38404\n",
      "           DoS       0.99      0.99      0.99     58124\n",
      "Normal Traffic       1.00      1.00      1.00    628518\n",
      " Port Scanning       0.99      1.00      0.99     27208\n",
      "   Web Attacks       0.98      0.93      0.95       643\n",
      "\n",
      "      accuracy                           1.00    756226\n",
      "     macro avg       0.95      0.91      0.93    756226\n",
      "  weighted avg       1.00      1.00      1.00    756226\n",
      "\n"
     ]
    }
   ],
   "source": [
    "eval_dataset_w_KNN(X_train_SS_scaled, X_test_SS_scaled, y_train, y_test)"
   ]
  },
  {
   "cell_type": "code",
   "execution_count": 150,
   "id": "1df26d26",
   "metadata": {},
   "outputs": [
    {
     "name": "stdout",
     "output_type": "stream",
     "text": [
      "Cross validation average score: 0.9971 +/- standard deviation: 0.0001\n",
      "Accuracy on the test set: 0.9973\n",
      "Resource measurements: {'Training Time (s)': 14.027924537658691, 'Peak CPU Usage (%)': 12.1, 'Average CPU Usage (%)': 7.833333333333333}\n",
      "                precision    recall  f1-score   support\n",
      "\n",
      "          Bots       0.68      0.50      0.58       584\n",
      "   Brute Force       1.00      0.97      0.98      2745\n",
      "          DDoS       1.00      1.00      1.00     38404\n",
      "           DoS       0.99      0.99      0.99     58124\n",
      "Normal Traffic       1.00      1.00      1.00    628518\n",
      " Port Scanning       0.99      1.00      0.99     27208\n",
      "   Web Attacks       0.98      0.93      0.95       643\n",
      "\n",
      "      accuracy                           1.00    756226\n",
      "     macro avg       0.95      0.91      0.93    756226\n",
      "  weighted avg       1.00      1.00      1.00    756226\n",
      "\n"
     ]
    }
   ],
   "source": [
    "eval_dataset_w_KNN(X_train_MMS_scaled, X_test_MMS_scaled, y_train, y_test)"
   ]
  },
  {
   "cell_type": "markdown",
   "id": "b6f74929",
   "metadata": {},
   "source": [
    "## Under Sampling"
   ]
  },
  {
   "cell_type": "code",
   "execution_count": 101,
   "id": "68795543",
   "metadata": {},
   "outputs": [],
   "source": [
    "from imblearn.under_sampling import RandomUnderSampler, NearMiss"
   ]
  },
  {
   "cell_type": "code",
   "execution_count": 105,
   "id": "eaaa3ca7",
   "metadata": {},
   "outputs": [],
   "source": [
    "# Initializing the undersampling for the clean df\n",
    "X_train_resampled_rus, y_train_resampled_rus = RandomUnderSampler(sampling_strategy={'Normal Traffic': 500000}, random_state=42).fit_resample(X_train, y_train)\n",
    "\n",
    "# Initializing the undersampling for the scaled df\n",
    "X_train_scaled_rus_RS, y_train_scaled_rus_RS = RandomUnderSampler(sampling_strategy={'Normal Traffic': 500000}, random_state=42).fit_resample(X_train_RS_scaled, y_train)\n",
    "\n",
    "X_train_scaled_rus_SS, y_train_scaled_rus_SS = RandomUnderSampler(sampling_strategy={'Normal Traffic': 500000}, random_state=42).fit_resample(X_train_SS_scaled, y_train)\n",
    "\n",
    "X_train_scaled_rus_MMS, y_train_scaled_rus_MMS = RandomUnderSampler(sampling_strategy={'Normal Traffic': 500000}, random_state=42).fit_resample(X_train_MMS_scaled, y_train)"
   ]
  },
  {
   "cell_type": "code",
   "execution_count": 103,
   "id": "9b9dc7c3",
   "metadata": {},
   "outputs": [
    {
     "name": "stderr",
     "output_type": "stream",
     "text": [
      "f:\\!STUDY\\1TMO\\4 Сем\\ДИПЛОМ\\CODE\\NN-env\\Lib\\site-packages\\imblearn\\under_sampling\\_prototype_selection\\_nearmiss.py:203: UserWarning: The number of the samples to be selected is larger than the number of samples available. The balancing ratio cannot be ensure and all samples will be returned.\n",
      "  warnings.warn(\n",
      "f:\\!STUDY\\1TMO\\4 Сем\\ДИПЛОМ\\CODE\\NN-env\\Lib\\site-packages\\imblearn\\under_sampling\\_prototype_selection\\_nearmiss.py:203: UserWarning: The number of the samples to be selected is larger than the number of samples available. The balancing ratio cannot be ensure and all samples will be returned.\n",
      "  warnings.warn(\n",
      "f:\\!STUDY\\1TMO\\4 Сем\\ДИПЛОМ\\CODE\\NN-env\\Lib\\site-packages\\imblearn\\under_sampling\\_prototype_selection\\_nearmiss.py:203: UserWarning: The number of the samples to be selected is larger than the number of samples available. The balancing ratio cannot be ensure and all samples will be returned.\n",
      "  warnings.warn(\n",
      "f:\\!STUDY\\1TMO\\4 Сем\\ДИПЛОМ\\CODE\\NN-env\\Lib\\site-packages\\imblearn\\under_sampling\\_prototype_selection\\_nearmiss.py:203: UserWarning: The number of the samples to be selected is larger than the number of samples available. The balancing ratio cannot be ensure and all samples will be returned.\n",
      "  warnings.warn(\n"
     ]
    }
   ],
   "source": [
    "# Initializing the undersampling for the clean df\n",
    "X_train_resampled_NM, y_train_resampled_NM = NearMiss(sampling_strategy={'Normal Traffic': 500000}, version=3).fit_resample(X_train, y_train)\n",
    "\n",
    "# Initializing the undersampling for the scaled df\n",
    "X_train_scaled_NM_RS, y_train_scaled_NM_RS = NearMiss(sampling_strategy={'Normal Traffic': 500000}, version=3).fit_resample(X_train_RS_scaled, y_train)\n",
    "\n",
    "X_train_scaled_NM_SS, y_train_scaled_NM_SS = NearMiss(sampling_strategy={'Normal Traffic': 500000}, version=3).fit_resample(X_train_SS_scaled, y_train)\n",
    "\n",
    "X_train_scaled_NM_MMS, y_train_scaled_NM_MMS = NearMiss(sampling_strategy={'Normal Traffic': 500000}, version=3).fit_resample(X_train_MMS_scaled, y_train)\n"
   ]
  },
  {
   "cell_type": "markdown",
   "id": "d3fe75c8",
   "metadata": {},
   "source": [
    "## Evals RF"
   ]
  },
  {
   "cell_type": "code",
   "execution_count": 106,
   "id": "dedc58af",
   "metadata": {},
   "outputs": [
    {
     "name": "stderr",
     "output_type": "stream",
     "text": [
      "[Parallel(n_jobs=-1)]: Using backend ThreadingBackend with 16 concurrent workers.\n",
      "[Parallel(n_jobs=-1)]: Done  18 tasks      | elapsed:    8.5s\n",
      "[Parallel(n_jobs=-1)]: Done 150 out of 150 | elapsed:   42.5s finished\n",
      "[Parallel(n_jobs=16)]: Using backend ThreadingBackend with 16 concurrent workers.\n",
      "[Parallel(n_jobs=16)]: Done  18 tasks      | elapsed:    0.2s\n",
      "[Parallel(n_jobs=16)]: Done 150 out of 150 | elapsed:    1.9s finished\n"
     ]
    },
    {
     "name": "stdout",
     "output_type": "stream",
     "text": [
      "Cross validation average score: 0.9926 +/- standard deviation: 0.0002\n",
      "Accuracy on the test set: 0.9962\n",
      "Resource measurements: {'Training Time (s)': 43.40252733230591, 'Peak CPU Usage (%)': 100.0, 'Average CPU Usage (%)': 96.64455128205131}\n",
      "                precision    recall  f1-score   support\n",
      "\n",
      "          Bots       1.00      0.30      0.47       584\n",
      "   Brute Force       1.00      0.96      0.98      2745\n",
      "          DDoS       1.00      1.00      1.00     38404\n",
      "           DoS       0.99      0.98      0.99     58124\n",
      "Normal Traffic       1.00      1.00      1.00    628518\n",
      " Port Scanning       0.99      1.00      0.99     27208\n",
      "   Web Attacks       1.00      0.05      0.09       643\n",
      "\n",
      "      accuracy                           1.00    756226\n",
      "     macro avg       1.00      0.76      0.79    756226\n",
      "  weighted avg       1.00      1.00      1.00    756226\n",
      "\n"
     ]
    }
   ],
   "source": [
    "eval_dataset_w_RF(X_train_resampled_rus, X_test, y_train_resampled_rus, y_test)"
   ]
  },
  {
   "cell_type": "code",
   "execution_count": 107,
   "id": "60515714",
   "metadata": {},
   "outputs": [
    {
     "name": "stderr",
     "output_type": "stream",
     "text": [
      "[Parallel(n_jobs=-1)]: Using backend ThreadingBackend with 16 concurrent workers.\n",
      "[Parallel(n_jobs=-1)]: Done  18 tasks      | elapsed:    7.6s\n",
      "[Parallel(n_jobs=-1)]: Done 150 out of 150 | elapsed:   37.9s finished\n",
      "[Parallel(n_jobs=16)]: Using backend ThreadingBackend with 16 concurrent workers.\n",
      "[Parallel(n_jobs=16)]: Done  18 tasks      | elapsed:    0.2s\n",
      "[Parallel(n_jobs=16)]: Done 150 out of 150 | elapsed:    1.8s finished\n"
     ]
    },
    {
     "name": "stdout",
     "output_type": "stream",
     "text": [
      "Cross validation average score: 0.9928 +/- standard deviation: 0.0001\n",
      "Accuracy on the test set: 0.9962\n",
      "Resource measurements: {'Training Time (s)': 38.812490940093994, 'Peak CPU Usage (%)': 100.0, 'Average CPU Usage (%)': 95.1874149659864}\n",
      "                precision    recall  f1-score   support\n",
      "\n",
      "          Bots       1.00      0.30      0.47       584\n",
      "   Brute Force       1.00      0.97      0.98      2745\n",
      "          DDoS       1.00      1.00      1.00     38404\n",
      "           DoS       0.99      0.98      0.99     58124\n",
      "Normal Traffic       1.00      1.00      1.00    628518\n",
      " Port Scanning       0.99      1.00      0.99     27208\n",
      "   Web Attacks       1.00      0.05      0.09       643\n",
      "\n",
      "      accuracy                           1.00    756226\n",
      "     macro avg       1.00      0.76      0.79    756226\n",
      "  weighted avg       1.00      1.00      1.00    756226\n",
      "\n"
     ]
    }
   ],
   "source": [
    "eval_dataset_w_RF(X_train_scaled_rus_RS, X_test_RS_scaled, y_train_scaled_rus_RS, y_test)"
   ]
  },
  {
   "cell_type": "code",
   "execution_count": 108,
   "metadata": {},
   "outputs": [
    {
     "name": "stderr",
     "output_type": "stream",
     "text": [
      "[Parallel(n_jobs=-1)]: Using backend ThreadingBackend with 16 concurrent workers.\n",
      "[Parallel(n_jobs=-1)]: Done  18 tasks      | elapsed:    6.7s\n",
      "[Parallel(n_jobs=-1)]: Done 150 out of 150 | elapsed:   34.5s finished\n",
      "[Parallel(n_jobs=16)]: Using backend ThreadingBackend with 16 concurrent workers.\n",
      "[Parallel(n_jobs=16)]: Done  18 tasks      | elapsed:    0.2s\n",
      "[Parallel(n_jobs=16)]: Done 150 out of 150 | elapsed:    2.0s finished\n"
     ]
    },
    {
     "name": "stdout",
     "output_type": "stream",
     "text": [
      "Cross validation average score: 0.9926 +/- standard deviation: 0.0002\n",
      "Accuracy on the test set: 0.9962\n",
      "Resource measurements: {'Training Time (s)': 35.354289531707764, 'Peak CPU Usage (%)': 100.0, 'Average CPU Usage (%)': 94.52527075812272}\n",
      "                precision    recall  f1-score   support\n",
      "\n",
      "          Bots       1.00      0.30      0.47       584\n",
      "   Brute Force       1.00      0.97      0.98      2745\n",
      "          DDoS       1.00      1.00      1.00     38404\n",
      "           DoS       0.99      0.98      0.99     58124\n",
      "Normal Traffic       1.00      1.00      1.00    628518\n",
      " Port Scanning       0.99      1.00      0.99     27208\n",
      "   Web Attacks       1.00      0.05      0.09       643\n",
      "\n",
      "      accuracy                           1.00    756226\n",
      "     macro avg       1.00      0.76      0.79    756226\n",
      "  weighted avg       1.00      1.00      1.00    756226\n",
      "\n"
     ]
    }
   ],
   "source": [
    "eval_dataset_w_RF(X_train_scaled_rus_SS, X_test_SS_scaled, y_train_scaled_rus_SS, y_test)"
   ]
  },
  {
   "cell_type": "code",
   "execution_count": 109,
   "id": "64a814c3",
   "metadata": {},
   "outputs": [
    {
     "name": "stderr",
     "output_type": "stream",
     "text": [
      "[Parallel(n_jobs=-1)]: Using backend ThreadingBackend with 16 concurrent workers.\n",
      "[Parallel(n_jobs=-1)]: Done  18 tasks      | elapsed:    5.6s\n",
      "[Parallel(n_jobs=-1)]: Done 150 out of 150 | elapsed:   29.6s finished\n",
      "[Parallel(n_jobs=16)]: Using backend ThreadingBackend with 16 concurrent workers.\n",
      "[Parallel(n_jobs=16)]: Done  18 tasks      | elapsed:    0.2s\n",
      "[Parallel(n_jobs=16)]: Done 150 out of 150 | elapsed:    1.9s finished\n"
     ]
    },
    {
     "name": "stdout",
     "output_type": "stream",
     "text": [
      "Cross validation average score: 0.9928 +/- standard deviation: 0.0003\n",
      "Accuracy on the test set: 0.9962\n",
      "Resource measurements: {'Training Time (s)': 30.5056893825531, 'Peak CPU Usage (%)': 100.0, 'Average CPU Usage (%)': 94.88257261410787}\n",
      "                precision    recall  f1-score   support\n",
      "\n",
      "          Bots       1.00      0.30      0.47       584\n",
      "   Brute Force       1.00      0.96      0.98      2745\n",
      "          DDoS       1.00      1.00      1.00     38404\n",
      "           DoS       1.00      0.98      0.99     58124\n",
      "Normal Traffic       1.00      1.00      1.00    628518\n",
      " Port Scanning       0.99      1.00      0.99     27208\n",
      "   Web Attacks       1.00      0.05      0.09       643\n",
      "\n",
      "      accuracy                           1.00    756226\n",
      "     macro avg       1.00      0.76      0.79    756226\n",
      "  weighted avg       1.00      1.00      1.00    756226\n",
      "\n"
     ]
    }
   ],
   "source": [
    "eval_dataset_w_RF(X_train_scaled_rus_MMS, X_test_MMS_scaled, y_train_scaled_rus_MMS, y_test)"
   ]
  },
  {
   "cell_type": "code",
   "execution_count": 110,
   "id": "62caeeeb",
   "metadata": {},
   "outputs": [
    {
     "name": "stderr",
     "output_type": "stream",
     "text": [
      "[Parallel(n_jobs=-1)]: Using backend ThreadingBackend with 16 concurrent workers.\n",
      "[Parallel(n_jobs=-1)]: Done  18 tasks      | elapsed:    2.0s\n",
      "[Parallel(n_jobs=-1)]: Done 150 out of 150 | elapsed:   11.1s finished\n",
      "[Parallel(n_jobs=16)]: Using backend ThreadingBackend with 16 concurrent workers.\n",
      "[Parallel(n_jobs=16)]: Done  18 tasks      | elapsed:    0.2s\n",
      "[Parallel(n_jobs=16)]: Done 150 out of 150 | elapsed:    1.9s finished\n"
     ]
    },
    {
     "name": "stdout",
     "output_type": "stream",
     "text": [
      "Cross validation average score: 0.9957 +/- standard deviation: 0.0008\n",
      "Accuracy on the test set: 0.4689\n",
      "Resource measurements: {'Training Time (s)': 11.453615427017212, 'Peak CPU Usage (%)': 100.0, 'Average CPU Usage (%)': 93.33267326732674}\n",
      "                precision    recall  f1-score   support\n",
      "\n",
      "          Bots       0.04      0.66      0.07       584\n",
      "   Brute Force       0.02      1.00      0.03      2745\n",
      "          DDoS       0.54      1.00      0.70     38404\n",
      "           DoS       0.27      1.00      0.43     58124\n",
      "Normal Traffic       1.00      0.36      0.53    628518\n",
      " Port Scanning       0.61      1.00      0.76     27208\n",
      "   Web Attacks       0.02      0.98      0.04       643\n",
      "\n",
      "      accuracy                           0.47    756226\n",
      "     macro avg       0.36      0.86      0.37    756226\n",
      "  weighted avg       0.90      0.47      0.54    756226\n",
      "\n"
     ]
    }
   ],
   "source": [
    "eval_dataset_w_RF(X_train_resampled_NM, X_test, y_train_resampled_NM, y_test)"
   ]
  },
  {
   "cell_type": "code",
   "execution_count": 111,
   "id": "9477343d",
   "metadata": {},
   "outputs": [
    {
     "name": "stderr",
     "output_type": "stream",
     "text": [
      "[Parallel(n_jobs=-1)]: Using backend ThreadingBackend with 16 concurrent workers.\n",
      "[Parallel(n_jobs=-1)]: Done  18 tasks      | elapsed:    1.8s\n",
      "[Parallel(n_jobs=-1)]: Done 150 out of 150 | elapsed:   10.3s finished\n",
      "[Parallel(n_jobs=16)]: Using backend ThreadingBackend with 16 concurrent workers.\n",
      "[Parallel(n_jobs=16)]: Done  18 tasks      | elapsed:    0.2s\n",
      "[Parallel(n_jobs=16)]: Done 150 out of 150 | elapsed:    1.8s finished\n"
     ]
    },
    {
     "name": "stdout",
     "output_type": "stream",
     "text": [
      "Cross validation average score: 0.9963 +/- standard deviation: 0.0008\n",
      "Accuracy on the test set: 0.5171\n",
      "Resource measurements: {'Training Time (s)': 10.683176279067993, 'Peak CPU Usage (%)': 100.0, 'Average CPU Usage (%)': 93.25000000000001}\n",
      "                precision    recall  f1-score   support\n",
      "\n",
      "          Bots       0.04      0.68      0.08       584\n",
      "   Brute Force       0.02      1.00      0.04      2745\n",
      "          DDoS       0.40      1.00      0.58     38404\n",
      "           DoS       0.29      1.00      0.45     58124\n",
      "Normal Traffic       1.00      0.42      0.59    628518\n",
      " Port Scanning       0.68      1.00      0.81     27208\n",
      "   Web Attacks       0.02      0.98      0.05       643\n",
      "\n",
      "      accuracy                           0.52    756226\n",
      "     macro avg       0.35      0.87      0.37    756226\n",
      "  weighted avg       0.90      0.52      0.58    756226\n",
      "\n"
     ]
    }
   ],
   "source": [
    "eval_dataset_w_RF(X_train_scaled_NM_RS, X_test_RS_scaled, y_train_scaled_NM_RS, y_test)"
   ]
  },
  {
   "cell_type": "code",
   "execution_count": 112,
   "id": "bf922f92",
   "metadata": {},
   "outputs": [
    {
     "name": "stderr",
     "output_type": "stream",
     "text": [
      "[Parallel(n_jobs=-1)]: Using backend ThreadingBackend with 16 concurrent workers.\n",
      "[Parallel(n_jobs=-1)]: Done  18 tasks      | elapsed:    1.7s\n",
      "[Parallel(n_jobs=-1)]: Done 150 out of 150 | elapsed:    9.3s finished\n",
      "[Parallel(n_jobs=16)]: Using backend ThreadingBackend with 16 concurrent workers.\n",
      "[Parallel(n_jobs=16)]: Done  18 tasks      | elapsed:    0.2s\n",
      "[Parallel(n_jobs=16)]: Done 150 out of 150 | elapsed:    1.8s finished\n"
     ]
    },
    {
     "name": "stdout",
     "output_type": "stream",
     "text": [
      "Cross validation average score: 0.9960 +/- standard deviation: 0.0004\n",
      "Accuracy on the test set: 0.2662\n",
      "Resource measurements: {'Training Time (s)': 9.652126789093018, 'Peak CPU Usage (%)': 100.0, 'Average CPU Usage (%)': 93.93928571428572}\n",
      "                precision    recall  f1-score   support\n",
      "\n",
      "          Bots       0.03      0.69      0.06       584\n",
      "   Brute Force       0.02      1.00      0.03      2745\n",
      "          DDoS       0.23      1.00      0.37     38404\n",
      "           DoS       0.24      1.00      0.39     58124\n",
      "Normal Traffic       1.00      0.12      0.21    628518\n",
      " Port Scanning       0.37      1.00      0.54     27208\n",
      "   Web Attacks       0.02      0.98      0.05       643\n",
      "\n",
      "      accuracy                           0.27    756226\n",
      "     macro avg       0.27      0.83      0.24    756226\n",
      "  weighted avg       0.87      0.27      0.24    756226\n",
      "\n"
     ]
    }
   ],
   "source": [
    "eval_dataset_w_RF(X_train_scaled_NM_SS, X_test_SS_scaled, y_train_scaled_NM_SS, y_test)"
   ]
  },
  {
   "cell_type": "code",
   "execution_count": 113,
   "id": "b587170e",
   "metadata": {},
   "outputs": [
    {
     "name": "stderr",
     "output_type": "stream",
     "text": [
      "[Parallel(n_jobs=-1)]: Using backend ThreadingBackend with 16 concurrent workers.\n",
      "[Parallel(n_jobs=-1)]: Done  18 tasks      | elapsed:    1.3s\n",
      "[Parallel(n_jobs=-1)]: Done 150 out of 150 | elapsed:    7.5s finished\n",
      "[Parallel(n_jobs=16)]: Using backend ThreadingBackend with 16 concurrent workers.\n",
      "[Parallel(n_jobs=16)]: Done  18 tasks      | elapsed:    0.2s\n",
      "[Parallel(n_jobs=16)]: Done 150 out of 150 | elapsed:    1.8s finished\n"
     ]
    },
    {
     "name": "stdout",
     "output_type": "stream",
     "text": [
      "Cross validation average score: 0.9958 +/- standard deviation: 0.0004\n",
      "Accuracy on the test set: 0.2600\n",
      "Resource measurements: {'Training Time (s)': 7.835391521453857, 'Peak CPU Usage (%)': 100.0, 'Average CPU Usage (%)': 93.86619718309862}\n",
      "                precision    recall  f1-score   support\n",
      "\n",
      "          Bots       0.03      0.71      0.06       584\n",
      "   Brute Force       0.01      1.00      0.02      2745\n",
      "          DDoS       0.71      1.00      0.83     38404\n",
      "           DoS       0.24      1.00      0.38     58124\n",
      "Normal Traffic       1.00      0.11      0.20    628518\n",
      " Port Scanning       0.22      1.00      0.37     27208\n",
      "   Web Attacks       0.02      0.98      0.05       643\n",
      "\n",
      "      accuracy                           0.26    756226\n",
      "     macro avg       0.32      0.83      0.27    756226\n",
      "  weighted avg       0.89      0.26      0.25    756226\n",
      "\n"
     ]
    }
   ],
   "source": [
    "eval_dataset_w_RF(X_train_scaled_NM_MMS, X_test_MMS_scaled, y_train_scaled_NM_MMS, y_test)"
   ]
  },
  {
   "cell_type": "markdown",
   "id": "7dd3fa33",
   "metadata": {},
   "source": [
    "## Evals KNN"
   ]
  },
  {
   "cell_type": "code",
   "execution_count": 151,
   "id": "2b3bfd27",
   "metadata": {},
   "outputs": [
    {
     "name": "stderr",
     "output_type": "stream",
     "text": [
      "f:\\!STUDY\\1TMO\\4 Сем\\ДИПЛОМ\\CODE\\NN-env\\Lib\\site-packages\\joblib\\externals\\loky\\process_executor.py:752: UserWarning: A worker stopped while some jobs were given to the executor. This can be caused by a too short worker timeout or by a memory leak.\n",
      "  warnings.warn(\n"
     ]
    },
    {
     "name": "stdout",
     "output_type": "stream",
     "text": [
      "Cross validation average score: 0.9823 +/- standard deviation: 0.0020\n",
      "Accuracy on the test set: 0.9834\n",
      "Resource measurements: {'Training Time (s)': 9.873514413833618, 'Peak CPU Usage (%)': 11.4, 'Average CPU Usage (%)': 9.200000000000001}\n",
      "                precision    recall  f1-score   support\n",
      "\n",
      "          Bots       0.16      0.75      0.26       584\n",
      "   Brute Force       0.98      0.96      0.97      2745\n",
      "          DDoS       0.97      0.98      0.98     38404\n",
      "           DoS       0.96      0.98      0.97     58124\n",
      "Normal Traffic       0.99      0.99      0.99    628518\n",
      " Port Scanning       0.99      0.81      0.89     27208\n",
      "   Web Attacks       0.96      0.93      0.95       643\n",
      "\n",
      "      accuracy                           0.98    756226\n",
      "     macro avg       0.86      0.92      0.86    756226\n",
      "  weighted avg       0.99      0.98      0.98    756226\n",
      "\n"
     ]
    }
   ],
   "source": [
    "eval_dataset_w_KNN(X_train_resampled_rus, X_test, y_train_resampled_rus, y_test)"
   ]
  },
  {
   "cell_type": "code",
   "execution_count": 152,
   "id": "27743a0c",
   "metadata": {},
   "outputs": [
    {
     "name": "stdout",
     "output_type": "stream",
     "text": [
      "Cross validation average score: 0.9646 +/- standard deviation: 0.0007\n",
      "Accuracy on the test set: 0.9700\n",
      "Resource measurements: {'Training Time (s)': 9.611931800842285, 'Peak CPU Usage (%)': 9.9, 'Average CPU Usage (%)': 8.0}\n",
      "                precision    recall  f1-score   support\n",
      "\n",
      "          Bots       0.16      0.77      0.27       584\n",
      "   Brute Force       1.00      0.97      0.98      2745\n",
      "          DDoS       0.89      0.94      0.91     38404\n",
      "           DoS       0.95      0.97      0.96     58124\n",
      "Normal Traffic       0.98      0.99      0.98    628518\n",
      " Port Scanning       1.00      0.66      0.80     27208\n",
      "   Web Attacks       0.96      0.93      0.95       643\n",
      "\n",
      "      accuracy                           0.97    756226\n",
      "     macro avg       0.85      0.89      0.84    756226\n",
      "  weighted avg       0.97      0.97      0.97    756226\n",
      "\n"
     ]
    }
   ],
   "source": [
    "eval_dataset_w_KNN(X_train_scaled_rus_RS, X_test_RS_scaled, y_train_scaled_rus_RS, y_test)"
   ]
  },
  {
   "cell_type": "code",
   "execution_count": 153,
   "id": "500a2c12",
   "metadata": {},
   "outputs": [
    {
     "name": "stdout",
     "output_type": "stream",
     "text": [
      "Cross validation average score: 0.9803 +/- standard deviation: 0.0019\n",
      "Accuracy on the test set: 0.9859\n",
      "Resource measurements: {'Training Time (s)': 5.313117742538452, 'Peak CPU Usage (%)': 15.2, 'Average CPU Usage (%)': 9.6}\n",
      "                precision    recall  f1-score   support\n",
      "\n",
      "          Bots       0.17      0.84      0.28       584\n",
      "   Brute Force       0.99      0.97      0.98      2745\n",
      "          DDoS       1.00      1.00      1.00     38404\n",
      "           DoS       0.97      0.99      0.98     58124\n",
      "Normal Traffic       0.99      0.99      0.99    628518\n",
      " Port Scanning       0.99      0.81      0.89     27208\n",
      "   Web Attacks       0.93      0.94      0.93       643\n",
      "\n",
      "      accuracy                           0.99    756226\n",
      "     macro avg       0.86      0.93      0.86    756226\n",
      "  weighted avg       0.99      0.99      0.99    756226\n",
      "\n"
     ]
    }
   ],
   "source": [
    "eval_dataset_w_KNN(X_train_scaled_rus_SS, X_test_SS_scaled, y_train_scaled_rus_SS, y_test)"
   ]
  },
  {
   "cell_type": "code",
   "execution_count": 154,
   "id": "bc67b24f",
   "metadata": {},
   "outputs": [
    {
     "name": "stderr",
     "output_type": "stream",
     "text": [
      "f:\\!STUDY\\1TMO\\4 Сем\\ДИПЛОМ\\CODE\\NN-env\\Lib\\site-packages\\joblib\\externals\\loky\\process_executor.py:752: UserWarning: A worker stopped while some jobs were given to the executor. This can be caused by a too short worker timeout or by a memory leak.\n",
      "  warnings.warn(\n"
     ]
    },
    {
     "name": "stdout",
     "output_type": "stream",
     "text": [
      "Cross validation average score: 0.9771 +/- standard deviation: 0.0011\n",
      "Accuracy on the test set: 0.9784\n",
      "Resource measurements: {'Training Time (s)': 9.802721500396729, 'Peak CPU Usage (%)': 14.2, 'Average CPU Usage (%)': 12.0}\n",
      "                precision    recall  f1-score   support\n",
      "\n",
      "          Bots       0.16      0.78      0.27       584\n",
      "   Brute Force       0.99      0.97      0.98      2745\n",
      "          DDoS       1.00      1.00      1.00     38404\n",
      "           DoS       0.93      0.99      0.96     58124\n",
      "Normal Traffic       0.98      0.99      0.99    628518\n",
      " Port Scanning       1.00      0.67      0.80     27208\n",
      "   Web Attacks       0.97      0.93      0.95       643\n",
      "\n",
      "      accuracy                           0.98    756226\n",
      "     macro avg       0.86      0.90      0.85    756226\n",
      "  weighted avg       0.98      0.98      0.98    756226\n",
      "\n"
     ]
    }
   ],
   "source": [
    "eval_dataset_w_KNN(X_train_scaled_rus_MMS, X_test_MMS_scaled, y_train_scaled_rus_MMS, y_test)"
   ]
  },
  {
   "cell_type": "code",
   "execution_count": 155,
   "id": "ad00705f",
   "metadata": {},
   "outputs": [
    {
     "name": "stdout",
     "output_type": "stream",
     "text": [
      "Cross validation average score: 0.9907 +/- standard deviation: 0.0004\n",
      "Accuracy on the test set: 0.2360\n",
      "Resource measurements: {'Training Time (s)': 1.4848995208740234, 'Peak CPU Usage (%)': 9.9, 'Average CPU Usage (%)': 8.25}\n",
      "                precision    recall  f1-score   support\n",
      "\n",
      "          Bots       0.02      0.69      0.04       584\n",
      "   Brute Force       0.03      0.99      0.06      2745\n",
      "          DDoS       0.19      0.99      0.32     38404\n",
      "           DoS       0.20      1.00      0.34     58124\n",
      "Normal Traffic       1.00      0.08      0.15    628518\n",
      " Port Scanning       0.32      1.00      0.49     27208\n",
      "   Web Attacks       0.02      0.94      0.04       643\n",
      "\n",
      "      accuracy                           0.24    756226\n",
      "     macro avg       0.26      0.81      0.21    756226\n",
      "  weighted avg       0.87      0.24      0.19    756226\n",
      "\n"
     ]
    }
   ],
   "source": [
    "eval_dataset_w_KNN(X_train_resampled_NM, X_test, y_train_resampled_NM, y_test)"
   ]
  },
  {
   "cell_type": "code",
   "execution_count": 156,
   "id": "979c3b96",
   "metadata": {},
   "outputs": [
    {
     "name": "stdout",
     "output_type": "stream",
     "text": [
      "Cross validation average score: 0.9840 +/- standard deviation: 0.0004\n",
      "Accuracy on the test set: 0.2071\n",
      "Resource measurements: {'Training Time (s)': 1.4383196830749512, 'Peak CPU Usage (%)': 13.3, 'Average CPU Usage (%)': 10.225}\n",
      "                precision    recall  f1-score   support\n",
      "\n",
      "          Bots       0.03      0.76      0.05       584\n",
      "   Brute Force       0.02      0.99      0.03      2745\n",
      "          DDoS       0.24      0.99      0.39     38404\n",
      "           DoS       0.19      0.99      0.32     58124\n",
      "Normal Traffic       1.00      0.05      0.09    628518\n",
      " Port Scanning       0.40      1.00      0.57     27208\n",
      "   Web Attacks       0.04      0.96      0.07       643\n",
      "\n",
      "      accuracy                           0.21    756226\n",
      "     macro avg       0.27      0.82      0.22    756226\n",
      "  weighted avg       0.87      0.21      0.14    756226\n",
      "\n"
     ]
    }
   ],
   "source": [
    "eval_dataset_w_KNN(X_train_scaled_NM_RS, X_test_RS_scaled, y_train_scaled_NM_RS, y_test)"
   ]
  },
  {
   "cell_type": "code",
   "execution_count": 157,
   "id": "2176b1f8",
   "metadata": {},
   "outputs": [
    {
     "name": "stdout",
     "output_type": "stream",
     "text": [
      "Cross validation average score: 0.9955 +/- standard deviation: 0.0004\n",
      "Accuracy on the test set: 0.2573\n",
      "Resource measurements: {'Training Time (s)': 1.4132719039916992, 'Peak CPU Usage (%)': 11.5, 'Average CPU Usage (%)': 7.475}\n",
      "                precision    recall  f1-score   support\n",
      "\n",
      "          Bots       0.02      0.78      0.05       584\n",
      "   Brute Force       0.04      0.99      0.08      2745\n",
      "          DDoS       0.54      1.00      0.70     38404\n",
      "           DoS       0.13      1.00      0.22     58124\n",
      "Normal Traffic       1.00      0.11      0.19    628518\n",
      " Port Scanning       0.54      1.00      0.70     27208\n",
      "   Web Attacks       0.03      0.96      0.05       643\n",
      "\n",
      "      accuracy                           0.26    756226\n",
      "     macro avg       0.33      0.83      0.29    756226\n",
      "  weighted avg       0.89      0.26      0.24    756226\n",
      "\n"
     ]
    }
   ],
   "source": [
    "eval_dataset_w_KNN(X_train_scaled_NM_SS, X_test_SS_scaled, y_train_scaled_NM_SS, y_test)"
   ]
  },
  {
   "cell_type": "code",
   "execution_count": 158,
   "id": "4b8a4be9",
   "metadata": {},
   "outputs": [
    {
     "name": "stdout",
     "output_type": "stream",
     "text": [
      "Cross validation average score: 0.9952 +/- standard deviation: 0.0003\n",
      "Accuracy on the test set: 0.2504\n",
      "Resource measurements: {'Training Time (s)': 1.390134572982788, 'Peak CPU Usage (%)': 12.1, 'Average CPU Usage (%)': 8.725}\n",
      "                precision    recall  f1-score   support\n",
      "\n",
      "          Bots       0.02      0.78      0.05       584\n",
      "   Brute Force       0.04      0.99      0.08      2745\n",
      "          DDoS       0.51      1.00      0.67     38404\n",
      "           DoS       0.13      1.00      0.23     58124\n",
      "Normal Traffic       1.00      0.10      0.18    628518\n",
      " Port Scanning       0.53      1.00      0.70     27208\n",
      "   Web Attacks       0.02      0.97      0.04       643\n",
      "\n",
      "      accuracy                           0.25    756226\n",
      "     macro avg       0.32      0.83      0.28    756226\n",
      "  weighted avg       0.88      0.25      0.23    756226\n",
      "\n"
     ]
    }
   ],
   "source": [
    "eval_dataset_w_KNN(X_train_scaled_NM_MMS, X_test_MMS_scaled, y_train_scaled_NM_MMS, y_test)"
   ]
  },
  {
   "cell_type": "markdown",
   "id": "a6e4bff5",
   "metadata": {},
   "source": [
    "## Over Sampling"
   ]
  },
  {
   "cell_type": "code",
   "execution_count": 114,
   "id": "71464ce7",
   "metadata": {},
   "outputs": [],
   "source": [
    "from imblearn.over_sampling import SMOTE, ADASYN, BorderlineSMOTE"
   ]
  },
  {
   "cell_type": "code",
   "execution_count": 115,
   "id": "3fbb1994",
   "metadata": {},
   "outputs": [],
   "source": [
    "X_train_resampled_ADASYN, y_train_resampled_ADASYN = ADASYN(sampling_strategy='auto', random_state=42, n_neighbors=5).fit_resample(X_train_resampled_rus, y_train_resampled_rus)\n",
    "\n",
    "X_train_resampled_scaled_RS_ADASYN, y_train_resampled_scaled_RS_ADASYN = ADASYN(sampling_strategy='auto', random_state=42, n_neighbors=5).fit_resample(X_train_scaled_rus_RS, y_train_scaled_rus_RS)\n",
    "\n",
    "X_train_resampled_scaled_MMS_ADASYN, y_train_resampled_scaled_MMS_ADASYN = ADASYN(sampling_strategy='auto', random_state=42, n_neighbors=5).fit_resample(X_train_scaled_rus_MMS, y_train_scaled_rus_MMS)\n",
    "\n",
    "\n",
    "X_train_resampled_SMOTE, y_train_resampled_SMOTE = SMOTE(sampling_strategy={'Bots': 2000, 'Web Attacks': 2000, 'Brute Force': 7000, 'Port Scanning': 70000, 'DDoS':90000, 'DoS': 200000}, random_state=42).fit_resample(X_train_resampled_rus, y_train_resampled_rus)\n",
    "\n",
    "X_train_resampled_scaled_RS_SMOTE, y_train_resampled_scaled_RS_SMOTE = SMOTE(sampling_strategy={'Bots': 2000, 'Web Attacks': 2000, 'Brute Force': 7000, 'Port Scanning': 70000, 'DDoS':90000, 'DoS': 200000}, random_state=42).fit_resample(X_train_scaled_rus_RS, y_train_scaled_rus_RS)\n",
    "\n",
    "X_train_resampled_scaled_MMS_SMOTE, y_train_resampled_scaled_MMS_SMOTE = SMOTE(sampling_strategy={'Bots': 2000, 'Web Attacks': 2000, 'Brute Force': 7000, 'Port Scanning': 70000, 'DDoS':90000, 'DoS': 200000}, random_state=42).fit_resample(X_train_scaled_rus_MMS, y_train_scaled_rus_MMS)\n",
    "\n",
    "\n",
    "X_train_resampled_BSMOTE, y_train_resampled_BSMOTE = BorderlineSMOTE(sampling_strategy={'Bots': 2000, 'Web Attacks': 2000, 'Brute Force': 7000, 'Port Scanning': 70000, 'DDoS': 90000, 'DoS': 200000}, random_state=42, k_neighbors=5, m_neighbors=10, kind='borderline-1').fit_resample(X_train_resampled_rus, y_train_resampled_rus)\n",
    "\n",
    "X_train_resampled_scaled_RS_BSMOTE, y_train_resampled_scaled_RS_BSMOTE = BorderlineSMOTE(sampling_strategy={'Bots': 2000, 'Web Attacks': 2000, 'Brute Force': 7000, 'Port Scanning': 70000, 'DDoS': 90000, 'DoS': 200000}, random_state=42, k_neighbors=5, m_neighbors=10, kind='borderline-1').fit_resample(X_train_scaled_rus_RS, y_train_scaled_rus_RS)\n",
    "\n",
    "X_train_resampled_scaled_MMS_BSMOTE, y_train_resampled_scaled_MMS_BSMOTE = BorderlineSMOTE(sampling_strategy={'Bots': 2000, 'Web Attacks': 2000, 'Brute Force': 7000, 'Port Scanning': 70000, 'DDoS': 90000, 'DoS': 200000}, random_state=42, k_neighbors=5, m_neighbors=10, kind='borderline-1').fit_resample(X_train_scaled_rus_MMS, y_train_scaled_rus_MMS)"
   ]
  },
  {
   "cell_type": "code",
   "execution_count": 116,
   "id": "bcf02a16",
   "metadata": {},
   "outputs": [
    {
     "data": {
      "text/plain": [
       "Attack Type\n",
       "Normal Traffic    500000\n",
       "DoS               135621\n",
       "DDoS               89610\n",
       "Port Scanning      63486\n",
       "Brute Force         6405\n",
       "Web Attacks         1500\n",
       "Bots                1364\n",
       "Name: count, dtype: int64"
      ]
     },
     "execution_count": 116,
     "metadata": {},
     "output_type": "execute_result"
    }
   ],
   "source": [
    "y_train_resampled_rus.value_counts()"
   ]
  },
  {
   "cell_type": "code",
   "execution_count": 117,
   "id": "80f7f5b0",
   "metadata": {},
   "outputs": [
    {
     "data": {
      "text/plain": [
       "Attack Type\n",
       "Port Scanning     505920\n",
       "DDoS              500622\n",
       "Bots              500076\n",
       "Brute Force       500064\n",
       "Web Attacks       500050\n",
       "Normal Traffic    500000\n",
       "DoS               499430\n",
       "Name: count, dtype: int64"
      ]
     },
     "execution_count": 117,
     "metadata": {},
     "output_type": "execute_result"
    }
   ],
   "source": [
    "y_train_resampled_ADASYN.value_counts()"
   ]
  },
  {
   "cell_type": "code",
   "execution_count": 118,
   "id": "d6d6c686",
   "metadata": {},
   "outputs": [
    {
     "data": {
      "text/plain": [
       "Attack Type\n",
       "Normal Traffic    500000\n",
       "DoS               200000\n",
       "DDoS               90000\n",
       "Port Scanning      70000\n",
       "Brute Force         7000\n",
       "Bots                2000\n",
       "Web Attacks         2000\n",
       "Name: count, dtype: int64"
      ]
     },
     "execution_count": 118,
     "metadata": {},
     "output_type": "execute_result"
    }
   ],
   "source": [
    "y_train_resampled_SMOTE.value_counts()"
   ]
  },
  {
   "cell_type": "markdown",
   "id": "da73abf9",
   "metadata": {},
   "source": [
    "## Eval RF"
   ]
  },
  {
   "cell_type": "code",
   "execution_count": 119,
   "id": "f4a9cab0",
   "metadata": {},
   "outputs": [
    {
     "name": "stderr",
     "output_type": "stream",
     "text": [
      "[Parallel(n_jobs=-1)]: Using backend ThreadingBackend with 16 concurrent workers.\n",
      "[Parallel(n_jobs=-1)]: Done  18 tasks      | elapsed:   30.5s\n",
      "[Parallel(n_jobs=-1)]: Done 150 out of 150 | elapsed:  2.6min finished\n",
      "[Parallel(n_jobs=16)]: Using backend ThreadingBackend with 16 concurrent workers.\n",
      "[Parallel(n_jobs=16)]: Done  18 tasks      | elapsed:    0.2s\n",
      "[Parallel(n_jobs=16)]: Done 150 out of 150 | elapsed:    1.9s finished\n"
     ]
    },
    {
     "name": "stdout",
     "output_type": "stream",
     "text": [
      "Cross validation average score: 0.9718 +/- standard deviation: 0.0069\n",
      "Accuracy on the test set: 0.9384\n",
      "Resource measurements: {'Training Time (s)': 157.79689478874207, 'Peak CPU Usage (%)': 100.0, 'Average CPU Usage (%)': 94.9514841351075}\n",
      "                precision    recall  f1-score   support\n",
      "\n",
      "          Bots       0.04      0.99      0.07       584\n",
      "   Brute Force       0.41      1.00      0.58      2745\n",
      "          DDoS       0.97      1.00      0.98     38404\n",
      "           DoS       0.87      1.00      0.93     58124\n",
      "Normal Traffic       1.00      0.93      0.96    628518\n",
      " Port Scanning       0.99      1.00      0.99     27208\n",
      "   Web Attacks       0.04      0.99      0.07       643\n",
      "\n",
      "      accuracy                           0.94    756226\n",
      "     macro avg       0.61      0.99      0.65    756226\n",
      "  weighted avg       0.98      0.94      0.96    756226\n",
      "\n"
     ]
    }
   ],
   "source": [
    "eval_dataset_w_RF(X_train_resampled_ADASYN, X_test, y_train_resampled_ADASYN, y_test)"
   ]
  },
  {
   "cell_type": "code",
   "execution_count": 120,
   "id": "075eb08c",
   "metadata": {},
   "outputs": [
    {
     "name": "stderr",
     "output_type": "stream",
     "text": [
      "[Parallel(n_jobs=-1)]: Using backend ThreadingBackend with 16 concurrent workers.\n",
      "[Parallel(n_jobs=-1)]: Done  18 tasks      | elapsed:   37.8s\n",
      "[Parallel(n_jobs=-1)]: Done 150 out of 150 | elapsed:  3.2min finished\n",
      "[Parallel(n_jobs=16)]: Using backend ThreadingBackend with 16 concurrent workers.\n",
      "[Parallel(n_jobs=16)]: Done  18 tasks      | elapsed:    0.2s\n",
      "[Parallel(n_jobs=16)]: Done 150 out of 150 | elapsed:    2.0s finished\n"
     ]
    },
    {
     "name": "stdout",
     "output_type": "stream",
     "text": [
      "Cross validation average score: 0.9594 +/- standard deviation: 0.0226\n",
      "Accuracy on the test set: 0.9383\n",
      "Resource measurements: {'Training Time (s)': 197.55077195167542, 'Peak CPU Usage (%)': 100.0, 'Average CPU Usage (%)': 94.10075885328835}\n",
      "                precision    recall  f1-score   support\n",
      "\n",
      "          Bots       0.04      0.99      0.07       584\n",
      "   Brute Force       0.39      1.00      0.56      2745\n",
      "          DDoS       1.00      1.00      1.00     38404\n",
      "           DoS       0.89      1.00      0.94     58124\n",
      "Normal Traffic       1.00      0.93      0.96    628518\n",
      " Port Scanning       0.99      1.00      0.99     27208\n",
      "   Web Attacks       0.03      0.99      0.06       643\n",
      "\n",
      "      accuracy                           0.94    756226\n",
      "     macro avg       0.62      0.99      0.66    756226\n",
      "  weighted avg       0.99      0.94      0.96    756226\n",
      "\n"
     ]
    }
   ],
   "source": [
    "eval_dataset_w_RF(X_train_resampled_scaled_RS_ADASYN, X_test_RS_scaled, y_train_resampled_scaled_RS_ADASYN, y_test)"
   ]
  },
  {
   "cell_type": "code",
   "execution_count": 121,
   "id": "de4dcfc6",
   "metadata": {},
   "outputs": [
    {
     "name": "stderr",
     "output_type": "stream",
     "text": [
      "[Parallel(n_jobs=-1)]: Using backend ThreadingBackend with 16 concurrent workers.\n",
      "[Parallel(n_jobs=-1)]: Done  18 tasks      | elapsed:   20.1s\n",
      "[Parallel(n_jobs=-1)]: Done 150 out of 150 | elapsed:  1.7min finished\n",
      "[Parallel(n_jobs=16)]: Using backend ThreadingBackend with 16 concurrent workers.\n",
      "[Parallel(n_jobs=16)]: Done  18 tasks      | elapsed:    0.2s\n",
      "[Parallel(n_jobs=16)]: Done 150 out of 150 | elapsed:    1.8s finished\n"
     ]
    },
    {
     "name": "stdout",
     "output_type": "stream",
     "text": [
      "Cross validation average score: 0.9520 +/- standard deviation: 0.0082\n",
      "Accuracy on the test set: 0.8903\n",
      "Resource measurements: {'Training Time (s)': 108.67772316932678, 'Peak CPU Usage (%)': 100.0, 'Average CPU Usage (%)': 93.91941489361697}\n",
      "                precision    recall  f1-score   support\n",
      "\n",
      "          Bots       0.03      0.99      0.06       584\n",
      "   Brute Force       0.19      1.00      0.32      2745\n",
      "          DDoS       0.81      1.00      0.90     38404\n",
      "           DoS       0.76      1.00      0.86     58124\n",
      "Normal Traffic       1.00      0.87      0.93    628518\n",
      " Port Scanning       0.99      1.00      0.99     27208\n",
      "   Web Attacks       0.02      0.99      0.05       643\n",
      "\n",
      "      accuracy                           0.89    756226\n",
      "     macro avg       0.54      0.98      0.59    756226\n",
      "  weighted avg       0.97      0.89      0.92    756226\n",
      "\n"
     ]
    }
   ],
   "source": [
    "eval_dataset_w_RF(X_train_resampled_scaled_MMS_ADASYN, X_test_MMS_scaled, y_train_resampled_scaled_MMS_ADASYN, y_test)"
   ]
  },
  {
   "cell_type": "code",
   "execution_count": 122,
   "id": "e3f7c3bf",
   "metadata": {},
   "outputs": [
    {
     "name": "stderr",
     "output_type": "stream",
     "text": [
      "[Parallel(n_jobs=-1)]: Using backend ThreadingBackend with 16 concurrent workers.\n",
      "[Parallel(n_jobs=-1)]: Done  18 tasks      | elapsed:    8.6s\n",
      "[Parallel(n_jobs=-1)]: Done 150 out of 150 | elapsed:   43.4s finished\n",
      "[Parallel(n_jobs=16)]: Using backend ThreadingBackend with 16 concurrent workers.\n",
      "[Parallel(n_jobs=16)]: Done  18 tasks      | elapsed:    0.2s\n",
      "[Parallel(n_jobs=16)]: Done 150 out of 150 | elapsed:    1.6s finished\n"
     ]
    },
    {
     "name": "stdout",
     "output_type": "stream",
     "text": [
      "Cross validation average score: 0.9916 +/- standard deviation: 0.0005\n",
      "Accuracy on the test set: 0.9961\n",
      "Resource measurements: {'Training Time (s)': 44.4897301197052, 'Peak CPU Usage (%)': 100.0, 'Average CPU Usage (%)': 93.2110769230769}\n",
      "                precision    recall  f1-score   support\n",
      "\n",
      "          Bots       0.58      0.57      0.57       584\n",
      "   Brute Force       1.00      0.96      0.98      2745\n",
      "          DDoS       1.00      1.00      1.00     38404\n",
      "           DoS       0.99      0.98      0.99     58124\n",
      "Normal Traffic       1.00      1.00      1.00    628518\n",
      " Port Scanning       0.99      1.00      0.99     27208\n",
      "   Web Attacks       1.00      0.05      0.09       643\n",
      "\n",
      "      accuracy                           1.00    756226\n",
      "     macro avg       0.94      0.79      0.80    756226\n",
      "  weighted avg       1.00      1.00      1.00    756226\n",
      "\n"
     ]
    }
   ],
   "source": [
    "eval_dataset_w_RF(X_train_resampled_SMOTE, X_test, y_train_resampled_SMOTE, y_test)"
   ]
  },
  {
   "cell_type": "code",
   "execution_count": 123,
   "id": "c34d5496",
   "metadata": {},
   "outputs": [
    {
     "name": "stderr",
     "output_type": "stream",
     "text": [
      "[Parallel(n_jobs=-1)]: Using backend ThreadingBackend with 16 concurrent workers.\n",
      "[Parallel(n_jobs=-1)]: Done  18 tasks      | elapsed:    8.3s\n",
      "[Parallel(n_jobs=-1)]: Done 150 out of 150 | elapsed:   41.4s finished\n",
      "[Parallel(n_jobs=16)]: Using backend ThreadingBackend with 16 concurrent workers.\n",
      "[Parallel(n_jobs=16)]: Done  18 tasks      | elapsed:    0.2s\n",
      "[Parallel(n_jobs=16)]: Done 150 out of 150 | elapsed:    1.6s finished\n"
     ]
    },
    {
     "name": "stdout",
     "output_type": "stream",
     "text": [
      "Cross validation average score: 0.9916 +/- standard deviation: 0.0004\n",
      "Accuracy on the test set: 0.9961\n",
      "Resource measurements: {'Training Time (s)': 42.391907691955566, 'Peak CPU Usage (%)': 100.0, 'Average CPU Usage (%)': 94.31536050156738}\n",
      "                precision    recall  f1-score   support\n",
      "\n",
      "          Bots       0.58      0.57      0.57       584\n",
      "   Brute Force       1.00      0.96      0.98      2745\n",
      "          DDoS       1.00      1.00      1.00     38404\n",
      "           DoS       0.99      0.98      0.99     58124\n",
      "Normal Traffic       1.00      1.00      1.00    628518\n",
      " Port Scanning       0.99      1.00      0.99     27208\n",
      "   Web Attacks       1.00      0.05      0.09       643\n",
      "\n",
      "      accuracy                           1.00    756226\n",
      "     macro avg       0.94      0.79      0.80    756226\n",
      "  weighted avg       1.00      1.00      1.00    756226\n",
      "\n"
     ]
    }
   ],
   "source": [
    "eval_dataset_w_RF(X_train_resampled_scaled_RS_SMOTE, X_test_RS_scaled, y_train_resampled_scaled_RS_SMOTE, y_test)"
   ]
  },
  {
   "cell_type": "code",
   "execution_count": 124,
   "id": "f0cbd5e2",
   "metadata": {},
   "outputs": [
    {
     "name": "stderr",
     "output_type": "stream",
     "text": [
      "[Parallel(n_jobs=-1)]: Using backend ThreadingBackend with 16 concurrent workers.\n",
      "[Parallel(n_jobs=-1)]: Done  18 tasks      | elapsed:    5.9s\n",
      "[Parallel(n_jobs=-1)]: Done 150 out of 150 | elapsed:   30.2s finished\n",
      "[Parallel(n_jobs=16)]: Using backend ThreadingBackend with 16 concurrent workers.\n",
      "[Parallel(n_jobs=16)]: Done  18 tasks      | elapsed:    0.2s\n",
      "[Parallel(n_jobs=16)]: Done 150 out of 150 | elapsed:    1.7s finished\n"
     ]
    },
    {
     "name": "stdout",
     "output_type": "stream",
     "text": [
      "Cross validation average score: 0.9918 +/- standard deviation: 0.0004\n",
      "Accuracy on the test set: 0.9962\n",
      "Resource measurements: {'Training Time (s)': 31.16592001914978, 'Peak CPU Usage (%)': 100.0, 'Average CPU Usage (%)': 94.7003937007874}\n",
      "                precision    recall  f1-score   support\n",
      "\n",
      "          Bots       0.59      0.57      0.58       584\n",
      "   Brute Force       1.00      0.96      0.98      2745\n",
      "          DDoS       1.00      1.00      1.00     38404\n",
      "           DoS       0.99      0.98      0.99     58124\n",
      "Normal Traffic       1.00      1.00      1.00    628518\n",
      " Port Scanning       0.99      1.00      0.99     27208\n",
      "   Web Attacks       1.00      0.05      0.09       643\n",
      "\n",
      "      accuracy                           1.00    756226\n",
      "     macro avg       0.94      0.79      0.80    756226\n",
      "  weighted avg       1.00      1.00      1.00    756226\n",
      "\n"
     ]
    }
   ],
   "source": [
    "eval_dataset_w_RF(X_train_resampled_scaled_MMS_SMOTE, X_test_MMS_scaled, y_train_resampled_scaled_MMS_SMOTE, y_test)"
   ]
  },
  {
   "cell_type": "code",
   "execution_count": 125,
   "id": "0f12ff97",
   "metadata": {},
   "outputs": [
    {
     "name": "stderr",
     "output_type": "stream",
     "text": [
      "[Parallel(n_jobs=-1)]: Using backend ThreadingBackend with 16 concurrent workers.\n",
      "[Parallel(n_jobs=-1)]: Done  18 tasks      | elapsed:    8.2s\n",
      "[Parallel(n_jobs=-1)]: Done 150 out of 150 | elapsed:   41.0s finished\n",
      "[Parallel(n_jobs=16)]: Using backend ThreadingBackend with 16 concurrent workers.\n",
      "[Parallel(n_jobs=16)]: Done  18 tasks      | elapsed:    0.2s\n",
      "[Parallel(n_jobs=16)]: Done 150 out of 150 | elapsed:    1.7s finished\n"
     ]
    },
    {
     "name": "stdout",
     "output_type": "stream",
     "text": [
      "Cross validation average score: 0.9855 +/- standard deviation: 0.0032\n",
      "Accuracy on the test set: 0.9860\n",
      "Resource measurements: {'Training Time (s)': 42.01073408126831, 'Peak CPU Usage (%)': 100.0, 'Average CPU Usage (%)': 94.52073170731704}\n",
      "                precision    recall  f1-score   support\n",
      "\n",
      "          Bots       0.58      0.56      0.57       584\n",
      "   Brute Force       1.00      0.97      0.98      2745\n",
      "          DDoS       1.00      1.00      1.00     38404\n",
      "           DoS       0.87      1.00      0.93     58124\n",
      "Normal Traffic       1.00      0.98      0.99    628518\n",
      " Port Scanning       0.99      1.00      0.99     27208\n",
      "   Web Attacks       1.00      0.05      0.09       643\n",
      "\n",
      "      accuracy                           0.99    756226\n",
      "     macro avg       0.92      0.79      0.79    756226\n",
      "  weighted avg       0.99      0.99      0.99    756226\n",
      "\n"
     ]
    }
   ],
   "source": [
    "eval_dataset_w_RF(X_train_resampled_BSMOTE, X_test, y_train_resampled_BSMOTE, y_test)"
   ]
  },
  {
   "cell_type": "code",
   "execution_count": 126,
   "id": "2b85c54d",
   "metadata": {},
   "outputs": [
    {
     "name": "stderr",
     "output_type": "stream",
     "text": [
      "[Parallel(n_jobs=-1)]: Using backend ThreadingBackend with 16 concurrent workers.\n",
      "[Parallel(n_jobs=-1)]: Done  18 tasks      | elapsed:    8.8s\n",
      "[Parallel(n_jobs=-1)]: Done 150 out of 150 | elapsed:   43.5s finished\n",
      "[Parallel(n_jobs=16)]: Using backend ThreadingBackend with 16 concurrent workers.\n",
      "[Parallel(n_jobs=16)]: Done  18 tasks      | elapsed:    0.2s\n",
      "[Parallel(n_jobs=16)]: Done 150 out of 150 | elapsed:    1.7s finished\n"
     ]
    },
    {
     "name": "stdout",
     "output_type": "stream",
     "text": [
      "Cross validation average score: 0.9815 +/- standard deviation: 0.0131\n",
      "Accuracy on the test set: 0.9883\n",
      "Resource measurements: {'Training Time (s)': 44.4300742149353, 'Peak CPU Usage (%)': 100.0, 'Average CPU Usage (%)': 93.80628742514965}\n",
      "                precision    recall  f1-score   support\n",
      "\n",
      "          Bots       0.58      0.57      0.57       584\n",
      "   Brute Force       1.00      0.97      0.98      2745\n",
      "          DDoS       1.00      1.00      1.00     38404\n",
      "           DoS       0.89      1.00      0.94     58124\n",
      "Normal Traffic       1.00      0.99      0.99    628518\n",
      " Port Scanning       0.99      1.00      0.99     27208\n",
      "   Web Attacks       1.00      0.05      0.09       643\n",
      "\n",
      "      accuracy                           0.99    756226\n",
      "     macro avg       0.92      0.79      0.80    756226\n",
      "  weighted avg       0.99      0.99      0.99    756226\n",
      "\n"
     ]
    }
   ],
   "source": [
    "eval_dataset_w_RF(X_train_resampled_scaled_RS_BSMOTE, X_test_RS_scaled, y_train_resampled_scaled_RS_BSMOTE, y_test)"
   ]
  },
  {
   "cell_type": "code",
   "execution_count": 127,
   "id": "f91c4ecc",
   "metadata": {},
   "outputs": [
    {
     "name": "stderr",
     "output_type": "stream",
     "text": [
      "[Parallel(n_jobs=-1)]: Using backend ThreadingBackend with 16 concurrent workers.\n",
      "[Parallel(n_jobs=-1)]: Done  18 tasks      | elapsed:    5.7s\n",
      "[Parallel(n_jobs=-1)]: Done 150 out of 150 | elapsed:   29.2s finished\n",
      "[Parallel(n_jobs=16)]: Using backend ThreadingBackend with 16 concurrent workers.\n",
      "[Parallel(n_jobs=16)]: Done  18 tasks      | elapsed:    0.2s\n",
      "[Parallel(n_jobs=16)]: Done 150 out of 150 | elapsed:    1.8s finished\n"
     ]
    },
    {
     "name": "stdout",
     "output_type": "stream",
     "text": [
      "Cross validation average score: 0.9830 +/- standard deviation: 0.0039\n",
      "Accuracy on the test set: 0.9841\n",
      "Resource measurements: {'Training Time (s)': 30.112889289855957, 'Peak CPU Usage (%)': 100.0, 'Average CPU Usage (%)': 94.2765182186235}\n",
      "                precision    recall  f1-score   support\n",
      "\n",
      "          Bots       0.58      0.56      0.57       584\n",
      "   Brute Force       1.00      0.96      0.98      2745\n",
      "          DDoS       1.00      1.00      1.00     38404\n",
      "           DoS       0.85      1.00      0.92     58124\n",
      "Normal Traffic       1.00      0.98      0.99    628518\n",
      " Port Scanning       0.99      1.00      0.99     27208\n",
      "   Web Attacks       1.00      0.05      0.09       643\n",
      "\n",
      "      accuracy                           0.98    756226\n",
      "     macro avg       0.92      0.79      0.79    756226\n",
      "  weighted avg       0.99      0.98      0.98    756226\n",
      "\n"
     ]
    }
   ],
   "source": [
    "eval_dataset_w_RF(X_train_resampled_scaled_MMS_BSMOTE, X_test_MMS_scaled, y_train_resampled_scaled_MMS_BSMOTE, y_test)"
   ]
  },
  {
   "cell_type": "markdown",
   "id": "6fb67bbb",
   "metadata": {},
   "source": [
    "## Eval KNN"
   ]
  },
  {
   "cell_type": "code",
   "execution_count": 159,
   "id": "779f7e9a",
   "metadata": {},
   "outputs": [
    {
     "name": "stdout",
     "output_type": "stream",
     "text": [
      "Cross validation average score: 0.8677 +/- standard deviation: 0.0680\n",
      "Accuracy on the test set: 0.9696\n",
      "Resource measurements: {'Training Time (s)': 22.81295943260193, 'Peak CPU Usage (%)': 14.3, 'Average CPU Usage (%)': 10.383333333333335}\n",
      "                precision    recall  f1-score   support\n",
      "\n",
      "          Bots       0.15      0.92      0.26       584\n",
      "   Brute Force       0.72      0.98      0.83      2745\n",
      "          DDoS       0.90      0.99      0.95     38404\n",
      "           DoS       0.87      0.99      0.93     58124\n",
      "Normal Traffic       0.99      0.97      0.98    628518\n",
      " Port Scanning       0.97      0.86      0.91     27208\n",
      "   Web Attacks       0.26      0.91      0.41       643\n",
      "\n",
      "      accuracy                           0.97    756226\n",
      "     macro avg       0.70      0.95      0.75    756226\n",
      "  weighted avg       0.98      0.97      0.97    756226\n",
      "\n"
     ]
    }
   ],
   "source": [
    "eval_dataset_w_KNN(X_train_resampled_ADASYN, X_test, y_train_resampled_ADASYN, y_test)"
   ]
  },
  {
   "cell_type": "code",
   "execution_count": 160,
   "id": "d5b6e423",
   "metadata": {},
   "outputs": [
    {
     "name": "stdout",
     "output_type": "stream",
     "text": [
      "Cross validation average score: 0.8890 +/- standard deviation: 0.0450\n",
      "Accuracy on the test set: 0.9451\n",
      "Resource measurements: {'Training Time (s)': 23.712327003479004, 'Peak CPU Usage (%)': 27.5, 'Average CPU Usage (%)': 13.233333333333334}\n",
      "                precision    recall  f1-score   support\n",
      "\n",
      "          Bots       0.15      0.92      0.25       584\n",
      "   Brute Force       0.79      0.99      0.88      2745\n",
      "          DDoS       0.68      0.99      0.81     38404\n",
      "           DoS       0.80      0.99      0.89     58124\n",
      "Normal Traffic       0.99      0.94      0.97    628518\n",
      " Port Scanning       0.98      0.84      0.91     27208\n",
      "   Web Attacks       0.51      0.94      0.66       643\n",
      "\n",
      "      accuracy                           0.95    756226\n",
      "     macro avg       0.70      0.95      0.77    756226\n",
      "  weighted avg       0.96      0.95      0.95    756226\n",
      "\n"
     ]
    }
   ],
   "source": [
    "eval_dataset_w_KNN(X_train_resampled_scaled_RS_ADASYN, X_test_RS_scaled, y_train_resampled_scaled_RS_ADASYN, y_test)"
   ]
  },
  {
   "cell_type": "code",
   "execution_count": 161,
   "id": "8313e70c",
   "metadata": {},
   "outputs": [
    {
     "name": "stdout",
     "output_type": "stream",
     "text": [
      "Cross validation average score: 0.8329 +/- standard deviation: 0.0471\n",
      "Accuracy on the test set: 0.9756\n",
      "Resource measurements: {'Training Time (s)': 21.23766040802002, 'Peak CPU Usage (%)': 18.4, 'Average CPU Usage (%)': 10.728571428571428}\n",
      "                precision    recall  f1-score   support\n",
      "\n",
      "          Bots       0.17      0.92      0.29       584\n",
      "   Brute Force       0.78      0.99      0.87      2745\n",
      "          DDoS       0.96      1.00      0.98     38404\n",
      "           DoS       0.90      0.99      0.95     58124\n",
      "Normal Traffic       0.99      0.98      0.99    628518\n",
      " Port Scanning       0.99      0.77      0.87     27208\n",
      "   Web Attacks       0.51      0.86      0.64       643\n",
      "\n",
      "      accuracy                           0.98    756226\n",
      "     macro avg       0.76      0.93      0.80    756226\n",
      "  weighted avg       0.98      0.98      0.98    756226\n",
      "\n"
     ]
    }
   ],
   "source": [
    "eval_dataset_w_KNN(X_train_resampled_scaled_MMS_ADASYN, X_test_MMS_scaled, y_train_resampled_scaled_MMS_ADASYN, y_test)"
   ]
  },
  {
   "cell_type": "code",
   "execution_count": 162,
   "id": "29cca66a",
   "metadata": {},
   "outputs": [
    {
     "name": "stdout",
     "output_type": "stream",
     "text": [
      "Cross validation average score: 0.9825 +/- standard deviation: 0.0013\n",
      "Accuracy on the test set: 0.9846\n",
      "Resource measurements: {'Training Time (s)': 10.40953540802002, 'Peak CPU Usage (%)': 10.4, 'Average CPU Usage (%)': 8.3}\n",
      "                precision    recall  f1-score   support\n",
      "\n",
      "          Bots       0.16      0.80      0.27       584\n",
      "   Brute Force       0.98      0.96      0.97      2745\n",
      "          DDoS       0.97      0.98      0.98     38404\n",
      "           DoS       0.96      0.99      0.97     58124\n",
      "Normal Traffic       0.99      0.99      0.99    628518\n",
      " Port Scanning       0.99      0.86      0.92     27208\n",
      "   Web Attacks       0.94      0.93      0.94       643\n",
      "\n",
      "      accuracy                           0.98    756226\n",
      "     macro avg       0.86      0.93      0.86    756226\n",
      "  weighted avg       0.99      0.98      0.99    756226\n",
      "\n"
     ]
    }
   ],
   "source": [
    "eval_dataset_w_KNN(X_train_resampled_SMOTE, X_test, y_train_resampled_SMOTE, y_test)"
   ]
  },
  {
   "cell_type": "code",
   "execution_count": 163,
   "id": "0964b52f",
   "metadata": {},
   "outputs": [
    {
     "name": "stdout",
     "output_type": "stream",
     "text": [
      "Cross validation average score: 0.9644 +/- standard deviation: 0.0006\n",
      "Accuracy on the test set: 0.9678\n",
      "Resource measurements: {'Training Time (s)': 10.052657842636108, 'Peak CPU Usage (%)': 10.4, 'Average CPU Usage (%)': 8.775}\n",
      "                precision    recall  f1-score   support\n",
      "\n",
      "          Bots       0.17      0.85      0.28       584\n",
      "   Brute Force       0.99      0.97      0.98      2745\n",
      "          DDoS       0.89      0.94      0.91     38404\n",
      "           DoS       0.92      0.97      0.95     58124\n",
      "Normal Traffic       0.98      0.98      0.98    628518\n",
      " Port Scanning       1.00      0.66      0.80     27208\n",
      "   Web Attacks       0.89      0.95      0.92       643\n",
      "\n",
      "      accuracy                           0.97    756226\n",
      "     macro avg       0.83      0.90      0.83    756226\n",
      "  weighted avg       0.97      0.97      0.97    756226\n",
      "\n"
     ]
    }
   ],
   "source": [
    "eval_dataset_w_KNN(X_train_resampled_scaled_RS_SMOTE, X_test_RS_scaled, y_train_resampled_scaled_RS_SMOTE, y_test)"
   ]
  },
  {
   "cell_type": "code",
   "execution_count": 164,
   "id": "adf7b44b",
   "metadata": {},
   "outputs": [
    {
     "name": "stdout",
     "output_type": "stream",
     "text": [
      "Cross validation average score: 0.9762 +/- standard deviation: 0.0007\n",
      "Accuracy on the test set: 0.9778\n",
      "Resource measurements: {'Training Time (s)': 10.865217447280884, 'Peak CPU Usage (%)': 23.8, 'Average CPU Usage (%)': 17.975}\n",
      "                precision    recall  f1-score   support\n",
      "\n",
      "          Bots       0.17      0.83      0.28       584\n",
      "   Brute Force       0.99      0.97      0.98      2745\n",
      "          DDoS       1.00      1.00      1.00     38404\n",
      "           DoS       0.93      0.99      0.96     58124\n",
      "Normal Traffic       0.98      0.99      0.99    628518\n",
      " Port Scanning       1.00      0.66      0.80     27208\n",
      "   Web Attacks       0.92      0.96      0.94       643\n",
      "\n",
      "      accuracy                           0.98    756226\n",
      "     macro avg       0.86      0.91      0.85    756226\n",
      "  weighted avg       0.98      0.98      0.98    756226\n",
      "\n"
     ]
    }
   ],
   "source": [
    "eval_dataset_w_KNN(X_train_resampled_scaled_MMS_SMOTE, X_test_MMS_scaled, y_train_resampled_scaled_MMS_SMOTE, y_test)"
   ]
  },
  {
   "cell_type": "code",
   "execution_count": 165,
   "id": "f3ceacc8",
   "metadata": {},
   "outputs": [
    {
     "name": "stdout",
     "output_type": "stream",
     "text": [
      "Cross validation average score: 0.9775 +/- standard deviation: 0.0070\n",
      "Accuracy on the test set: 0.9794\n",
      "Resource measurements: {'Training Time (s)': 5.936140537261963, 'Peak CPU Usage (%)': 9.7, 'Average CPU Usage (%)': 8.26}\n",
      "                precision    recall  f1-score   support\n",
      "\n",
      "          Bots       0.16      0.83      0.27       584\n",
      "   Brute Force       0.94      0.97      0.95      2745\n",
      "          DDoS       0.95      0.99      0.97     38404\n",
      "           DoS       0.90      0.99      0.94     58124\n",
      "Normal Traffic       0.99      0.98      0.99    628518\n",
      " Port Scanning       0.98      0.89      0.93     27208\n",
      "   Web Attacks       0.88      0.93      0.90       643\n",
      "\n",
      "      accuracy                           0.98    756226\n",
      "     macro avg       0.83      0.94      0.85    756226\n",
      "  weighted avg       0.98      0.98      0.98    756226\n",
      "\n"
     ]
    }
   ],
   "source": [
    "eval_dataset_w_KNN(X_train_resampled_BSMOTE, X_test, y_train_resampled_BSMOTE, y_test)"
   ]
  },
  {
   "cell_type": "code",
   "execution_count": 166,
   "id": "765eeb4b",
   "metadata": {},
   "outputs": [
    {
     "name": "stdout",
     "output_type": "stream",
     "text": [
      "Cross validation average score: 0.9556 +/- standard deviation: 0.0104\n",
      "Accuracy on the test set: 0.9675\n",
      "Resource measurements: {'Training Time (s)': 10.129005670547485, 'Peak CPU Usage (%)': 12.0, 'Average CPU Usage (%)': 8.55}\n",
      "                precision    recall  f1-score   support\n",
      "\n",
      "          Bots       0.17      0.88      0.29       584\n",
      "   Brute Force       0.98      0.97      0.98      2745\n",
      "          DDoS       0.90      0.94      0.92     38404\n",
      "           DoS       0.91      0.98      0.94     58124\n",
      "Normal Traffic       0.98      0.98      0.98    628518\n",
      " Port Scanning       1.00      0.66      0.79     27208\n",
      "   Web Attacks       0.88      0.95      0.91       643\n",
      "\n",
      "      accuracy                           0.97    756226\n",
      "     macro avg       0.83      0.91      0.83    756226\n",
      "  weighted avg       0.97      0.97      0.97    756226\n",
      "\n"
     ]
    }
   ],
   "source": [
    "eval_dataset_w_KNN(X_train_resampled_scaled_RS_BSMOTE, X_test_RS_scaled, y_train_resampled_scaled_RS_BSMOTE, y_test)"
   ]
  },
  {
   "cell_type": "code",
   "execution_count": 167,
   "id": "aee05e0d",
   "metadata": {},
   "outputs": [
    {
     "name": "stdout",
     "output_type": "stream",
     "text": [
      "Cross validation average score: 0.9711 +/- standard deviation: 0.0100\n",
      "Accuracy on the test set: 0.9793\n",
      "Resource measurements: {'Training Time (s)': 9.841461896896362, 'Peak CPU Usage (%)': 10.8, 'Average CPU Usage (%)': 8.075000000000001}\n",
      "                precision    recall  f1-score   support\n",
      "\n",
      "          Bots       0.17      0.85      0.28       584\n",
      "   Brute Force       0.98      0.97      0.98      2745\n",
      "          DDoS       0.99      1.00      1.00     38404\n",
      "           DoS       0.92      0.99      0.96     58124\n",
      "Normal Traffic       0.99      0.99      0.99    628518\n",
      " Port Scanning       0.99      0.73      0.84     27208\n",
      "   Web Attacks       0.88      0.96      0.92       643\n",
      "\n",
      "      accuracy                           0.98    756226\n",
      "     macro avg       0.85      0.93      0.85    756226\n",
      "  weighted avg       0.98      0.98      0.98    756226\n",
      "\n"
     ]
    }
   ],
   "source": [
    "eval_dataset_w_KNN(X_train_resampled_scaled_MMS_BSMOTE, X_test_MMS_scaled, y_train_resampled_scaled_MMS_BSMOTE, y_test)"
   ]
  },
  {
   "cell_type": "markdown",
   "id": "d3221379",
   "metadata": {},
   "source": [
    "## Tweaking OverSampling"
   ]
  },
  {
   "cell_type": "code",
   "execution_count": 168,
   "id": "9b371cda",
   "metadata": {},
   "outputs": [],
   "source": [
    "X_train_scaled_rus_MMS, y_train_scaled_rus_MMS = RandomUnderSampler(sampling_strategy={'Normal Traffic': 500000}, random_state=42).fit_resample(X_train_MMS_scaled, y_train)\n",
    "\n",
    "X_train_resampled_scaled_MMS_SMOTE, y_train_resampled_scaled_MMS_SMOTE = SMOTE(sampling_strategy={'Bots': 10000, 'Web Attacks': 20000, 'Brute Force': 7000, 'Port Scanning': 70000, 'DDoS':90000, 'DoS': 200000}, random_state=42).fit_resample(X_train_scaled_rus_MMS, y_train_scaled_rus_MMS)"
   ]
  },
  {
   "cell_type": "code",
   "execution_count": 169,
   "id": "ac7b479d",
   "metadata": {},
   "outputs": [
    {
     "name": "stderr",
     "output_type": "stream",
     "text": [
      "[Parallel(n_jobs=-1)]: Using backend ThreadingBackend with 16 concurrent workers.\n",
      "[Parallel(n_jobs=-1)]: Done  18 tasks      | elapsed:    7.1s\n",
      "[Parallel(n_jobs=-1)]: Done 150 out of 150 | elapsed:   34.2s finished\n",
      "[Parallel(n_jobs=16)]: Using backend ThreadingBackend with 16 concurrent workers.\n",
      "[Parallel(n_jobs=16)]: Done  18 tasks      | elapsed:    0.2s\n",
      "[Parallel(n_jobs=16)]: Done 150 out of 150 | elapsed:    1.9s finished\n"
     ]
    },
    {
     "name": "stdout",
     "output_type": "stream",
     "text": [
      "Cross validation average score: 0.9874 +/- standard deviation: 0.0004\n",
      "Accuracy on the test set: 0.9938\n",
      "Resource measurements: {'Training Time (s)': 35.2208354473114, 'Peak CPU Usage (%)': 100.0, 'Average CPU Usage (%)': 95.013503649635}\n",
      "                precision    recall  f1-score   support\n",
      "\n",
      "          Bots       0.59      0.61      0.60       584\n",
      "   Brute Force       1.00      0.96      0.98      2745\n",
      "          DDoS       1.00      1.00      1.00     38404\n",
      "           DoS       0.99      0.98      0.99     58124\n",
      "Normal Traffic       1.00      0.99      1.00    628518\n",
      " Port Scanning       0.99      1.00      0.99     27208\n",
      "   Web Attacks       0.20      0.93      0.33       643\n",
      "\n",
      "      accuracy                           0.99    756226\n",
      "     macro avg       0.82      0.93      0.84    756226\n",
      "  weighted avg       1.00      0.99      0.99    756226\n",
      "\n"
     ]
    }
   ],
   "source": [
    "eval_dataset_w_RF(X_train_resampled_scaled_MMS_SMOTE, X_test_MMS_scaled, y_train_resampled_scaled_MMS_SMOTE, y_test)"
   ]
  },
  {
   "cell_type": "code",
   "execution_count": 180,
   "id": "584f4902",
   "metadata": {},
   "outputs": [],
   "source": [
    "X_train_scaled_rus_MMS, y_train_scaled_rus_MMS = RandomUnderSampler(sampling_strategy={'Normal Traffic': 500000}, random_state=42).fit_resample(X_train_MMS_scaled, y_train)\n",
    "\n",
    "X_train_resampled_scaled_MMS_SMOTE, y_train_resampled_scaled_MMS_SMOTE = SMOTE(sampling_strategy={'Bots': 20000, 'Web Attacks': 30000, 'Brute Force': 7000, 'Port Scanning': 70000, 'DDoS':90000, 'DoS': 200000}, random_state=42).fit_resample(X_train_scaled_rus_MMS, y_train_scaled_rus_MMS)"
   ]
  },
  {
   "cell_type": "code",
   "execution_count": 181,
   "id": "ca62df11",
   "metadata": {},
   "outputs": [
    {
     "name": "stderr",
     "output_type": "stream",
     "text": [
      "[Parallel(n_jobs=-1)]: Using backend ThreadingBackend with 16 concurrent workers.\n",
      "[Parallel(n_jobs=-1)]: Done  18 tasks      | elapsed:    6.8s\n",
      "[Parallel(n_jobs=-1)]: Done 150 out of 150 | elapsed:   33.8s finished\n",
      "[Parallel(n_jobs=16)]: Using backend ThreadingBackend with 16 concurrent workers.\n",
      "[Parallel(n_jobs=16)]: Done  18 tasks      | elapsed:    0.2s\n",
      "[Parallel(n_jobs=16)]: Done 150 out of 150 | elapsed:    1.8s finished\n"
     ]
    },
    {
     "name": "stdout",
     "output_type": "stream",
     "text": [
      "Cross validation average score: 0.9828 +/- standard deviation: 0.0003\n",
      "Accuracy on the test set: 0.9950\n",
      "Resource measurements: {'Training Time (s)': 34.81387424468994, 'Peak CPU Usage (%)': 100.0, 'Average CPU Usage (%)': 95.24400000000003}\n",
      "                precision    recall  f1-score   support\n",
      "\n",
      "          Bots       0.59      0.62      0.60       584\n",
      "   Brute Force       1.00      0.96      0.98      2745\n",
      "          DDoS       1.00      1.00      1.00     38404\n",
      "           DoS       0.99      0.98      0.99     58124\n",
      "Normal Traffic       1.00      1.00      1.00    628518\n",
      " Port Scanning       0.99      1.00      0.99     27208\n",
      "   Web Attacks       0.29      0.93      0.45       643\n",
      "\n",
      "      accuracy                           1.00    756226\n",
      "     macro avg       0.84      0.93      0.86    756226\n",
      "  weighted avg       1.00      1.00      1.00    756226\n",
      "\n"
     ]
    }
   ],
   "source": [
    "eval_dataset_w_RF(X_train_resampled_scaled_MMS_SMOTE, X_test_MMS_scaled, y_train_resampled_scaled_MMS_SMOTE, y_test)"
   ]
  },
  {
   "cell_type": "code",
   "execution_count": 172,
   "id": "3a8a30e9",
   "metadata": {},
   "outputs": [],
   "source": [
    "X_train_scaled_rus_MMS, y_train_scaled_rus_MMS = RandomUnderSampler(sampling_strategy={'Normal Traffic': 500000}, random_state=42).fit_resample(X_train_MMS_scaled, y_train)\n",
    "\n",
    "X_train_resampled_scaled_MMS_SMOTE, y_train_resampled_scaled_MMS_SMOTE = SMOTE(sampling_strategy={'Bots': 50000, 'Web Attacks': 50000, 'Brute Force': 7000, 'Port Scanning': 70000, 'DDoS':90000, 'DoS': 200000}, random_state=42).fit_resample(X_train_scaled_rus_MMS, y_train_scaled_rus_MMS)"
   ]
  },
  {
   "cell_type": "code",
   "execution_count": 173,
   "id": "bb5c2b26",
   "metadata": {},
   "outputs": [
    {
     "name": "stderr",
     "output_type": "stream",
     "text": [
      "[Parallel(n_jobs=-1)]: Using backend ThreadingBackend with 16 concurrent workers.\n",
      "[Parallel(n_jobs=-1)]: Done  18 tasks      | elapsed:    7.5s\n",
      "[Parallel(n_jobs=-1)]: Done 150 out of 150 | elapsed:   36.5s finished\n",
      "[Parallel(n_jobs=16)]: Using backend ThreadingBackend with 16 concurrent workers.\n",
      "[Parallel(n_jobs=16)]: Done  18 tasks      | elapsed:    0.2s\n",
      "[Parallel(n_jobs=16)]: Done 150 out of 150 | elapsed:    1.9s finished\n"
     ]
    },
    {
     "name": "stdout",
     "output_type": "stream",
     "text": [
      "Cross validation average score: 0.9835 +/- standard deviation: 0.0009\n",
      "Accuracy on the test set: 0.9874\n",
      "Resource measurements: {'Training Time (s)': 37.5619113445282, 'Peak CPU Usage (%)': 100.0, 'Average CPU Usage (%)': 94.69192982456141}\n",
      "                precision    recall  f1-score   support\n",
      "\n",
      "          Bots       0.08      0.96      0.15       584\n",
      "   Brute Force       1.00      0.96      0.98      2745\n",
      "          DDoS       1.00      1.00      1.00     38404\n",
      "           DoS       0.99      0.98      0.99     58124\n",
      "Normal Traffic       1.00      0.99      0.99    628518\n",
      " Port Scanning       0.99      1.00      0.99     27208\n",
      "   Web Attacks       0.29      0.94      0.45       643\n",
      "\n",
      "      accuracy                           0.99    756226\n",
      "     macro avg       0.77      0.98      0.79    756226\n",
      "  weighted avg       1.00      0.99      0.99    756226\n",
      "\n"
     ]
    }
   ],
   "source": [
    "eval_dataset_w_RF(X_train_resampled_scaled_MMS_SMOTE, X_test_MMS_scaled, y_train_resampled_scaled_MMS_SMOTE, y_test)"
   ]
  },
  {
   "cell_type": "code",
   "execution_count": 174,
   "id": "abec3a12",
   "metadata": {},
   "outputs": [],
   "source": [
    "X_train_scaled_rus_MMS, y_train_scaled_rus_MMS = RandomUnderSampler(sampling_strategy={'Normal Traffic': 500000}, random_state=42).fit_resample(X_train_MMS_scaled, y_train)\n",
    "\n",
    "X_train_resampled_scaled_MMS_SMOTE, y_train_resampled_scaled_MMS_SMOTE = SMOTE(sampling_strategy={'Bots': 100000, 'Web Attacks': 100000, 'Brute Force': 7000, 'Port Scanning': 70000, 'DDoS':90000, 'DoS': 200000}, random_state=42).fit_resample(X_train_scaled_rus_MMS, y_train_scaled_rus_MMS)"
   ]
  },
  {
   "cell_type": "code",
   "execution_count": 175,
   "id": "fab61350",
   "metadata": {},
   "outputs": [
    {
     "name": "stderr",
     "output_type": "stream",
     "text": [
      "[Parallel(n_jobs=-1)]: Using backend ThreadingBackend with 16 concurrent workers.\n",
      "[Parallel(n_jobs=-1)]: Done  18 tasks      | elapsed:    7.5s\n",
      "[Parallel(n_jobs=-1)]: Done 150 out of 150 | elapsed:   38.0s finished\n",
      "[Parallel(n_jobs=16)]: Using backend ThreadingBackend with 16 concurrent workers.\n",
      "[Parallel(n_jobs=16)]: Done  18 tasks      | elapsed:    0.2s\n",
      "[Parallel(n_jobs=16)]: Done 150 out of 150 | elapsed:    1.8s finished\n"
     ]
    },
    {
     "name": "stdout",
     "output_type": "stream",
     "text": [
      "Cross validation average score: 0.9806 +/- standard deviation: 0.0006\n",
      "Accuracy on the test set: 0.9832\n",
      "Resource measurements: {'Training Time (s)': 39.14310598373413, 'Peak CPU Usage (%)': 100.0, 'Average CPU Usage (%)': 95.0746794871795}\n",
      "                precision    recall  f1-score   support\n",
      "\n",
      "          Bots       0.06      0.98      0.11       584\n",
      "   Brute Force       1.00      0.96      0.98      2745\n",
      "          DDoS       1.00      1.00      1.00     38404\n",
      "           DoS       0.99      0.98      0.99     58124\n",
      "Normal Traffic       1.00      0.98      0.99    628518\n",
      " Port Scanning       0.99      1.00      0.99     27208\n",
      "   Web Attacks       0.30      0.94      0.45       643\n",
      "\n",
      "      accuracy                           0.98    756226\n",
      "     macro avg       0.76      0.98      0.79    756226\n",
      "  weighted avg       1.00      0.98      0.99    756226\n",
      "\n"
     ]
    }
   ],
   "source": [
    "eval_dataset_w_RF(X_train_resampled_scaled_MMS_SMOTE, X_test_MMS_scaled, y_train_resampled_scaled_MMS_SMOTE, y_test)"
   ]
  },
  {
   "cell_type": "code",
   "execution_count": 176,
   "id": "e23dc0fe",
   "metadata": {},
   "outputs": [],
   "source": [
    "X_train_scaled_rus_MMS, y_train_scaled_rus_MMS = RandomUnderSampler(sampling_strategy={'Normal Traffic': 500000}, random_state=42).fit_resample(X_train_MMS_scaled, y_train)\n",
    "\n",
    "X_train_resampled_scaled_MMS_SMOTE, y_train_resampled_scaled_MMS_SMOTE = SMOTE(sampling_strategy={'Bots': 3500, 'Web Attacks': 5500, 'Brute Force': 7000, 'Port Scanning': 70000, 'DDoS':90000, 'DoS': 200000}, random_state=42).fit_resample(X_train_scaled_rus_MMS, y_train_scaled_rus_MMS)"
   ]
  },
  {
   "cell_type": "code",
   "execution_count": 177,
   "id": "712be1a4",
   "metadata": {},
   "outputs": [
    {
     "name": "stderr",
     "output_type": "stream",
     "text": [
      "[Parallel(n_jobs=-1)]: Using backend ThreadingBackend with 16 concurrent workers.\n",
      "[Parallel(n_jobs=-1)]: Done  18 tasks      | elapsed:    6.5s\n",
      "[Parallel(n_jobs=-1)]: Done 150 out of 150 | elapsed:   32.3s finished\n",
      "[Parallel(n_jobs=16)]: Using backend ThreadingBackend with 16 concurrent workers.\n",
      "[Parallel(n_jobs=16)]: Done  18 tasks      | elapsed:    0.2s\n",
      "[Parallel(n_jobs=16)]: Done 150 out of 150 | elapsed:    2.0s finished\n"
     ]
    },
    {
     "name": "stdout",
     "output_type": "stream",
     "text": [
      "Cross validation average score: 0.9913 +/- standard deviation: 0.0003\n",
      "Accuracy on the test set: 0.9950\n",
      "Resource measurements: {'Training Time (s)': 33.269890785217285, 'Peak CPU Usage (%)': 100.0, 'Average CPU Usage (%)': 94.49584905660373}\n",
      "                precision    recall  f1-score   support\n",
      "\n",
      "          Bots       0.59      0.60      0.60       584\n",
      "   Brute Force       1.00      0.96      0.98      2745\n",
      "          DDoS       1.00      1.00      1.00     38404\n",
      "           DoS       0.99      0.98      0.99     58124\n",
      "Normal Traffic       1.00      1.00      1.00    628518\n",
      " Port Scanning       0.99      1.00      0.99     27208\n",
      "   Web Attacks       0.29      0.89      0.44       643\n",
      "\n",
      "      accuracy                           1.00    756226\n",
      "     macro avg       0.84      0.92      0.86    756226\n",
      "  weighted avg       1.00      1.00      1.00    756226\n",
      "\n"
     ]
    }
   ],
   "source": [
    "eval_dataset_w_RF(X_train_resampled_scaled_MMS_SMOTE, X_test_MMS_scaled, y_train_resampled_scaled_MMS_SMOTE, y_test)"
   ]
  },
  {
   "cell_type": "code",
   "execution_count": 178,
   "id": "90725477",
   "metadata": {},
   "outputs": [],
   "source": [
    "X_train_scaled_rus_MMS, y_train_scaled_rus_MMS = RandomUnderSampler(sampling_strategy={'Normal Traffic': 500000}, random_state=42).fit_resample(X_train_MMS_scaled, y_train)\n",
    "\n",
    "X_train_resampled_scaled_MMS_SMOTE, y_train_resampled_scaled_MMS_SMOTE = SMOTE(sampling_strategy={'Bots': 7500, 'Web Attacks': 7500, 'Brute Force': 7000, 'Port Scanning': 70000, 'DDoS':90000, 'DoS': 200000}, random_state=42).fit_resample(X_train_scaled_rus_MMS, y_train_scaled_rus_MMS)"
   ]
  },
  {
   "cell_type": "code",
   "execution_count": 179,
   "id": "3552222e",
   "metadata": {},
   "outputs": [
    {
     "name": "stderr",
     "output_type": "stream",
     "text": [
      "[Parallel(n_jobs=-1)]: Using backend ThreadingBackend with 16 concurrent workers.\n",
      "[Parallel(n_jobs=-1)]: Done  18 tasks      | elapsed:    6.6s\n",
      "[Parallel(n_jobs=-1)]: Done 150 out of 150 | elapsed:   32.4s finished\n",
      "[Parallel(n_jobs=16)]: Using backend ThreadingBackend with 16 concurrent workers.\n",
      "[Parallel(n_jobs=16)]: Done  18 tasks      | elapsed:    0.2s\n",
      "[Parallel(n_jobs=16)]: Done 150 out of 150 | elapsed:    1.7s finished\n"
     ]
    },
    {
     "name": "stdout",
     "output_type": "stream",
     "text": [
      "Cross validation average score: 0.9892 +/- standard deviation: 0.0004\n",
      "Accuracy on the test set: 0.9950\n",
      "Resource measurements: {'Training Time (s)': 33.352999687194824, 'Peak CPU Usage (%)': 100.0, 'Average CPU Usage (%)': 94.17537878787877}\n",
      "                precision    recall  f1-score   support\n",
      "\n",
      "          Bots       0.59      0.61      0.60       584\n",
      "   Brute Force       1.00      0.96      0.98      2745\n",
      "          DDoS       1.00      1.00      1.00     38404\n",
      "           DoS       0.99      0.98      0.99     58124\n",
      "Normal Traffic       1.00      1.00      1.00    628518\n",
      " Port Scanning       0.99      1.00      0.99     27208\n",
      "   Web Attacks       0.29      0.89      0.44       643\n",
      "\n",
      "      accuracy                           1.00    756226\n",
      "     macro avg       0.84      0.92      0.86    756226\n",
      "  weighted avg       1.00      1.00      1.00    756226\n",
      "\n"
     ]
    }
   ],
   "source": [
    "eval_dataset_w_RF(X_train_resampled_scaled_MMS_SMOTE, X_test_MMS_scaled, y_train_resampled_scaled_MMS_SMOTE, y_test)"
   ]
  },
  {
   "cell_type": "code",
   "execution_count": null,
   "id": "62ce93c0",
   "metadata": {},
   "outputs": [],
   "source": [
    "X_train_scaled_rus_MMS, y_train_scaled_rus_MMS = RandomUnderSampler(sampling_strategy={'Normal Traffic': 500000}, random_state=42).fit_resample(X_train_MMS_scaled, y_train)\n",
    "\n",
    "X_train_resampled_scaled_MMS_SMOTE, y_train_resampled_scaled_MMS_SMOTE = SMOTE(sampling_strategy={'Bots': 5500, 'Web Attacks': 10000, 'Brute Force': 7000, 'Port Scanning': 70000, 'DDoS':90000, 'DoS': 200000}, random_state=42).fit_resample(X_train_scaled_rus_MMS, y_train_scaled_rus_MMS)"
   ]
  },
  {
   "cell_type": "code",
   "execution_count": 133,
   "id": "5c1a5d0f",
   "metadata": {},
   "outputs": [
    {
     "name": "stderr",
     "output_type": "stream",
     "text": [
      "[Parallel(n_jobs=-1)]: Using backend ThreadingBackend with 16 concurrent workers.\n",
      "[Parallel(n_jobs=-1)]: Done  18 tasks      | elapsed:    6.0s\n",
      "[Parallel(n_jobs=-1)]: Done 150 out of 150 | elapsed:   30.8s finished\n",
      "[Parallel(n_jobs=16)]: Using backend ThreadingBackend with 16 concurrent workers.\n",
      "[Parallel(n_jobs=16)]: Done  18 tasks      | elapsed:    0.2s\n",
      "[Parallel(n_jobs=16)]: Done 150 out of 150 | elapsed:    1.7s finished\n"
     ]
    },
    {
     "name": "stdout",
     "output_type": "stream",
     "text": [
      "Cross validation average score: 0.9893 +/- standard deviation: 0.0005\n",
      "Accuracy on the test set: 0.9936\n",
      "Resource measurements: {'Training Time (s)': 31.692704677581787, 'Peak CPU Usage (%)': 100.0, 'Average CPU Usage (%)': 94.33346007604565}\n",
      "                precision    recall  f1-score   support\n",
      "\n",
      "          Bots       0.59      0.61      0.60       584\n",
      "   Brute Force       1.00      0.96      0.98      2745\n",
      "          DDoS       1.00      1.00      1.00     38404\n",
      "           DoS       0.99      0.98      0.99     58124\n",
      "Normal Traffic       1.00      0.99      1.00    628518\n",
      " Port Scanning       0.99      1.00      0.99     27208\n",
      "   Web Attacks       0.19      0.89      0.31       643\n",
      "\n",
      "      accuracy                           0.99    756226\n",
      "     macro avg       0.82      0.92      0.84    756226\n",
      "  weighted avg       1.00      0.99      0.99    756226\n",
      "\n"
     ]
    }
   ],
   "source": [
    "eval_dataset_w_RF(X_train_resampled_scaled_MMS_SMOTE, X_test_MMS_scaled, y_train_resampled_scaled_MMS_SMOTE, y_test)"
   ]
  },
  {
   "cell_type": "markdown",
   "id": "efb91829",
   "metadata": {},
   "source": [
    "## Tweaking UnderSampling"
   ]
  },
  {
   "cell_type": "code",
   "execution_count": 182,
   "id": "c5c9683b",
   "metadata": {},
   "outputs": [],
   "source": [
    "X_train_scaled_rus_MMS, y_train_scaled_rus_MMS = RandomUnderSampler(sampling_strategy={'Normal Traffic': 1000000}, random_state=42).fit_resample(X_train_MMS_scaled, y_train)\n",
    "\n",
    "X_train_resampled_scaled_MMS_SMOTE, y_train_resampled_scaled_MMS_SMOTE = SMOTE(sampling_strategy={'Bots': 3500, 'Web Attacks': 5500, 'Brute Force': 7000, 'Port Scanning': 70000, 'DDoS':90000, 'DoS': 200000}, random_state=42).fit_resample(X_train_scaled_rus_MMS, y_train_scaled_rus_MMS)"
   ]
  },
  {
   "cell_type": "code",
   "execution_count": 183,
   "id": "77360ae5",
   "metadata": {},
   "outputs": [
    {
     "name": "stderr",
     "output_type": "stream",
     "text": [
      "[Parallel(n_jobs=-1)]: Using backend ThreadingBackend with 16 concurrent workers.\n",
      "[Parallel(n_jobs=-1)]: Done  18 tasks      | elapsed:   10.6s\n",
      "[Parallel(n_jobs=-1)]: Done 150 out of 150 | elapsed:   52.9s finished\n",
      "[Parallel(n_jobs=16)]: Using backend ThreadingBackend with 16 concurrent workers.\n",
      "[Parallel(n_jobs=16)]: Done  18 tasks      | elapsed:    0.2s\n",
      "[Parallel(n_jobs=16)]: Done 150 out of 150 | elapsed:    1.8s finished\n"
     ]
    },
    {
     "name": "stdout",
     "output_type": "stream",
     "text": [
      "Cross validation average score: 0.9908 +/- standard deviation: 0.0002\n",
      "Accuracy on the test set: 0.9960\n",
      "Resource measurements: {'Training Time (s)': 54.30982804298401, 'Peak CPU Usage (%)': 100.0, 'Average CPU Usage (%)': 94.81592039801}\n",
      "                precision    recall  f1-score   support\n",
      "\n",
      "          Bots       0.59      0.58      0.59       584\n",
      "   Brute Force       1.00      0.96      0.98      2745\n",
      "          DDoS       1.00      1.00      1.00     38404\n",
      "           DoS       1.00      0.98      0.99     58124\n",
      "Normal Traffic       1.00      1.00      1.00    628518\n",
      " Port Scanning       0.99      1.00      0.99     27208\n",
      "   Web Attacks       1.00      0.05      0.09       643\n",
      "\n",
      "      accuracy                           1.00    756226\n",
      "     macro avg       0.94      0.79      0.80    756226\n",
      "  weighted avg       1.00      1.00      1.00    756226\n",
      "\n"
     ]
    }
   ],
   "source": [
    "eval_dataset_w_RF(X_train_resampled_scaled_MMS_SMOTE, X_test_MMS_scaled, y_train_resampled_scaled_MMS_SMOTE, y_test)"
   ]
  },
  {
   "cell_type": "code",
   "execution_count": 184,
   "id": "69159bd7",
   "metadata": {},
   "outputs": [],
   "source": [
    "X_train_scaled_rus_MMS, y_train_scaled_rus_MMS = RandomUnderSampler(sampling_strategy={'Normal Traffic': 750000}, random_state=42).fit_resample(X_train_MMS_scaled, y_train)\n",
    "\n",
    "X_train_resampled_scaled_MMS_SMOTE, y_train_resampled_scaled_MMS_SMOTE = SMOTE(sampling_strategy={'Bots': 3500, 'Web Attacks': 5500, 'Brute Force': 7000, 'Port Scanning': 70000, 'DDoS':90000, 'DoS': 200000}, random_state=42).fit_resample(X_train_scaled_rus_MMS, y_train_scaled_rus_MMS)"
   ]
  },
  {
   "cell_type": "code",
   "execution_count": 185,
   "id": "b6466bc5",
   "metadata": {},
   "outputs": [
    {
     "name": "stderr",
     "output_type": "stream",
     "text": [
      "[Parallel(n_jobs=-1)]: Using backend ThreadingBackend with 16 concurrent workers.\n",
      "[Parallel(n_jobs=-1)]: Done  18 tasks      | elapsed:    8.3s\n",
      "[Parallel(n_jobs=-1)]: Done 150 out of 150 | elapsed:   41.8s finished\n",
      "[Parallel(n_jobs=16)]: Using backend ThreadingBackend with 16 concurrent workers.\n",
      "[Parallel(n_jobs=16)]: Done  18 tasks      | elapsed:    0.2s\n",
      "[Parallel(n_jobs=16)]: Done 150 out of 150 | elapsed:    1.7s finished\n"
     ]
    },
    {
     "name": "stdout",
     "output_type": "stream",
     "text": [
      "Cross validation average score: 0.9896 +/- standard deviation: 0.0002\n",
      "Accuracy on the test set: 0.9961\n",
      "Resource measurements: {'Training Time (s)': 43.0068244934082, 'Peak CPU Usage (%)': 100.0, 'Average CPU Usage (%)': 94.33333333333331}\n",
      "                precision    recall  f1-score   support\n",
      "\n",
      "          Bots       0.59      0.60      0.60       584\n",
      "   Brute Force       1.00      0.96      0.98      2745\n",
      "          DDoS       1.00      1.00      1.00     38404\n",
      "           DoS       0.99      0.98      0.99     58124\n",
      "Normal Traffic       1.00      1.00      1.00    628518\n",
      " Port Scanning       0.99      1.00      0.99     27208\n",
      "   Web Attacks       1.00      0.06      0.12       643\n",
      "\n",
      "      accuracy                           1.00    756226\n",
      "     macro avg       0.94      0.80      0.81    756226\n",
      "  weighted avg       1.00      1.00      1.00    756226\n",
      "\n"
     ]
    }
   ],
   "source": [
    "eval_dataset_w_RF(X_train_resampled_scaled_MMS_SMOTE, X_test_MMS_scaled, y_train_resampled_scaled_MMS_SMOTE, y_test)"
   ]
  },
  {
   "cell_type": "code",
   "execution_count": 190,
   "id": "7a2dec1e",
   "metadata": {},
   "outputs": [],
   "source": [
    "X_train_scaled_rus_MMS, y_train_scaled_rus_MMS = RandomUnderSampler(sampling_strategy={'Normal Traffic': 500000}, random_state=42).fit_resample(X_train_MMS_scaled, y_train)\n",
    "\n",
    "X_train_resampled_scaled_MMS_SMOTE, y_train_resampled_scaled_MMS_SMOTE = SMOTE(sampling_strategy={'Bots': 3500, 'Web Attacks': 5500, 'Brute Force': 7000, 'Port Scanning': 70000, 'DDoS':90000, 'DoS': 200000}, random_state=42).fit_resample(X_train_scaled_rus_MMS, y_train_scaled_rus_MMS)"
   ]
  },
  {
   "cell_type": "code",
   "execution_count": 189,
   "id": "b77be879",
   "metadata": {},
   "outputs": [
    {
     "name": "stderr",
     "output_type": "stream",
     "text": [
      "[Parallel(n_jobs=-1)]: Using backend ThreadingBackend with 16 concurrent workers.\n",
      "[Parallel(n_jobs=-1)]: Done  18 tasks      | elapsed:    6.6s\n",
      "[Parallel(n_jobs=-1)]: Done 150 out of 150 | elapsed:   35.0s finished\n",
      "[Parallel(n_jobs=16)]: Using backend ThreadingBackend with 16 concurrent workers.\n",
      "[Parallel(n_jobs=16)]: Done  18 tasks      | elapsed:    0.3s\n",
      "[Parallel(n_jobs=16)]: Done 150 out of 150 | elapsed:    2.1s finished\n"
     ]
    },
    {
     "name": "stdout",
     "output_type": "stream",
     "text": [
      "Cross validation average score: 0.9913 +/- standard deviation: 0.0003\n",
      "Accuracy on the test set: 0.9950\n",
      "Resource measurements: {'Training Time (s)': 35.967469215393066, 'Peak CPU Usage (%)': 100.0, 'Average CPU Usage (%)': 95.68293650793649}\n",
      "                precision    recall  f1-score   support\n",
      "\n",
      "          Bots       0.59      0.60      0.60       584\n",
      "   Brute Force       1.00      0.96      0.98      2745\n",
      "          DDoS       1.00      1.00      1.00     38404\n",
      "           DoS       0.99      0.98      0.99     58124\n",
      "Normal Traffic       1.00      1.00      1.00    628518\n",
      " Port Scanning       0.99      1.00      0.99     27208\n",
      "   Web Attacks       0.29      0.89      0.44       643\n",
      "\n",
      "      accuracy                           1.00    756226\n",
      "     macro avg       0.84      0.92      0.86    756226\n",
      "  weighted avg       1.00      1.00      1.00    756226\n",
      "\n"
     ]
    }
   ],
   "source": [
    "eval_dataset_w_RF(X_train_resampled_scaled_MMS_SMOTE, X_test_MMS_scaled, y_train_resampled_scaled_MMS_SMOTE, y_test)"
   ]
  },
  {
   "cell_type": "code",
   "execution_count": 191,
   "id": "6732cc1b",
   "metadata": {},
   "outputs": [
    {
     "name": "stdout",
     "output_type": "stream",
     "text": [
      "Cross validation average score: 0.9766 +/- standard deviation: 0.0014\n",
      "Accuracy on the test set: 0.9811\n",
      "Resource measurements: {'Training Time (s)': 6.3763511180877686, 'Peak CPU Usage (%)': 33.7, 'Average CPU Usage (%)': 24.925}\n",
      "                precision    recall  f1-score   support\n",
      "\n",
      "          Bots       0.17      0.88      0.29       584\n",
      "   Brute Force       0.98      0.97      0.98      2745\n",
      "          DDoS       0.99      1.00      1.00     38404\n",
      "           DoS       0.93      0.99      0.96     58124\n",
      "Normal Traffic       0.99      0.99      0.99    628518\n",
      " Port Scanning       0.99      0.77      0.87     27208\n",
      "   Web Attacks       0.86      0.95      0.91       643\n",
      "\n",
      "      accuracy                           0.98    756226\n",
      "     macro avg       0.85      0.94      0.85    756226\n",
      "  weighted avg       0.98      0.98      0.98    756226\n",
      "\n"
     ]
    }
   ],
   "source": [
    "eval_dataset_w_KNN(X_train_resampled_scaled_MMS_SMOTE, X_test_MMS_scaled, y_train_resampled_scaled_MMS_SMOTE, y_test)"
   ]
  },
  {
   "cell_type": "code",
   "execution_count": 186,
   "id": "0914018a",
   "metadata": {},
   "outputs": [],
   "source": [
    "X_train_scaled_rus_MMS, y_train_scaled_rus_MMS = RandomUnderSampler(sampling_strategy={'Normal Traffic': 250000}, random_state=42).fit_resample(X_train_MMS_scaled, y_train)\n",
    "\n",
    "X_train_resampled_scaled_MMS_SMOTE, y_train_resampled_scaled_MMS_SMOTE = SMOTE(sampling_strategy={'Bots': 3500, 'Web Attacks': 5500, 'Brute Force': 7000, 'Port Scanning': 70000, 'DDoS':90000, 'DoS': 200000}, random_state=42).fit_resample(X_train_scaled_rus_MMS, y_train_scaled_rus_MMS)"
   ]
  },
  {
   "cell_type": "code",
   "execution_count": 187,
   "id": "1e338701",
   "metadata": {},
   "outputs": [
    {
     "name": "stderr",
     "output_type": "stream",
     "text": [
      "[Parallel(n_jobs=-1)]: Using backend ThreadingBackend with 16 concurrent workers.\n",
      "[Parallel(n_jobs=-1)]: Done  18 tasks      | elapsed:    4.2s\n",
      "[Parallel(n_jobs=-1)]: Done 150 out of 150 | elapsed:   21.1s finished\n",
      "[Parallel(n_jobs=16)]: Using backend ThreadingBackend with 16 concurrent workers.\n",
      "[Parallel(n_jobs=16)]: Done  18 tasks      | elapsed:    0.2s\n",
      "[Parallel(n_jobs=16)]: Done 150 out of 150 | elapsed:    1.7s finished\n"
     ]
    },
    {
     "name": "stdout",
     "output_type": "stream",
     "text": [
      "Cross validation average score: 0.9902 +/- standard deviation: 0.0004\n",
      "Accuracy on the test set: 0.9936\n",
      "Resource measurements: {'Training Time (s)': 21.85346555709839, 'Peak CPU Usage (%)': 100.0, 'Average CPU Usage (%)': 94.83072625698323}\n",
      "                precision    recall  f1-score   support\n",
      "\n",
      "          Bots       0.58      0.60      0.59       584\n",
      "   Brute Force       1.00      0.97      0.98      2745\n",
      "          DDoS       1.00      1.00      1.00     38404\n",
      "           DoS       0.99      0.99      0.99     58124\n",
      "Normal Traffic       1.00      0.99      1.00    628518\n",
      " Port Scanning       0.99      1.00      0.99     27208\n",
      "   Web Attacks       0.19      0.89      0.32       643\n",
      "\n",
      "      accuracy                           0.99    756226\n",
      "     macro avg       0.82      0.92      0.84    756226\n",
      "  weighted avg       1.00      0.99      0.99    756226\n",
      "\n"
     ]
    }
   ],
   "source": [
    "eval_dataset_w_RF(X_train_resampled_scaled_MMS_SMOTE, X_test_MMS_scaled, y_train_resampled_scaled_MMS_SMOTE, y_test)"
   ]
  }
 ],
 "metadata": {
  "kernelspec": {
   "display_name": "NN-env",
   "language": "python",
   "name": "python3"
  },
  "language_info": {
   "codemirror_mode": {
    "name": "ipython",
    "version": 3
   },
   "file_extension": ".py",
   "mimetype": "text/x-python",
   "name": "python",
   "nbconvert_exporter": "python",
   "pygments_lexer": "ipython3",
   "version": "3.11.9"
  }
 },
 "nbformat": 4,
 "nbformat_minor": 5
}
