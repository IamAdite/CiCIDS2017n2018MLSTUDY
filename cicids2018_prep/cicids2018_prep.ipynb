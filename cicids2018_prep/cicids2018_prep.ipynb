{
 "cells": [
  {
   "cell_type": "code",
   "execution_count": 7,
   "metadata": {},
   "outputs": [],
   "source": [
    "import pandas as pd\n",
    "import numpy as np\n",
    "from sklearn import preprocessing\n",
    "import matplotlib.pyplot as plt\n",
    "%matplotlib inline\n",
    "\n",
    "from sklearn.ensemble import RandomForestClassifier\n",
    "from sklearn.model_selection import train_test_split, cross_val_score, learning_curve\n",
    "from sklearn.metrics import confusion_matrix, classification_report, accuracy_score, precision_score, recall_score, f1_score\n",
    "\n",
    "import time\n",
    "import psutil\n",
    "import threading\n",
    "from memory_profiler import memory_usage\n"
   ]
  },
  {
   "cell_type": "code",
   "execution_count": 8,
   "metadata": {},
   "outputs": [],
   "source": [
    "def apply_rf(X_train, y_train, best_params=None, random_state=42, n_jobs=-1, cv=5): \n",
    "    measurement_rf = {}\n",
    "        \n",
    "    # Default to empty dictionary if best_params is not provided\n",
    "    best_params = best_params or {}\n",
    "\n",
    "    rf_model = RandomForestClassifier(**best_params, random_state=random_state, n_jobs=n_jobs, verbose=1)\n",
    "    \n",
    "    # Function to monitor CPU usage during training\n",
    "    cpu_usage = []\n",
    "    stop_flag = threading.Event()\n",
    "\n",
    "    def monitor_cpu():\n",
    "        while not stop_flag.is_set():\n",
    "            cpu_usage.append(psutil.cpu_percent(interval=0.1))\n",
    "\n",
    "    # Function to train the model\n",
    "    def train_model():\n",
    "        rf_model.fit(X_train, y_train)\n",
    "\n",
    "    try:\n",
    "        # Start CPU monitoring in a separate thread\n",
    "        cpu_thread = threading.Thread(target=monitor_cpu)\n",
    "        cpu_thread.start()\n",
    "\n",
    "        # Measure memory usage and training time\n",
    "        start_time = time.time()\n",
    "        train_memory_rf = max(memory_usage((train_model,)))  # Measure peak memory usage\n",
    "        training_time = time.time() - start_time\n",
    "\n",
    "        # Stop CPU monitoring\n",
    "        stop_flag.set()\n",
    "        cpu_thread.join()\n",
    "\n",
    "        # Add measurements\n",
    "        measurement_rf['Memory Usage (MB)'] = train_memory_rf\n",
    "        measurement_rf['Training Time (s)'] = training_time\n",
    "        measurement_rf['Peak CPU Usage (%)'] = max(cpu_usage)\n",
    "        measurement_rf['Average CPU Usage (%)'] = sum(cpu_usage) / len(cpu_usage) if cpu_usage else 0\n",
    "\n",
    "        # Perform cross-validation\n",
    "        cv_scores_rf = cross_val_score(rf_model, X_train, y_train, cv=cv, n_jobs=n_jobs)\n",
    "\n",
    "        return cv_scores_rf, measurement_rf, rf_model\n",
    "\n",
    "    except Exception as e:\n",
    "        import traceback\n",
    "        print(\"⛔ Full error traceback:\")\n",
    "        traceback.print_exc()  # Print detailed error traceback\n",
    "        print(f\"Error during Random Forest training: {e}\")\n",
    "        return None, None, None"
   ]
  },
  {
   "cell_type": "code",
   "execution_count": null,
   "metadata": {},
   "outputs": [],
   "source": [
    "def eval_dataset_w_RF(df, target_column=\"Label\"):\n",
    "    X = df.drop(target_column, axis=1)\n",
    "    y = df[target_column]\n",
    "\n",
    "\n",
    "    X_train, X_test, y_train, y_test = train_test_split(X, y, test_size=0.3, random_state=42, stratify=y)\n",
    "    params_rf = {'n_estimators': 100, 'min_samples_split': 5, 'min_samples_leaf': 2, 'max_features': 'sqrt', 'max_depth': 10}\n",
    "\n",
    "    # Fitting the model\n",
    "    cv_scores_rf, measurement_rf, rf_model = apply_rf(X_train, y_train, best_params=params_rf)\n",
    "\n",
    "    # Making predictions\n",
    "    y_pred_rf = rf_model.predict(X_test)\n",
    "    \n",
    "    # Evaluating the model performance on the cross validation set vs accuracy on the test set\n",
    "    cv_scores_mean_rf = np.mean(cv_scores_rf)\n",
    "    print(f'Cross validation average score: {cv_scores_mean_rf:.4f} +/- standard deviation: {np.std(cv_scores_rf):.4f}')\n",
    "\n",
    "    accuracy_rf = accuracy_score(y_test, y_pred_rf)\n",
    "    print(f'Accuracy on the test set: {accuracy_rf:.4f}')\n",
    "    \n",
    "    # Checking computational cost\n",
    "    print(\"Resource measurements:\", measurement_rf)\n",
    "    print(classification_report(y_test, y_pred_rf))"
   ]
  },
  {
   "cell_type": "code",
   "execution_count": 10,
   "metadata": {},
   "outputs": [],
   "source": [
    "# # List of CSV files\n",
    "# csv_files = [\n",
    "#     '02-14-2018.csv', '02-15-2018.csv', '02-16-2018.csv', \n",
    "#     '02-21-2018.csv', '02-22-2018.csv', '02-23-2018.csv', \n",
    "#     '02-28-2018.csv', '03-01-2018.csv', '03-02-2018.csv'\n",
    "# ]\n",
    "\n",
    "# large_csv = '02-20-2018.csv'\n",
    "# # Initialize an empty DataFrame for the combined data\n",
    "# df = pd.DataFrame()\n",
    "\n",
    "# # Loop through each CSV file, read it, and append to the combined DataFrame\n",
    "# for file in csv_files:\n",
    "#     try:\n",
    "#         # Read the current CSV file\n",
    "#         print(f\"Reading {file}...\")\n",
    "#         df = pd.read_csv(file)\n",
    "        \n",
    "#         # Append to the combined DataFrame\n",
    "#         df = pd.concat([df, df], ignore_index=True)\n",
    "        \n",
    "#         print(f\"Successfully added {file}, combined shape: {df.shape}\")\n",
    "#     except Exception as e:\n",
    "#         print(f\"Error processing {file}: {e}\")\n",
    "\n",
    "# # Save the combined DataFrame to a new CSV file without indexes\n",
    "# print(\"Saving combined dataset...\")\n",
    "# df.to_csv('CIC_IDS_2018_COMBINED.csv', index=False)\n",
    "# print(\"Combined dataset saved as 'CIC_IDS_2018_COMBINED.csv'\")\n",
    "# print(f\"Total shape of combined dataset: {df.shape}\")"
   ]
  },
  {
   "cell_type": "code",
   "execution_count": 11,
   "metadata": {},
   "outputs": [],
   "source": [
    "# df = pd.read_csv('02-20-2018.csv', engine='python')\n",
    "# df = pd.read_csv(\"CIC_IDS_2018_COMBINED.csv\", engine='python')\n",
    "# combined_df = pd.concat([combined_df, df], ignore_index=True)\n",
    "# combined_df.to_csv('CIC_IDS_2018_COMBINED_FULL.csv', index=False)\n",
    "# del df\n"
   ]
  },
  {
   "cell_type": "code",
   "execution_count": 12,
   "metadata": {},
   "outputs": [],
   "source": [
    "df = pd.read_csv(\"CIC_IDS_2018_COMBINED_FULL.csv\", engine='python')"
   ]
  },
  {
   "cell_type": "code",
   "execution_count": 13,
   "metadata": {},
   "outputs": [
    {
     "data": {
      "text/plain": [
       "(16233002, 84)"
      ]
     },
     "execution_count": 13,
     "metadata": {},
     "output_type": "execute_result"
    }
   ],
   "source": [
    "df.shape"
   ]
  },
  {
   "cell_type": "code",
   "execution_count": 14,
   "metadata": {},
   "outputs": [],
   "source": [
    "df.columns = df.columns.str.rstrip()\n",
    "df.columns = df.columns.str.strip()"
   ]
  },
  {
   "cell_type": "code",
   "execution_count": 15,
   "metadata": {},
   "outputs": [
    {
     "data": {
      "text/plain": [
       "Index(['Dst Port', 'Protocol', 'Timestamp', 'Flow Duration', 'Tot Fwd Pkts',\n",
       "       'Tot Bwd Pkts', 'TotLen Fwd Pkts', 'TotLen Bwd Pkts', 'Fwd Pkt Len Max',\n",
       "       'Fwd Pkt Len Min', 'Fwd Pkt Len Mean', 'Fwd Pkt Len Std',\n",
       "       'Bwd Pkt Len Max', 'Bwd Pkt Len Min', 'Bwd Pkt Len Mean',\n",
       "       'Bwd Pkt Len Std', 'Flow Byts/s', 'Flow Pkts/s', 'Flow IAT Mean',\n",
       "       'Flow IAT Std', 'Flow IAT Max', 'Flow IAT Min', 'Fwd IAT Tot',\n",
       "       'Fwd IAT Mean', 'Fwd IAT Std', 'Fwd IAT Max', 'Fwd IAT Min',\n",
       "       'Bwd IAT Tot', 'Bwd IAT Mean', 'Bwd IAT Std', 'Bwd IAT Max',\n",
       "       'Bwd IAT Min', 'Fwd PSH Flags', 'Bwd PSH Flags', 'Fwd URG Flags',\n",
       "       'Bwd URG Flags', 'Fwd Header Len', 'Bwd Header Len', 'Fwd Pkts/s',\n",
       "       'Bwd Pkts/s', 'Pkt Len Min', 'Pkt Len Max', 'Pkt Len Mean',\n",
       "       'Pkt Len Std', 'Pkt Len Var', 'FIN Flag Cnt', 'SYN Flag Cnt',\n",
       "       'RST Flag Cnt', 'PSH Flag Cnt', 'ACK Flag Cnt', 'URG Flag Cnt',\n",
       "       'CWE Flag Count', 'ECE Flag Cnt', 'Down/Up Ratio', 'Pkt Size Avg',\n",
       "       'Fwd Seg Size Avg', 'Bwd Seg Size Avg', 'Fwd Byts/b Avg',\n",
       "       'Fwd Pkts/b Avg', 'Fwd Blk Rate Avg', 'Bwd Byts/b Avg',\n",
       "       'Bwd Pkts/b Avg', 'Bwd Blk Rate Avg', 'Subflow Fwd Pkts',\n",
       "       'Subflow Fwd Byts', 'Subflow Bwd Pkts', 'Subflow Bwd Byts',\n",
       "       'Init Fwd Win Byts', 'Init Bwd Win Byts', 'Fwd Act Data Pkts',\n",
       "       'Fwd Seg Size Min', 'Active Mean', 'Active Std', 'Active Max',\n",
       "       'Active Min', 'Idle Mean', 'Idle Std', 'Idle Max', 'Idle Min', 'Label',\n",
       "       'Flow ID', 'Src IP', 'Src Port', 'Dst IP'],\n",
       "      dtype='object')"
      ]
     },
     "execution_count": 15,
     "metadata": {},
     "output_type": "execute_result"
    }
   ],
   "source": [
    "df.columns"
   ]
  },
  {
   "cell_type": "code",
   "execution_count": 16,
   "metadata": {},
   "outputs": [
    {
     "data": {
      "text/plain": [
       "array(['FTP-BruteForce', 'SSH-Bruteforce', 'DoS attacks-GoldenEye',\n",
       "       'DoS attacks-Slowloris', 'DoS attacks-SlowHTTPTest',\n",
       "       'DoS attacks-Hulk', 'Label', 'DDOS attack-LOIC-UDP',\n",
       "       'DDOS attack-HOIC', 'Brute Force -Web', 'Brute Force -XSS',\n",
       "       'SQL Injection', 'Infilteration', 'Bot', 'DDoS attacks-LOIC-HTTP'],\n",
       "      dtype=object)"
      ]
     },
     "execution_count": 16,
     "metadata": {},
     "output_type": "execute_result"
    }
   ],
   "source": [
    "df[\"Label\"].unique()[1:]"
   ]
  },
  {
   "cell_type": "code",
   "execution_count": 17,
   "metadata": {},
   "outputs": [
    {
     "name": "stdout",
     "output_type": "stream",
     "text": [
      "Features with at least one NaN or Infinity value:\n",
      "Flow Byts/s      59721\n",
      "Flow ID        8284254\n",
      "Src IP         8284254\n",
      "Src Port       8284254\n",
      "Dst IP         8284254\n",
      "dtype: int64\n"
     ]
    },
    {
     "data": {
      "image/png": "[encoded data removed]",
      "text/plain": [
       "<Figure size 1500x700 with 1 Axes>"
      ]
     },
     "metadata": {},
     "output_type": "display_data"
    }
   ],
   "source": [
    "nan_counts = df.isna().sum()\n",
    "def count_infs(col):\n",
    "    if pd.api.types.is_numeric_dtype(col):\n",
    "        return np.isinf(col).sum()\n",
    "    else:\n",
    "        return 0\n",
    "inf_counts = df.apply(count_infs)\n",
    "not_helpful_counts = nan_counts + inf_counts\n",
    "features_with_issue = not_helpful_counts[not_helpful_counts > 0]\n",
    "print(\"Features with at least one NaN or Infinity value:\")\n",
    "print(features_with_issue)\n",
    "plt.figure(figsize=(15, 7))\n",
    "not_helpful_counts.plot(kind='bar', color='orange')\n",
    "plt.title(\"Not Helpful Values (NaN + Infinity) per Feature\")\n",
    "plt.xlabel(\"Features\")\n",
    "plt.ylabel(\"Count of Not Helpful Values\")\n",
    "plt.xticks(rotation=90)\n",
    "plt.tight_layout()\n",
    "plt.show()"
   ]
  },
  {
   "cell_type": "code",
   "execution_count": 18,
   "metadata": {},
   "outputs": [
    {
     "name": "stdout",
     "output_type": "stream",
     "text": [
      "Series([], dtype: int64)\n"
     ]
    }
   ],
   "source": [
    "# Checking for infinite values\n",
    "num_columns = df.select_dtypes(include = np.number).columns\n",
    "has_infinite = np.isinf(df[num_columns]).sum()\n",
    "print(has_infinite[has_infinite > 0])"
   ]
  },
  {
   "cell_type": "code",
   "execution_count": 19,
   "metadata": {},
   "outputs": [],
   "source": [
    "# Treating infinite values\n",
    "df.replace([np.inf, -np.inf], np.nan, inplace=True)"
   ]
  },
  {
   "cell_type": "code",
   "execution_count": 20,
   "metadata": {},
   "outputs": [
    {
     "data": {
      "text/html": [
       "<div>\n",
       "<style scoped>\n",
       "    .dataframe tbody tr th:only-of-type {\n",
       "        vertical-align: middle;\n",
       "    }\n",
       "\n",
       "    .dataframe tbody tr th {\n",
       "        vertical-align: top;\n",
       "    }\n",
       "\n",
       "    .dataframe thead th {\n",
       "        text-align: right;\n",
       "    }\n",
       "</style>\n",
       "<table border=\"1\" class=\"dataframe\">\n",
       "  <thead>\n",
       "    <tr style=\"text-align: right;\">\n",
       "      <th></th>\n",
       "      <th>Attack Type</th>\n",
       "      <th>Number of Occurrences</th>\n",
       "      <th>Occurrences w/o Null Rows</th>\n",
       "      <th>Abs Difference</th>\n",
       "      <th>Difference %</th>\n",
       "    </tr>\n",
       "  </thead>\n",
       "  <tbody>\n",
       "    <tr>\n",
       "      <th>0</th>\n",
       "      <td>Benign</td>\n",
       "      <td>13484708</td>\n",
       "      <td>7335790.0</td>\n",
       "      <td>6148918.0</td>\n",
       "      <td>45.6</td>\n",
       "    </tr>\n",
       "    <tr>\n",
       "      <th>1</th>\n",
       "      <td>DDOS attack-HOIC</td>\n",
       "      <td>686012</td>\n",
       "      <td>NaN</td>\n",
       "      <td>NaN</td>\n",
       "      <td>NaN</td>\n",
       "    </tr>\n",
       "    <tr>\n",
       "      <th>2</th>\n",
       "      <td>DDoS attacks-LOIC-HTTP</td>\n",
       "      <td>576191</td>\n",
       "      <td>576191.0</td>\n",
       "      <td>0.0</td>\n",
       "      <td>0.0</td>\n",
       "    </tr>\n",
       "    <tr>\n",
       "      <th>3</th>\n",
       "      <td>DoS attacks-Hulk</td>\n",
       "      <td>461912</td>\n",
       "      <td>NaN</td>\n",
       "      <td>NaN</td>\n",
       "      <td>NaN</td>\n",
       "    </tr>\n",
       "    <tr>\n",
       "      <th>4</th>\n",
       "      <td>Bot</td>\n",
       "      <td>286191</td>\n",
       "      <td>NaN</td>\n",
       "      <td>NaN</td>\n",
       "      <td>NaN</td>\n",
       "    </tr>\n",
       "    <tr>\n",
       "      <th>5</th>\n",
       "      <td>FTP-BruteForce</td>\n",
       "      <td>193360</td>\n",
       "      <td>NaN</td>\n",
       "      <td>NaN</td>\n",
       "      <td>NaN</td>\n",
       "    </tr>\n",
       "    <tr>\n",
       "      <th>6</th>\n",
       "      <td>SSH-Bruteforce</td>\n",
       "      <td>187589</td>\n",
       "      <td>NaN</td>\n",
       "      <td>NaN</td>\n",
       "      <td>NaN</td>\n",
       "    </tr>\n",
       "    <tr>\n",
       "      <th>7</th>\n",
       "      <td>Infilteration</td>\n",
       "      <td>161934</td>\n",
       "      <td>NaN</td>\n",
       "      <td>NaN</td>\n",
       "      <td>NaN</td>\n",
       "    </tr>\n",
       "    <tr>\n",
       "      <th>8</th>\n",
       "      <td>DoS attacks-SlowHTTPTest</td>\n",
       "      <td>139890</td>\n",
       "      <td>NaN</td>\n",
       "      <td>NaN</td>\n",
       "      <td>NaN</td>\n",
       "    </tr>\n",
       "    <tr>\n",
       "      <th>9</th>\n",
       "      <td>DoS attacks-GoldenEye</td>\n",
       "      <td>41508</td>\n",
       "      <td>NaN</td>\n",
       "      <td>NaN</td>\n",
       "      <td>NaN</td>\n",
       "    </tr>\n",
       "    <tr>\n",
       "      <th>10</th>\n",
       "      <td>DoS attacks-Slowloris</td>\n",
       "      <td>10990</td>\n",
       "      <td>NaN</td>\n",
       "      <td>NaN</td>\n",
       "      <td>NaN</td>\n",
       "    </tr>\n",
       "    <tr>\n",
       "      <th>11</th>\n",
       "      <td>DDOS attack-LOIC-UDP</td>\n",
       "      <td>1730</td>\n",
       "      <td>NaN</td>\n",
       "      <td>NaN</td>\n",
       "      <td>NaN</td>\n",
       "    </tr>\n",
       "    <tr>\n",
       "      <th>12</th>\n",
       "      <td>Brute Force -Web</td>\n",
       "      <td>611</td>\n",
       "      <td>NaN</td>\n",
       "      <td>NaN</td>\n",
       "      <td>NaN</td>\n",
       "    </tr>\n",
       "    <tr>\n",
       "      <th>13</th>\n",
       "      <td>Brute Force -XSS</td>\n",
       "      <td>230</td>\n",
       "      <td>NaN</td>\n",
       "      <td>NaN</td>\n",
       "      <td>NaN</td>\n",
       "    </tr>\n",
       "    <tr>\n",
       "      <th>14</th>\n",
       "      <td>SQL Injection</td>\n",
       "      <td>87</td>\n",
       "      <td>NaN</td>\n",
       "      <td>NaN</td>\n",
       "      <td>NaN</td>\n",
       "    </tr>\n",
       "    <tr>\n",
       "      <th>15</th>\n",
       "      <td>Label</td>\n",
       "      <td>59</td>\n",
       "      <td>NaN</td>\n",
       "      <td>NaN</td>\n",
       "      <td>NaN</td>\n",
       "    </tr>\n",
       "  </tbody>\n",
       "</table>\n",
       "</div>"
      ],
      "text/plain": [
       "                 Attack Type  Number of Occurrences  \\\n",
       "0                     Benign               13484708   \n",
       "1           DDOS attack-HOIC                 686012   \n",
       "2     DDoS attacks-LOIC-HTTP                 576191   \n",
       "3           DoS attacks-Hulk                 461912   \n",
       "4                        Bot                 286191   \n",
       "5             FTP-BruteForce                 193360   \n",
       "6             SSH-Bruteforce                 187589   \n",
       "7              Infilteration                 161934   \n",
       "8   DoS attacks-SlowHTTPTest                 139890   \n",
       "9      DoS attacks-GoldenEye                  41508   \n",
       "10     DoS attacks-Slowloris                  10990   \n",
       "11      DDOS attack-LOIC-UDP                   1730   \n",
       "12          Brute Force -Web                    611   \n",
       "13          Brute Force -XSS                    230   \n",
       "14             SQL Injection                     87   \n",
       "15                     Label                     59   \n",
       "\n",
       "    Occurrences w/o Null Rows  Abs Difference  Difference %  \n",
       "0                   7335790.0       6148918.0          45.6  \n",
       "1                         NaN             NaN           NaN  \n",
       "2                    576191.0             0.0           0.0  \n",
       "3                         NaN             NaN           NaN  \n",
       "4                         NaN             NaN           NaN  \n",
       "5                         NaN             NaN           NaN  \n",
       "6                         NaN             NaN           NaN  \n",
       "7                         NaN             NaN           NaN  \n",
       "8                         NaN             NaN           NaN  \n",
       "9                         NaN             NaN           NaN  \n",
       "10                        NaN             NaN           NaN  \n",
       "11                        NaN             NaN           NaN  \n",
       "12                        NaN             NaN           NaN  \n",
       "13                        NaN             NaN           NaN  \n",
       "14                        NaN             NaN           NaN  \n",
       "15                        NaN             NaN           NaN  "
      ]
     },
     "execution_count": 20,
     "metadata": {},
     "output_type": "execute_result"
    }
   ],
   "source": [
    "# Attack counts\n",
    "attack_counts = df['Label'].value_counts().reset_index()\n",
    "attack_counts.columns = ['Attack Type', 'Number of Occurrences']\n",
    "\n",
    "# Duplicating the df and dropping rows with missing values\n",
    "data_no_na = df.dropna()\n",
    "\n",
    "# Counting the total number of occurrences of each attack after dropping\n",
    "occurrences_nonull = data_no_na['Label'].value_counts().reset_index()\n",
    "occurrences_nonull.columns = ['Attack Type', 'Occurrences w/o Null Rows']\n",
    "\n",
    "# Merging the DataFrames\n",
    "attack_counts = attack_counts.merge(occurrences_nonull, on='Attack Type', how='left')\n",
    "\n",
    "# Calculating the difference\n",
    "attack_counts['Abs Difference'] = attack_counts['Number of Occurrences'] - attack_counts['Occurrences w/o Null Rows']\n",
    "attack_counts['Difference %'] = ((attack_counts['Abs Difference'] * 100) / attack_counts['Number of Occurrences']).round(2)\n",
    "\n",
    "# Visualization\n",
    "attack_counts"
   ]
  },
  {
   "cell_type": "code",
   "execution_count": 21,
   "metadata": {},
   "outputs": [
    {
     "name": "stdout",
     "output_type": "stream",
     "text": [
      "The following columns have over 10% of missing values:\n",
      "Flow ID     51.033407\n",
      "Src IP      51.033407\n",
      "Src Port    51.033407\n",
      "Dst IP      51.033407\n",
      "dtype: float64\n"
     ]
    }
   ],
   "source": [
    "# Cleaning up\n",
    "# del data_no_na\n",
    "\n",
    "# Evaluating percentage of missing values per column\n",
    "threshold = 10\n",
    "missing_percentage = (df.isnull().sum() / len(df)) * 100\n",
    "\n",
    "# Filter columns with missing values over the threshold\n",
    "high_missing_cols = missing_percentage[missing_percentage > threshold]\n",
    "\n",
    "# Print columns with high missing percentages\n",
    "if len(high_missing_cols) > 0:\n",
    "    print(f'The following columns have over {threshold}% of missing values:')\n",
    "    print(high_missing_cols)\n",
    "else:\n",
    "    print('There are no columns with missing values greater than the threshold')"
   ]
  },
  {
   "cell_type": "code",
   "execution_count": 22,
   "metadata": {},
   "outputs": [
    {
     "name": "stdout",
     "output_type": "stream",
     "text": [
      "count    1.623300e+07\n",
      "mean     2.434542e+00\n",
      "std      2.380431e+00\n",
      "min      0.000000e+00\n",
      "25%      0.000000e+00\n",
      "50%      4.761905e+00\n",
      "75%      4.761905e+00\n",
      "max      5.952381e+00\n",
      "dtype: float64\n",
      "\n",
      "Total rows with missing values: 8321021\n"
     ]
    }
   ],
   "source": [
    "row_missing_percentage = (df.isna().sum(axis=1) / df.shape[1]) * 100\n",
    "print(row_missing_percentage.describe())\n",
    "\n",
    "missing_rows = df.isna().any(axis=1).sum()\n",
    "print(f'\\nTotal rows with missing values: {missing_rows}')"
   ]
  },
  {
   "cell_type": "code",
   "execution_count": 23,
   "metadata": {},
   "outputs": [
    {
     "name": "stdout",
     "output_type": "stream",
     "text": [
      "Dataset shape after row-wise removal: (7911981, 84)\n"
     ]
    }
   ],
   "source": [
    "# Dropping missing values\n",
    "df = df.dropna()\n",
    "print(f'Dataset shape after row-wise removal: {df.shape}')"
   ]
  },
  {
   "cell_type": "code",
   "execution_count": 24,
   "metadata": {},
   "outputs": [
    {
     "name": "stdout",
     "output_type": "stream",
     "text": [
      "Features with NaNs\n",
      "Series([], dtype: int64)\n",
      "Features with Infs\n",
      "Series([], dtype: int64)\n"
     ]
    }
   ],
   "source": [
    "nan_counts = df.isna().sum()\n",
    "inf_counts = df.apply(count_infs)\n",
    "print(\"Features with NaNs\")\n",
    "print(nan_counts[nan_counts>0])\n",
    "print(\"Features with Infs\")\n",
    "print(inf_counts[inf_counts>0])"
   ]
  },
  {
   "cell_type": "code",
   "execution_count": null,
   "metadata": {},
   "outputs": [],
   "source": [
    "# Result of RF before any datacleaning\n",
    "eval_dataset_w_RF(df)"
   ]
  },
  {
   "cell_type": "code",
   "execution_count": null,
   "metadata": {},
   "outputs": [],
   "source": [
    "string_features = list(df.select_dtypes(include=['object']).columns)\n",
    "string_features.remove('Label')\n",
    "string_features"
   ]
  },
  {
   "cell_type": "code",
   "execution_count": null,
   "metadata": {},
   "outputs": [],
   "source": [
    "le = preprocessing.LabelEncoder()\n",
    "df[string_features] = df[string_features].apply(lambda col: le.fit_transform(col))\n",
    "df['Label'].value_counts()"
   ]
  },
  {
   "cell_type": "code",
   "execution_count": null,
   "metadata": {},
   "outputs": [],
   "source": [
    "col_names = {col: col.strip() for col in df.columns}\n",
    "df.rename(columns = col_names, inplace = True)"
   ]
  },
  {
   "cell_type": "code",
   "execution_count": null,
   "metadata": {},
   "outputs": [],
   "source": [
    "print(f\"Original shape: {df.shape}\")\n",
    "df = df.drop_duplicates(keep='first')\n",
    "print(f\"Without duplicate rows shape: {df.shape}\")"
   ]
  },
  {
   "cell_type": "code",
   "execution_count": null,
   "metadata": {},
   "outputs": [],
   "source": [
    "identical_columns = {}\n",
    "columns = df.columns\n",
    "list_control = columns.copy().tolist()\n",
    "\n",
    "for col1 in columns:\n",
    "    for col2 in columns:\n",
    "        if col1 != col2:\n",
    "            if df[col1].equals(df[col2]):\n",
    "                if (col1 not in identical_columns) and (col1 in list_control):\n",
    "                    identical_columns[col1] = [col2]\n",
    "                    list_control.remove(col2)\n",
    "                elif (col1 in identical_columns) and (col1 in list_control):\n",
    "                    identical_columns[col1].append(col2)\n",
    "                    list_control.remove(col2)\n",
    "\n",
    "if identical_columns:\n",
    "    print(\"Identical columns found:\")\n",
    "    for key, value in identical_columns.items():\n",
    "        print(f\"'{key}' is identical to {value}\")\n",
    "else: print(\"No identical columns found.\")"
   ]
  },
  {
   "cell_type": "code",
   "execution_count": null,
   "metadata": {},
   "outputs": [],
   "source": [
    "for key, value in identical_columns.items():\n",
    "    df.drop(columns=value, inplace=True)"
   ]
  },
  {
   "cell_type": "code",
   "execution_count": null,
   "metadata": {},
   "outputs": [],
   "source": [
    "df.columns"
   ]
  },
  {
   "cell_type": "code",
   "execution_count": null,
   "metadata": {},
   "outputs": [],
   "source": [
    "df.shape"
   ]
  },
  {
   "cell_type": "code",
   "execution_count": null,
   "metadata": {},
   "outputs": [],
   "source": [
    "# Check for numeric columns that contain only a single unique value, indicating no diversity in values.\n",
    "# Such columns contribute no useful information to the analysis and may be candidates for removal.\n",
    "only_unique_cols = []\n",
    "for col in df.columns:\n",
    "    if len(df[col].unique()) == 1:\n",
    "        only_unique_cols.append(col)\n",
    "        print(col)\n",
    "\n",
    "print(f'\\nThe number of columns with only one unique values is: {len(only_unique_cols)}')"
   ]
  },
  {
   "cell_type": "code",
   "execution_count": null,
   "metadata": {},
   "outputs": [],
   "source": [
    "# Dropping the columns with only one unique value\n",
    "df.drop(only_unique_cols, axis=1, inplace=True)\n",
    "del only_unique_cols"
   ]
  },
  {
   "cell_type": "code",
   "execution_count": null,
   "metadata": {},
   "outputs": [],
   "source": [
    "# Result of RF before any datacleaning\n",
    "eval_dataset_w_RF(df)"
   ]
  }
 ],
 "metadata": {
  "kernelspec": {
   "display_name": "Python 3",
   "language": "python",
   "name": "python3"
  },
  "language_info": {
   "codemirror_mode": {
    "name": "ipython",
    "version": 3
   },
   "file_extension": ".py",
   "mimetype": "text/x-python",
   "name": "python",
   "nbconvert_exporter": "python",
   "pygments_lexer": "ipython3",
   "version": "3.12.0"
  }
 },
 "nbformat": 4,
 "nbformat_minor": 2
}
