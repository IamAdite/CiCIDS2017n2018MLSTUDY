{
 "cells": [
  {
   "cell_type": "markdown",
   "id": "4f86f9b4",
   "metadata": {},
   "source": [
    "# Imports and model functions"
   ]
  },
  {
   "cell_type": "code",
   "execution_count": 19,
   "id": "6e45e3a1",
   "metadata": {},
   "outputs": [],
   "source": [
    "import pandas as pd\n",
    "import numpy as np\n",
    "from sklearn import preprocessing\n",
    "import matplotlib.pyplot as plt\n",
    "%matplotlib inline\n",
    "\n",
    "from scipy.stats import randint, uniform\n",
    "from sklearn.neighbors import KNeighborsClassifier\n",
    "from sklearn.model_selection import train_test_split, cross_val_score, learning_curve, RandomizedSearchCV\n",
    "from sklearn.metrics import confusion_matrix, classification_report, accuracy_score, precision_score, recall_score, f1_score, make_scorer\n",
    "\n",
    "import time\n",
    "import psutil\n",
    "import threading\n",
    "from memory_profiler import memory_usage"
   ]
  },
  {
   "cell_type": "code",
   "execution_count": 2,
   "id": "f74d9cbe",
   "metadata": {},
   "outputs": [],
   "source": [
    "def apply_knn(X_train, y_train, best_params=None, n_jobs=-1, cv=5):\n",
    "    \"\"\"Core KNN training with resource monitoring\"\"\"\n",
    "    measurement = {}\n",
    "    best_params = best_params or {}\n",
    "    \n",
    "    knn_model = KNeighborsClassifier(**best_params)\n",
    "    cpu_usage = []\n",
    "    stop_flag = threading.Event()\n",
    "\n",
    "    def monitor_cpu():\n",
    "        while not stop_flag.is_set():\n",
    "            cpu_usage.append(psutil.cpu_percent(interval=0.1))\n",
    "\n",
    "    try:\n",
    "        cpu_thread = threading.Thread(target=monitor_cpu)\n",
    "        cpu_thread.start()\n",
    "        start_time = time.time()\n",
    "        \n",
    "        knn_model.fit(X_train, y_train)\n",
    "        \n",
    "        training_time = time.time() - start_time\n",
    "        stop_flag.set()\n",
    "        cpu_thread.join()\n",
    "\n",
    "        # Record metrics\n",
    "        measurement['Training Time (s)'] = training_time\n",
    "        measurement['Peak CPU (%)'] = max(cpu_usage) if cpu_usage else 0\n",
    "        measurement['Avg CPU (%)'] = np.mean(cpu_usage) if cpu_usage else 0\n",
    "\n",
    "        # Cross-validation\n",
    "        f1_scorer = make_scorer(f1_score, average='weighted')\n",
    "        cv_scores = cross_val_score(\n",
    "            knn_model, X_train, y_train, cv=cv, scoring=f1_scorer, n_jobs=n_jobs\n",
    "        )\n",
    "        \n",
    "        return cv_scores, measurement, knn_model\n",
    "\n",
    "    except Exception as e:\n",
    "        print(f\"KNN training failed: {str(e)}\")\n",
    "        return None, None, None"
   ]
  },
  {
   "cell_type": "code",
   "execution_count": 3,
   "id": "28a64cfe",
   "metadata": {},
   "outputs": [],
   "source": [
    "def eval_dataset_w_KNN(X_train, X_test, y_train, y_test, \n",
    "                      params_knn={'n_neighbors': 5, 'weights': 'uniform', 'n_jobs': -1}):\n",
    "    \"\"\"Evaluation wrapper for KNN\"\"\"\n",
    "    cv_scores_knn, measurement_knn, knn_model = apply_knn(X_train, y_train, best_params=params_knn)\n",
    "    \n",
    "    if knn_model is None:\n",
    "        print(\"⛔ Failed to train KNN model\")\n",
    "        return\n",
    "\n",
    "    y_pred_knn = knn_model.predict(X_test)\n",
    "    \n",
    "    print(f'CV F1: {np.mean(cv_scores_knn):.4f} ± {np.std(cv_scores_knn):.4f}')\n",
    "    print(f'Test Accuracy: {accuracy_score(y_test, y_pred_knn):.4f}')\n",
    "    print(classification_report(y_test, y_pred_knn, digits=4))\n",
    "    print(\"Resource Usage:\", measurement_knn)"
   ]
  },
  {
   "cell_type": "code",
   "execution_count": 41,
   "id": "d0bfc565",
   "metadata": {},
   "outputs": [],
   "source": [
    "import optuna\n",
    "from functools import partial\n",
    "\n",
    "def show_results_KNN(X_train, X_test, y_train, y_test, n_trials=100):\n",
    "    def objective(trial, X_train, y_train, cv=5):\n",
    "        params = {\n",
    "            'n_neighbors': trial.suggest_int('n_neighbors', 5, 50),\n",
    "            'weights': trial.suggest_categorical('weights', ['uniform', 'distance']),\n",
    "            'algorithm': trial.suggest_categorical('algorithm', ['auto', 'ball_tree', 'kd_tree', 'brute']),\n",
    "            'leaf_size': trial.suggest_int('leaf_size', 10, 100),\n",
    "            'p': trial.suggest_int('p', 1, 2)  # 1=manhattan, 2=euclidean\n",
    "        }\n",
    "        \n",
    "        cv_scores, _, model = apply_knn(X_train, y_train, best_params=params, cv=cv)\n",
    "        return np.mean(cv_scores) if cv_scores is not None else 0\n",
    "\n",
    "    study = optuna.create_study(direction='maximize')\n",
    "    study.optimize(partial(objective, X_train=X_train, y_train=y_train), n_trials=n_trials)\n",
    "    best_params = study.best_params\n",
    "\n",
    "    cv_scores_knn, measurement_knn, knn_model = apply_knn(X_train, y_train, best_params=best_params)\n",
    "    \n",
    "    if cv_scores_knn is None:\n",
    "        print(\"KNN training failed\")\n",
    "        return\n",
    "\n",
    "    y_pred_knn = knn_model.predict(X_test)\n",
    "    y_test_array = np.array(y_test)\n",
    "    y_pred_array = np.array(y_pred_knn)\n",
    "\n",
    "    print(\"\\nUnique values in test set:\", np.unique(y_test_array))\n",
    "    print(\"Unique values in predictions:\", np.unique(y_pred_array))\n",
    "\n",
    "    try:\n",
    "        f1 = f1_score(y_test_array, y_pred_array, average='weighted')\n",
    "        accuracy = accuracy_score(y_test_array, y_pred_array)\n",
    "        \n",
    "        print(\"\\nKNN Evaluation Results:\")\n",
    "        print(\"-\" * 50)\n",
    "        print(f'CV F1: {np.mean(cv_scores_knn):.4f} ± {np.std(cv_scores_knn):.4f}')\n",
    "        print(f'Test F1: {f1:.4f}')\n",
    "        print(f'Test Accuracy: {accuracy:.4f}')\n",
    "        print(\"\\nResource Usage:\", measurement_knn)\n",
    "        print(\"\\nClassification Report:\")\n",
    "        print(classification_report(y_test_array, y_pred_array))\n",
    "    \n",
    "    except Exception as e:\n",
    "        print(f\"Error in KNN evaluation: {str(e)}\")\n",
    "        raise\n",
    "    \n",
    "    return knn_model, best_params"
   ]
  },
  {
   "cell_type": "markdown",
   "id": "74035071",
   "metadata": {},
   "source": [
    "# Prep for model training cicids2017"
   ]
  },
  {
   "cell_type": "code",
   "execution_count": 7,
   "id": "749c9cf8",
   "metadata": {},
   "outputs": [],
   "source": [
    "# Reading data\n",
    "df = pd.read_csv(\"..\\..\\data prep\\cicids2017_prep\\cicids2017_42feat_97percent.csv\")"
   ]
  },
  {
   "cell_type": "code",
   "execution_count": 8,
   "id": "2ba78db8",
   "metadata": {},
   "outputs": [],
   "source": [
    "from sklearn.preprocessing import RobustScaler, MinMaxScaler\n",
    "from imblearn.under_sampling import RandomUnderSampler\n",
    "from imblearn.over_sampling import SMOTE, BorderlineSMOTE"
   ]
  },
  {
   "cell_type": "code",
   "execution_count": 9,
   "id": "8106bcf1",
   "metadata": {},
   "outputs": [],
   "source": [
    "# Preparing training and test splits\n",
    "X = df.drop('Attack Type', axis=1)\n",
    "y = df['Attack Type']\n",
    "\n",
    "X_train, X_test, y_train, y_test = train_test_split(X, y, test_size=0.3, random_state=42, stratify=y)"
   ]
  },
  {
   "cell_type": "code",
   "execution_count": 10,
   "id": "be81fde7",
   "metadata": {},
   "outputs": [],
   "source": [
    "# Initialize scaling algos\n",
    "MMS = MinMaxScaler()\n",
    "X_train_MMS_scaled = MMS.fit_transform(X_train)\n",
    "X_test_MMS_scaled = MMS.transform(X_test)"
   ]
  },
  {
   "cell_type": "code",
   "execution_count": 11,
   "id": "23efdc3b",
   "metadata": {},
   "outputs": [],
   "source": [
    "X_train_scaled_rus_MMS, y_train_scaled_rus_MMS = RandomUnderSampler(sampling_strategy={'Normal Traffic': 500000}, random_state=42).fit_resample(X_train_MMS_scaled, y_train)"
   ]
  },
  {
   "cell_type": "code",
   "execution_count": 12,
   "id": "41acd109",
   "metadata": {},
   "outputs": [],
   "source": [
    "X_train_resampled_scaled_MMS_SMOTE, y_train_resampled_scaled_MMS_SMOTE = SMOTE(sampling_strategy={'Bots': 7500, 'Web Attacks': 7500, 'Brute Force': 7000, 'Port Scanning': 70000, 'DDoS':90000, 'DoS': 200000}, random_state=42).fit_resample(X_train_scaled_rus_MMS, y_train_scaled_rus_MMS)"
   ]
  },
  {
   "cell_type": "markdown",
   "id": "2bbb5513",
   "metadata": {},
   "source": [
    "# Sync classes"
   ]
  },
  {
   "cell_type": "code",
   "execution_count": 13,
   "id": "7a568ecb",
   "metadata": {},
   "outputs": [],
   "source": [
    "# Function to combine classes\n",
    "def combine_classes(y, class_mapping):\n",
    "    return y.map(class_mapping)\n",
    "# Define the mapping\n",
    "class_mapping = {\n",
    "    'Web Attacks': 'Other',\n",
    "    'Port Scanning': 'Other',\n",
    "    'Normal Traffic': 'Normal Traffic',\n",
    "    'Bots': 'Bots',\n",
    "    'Brute Force': 'Brute Force',\n",
    "    'DDoS': 'DDoS',\n",
    "    'DoS': 'DoS'\n",
    "}"
   ]
  },
  {
   "cell_type": "code",
   "execution_count": 14,
   "id": "a45b5052",
   "metadata": {},
   "outputs": [
    {
     "data": {
      "text/plain": [
       "array(['Normal Traffic', 'DDoS', 'Port Scanning', 'Bots', 'Web Attacks',\n",
       "       'Brute Force', 'DoS'], dtype=object)"
      ]
     },
     "execution_count": 14,
     "metadata": {},
     "output_type": "execute_result"
    }
   ],
   "source": [
    "df[\"Attack Type\"].unique()"
   ]
  },
  {
   "cell_type": "code",
   "execution_count": 15,
   "id": "604c98fa",
   "metadata": {},
   "outputs": [],
   "source": [
    "# Apply to all your sets\n",
    "y_train = combine_classes(y_train, class_mapping)\n",
    "y_test = combine_classes(y_test, class_mapping)\n",
    "\n",
    "y_train_scaled_rus_MMS = combine_classes(y_train_scaled_rus_MMS, class_mapping)\n",
    "y_train_resampled_scaled_MMS_SMOTE = combine_classes(y_train_resampled_scaled_MMS_SMOTE, class_mapping)"
   ]
  },
  {
   "cell_type": "code",
   "execution_count": 40,
   "id": "37f9b82d",
   "metadata": {},
   "outputs": [
    {
     "name": "stdout",
     "output_type": "stream",
     "text": [
      "Attack Type\n",
      "Normal Traffic    500000\n",
      "DoS               200000\n",
      "DDoS               90000\n",
      "Other              77500\n",
      "Bots                7500\n",
      "Brute Force         7000\n",
      "Name: count, dtype: int64\n"
     ]
    }
   ],
   "source": [
    "print(pd.Series(y_train_resampled_scaled_MMS_SMOTE).value_counts())\n"
   ]
  },
  {
   "cell_type": "markdown",
   "id": "381d4d36",
   "metadata": {},
   "source": [
    "# Search best params for MMS SMOTE"
   ]
  },
  {
   "cell_type": "code",
   "execution_count": 42,
   "id": "fbf80299",
   "metadata": {},
   "outputs": [
    {
     "name": "stderr",
     "output_type": "stream",
     "text": [
      "[I 2025-05-02 13:51:27,376] A new study created in memory with name: no-name-c6dbb544-05bc-4579-82bc-88f4d3e5f063\n",
      "[I 2025-05-02 14:01:00,662] Trial 0 finished with value: 0.979368545446403 and parameters: {'n_neighbors': 36, 'weights': 'distance', 'algorithm': 'auto', 'leaf_size': 69, 'p': 2}. Best is trial 0 with value: 0.979368545446403.\n",
      "[W 2025-05-02 14:01:03,201] Trial 1 failed with parameters: {'n_neighbors': 17, 'weights': 'uniform', 'algorithm': 'auto', 'leaf_size': 56, 'p': 1} because of the following error: The value nan is not acceptable.\n",
      "[W 2025-05-02 14:01:03,202] Trial 1 failed with value nan.\n",
      "[I 2025-05-02 14:07:49,814] Trial 2 finished with value: 0.9793594523308121 and parameters: {'n_neighbors': 20, 'weights': 'uniform', 'algorithm': 'kd_tree', 'leaf_size': 63, 'p': 1}. Best is trial 0 with value: 0.979368545446403.\n",
      "[I 2025-05-02 15:20:47,248] Trial 3 finished with value: 0.979237389450117 and parameters: {'n_neighbors': 40, 'weights': 'distance', 'algorithm': 'ball_tree', 'leaf_size': 97, 'p': 2}. Best is trial 0 with value: 0.979368545446403.\n",
      "[I 2025-05-02 15:31:31,193] Trial 4 finished with value: 0.9797095911500975 and parameters: {'n_neighbors': 28, 'weights': 'distance', 'algorithm': 'brute', 'leaf_size': 97, 'p': 2}. Best is trial 4 with value: 0.9797095911500975.\n",
      "[I 2025-05-02 16:02:04,505] Trial 5 finished with value: 0.9800603270662652 and parameters: {'n_neighbors': 13, 'weights': 'uniform', 'algorithm': 'ball_tree', 'leaf_size': 33, 'p': 1}. Best is trial 5 with value: 0.9800603270662652.\n",
      "[W 2025-05-02 16:02:07,237] Trial 6 failed with parameters: {'n_neighbors': 16, 'weights': 'uniform', 'algorithm': 'brute', 'leaf_size': 44, 'p': 1} because of the following error: The value nan is not acceptable.\n",
      "[W 2025-05-02 16:02:07,237] Trial 6 failed with value nan.\n",
      "[I 2025-05-02 16:12:51,028] Trial 7 finished with value: 0.9802693204468806 and parameters: {'n_neighbors': 14, 'weights': 'distance', 'algorithm': 'auto', 'leaf_size': 31, 'p': 2}. Best is trial 7 with value: 0.9802693204468806.\n",
      "[I 2025-05-02 17:07:57,426] Trial 8 finished with value: 0.9754614435520199 and parameters: {'n_neighbors': 47, 'weights': 'uniform', 'algorithm': 'ball_tree', 'leaf_size': 55, 'p': 2}. Best is trial 7 with value: 0.9802693204468806.\n",
      "[I 2025-05-02 17:25:14,423] Trial 9 finished with value: 0.9815069504753475 and parameters: {'n_neighbors': 16, 'weights': 'distance', 'algorithm': 'ball_tree', 'leaf_size': 14, 'p': 1}. Best is trial 9 with value: 0.9815069504753475.\n",
      "[I 2025-05-02 17:58:56,473] Trial 10 finished with value: 0.9780807452751601 and parameters: {'n_neighbors': 18, 'weights': 'uniform', 'algorithm': 'ball_tree', 'leaf_size': 24, 'p': 2}. Best is trial 9 with value: 0.9815069504753475.\n",
      "[I 2025-05-02 18:03:21,827] Trial 11 finished with value: 0.9800096114896588 and parameters: {'n_neighbors': 21, 'weights': 'distance', 'algorithm': 'kd_tree', 'leaf_size': 42, 'p': 2}. Best is trial 9 with value: 0.9815069504753475.\n",
      "[I 2025-05-02 18:56:05,883] Trial 12 finished with value: 0.981965243550318 and parameters: {'n_neighbors': 7, 'weights': 'distance', 'algorithm': 'brute', 'leaf_size': 11, 'p': 1}. Best is trial 12 with value: 0.981965243550318.\n",
      "[I 2025-05-02 19:48:37,322] Trial 13 finished with value: 0.9820673807342585 and parameters: {'n_neighbors': 6, 'weights': 'distance', 'algorithm': 'brute', 'leaf_size': 11, 'p': 1}. Best is trial 13 with value: 0.9820673807342585.\n",
      "[I 2025-05-02 20:41:57,467] Trial 14 finished with value: 0.9820508259822457 and parameters: {'n_neighbors': 5, 'weights': 'distance', 'algorithm': 'brute', 'leaf_size': 10, 'p': 1}. Best is trial 13 with value: 0.9820673807342585.\n",
      "[I 2025-05-02 21:39:06,817] Trial 15 finished with value: 0.9820508259822457 and parameters: {'n_neighbors': 5, 'weights': 'distance', 'algorithm': 'brute', 'leaf_size': 10, 'p': 1}. Best is trial 13 with value: 0.9820673807342585.\n",
      "[I 2025-05-02 22:40:45,795] Trial 16 finished with value: 0.9818638411427865 and parameters: {'n_neighbors': 9, 'weights': 'distance', 'algorithm': 'brute', 'leaf_size': 46, 'p': 1}. Best is trial 13 with value: 0.9820673807342585.\n",
      "[I 2025-05-02 23:39:51,828] Trial 17 finished with value: 0.9810925152469266 and parameters: {'n_neighbors': 26, 'weights': 'distance', 'algorithm': 'brute', 'leaf_size': 20, 'p': 1}. Best is trial 13 with value: 0.9820673807342585.\n",
      "[I 2025-05-03 00:38:16,383] Trial 18 finished with value: 0.9818134117989207 and parameters: {'n_neighbors': 10, 'weights': 'distance', 'algorithm': 'brute', 'leaf_size': 83, 'p': 1}. Best is trial 13 with value: 0.9820673807342585.\n",
      "[I 2025-05-03 01:34:20,158] Trial 19 finished with value: 0.9810564366766673 and parameters: {'n_neighbors': 27, 'weights': 'distance', 'algorithm': 'brute', 'leaf_size': 30, 'p': 1}. Best is trial 13 with value: 0.9820673807342585.\n",
      "[W 2025-05-03 01:34:22,893] Trial 20 failed with parameters: {'n_neighbors': 5, 'weights': 'uniform', 'algorithm': 'brute', 'leaf_size': 43, 'p': 1} because of the following error: The value nan is not acceptable.\n",
      "[W 2025-05-03 01:34:22,894] Trial 20 failed with value nan.\n",
      "[W 2025-05-03 01:34:26,229] Trial 21 failed with parameters: {'n_neighbors': 6, 'weights': 'uniform', 'algorithm': 'brute', 'leaf_size': 42, 'p': 1} because of the following error: The value nan is not acceptable.\n",
      "[W 2025-05-03 01:34:26,230] Trial 21 failed with value nan.\n",
      "[W 2025-05-03 01:34:29,366] Trial 22 failed with parameters: {'n_neighbors': 33, 'weights': 'uniform', 'algorithm': 'brute', 'leaf_size': 42, 'p': 1} because of the following error: The value nan is not acceptable.\n",
      "[W 2025-05-03 01:34:29,366] Trial 22 failed with value nan.\n",
      "[W 2025-05-03 01:34:32,280] Trial 23 failed with parameters: {'n_neighbors': 32, 'weights': 'uniform', 'algorithm': 'brute', 'leaf_size': 41, 'p': 1} because of the following error: The value nan is not acceptable.\n",
      "[W 2025-05-03 01:34:32,280] Trial 23 failed with value nan.\n",
      "[W 2025-05-03 01:34:34,728] Trial 24 failed with parameters: {'n_neighbors': 5, 'weights': 'uniform', 'algorithm': 'brute', 'leaf_size': 41, 'p': 1} because of the following error: The value nan is not acceptable.\n",
      "[W 2025-05-03 01:34:34,730] Trial 24 failed with value nan.\n",
      "[W 2025-05-03 01:34:37,161] Trial 25 failed with parameters: {'n_neighbors': 6, 'weights': 'uniform', 'algorithm': 'brute', 'leaf_size': 40, 'p': 1} because of the following error: The value nan is not acceptable.\n",
      "[W 2025-05-03 01:34:37,161] Trial 25 failed with value nan.\n",
      "[W 2025-05-03 01:34:39,586] Trial 26 failed with parameters: {'n_neighbors': 5, 'weights': 'uniform', 'algorithm': 'brute', 'leaf_size': 42, 'p': 1} because of the following error: The value nan is not acceptable.\n",
      "[W 2025-05-03 01:34:39,586] Trial 26 failed with value nan.\n",
      "[W 2025-05-03 01:34:42,024] Trial 27 failed with parameters: {'n_neighbors': 34, 'weights': 'uniform', 'algorithm': 'brute', 'leaf_size': 46, 'p': 1} because of the following error: The value nan is not acceptable.\n",
      "[W 2025-05-03 01:34:42,025] Trial 27 failed with value nan.\n",
      "[W 2025-05-03 01:34:44,444] Trial 28 failed with parameters: {'n_neighbors': 5, 'weights': 'uniform', 'algorithm': 'brute', 'leaf_size': 39, 'p': 1} because of the following error: The value nan is not acceptable.\n",
      "[W 2025-05-03 01:34:44,446] Trial 28 failed with value nan.\n",
      "[W 2025-05-03 01:34:46,875] Trial 29 failed with parameters: {'n_neighbors': 5, 'weights': 'uniform', 'algorithm': 'brute', 'leaf_size': 21, 'p': 1} because of the following error: The value nan is not acceptable.\n",
      "[W 2025-05-03 01:34:46,875] Trial 29 failed with value nan.\n"
     ]
    },
    {
     "name": "stdout",
     "output_type": "stream",
     "text": [
      "\n",
      "Unique values in test set: ['Bots' 'Brute Force' 'DDoS' 'DoS' 'Normal Traffic' 'Other']\n",
      "Unique values in predictions: ['Bots' 'Brute Force' 'DDoS' 'DoS' 'Normal Traffic' 'Other']\n",
      "\n",
      "KNN Evaluation Results:\n",
      "--------------------------------------------------\n",
      "CV F1: 0.9821 ± 0.0184\n",
      "Test F1: 0.9909\n",
      "Test Accuracy: 0.9905\n",
      "\n",
      "Resource Usage: {'Training Time (s)': 0.5338592529296875, 'Peak CPU (%)': 23.1, 'Avg CPU (%)': 16.966666666666665}\n",
      "\n",
      "Classification Report:\n",
      "                precision    recall  f1-score   support\n",
      "\n",
      "          Bots       0.45      0.91      0.60       584\n",
      "   Brute Force       0.98      1.00      0.99      2745\n",
      "          DDoS       1.00      1.00      1.00     38404\n",
      "           DoS       0.99      1.00      1.00     58124\n",
      "Normal Traffic       1.00      0.99      0.99    628518\n",
      "         Other       0.84      0.98      0.90     27851\n",
      "\n",
      "      accuracy                           0.99    756226\n",
      "     macro avg       0.88      0.98      0.91    756226\n",
      "  weighted avg       0.99      0.99      0.99    756226\n",
      "\n"
     ]
    }
   ],
   "source": [
    "rf_model, best_params = show_results_KNN(X_train_resampled_scaled_MMS_SMOTE, \n",
    "                                    X_test_MMS_scaled,\n",
    "                                    y_train_resampled_scaled_MMS_SMOTE, \n",
    "                                    y_test, \n",
    "                                    n_trials=30)"
   ]
  },
  {
   "cell_type": "code",
   "execution_count": 44,
   "id": "ee5db9f0",
   "metadata": {},
   "outputs": [
    {
     "name": "stdout",
     "output_type": "stream",
     "text": [
      "CV F1: 0.9821 ± 0.0184\n",
      "Test Accuracy: 0.9905\n",
      "                precision    recall  f1-score   support\n",
      "\n",
      "          Bots     0.4499    0.9144    0.6030       584\n",
      "   Brute Force     0.9842    0.9956    0.9899      2745\n",
      "          DDoS     0.9977    0.9987    0.9982     38404\n",
      "           DoS     0.9923    0.9984    0.9953     58124\n",
      "Normal Traffic     0.9988    0.9899    0.9943    628518\n",
      "         Other     0.8394    0.9780    0.9034     27851\n",
      "\n",
      "      accuracy                         0.9905    756226\n",
      "     macro avg     0.8770    0.9792    0.9140    756226\n",
      "  weighted avg     0.9919    0.9905    0.9909    756226\n",
      "\n",
      "Resource Usage: {'Training Time (s)': 0.5352437496185303, 'Peak CPU (%)': 19.6, 'Avg CPU (%)': 17.0}\n"
     ]
    }
   ],
   "source": [
    "eval_dataset_w_KNN(X_train_resampled_scaled_MMS_SMOTE, X_test_MMS_scaled, y_train_resampled_scaled_MMS_SMOTE, y_test, params_knn={'n_neighbors': 6, 'weights': 'distance', 'algorithm': 'brute', 'leaf_size': 11, 'p': 1})"
   ]
  }
 ],
 "metadata": {
  "kernelspec": {
   "display_name": "NN-env",
   "language": "python",
   "name": "python3"
  },
  "language_info": {
   "codemirror_mode": {
    "name": "ipython",
    "version": 3
   },
   "file_extension": ".py",
   "mimetype": "text/x-python",
   "name": "python",
   "nbconvert_exporter": "python",
   "pygments_lexer": "ipython3",
   "version": "3.11.9"
  }
 },
 "nbformat": 4,
 "nbformat_minor": 5
}
