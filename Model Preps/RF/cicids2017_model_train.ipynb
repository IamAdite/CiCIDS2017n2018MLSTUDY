{
 "cells": [
  {
   "cell_type": "markdown",
   "id": "4f86f9b4",
   "metadata": {},
   "source": [
    "# Imports and model functions"
   ]
  },
  {
   "cell_type": "code",
   "execution_count": 28,
   "id": "6e45e3a1",
   "metadata": {},
   "outputs": [],
   "source": [
    "import pandas as pd\n",
    "import numpy as np\n",
    "from sklearn import preprocessing\n",
    "import matplotlib.pyplot as plt\n",
    "%matplotlib inline\n",
    "\n",
    "from scipy.stats import randint, uniform\n",
    "from sklearn.ensemble import RandomForestClassifier\n",
    "from sklearn.model_selection import train_test_split, cross_val_score, learning_curve, RandomizedSearchCV\n",
    "from sklearn.metrics import confusion_matrix, classification_report, accuracy_score, precision_score, recall_score, f1_score, make_scorer\n",
    "\n",
    "import time\n",
    "import psutil\n",
    "import threading\n",
    "from memory_profiler import memory_usage"
   ]
  },
  {
   "cell_type": "code",
   "execution_count": 46,
   "id": "f74d9cbe",
   "metadata": {},
   "outputs": [],
   "source": [
    "def apply_rf(X_train, y_train, best_params=None, random_state=42, n_jobs=-1, cv=5): \n",
    "    measurement_rf = {}\n",
    "    best_params = best_params or {}\n",
    "\n",
    "    rf_model = RandomForestClassifier(**best_params, random_state=random_state, n_jobs=n_jobs, verbose=1)\n",
    "    \n",
    "    cpu_usage = []\n",
    "    stop_flag = threading.Event()\n",
    "\n",
    "    def monitor_cpu():\n",
    "        while not stop_flag.is_set():\n",
    "            cpu_usage.append(psutil.cpu_percent(interval=0.1))\n",
    "\n",
    "    def train_model():\n",
    "        rf_model.fit(X_train, y_train)\n",
    "\n",
    "    try:\n",
    "        cpu_thread = threading.Thread(target=monitor_cpu)\n",
    "        cpu_thread.start()\n",
    "\n",
    "        start_time = time.time()\n",
    "        train_model()\n",
    "        training_time = time.time() - start_time\n",
    "\n",
    "        stop_flag.set()\n",
    "        cpu_thread.join()\n",
    "\n",
    "        measurement_rf['Training Time (s)'] = training_time\n",
    "        measurement_rf['Peak CPU Usage (%)'] = max(cpu_usage)\n",
    "        measurement_rf['Average CPU Usage (%)'] = sum(cpu_usage) / len(cpu_usage) if cpu_usage else 0\n",
    "\n",
    "        # Modified to use F1 score\n",
    "        f1_scorer = make_scorer(f1_score, average='weighted')\n",
    "        cv_scores_rf = cross_val_score(rf_model, X_train, y_train, cv=cv, n_jobs=n_jobs, scoring=f1_scorer)\n",
    "\n",
    "        return cv_scores_rf, measurement_rf, rf_model\n",
    "\n",
    "    except Exception as e:\n",
    "        import traceback\n",
    "        print(\"⛔ Full error traceback:\")\n",
    "        traceback.print_exc()\n",
    "        print(f\"Error during Random Forest training: {e}\")\n",
    "        return None, None, None"
   ]
  },
  {
   "cell_type": "code",
   "execution_count": 47,
   "id": "28a64cfe",
   "metadata": {},
   "outputs": [],
   "source": [
    "def eval_dataset_w_RF(X_train, X_test, y_train, y_test, params_rf={'n_estimators': 150, 'min_samples_split': 5, 'min_samples_leaf': 2, 'max_features': 'sqrt', 'max_depth': 10}):\n",
    "    # Fitting the model\n",
    "    cv_scores_rf, measurement_rf, rf_model = apply_rf(X_train, y_train, best_params=params_rf)\n",
    "\n",
    "    # Making predictions\n",
    "    y_pred_rf = rf_model.predict(X_test)\n",
    "    \n",
    "    # Evaluating the model performance\n",
    "    cv_scores_mean_rf = np.mean(cv_scores_rf)\n",
    "    print(f'Cross validation average score: {cv_scores_mean_rf:.4f} +/- standard deviation: {np.std(cv_scores_rf):.4f}')\n",
    "\n",
    "    accuracy_rf = accuracy_score(y_test, y_pred_rf)\n",
    "    print(f'Accuracy on the test set: {accuracy_rf:.4f}')\n",
    "    \n",
    "    # Checking computational cost\n",
    "    print(\"Resource measurements:\", measurement_rf)\n",
    "    print(classification_report(y_test, y_pred_rf, digits=4))"
   ]
  },
  {
   "cell_type": "code",
   "execution_count": 53,
   "id": "d0bfc565",
   "metadata": {},
   "outputs": [],
   "source": [
    "import optuna\n",
    "def show_results(X_train, X_test, y_train, y_test, n_trials=100):\n",
    "    def objective(trial, X_train, y_train, cv=5):\n",
    "        params = {\n",
    "            'n_estimators': trial.suggest_int('n_estimators', 50, 300),\n",
    "            'max_depth': trial.suggest_categorical('max_depth', [None] + list(range(5, 31))),\n",
    "            'min_samples_split': trial.suggest_int('min_samples_split', 2, 20),\n",
    "            'min_samples_leaf': trial.suggest_int('min_samples_leaf', 1, 10),\n",
    "            'max_features': trial.suggest_categorical('max_features', ['sqrt', 'log2', None])\n",
    "        }\n",
    "        \n",
    "        cv_scores, _, model = apply_rf(X_train, y_train, best_params=params, cv=cv)\n",
    "        if cv_scores is None:\n",
    "            return 0\n",
    "        return np.mean(cv_scores)\n",
    "        \n",
    "    study = optuna.create_study(direction='maximize')\n",
    "    study.optimize(lambda trial: objective(trial, X_train, y_train), n_trials=n_trials)\n",
    "    best_params = study.best_params\n",
    "    \n",
    "    cv_scores_rf, measurement_rf, rf_model = apply_rf(X_train, y_train, n_jobs=15, best_params=best_params)\n",
    "    \n",
    "    if cv_scores_rf is None:\n",
    "        print(\"Model training failed\")\n",
    "        return\n",
    "    \n",
    "    y_pred_rf = rf_model.predict(X_test)\n",
    "    \n",
    "    # Convert to numpy arrays and ensure same type\n",
    "    y_test_array = np.array(y_test)\n",
    "    y_pred_array = np.array(y_pred_rf)\n",
    "    \n",
    "    # Print unique values to debug\n",
    "    print(\"\\nUnique values in test set:\", np.unique(y_test_array))\n",
    "    print(\"Unique values in predictions:\", np.unique(y_pred_array))\n",
    "    \n",
    "    cv_scores_mean_rf = np.mean(cv_scores_rf)\n",
    "    \n",
    "    try:\n",
    "        f1 = f1_score(y_test_array, y_pred_array, average='weighted')\n",
    "        accuracy = accuracy_score(y_test_array, y_pred_array)\n",
    "        \n",
    "        print(\"\\nModel Evaluation Results:\")\n",
    "        print(\"-\" * 50)\n",
    "        print(f'Cross validation average score (F1): {cv_scores_mean_rf:.4f} +/- standard deviation: {np.std(cv_scores_rf):.4f}')\n",
    "        print(f'F1 Score on test set: {f1:.4f}')\n",
    "        print(f'Accuracy on test set: {accuracy:.4f}')\n",
    "        print(\"\\nResource Usage:\")\n",
    "        print(\"-\" * 50)\n",
    "        print(\"Resource measurements:\", measurement_rf)\n",
    "        print(\"\\nDetailed Classification Report:\")\n",
    "        print(\"-\" * 50)\n",
    "        print(classification_report(y_test_array, y_pred_array))\n",
    "    \n",
    "    except Exception as e:\n",
    "        print(f\"Error during metric calculation: {str(e)}\")\n",
    "        print(\"Types in test set:\", y_test_array.dtype)\n",
    "        print(\"Types in predictions:\", y_pred_array.dtype)\n",
    "        raise\n",
    "    \n",
    "    return rf_model, best_params"
   ]
  },
  {
   "cell_type": "markdown",
   "id": "74035071",
   "metadata": {},
   "source": [
    "# Prep for model training cicids2017"
   ]
  },
  {
   "cell_type": "code",
   "execution_count": 33,
   "id": "749c9cf8",
   "metadata": {},
   "outputs": [],
   "source": [
    "# Reading data\n",
    "df = pd.read_csv(\"..\\..\\data prep\\cicids2017_prep\\cicids2017_42feat_97percent.csv\")"
   ]
  },
  {
   "cell_type": "code",
   "execution_count": 34,
   "id": "2ba78db8",
   "metadata": {},
   "outputs": [],
   "source": [
    "from sklearn.preprocessing import RobustScaler, MinMaxScaler\n",
    "from imblearn.under_sampling import RandomUnderSampler\n",
    "from imblearn.over_sampling import SMOTE, BorderlineSMOTE"
   ]
  },
  {
   "cell_type": "code",
   "execution_count": 35,
   "id": "8106bcf1",
   "metadata": {},
   "outputs": [],
   "source": [
    "# Preparing training and test splits\n",
    "X = df.drop('Attack Type', axis=1)\n",
    "y = df['Attack Type']\n",
    "\n",
    "X_train, X_test, y_train, y_test = train_test_split(X, y, test_size=0.3, random_state=42, stratify=y)"
   ]
  },
  {
   "cell_type": "code",
   "execution_count": 36,
   "id": "be81fde7",
   "metadata": {},
   "outputs": [],
   "source": [
    "# Initialize scaling algos\n",
    "MMS = MinMaxScaler()\n",
    "X_train_MMS_scaled = MMS.fit_transform(X_train)\n",
    "X_test_MMS_scaled = MMS.transform(X_test)"
   ]
  },
  {
   "cell_type": "code",
   "execution_count": 37,
   "id": "23efdc3b",
   "metadata": {},
   "outputs": [],
   "source": [
    "X_train_scaled_rus_MMS, y_train_scaled_rus_MMS = RandomUnderSampler(sampling_strategy={'Normal Traffic': 500000}, random_state=42).fit_resample(X_train_MMS_scaled, y_train)"
   ]
  },
  {
   "cell_type": "code",
   "execution_count": 38,
   "id": "41acd109",
   "metadata": {},
   "outputs": [],
   "source": [
    "X_train_resampled_scaled_MMS_SMOTE, y_train_resampled_scaled_MMS_SMOTE = SMOTE(sampling_strategy={'Bots': 7500, 'Web Attacks': 7500, 'Brute Force': 7000, 'Port Scanning': 70000, 'DDoS':90000, 'DoS': 200000}, random_state=42).fit_resample(X_train_scaled_rus_MMS, y_train_scaled_rus_MMS)"
   ]
  },
  {
   "cell_type": "markdown",
   "id": "2bbb5513",
   "metadata": {},
   "source": [
    "# Sync classes"
   ]
  },
  {
   "cell_type": "code",
   "execution_count": 39,
   "id": "7a568ecb",
   "metadata": {},
   "outputs": [],
   "source": [
    "# Function to combine classes\n",
    "def combine_classes(y, class_mapping):\n",
    "    return y.map(class_mapping)\n",
    "# Define the mapping\n",
    "class_mapping = {\n",
    "    'Web Attacks': 'Other',\n",
    "    'Port Scanning': 'Other',\n",
    "    'Normal Traffic': 'Normal Traffic',\n",
    "    'Bots': 'Bots',\n",
    "    'Brute Force': 'Brute Force',\n",
    "    'DDoS': 'DDoS',\n",
    "    'DoS': 'DoS'\n",
    "}"
   ]
  },
  {
   "cell_type": "code",
   "execution_count": 40,
   "id": "a45b5052",
   "metadata": {},
   "outputs": [
    {
     "data": {
      "text/plain": [
       "array(['Normal Traffic', 'DDoS', 'Port Scanning', 'Bots', 'Web Attacks',\n",
       "       'Brute Force', 'DoS'], dtype=object)"
      ]
     },
     "execution_count": 40,
     "metadata": {},
     "output_type": "execute_result"
    }
   ],
   "source": [
    "df[\"Attack Type\"].unique()"
   ]
  },
  {
   "cell_type": "code",
   "execution_count": 41,
   "id": "604c98fa",
   "metadata": {},
   "outputs": [],
   "source": [
    "# Apply to all your sets\n",
    "y_train = combine_classes(y_train, class_mapping)\n",
    "y_test = combine_classes(y_test, class_mapping)\n",
    "\n",
    "y_train_scaled_rus_MMS = combine_classes(y_train_scaled_rus_MMS, class_mapping)\n",
    "y_train_resampled_scaled_MMS_SMOTE = combine_classes(y_train_resampled_scaled_MMS_SMOTE, class_mapping)"
   ]
  },
  {
   "cell_type": "code",
   "execution_count": 42,
   "id": "10794c57",
   "metadata": {},
   "outputs": [
    {
     "data": {
      "text/plain": [
       "array(['Normal Traffic', 'DoS', 'DDoS', 'Bots', 'Other', 'Brute Force'],\n",
       "      dtype=object)"
      ]
     },
     "execution_count": 42,
     "metadata": {},
     "output_type": "execute_result"
    }
   ],
   "source": [
    "y_test.unique()"
   ]
  },
  {
   "cell_type": "markdown",
   "id": "381d4d36",
   "metadata": {},
   "source": [
    "# Search best params for MMS SMOTE"
   ]
  },
  {
   "cell_type": "code",
   "execution_count": 54,
   "id": "fbf80299",
   "metadata": {},
   "outputs": [
    {
     "name": "stderr",
     "output_type": "stream",
     "text": [
      "[I 2025-05-01 18:10:53,222] A new study created in memory with name: no-name-946a3546-e646-4233-8d0e-7c9c1e13d505\n",
      "[Parallel(n_jobs=-1)]: Using backend ThreadingBackend with 16 concurrent workers.\n",
      "[Parallel(n_jobs=-1)]: Done  18 tasks      | elapsed:    7.2s\n",
      "[Parallel(n_jobs=-1)]: Done 196 out of 196 | elapsed:   53.7s finished\n",
      "[I 2025-05-01 18:15:01,254] Trial 0 finished with value: 0.9880452135529687 and parameters: {'n_estimators': 196, 'max_depth': 18, 'min_samples_split': 19, 'min_samples_leaf': 9, 'max_features': 'log2'}. Best is trial 0 with value: 0.9880452135529687.\n",
      "[Parallel(n_jobs=-1)]: Using backend ThreadingBackend with 16 concurrent workers.\n",
      "[Parallel(n_jobs=-1)]: Done  18 tasks      | elapsed:  1.0min\n",
      "[Parallel(n_jobs=-1)]: Done 168 tasks      | elapsed:  5.6min\n",
      "[Parallel(n_jobs=-1)]: Done 218 out of 218 | elapsed:  7.1min finished\n",
      "[I 2025-05-01 18:50:00,689] Trial 1 finished with value: 0.9892499848987061 and parameters: {'n_estimators': 218, 'max_depth': 16, 'min_samples_split': 15, 'min_samples_leaf': 1, 'max_features': None}. Best is trial 1 with value: 0.9892499848987061.\n",
      "[Parallel(n_jobs=-1)]: Using backend ThreadingBackend with 16 concurrent workers.\n",
      "[Parallel(n_jobs=-1)]: Done  18 tasks      | elapsed:    6.9s\n",
      "[Parallel(n_jobs=-1)]: Done  50 out of  50 | elapsed:   13.4s finished\n",
      "[I 2025-05-01 18:51:06,589] Trial 2 finished with value: 0.9873927320724161 and parameters: {'n_estimators': 50, 'max_depth': 15, 'min_samples_split': 8, 'min_samples_leaf': 10, 'max_features': 'log2'}. Best is trial 1 with value: 0.9892499848987061.\n",
      "[Parallel(n_jobs=-1)]: Using backend ThreadingBackend with 16 concurrent workers.\n",
      "[Parallel(n_jobs=-1)]: Done  18 tasks      | elapsed:    7.3s\n",
      "[Parallel(n_jobs=-1)]: Done 168 tasks      | elapsed:   42.1s\n",
      "[Parallel(n_jobs=-1)]: Done 244 out of 244 | elapsed:   59.5s finished\n",
      "[I 2025-05-01 18:56:04,223] Trial 3 finished with value: 0.9886507176402917 and parameters: {'n_estimators': 244, 'max_depth': 29, 'min_samples_split': 9, 'min_samples_leaf': 4, 'max_features': 'log2'}. Best is trial 1 with value: 0.9892499848987061.\n",
      "[Parallel(n_jobs=-1)]: Using backend ThreadingBackend with 16 concurrent workers.\n",
      "[Parallel(n_jobs=-1)]: Done  18 tasks      | elapsed:    6.9s\n",
      "[Parallel(n_jobs=-1)]: Done 168 tasks      | elapsed:   39.0s\n",
      "[Parallel(n_jobs=-1)]: Done 253 out of 253 | elapsed:   56.7s finished\n",
      "[I 2025-05-01 19:00:46,624] Trial 4 finished with value: 0.9842480031987165 and parameters: {'n_estimators': 253, 'max_depth': 11, 'min_samples_split': 9, 'min_samples_leaf': 1, 'max_features': 'log2'}. Best is trial 1 with value: 0.9892499848987061.\n",
      "[Parallel(n_jobs=-1)]: Using backend ThreadingBackend with 16 concurrent workers.\n",
      "[Parallel(n_jobs=-1)]: Done  18 tasks      | elapsed:    7.5s\n",
      "[Parallel(n_jobs=-1)]: Done  86 out of  86 | elapsed:   22.4s finished\n",
      "[I 2025-05-01 19:02:38,141] Trial 5 finished with value: 0.9828181360630817 and parameters: {'n_estimators': 86, 'max_depth': 10, 'min_samples_split': 7, 'min_samples_leaf': 7, 'max_features': 'sqrt'}. Best is trial 1 with value: 0.9892499848987061.\n",
      "[Parallel(n_jobs=-1)]: Using backend ThreadingBackend with 16 concurrent workers.\n",
      "[Parallel(n_jobs=-1)]: Done  18 tasks      | elapsed:    8.7s\n",
      "[Parallel(n_jobs=-1)]: Done 168 tasks      | elapsed:   49.6s\n",
      "[Parallel(n_jobs=-1)]: Done 232 out of 232 | elapsed:  1.1min finished\n",
      "[I 2025-05-01 19:08:10,991] Trial 6 finished with value: 0.9887538527198056 and parameters: {'n_estimators': 232, 'max_depth': 18, 'min_samples_split': 17, 'min_samples_leaf': 3, 'max_features': 'sqrt'}. Best is trial 1 with value: 0.9892499848987061.\n",
      "[Parallel(n_jobs=-1)]: Using backend ThreadingBackend with 16 concurrent workers.\n",
      "[Parallel(n_jobs=-1)]: Done  18 tasks      | elapsed:  1.0min\n",
      "[Parallel(n_jobs=-1)]: Done 181 out of 181 | elapsed:  6.4min finished\n",
      "[I 2025-05-01 19:38:18,076] Trial 7 finished with value: 0.9892250483010375 and parameters: {'n_estimators': 181, 'max_depth': 22, 'min_samples_split': 19, 'min_samples_leaf': 3, 'max_features': None}. Best is trial 1 with value: 0.9892499848987061.\n",
      "[Parallel(n_jobs=-1)]: Using backend ThreadingBackend with 16 concurrent workers.\n",
      "[Parallel(n_jobs=-1)]: Done  18 tasks      | elapsed:  1.0min\n",
      "[Parallel(n_jobs=-1)]: Done 140 out of 140 | elapsed:  4.7min finished\n",
      "[I 2025-05-01 20:01:11,062] Trial 8 finished with value: 0.9891884658646533 and parameters: {'n_estimators': 140, 'max_depth': 26, 'min_samples_split': 19, 'min_samples_leaf': 5, 'max_features': None}. Best is trial 1 with value: 0.9892499848987061.\n",
      "[Parallel(n_jobs=-1)]: Using backend ThreadingBackend with 16 concurrent workers.\n",
      "[Parallel(n_jobs=-1)]: Done  18 tasks      | elapsed:    8.4s\n",
      "[Parallel(n_jobs=-1)]: Done 168 tasks      | elapsed:   50.2s\n",
      "[Parallel(n_jobs=-1)]: Done 235 out of 235 | elapsed:  1.1min finished\n",
      "[I 2025-05-01 20:06:47,364] Trial 9 finished with value: 0.9889838425843287 and parameters: {'n_estimators': 235, 'max_depth': 30, 'min_samples_split': 5, 'min_samples_leaf': 2, 'max_features': 'sqrt'}. Best is trial 1 with value: 0.9892499848987061.\n",
      "[Parallel(n_jobs=-1)]: Using backend ThreadingBackend with 16 concurrent workers.\n",
      "[Parallel(n_jobs=-1)]: Done  18 tasks      | elapsed:   59.2s\n",
      "[Parallel(n_jobs=-1)]: Done 168 tasks      | elapsed:  5.5min\n",
      "[Parallel(n_jobs=-1)]: Done 296 out of 296 | elapsed:  9.4min finished\n",
      "[I 2025-05-01 20:52:14,185] Trial 10 finished with value: 0.9891054194785524 and parameters: {'n_estimators': 296, 'max_depth': 16, 'min_samples_split': 14, 'min_samples_leaf': 7, 'max_features': None}. Best is trial 1 with value: 0.9892499848987061.\n",
      "[Parallel(n_jobs=-1)]: Using backend ThreadingBackend with 16 concurrent workers.\n",
      "[Parallel(n_jobs=-1)]: Done  18 tasks      | elapsed:  1.0min\n",
      "[Parallel(n_jobs=-1)]: Done 149 out of 149 | elapsed:  5.0min finished\n",
      "[I 2025-05-01 21:16:25,447] Trial 11 finished with value: 0.9893294219657305 and parameters: {'n_estimators': 149, 'max_depth': 22, 'min_samples_split': 14, 'min_samples_leaf': 1, 'max_features': None}. Best is trial 11 with value: 0.9893294219657305.\n",
      "[Parallel(n_jobs=-1)]: Using backend ThreadingBackend with 16 concurrent workers.\n",
      "[Parallel(n_jobs=-1)]: Done  18 tasks      | elapsed:   54.0s\n",
      "[Parallel(n_jobs=-1)]: Done 146 out of 146 | elapsed:  4.3min finished\n",
      "[I 2025-05-01 21:37:24,252] Trial 12 finished with value: 0.9887203536721586 and parameters: {'n_estimators': 146, 'max_depth': 14, 'min_samples_split': 13, 'min_samples_leaf': 1, 'max_features': None}. Best is trial 11 with value: 0.9893294219657305.\n",
      "[Parallel(n_jobs=-1)]: Using backend ThreadingBackend with 16 concurrent workers.\n",
      "[Parallel(n_jobs=-1)]: Done  18 tasks      | elapsed:   51.4s\n",
      "[Parallel(n_jobs=-1)]: Done 125 out of 125 | elapsed:  3.5min finished\n",
      "[I 2025-05-01 21:54:31,509] Trial 13 finished with value: 0.9880622419140643 and parameters: {'n_estimators': 125, 'max_depth': 13, 'min_samples_split': 15, 'min_samples_leaf': 1, 'max_features': None}. Best is trial 11 with value: 0.9893294219657305.\n",
      "[Parallel(n_jobs=-1)]: Using backend ThreadingBackend with 16 concurrent workers.\n",
      "[Parallel(n_jobs=-1)]: Done  18 tasks      | elapsed:   58.9s\n",
      "[Parallel(n_jobs=-1)]: Done 197 out of 197 | elapsed:  6.5min finished\n",
      "[I 2025-05-01 22:26:11,494] Trial 14 finished with value: 0.989320416418235 and parameters: {'n_estimators': 197, 'max_depth': 25, 'min_samples_split': 12, 'min_samples_leaf': 3, 'max_features': None}. Best is trial 11 with value: 0.9893294219657305.\n",
      "[Parallel(n_jobs=-1)]: Using backend ThreadingBackend with 16 concurrent workers.\n",
      "[Parallel(n_jobs=-1)]: Done  18 tasks      | elapsed:   59.6s\n",
      "[Parallel(n_jobs=-1)]: Done 162 out of 162 | elapsed:  5.4min finished\n",
      "[I 2025-05-01 22:52:17,921] Trial 15 finished with value: 0.9893193665985611 and parameters: {'n_estimators': 162, 'max_depth': 25, 'min_samples_split': 12, 'min_samples_leaf': 3, 'max_features': None}. Best is trial 11 with value: 0.9893294219657305.\n",
      "[Parallel(n_jobs=-1)]: Using backend ThreadingBackend with 16 concurrent workers.\n",
      "[Parallel(n_jobs=-1)]: Done  18 tasks      | elapsed:   26.4s\n",
      "[Parallel(n_jobs=-1)]: Done 102 out of 102 | elapsed:  1.5min finished\n",
      "[I 2025-05-01 22:59:31,079] Trial 16 finished with value: 0.938401015975721 and parameters: {'n_estimators': 102, 'max_depth': 5, 'min_samples_split': 3, 'min_samples_leaf': 5, 'max_features': None}. Best is trial 11 with value: 0.9893294219657305.\n",
      "[Parallel(n_jobs=-1)]: Using backend ThreadingBackend with 16 concurrent workers.\n",
      "[Parallel(n_jobs=-1)]: Done  18 tasks      | elapsed:   58.9s\n",
      "[Parallel(n_jobs=-1)]: Done 198 out of 198 | elapsed:  6.5min finished\n",
      "[I 2025-05-01 23:31:20,795] Trial 17 finished with value: 0.9893029457559827 and parameters: {'n_estimators': 198, 'max_depth': 28, 'min_samples_split': 11, 'min_samples_leaf': 4, 'max_features': None}. Best is trial 11 with value: 0.9893294219657305.\n",
      "[Parallel(n_jobs=-1)]: Using backend ThreadingBackend with 16 concurrent workers.\n",
      "[Parallel(n_jobs=-1)]: Done  18 tasks      | elapsed:   58.9s\n",
      "[Parallel(n_jobs=-1)]: Done 105 out of 105 | elapsed:  3.5min finished\n",
      "[I 2025-05-01 23:48:15,593] Trial 18 finished with value: 0.9892888100772449 and parameters: {'n_estimators': 105, 'max_depth': 22, 'min_samples_split': 16, 'min_samples_leaf': 2, 'max_features': None}. Best is trial 11 with value: 0.9893294219657305.\n",
      "[Parallel(n_jobs=-1)]: Using backend ThreadingBackend with 16 concurrent workers.\n",
      "[Parallel(n_jobs=-1)]: Done  18 tasks      | elapsed:    7.1s\n",
      "[Parallel(n_jobs=-1)]: Done 168 tasks      | elapsed:   44.5s\n",
      "[Parallel(n_jobs=-1)]: Done 290 out of 290 | elapsed:  1.2min finished\n",
      "[I 2025-05-01 23:54:29,224] Trial 19 finished with value: 0.986778720559417 and parameters: {'n_estimators': 290, 'max_depth': 12, 'min_samples_split': 11, 'min_samples_leaf': 7, 'max_features': 'sqrt'}. Best is trial 11 with value: 0.9893294219657305.\n",
      "[Parallel(n_jobs=-1)]: Using backend ThreadingBackend with 16 concurrent workers.\n",
      "[Parallel(n_jobs=-1)]: Done  18 tasks      | elapsed:   59.2s\n",
      "[Parallel(n_jobs=-1)]: Done 170 out of 170 | elapsed:  5.6min finished\n",
      "[I 2025-05-02 00:21:48,534] Trial 20 finished with value: 0.9892201155664739 and parameters: {'n_estimators': 170, 'max_depth': 25, 'min_samples_split': 17, 'min_samples_leaf': 4, 'max_features': None}. Best is trial 11 with value: 0.9893294219657305.\n",
      "[Parallel(n_jobs=-1)]: Using backend ThreadingBackend with 16 concurrent workers.\n",
      "[Parallel(n_jobs=-1)]: Done  18 tasks      | elapsed:   59.0s\n",
      "[Parallel(n_jobs=-1)]: Done 161 out of 161 | elapsed:  5.4min finished\n",
      "[I 2025-05-02 00:47:46,820] Trial 21 finished with value: 0.9893204380928197 and parameters: {'n_estimators': 161, 'max_depth': 25, 'min_samples_split': 12, 'min_samples_leaf': 3, 'max_features': None}. Best is trial 11 with value: 0.9893294219657305.\n",
      "[Parallel(n_jobs=-1)]: Using backend ThreadingBackend with 16 concurrent workers.\n",
      "[Parallel(n_jobs=-1)]: Done  18 tasks      | elapsed:   58.5s\n",
      "[Parallel(n_jobs=-1)]: Done 168 tasks      | elapsed:  5.7min\n",
      "[Parallel(n_jobs=-1)]: Done 201 out of 201 | elapsed:  6.5min finished\n",
      "[I 2025-05-02 01:19:49,096] Trial 22 finished with value: 0.9893110363323349 and parameters: {'n_estimators': 201, 'max_depth': 19, 'min_samples_split': 12, 'min_samples_leaf': 2, 'max_features': None}. Best is trial 11 with value: 0.9893294219657305.\n",
      "[Parallel(n_jobs=-1)]: Using backend ThreadingBackend with 16 concurrent workers.\n",
      "[Parallel(n_jobs=-1)]: Done  18 tasks      | elapsed:  1.0min\n",
      "[Parallel(n_jobs=-1)]: Done 156 out of 156 | elapsed:  5.2min finished\n",
      "[I 2025-05-02 01:44:56,723] Trial 23 finished with value: 0.989336601152106 and parameters: {'n_estimators': 156, 'max_depth': 27, 'min_samples_split': 13, 'min_samples_leaf': 2, 'max_features': None}. Best is trial 23 with value: 0.989336601152106.\n",
      "[Parallel(n_jobs=-1)]: Using backend ThreadingBackend with 16 concurrent workers.\n",
      "[Parallel(n_jobs=-1)]: Done  18 tasks      | elapsed:   58.8s\n",
      "[Parallel(n_jobs=-1)]: Done 149 out of 149 | elapsed:  5.0min finished\n",
      "[I 2025-05-02 02:08:58,652] Trial 24 finished with value: 0.9893284675971948 and parameters: {'n_estimators': 149, 'max_depth': 27, 'min_samples_split': 14, 'min_samples_leaf': 2, 'max_features': None}. Best is trial 23 with value: 0.989336601152106.\n",
      "[Parallel(n_jobs=-1)]: Using backend ThreadingBackend with 16 concurrent workers.\n",
      "[Parallel(n_jobs=-1)]: Done  18 tasks      | elapsed:   59.7s\n",
      "[Parallel(n_jobs=-1)]: Done 135 out of 135 | elapsed:  4.5min finished\n",
      "[I 2025-05-02 02:30:43,599] Trial 25 finished with value: 0.9893274396015264 and parameters: {'n_estimators': 135, 'max_depth': 27, 'min_samples_split': 14, 'min_samples_leaf': 2, 'max_features': None}. Best is trial 23 with value: 0.989336601152106.\n",
      "[Parallel(n_jobs=-1)]: Using backend ThreadingBackend with 16 concurrent workers.\n",
      "[Parallel(n_jobs=-1)]: Done  18 tasks      | elapsed:   59.5s\n",
      "[Parallel(n_jobs=-1)]: Done 113 out of 113 | elapsed:  3.8min finished\n",
      "[I 2025-05-02 02:49:03,544] Trial 26 finished with value: 0.9891838266699938 and parameters: {'n_estimators': 113, 'max_depth': 27, 'min_samples_split': 17, 'min_samples_leaf': 6, 'max_features': None}. Best is trial 23 with value: 0.989336601152106.\n",
      "[Parallel(n_jobs=-1)]: Using backend ThreadingBackend with 16 concurrent workers.\n",
      "[Parallel(n_jobs=-1)]: Done  18 tasks      | elapsed:   59.0s\n",
      "[Parallel(n_jobs=-1)]: Done  64 out of  64 | elapsed:  2.1min finished\n",
      "[I 2025-05-02 02:59:20,287] Trial 27 finished with value: 0.9893476111206096 and parameters: {'n_estimators': 64, 'max_depth': 21, 'min_samples_split': 10, 'min_samples_leaf': 2, 'max_features': None}. Best is trial 27 with value: 0.9893476111206096.\n",
      "[Parallel(n_jobs=-1)]: Using backend ThreadingBackend with 16 concurrent workers.\n",
      "[Parallel(n_jobs=-1)]: Done  18 tasks      | elapsed:    8.3s\n",
      "[Parallel(n_jobs=-1)]: Done  61 out of  61 | elapsed:   17.8s finished\n",
      "[I 2025-05-02 03:00:49,438] Trial 28 finished with value: 0.9890108971537857 and parameters: {'n_estimators': 61, 'max_depth': 21, 'min_samples_split': 10, 'min_samples_leaf': 1, 'max_features': 'sqrt'}. Best is trial 27 with value: 0.9893476111206096.\n",
      "[Parallel(n_jobs=-1)]: Using backend ThreadingBackend with 16 concurrent workers.\n",
      "[Parallel(n_jobs=-1)]: Done  18 tasks      | elapsed:    5.0s\n",
      "[Parallel(n_jobs=-1)]: Done  81 out of  81 | elapsed:   14.0s finished\n",
      "[I 2025-05-02 03:02:01,594] Trial 29 finished with value: 0.9738348129443223 and parameters: {'n_estimators': 81, 'max_depth': 7, 'min_samples_split': 10, 'min_samples_leaf': 4, 'max_features': 'log2'}. Best is trial 27 with value: 0.9893476111206096.\n",
      "[Parallel(n_jobs=15)]: Using backend ThreadingBackend with 15 concurrent workers.\n",
      "[Parallel(n_jobs=15)]: Done  20 tasks      | elapsed:   58.4s\n",
      "[Parallel(n_jobs=15)]: Done  64 out of  64 | elapsed:  2.2min finished\n",
      "[Parallel(n_jobs=15)]: Using backend ThreadingBackend with 15 concurrent workers.\n",
      "[Parallel(n_jobs=15)]: Done  20 tasks      | elapsed:    0.2s\n",
      "[Parallel(n_jobs=15)]: Done  64 out of  64 | elapsed:    0.7s finished\n"
     ]
    },
    {
     "name": "stdout",
     "output_type": "stream",
     "text": [
      "\n",
      "Unique values in test set: ['Bots' 'Brute Force' 'DDoS' 'DoS' 'Normal Traffic' 'Other']\n",
      "Unique values in predictions: ['Bots' 'Brute Force' 'DDoS' 'DoS' 'Normal Traffic' 'Other']\n",
      "\n",
      "Model Evaluation Results:\n",
      "--------------------------------------------------\n",
      "Cross validation average score (F1): 0.9893 +/- standard deviation: 0.0191\n",
      "F1 Score on test set: 0.9988\n",
      "Accuracy on test set: 0.9988\n",
      "\n",
      "Resource Usage:\n",
      "--------------------------------------------------\n",
      "Resource measurements: {'Training Time (s)': 135.58292961120605, 'Peak CPU Usage (%)': 100.0, 'Average CPU Usage (%)': 87.36620900076319}\n",
      "\n",
      "Detailed Classification Report:\n",
      "--------------------------------------------------\n",
      "                precision    recall  f1-score   support\n",
      "\n",
      "          Bots       0.66      0.96      0.78       584\n",
      "   Brute Force       0.99      1.00      1.00      2745\n",
      "          DDoS       1.00      1.00      1.00     38404\n",
      "           DoS       1.00      1.00      1.00     58124\n",
      "Normal Traffic       1.00      1.00      1.00    628518\n",
      "         Other       0.99      1.00      0.99     27851\n",
      "\n",
      "      accuracy                           1.00    756226\n",
      "     macro avg       0.94      0.99      0.96    756226\n",
      "  weighted avg       1.00      1.00      1.00    756226\n",
      "\n"
     ]
    }
   ],
   "source": [
    "rf_model, best_params = show_results(X_train_resampled_scaled_MMS_SMOTE, \n",
    "                                    X_test_MMS_scaled,\n",
    "                                    y_train_resampled_scaled_MMS_SMOTE, \n",
    "                                    y_test, \n",
    "                                    n_trials=30)"
   ]
  },
  {
   "cell_type": "code",
   "execution_count": 55,
   "id": "ee5db9f0",
   "metadata": {},
   "outputs": [
    {
     "name": "stderr",
     "output_type": "stream",
     "text": [
      "[Parallel(n_jobs=-1)]: Using backend ThreadingBackend with 16 concurrent workers.\n",
      "[Parallel(n_jobs=-1)]: Done  18 tasks      | elapsed:   59.0s\n",
      "[Parallel(n_jobs=-1)]: Done 168 tasks      | elapsed:  5.7min\n",
      "[Parallel(n_jobs=-1)]: Done 200 out of 200 | elapsed:  6.6min finished\n",
      "[Parallel(n_jobs=16)]: Using backend ThreadingBackend with 16 concurrent workers.\n",
      "[Parallel(n_jobs=16)]: Done  18 tasks      | elapsed:    0.2s\n",
      "[Parallel(n_jobs=16)]: Done 168 tasks      | elapsed:    2.0s\n",
      "[Parallel(n_jobs=16)]: Done 200 out of 200 | elapsed:    2.4s finished\n"
     ]
    },
    {
     "name": "stdout",
     "output_type": "stream",
     "text": [
      "Cross validation average score: 0.9895 +/- standard deviation: 0.0189\n",
      "Accuracy on the test set: 0.9988\n",
      "Resource measurements: {'Training Time (s)': 393.97414994239807, 'Peak CPU Usage (%)': 100.0, 'Average CPU Usage (%)': 95.66547231270364}\n",
      "                precision    recall  f1-score   support\n",
      "\n",
      "          Bots     0.6753    0.9401    0.7860       584\n",
      "   Brute Force     0.9946    0.9985    0.9965      2745\n",
      "          DDoS     0.9995    0.9998    0.9996     38404\n",
      "           DoS     0.9967    0.9993    0.9980     58124\n",
      "Normal Traffic     0.9999    0.9987    0.9993    628518\n",
      "         Other     0.9886    0.9992    0.9939     27851\n",
      "\n",
      "      accuracy                         0.9988    756226\n",
      "     macro avg     0.9424    0.9893    0.9622    756226\n",
      "  weighted avg     0.9989    0.9988    0.9988    756226\n",
      "\n"
     ]
    }
   ],
   "source": [
    "eval_dataset_w_RF(X_train_resampled_scaled_MMS_SMOTE, X_test_MMS_scaled, y_train_resampled_scaled_MMS_SMOTE, y_test, params_rf={'n_estimators': 200, 'max_depth': None, 'min_samples_split': 5, 'min_samples_leaf': 2, 'max_features': None})"
   ]
  },
  {
   "cell_type": "code",
   "execution_count": 56,
   "id": "daf28161",
   "metadata": {},
   "outputs": [
    {
     "name": "stderr",
     "output_type": "stream",
     "text": [
      "[Parallel(n_jobs=-1)]: Using backend ThreadingBackend with 16 concurrent workers.\n",
      "[Parallel(n_jobs=-1)]: Done  18 tasks      | elapsed:  1.0min\n",
      "[Parallel(n_jobs=-1)]: Done 115 out of 115 | elapsed:  3.9min finished\n",
      "[Parallel(n_jobs=16)]: Using backend ThreadingBackend with 16 concurrent workers.\n",
      "[Parallel(n_jobs=16)]: Done  18 tasks      | elapsed:    0.2s\n",
      "[Parallel(n_jobs=16)]: Done 115 out of 115 | elapsed:    1.3s finished\n"
     ]
    },
    {
     "name": "stdout",
     "output_type": "stream",
     "text": [
      "Cross validation average score: 0.9894 +/- standard deviation: 0.0190\n",
      "Accuracy on the test set: 0.9988\n",
      "Resource measurements: {'Training Time (s)': 235.19409823417664, 'Peak CPU Usage (%)': 100.0, 'Average CPU Usage (%)': 90.77283281733745}\n",
      "                precision    recall  f1-score   support\n",
      "\n",
      "          Bots     0.6773    0.9452    0.7891       584\n",
      "   Brute Force     0.9935    0.9985    0.9960      2745\n",
      "          DDoS     0.9995    0.9998    0.9996     38404\n",
      "           DoS     0.9968    0.9993    0.9981     58124\n",
      "Normal Traffic     0.9998    0.9987    0.9993    628518\n",
      "         Other     0.9885    0.9988    0.9936     27851\n",
      "\n",
      "      accuracy                         0.9988    756226\n",
      "     macro avg     0.9426    0.9901    0.9626    756226\n",
      "  weighted avg     0.9989    0.9988    0.9988    756226\n",
      "\n"
     ]
    }
   ],
   "source": [
    "eval_dataset_w_RF(X_train_resampled_scaled_MMS_SMOTE, X_test_MMS_scaled, y_train_resampled_scaled_MMS_SMOTE, y_test, params_rf={'n_estimators': 115, 'max_depth': 30, 'min_samples_split': 11, 'min_samples_leaf': 1, 'max_features': None})"
   ]
  },
  {
   "cell_type": "code",
   "execution_count": 57,
   "id": "22ef007e",
   "metadata": {},
   "outputs": [
    {
     "name": "stderr",
     "output_type": "stream",
     "text": [
      "[Parallel(n_jobs=-1)]: Using backend ThreadingBackend with 16 concurrent workers.\n",
      "[Parallel(n_jobs=-1)]: Done  18 tasks      | elapsed:  1.0min\n",
      "[Parallel(n_jobs=-1)]: Done  64 out of  64 | elapsed:  2.2min finished\n",
      "[Parallel(n_jobs=16)]: Using backend ThreadingBackend with 16 concurrent workers.\n",
      "[Parallel(n_jobs=16)]: Done  18 tasks      | elapsed:    0.2s\n",
      "[Parallel(n_jobs=16)]: Done  64 out of  64 | elapsed:    0.7s finished\n"
     ]
    },
    {
     "name": "stdout",
     "output_type": "stream",
     "text": [
      "Cross validation average score: 0.9893 +/- standard deviation: 0.0191\n",
      "Accuracy on the test set: 0.9988\n",
      "Resource measurements: {'Training Time (s)': 132.99807024002075, 'Peak CPU Usage (%)': 100.0, 'Average CPU Usage (%)': 96.08823529411767}\n",
      "                precision    recall  f1-score   support\n",
      "\n",
      "          Bots     0.6608    0.9572    0.7818       584\n",
      "   Brute Force     0.9931    0.9982    0.9956      2745\n",
      "          DDoS     0.9994    0.9997    0.9996     38404\n",
      "           DoS     0.9966    0.9992    0.9979     58124\n",
      "Normal Traffic     0.9999    0.9987    0.9993    628518\n",
      "         Other     0.9886    0.9991    0.9938     27851\n",
      "\n",
      "      accuracy                         0.9988    756226\n",
      "     macro avg     0.9397    0.9920    0.9613    756226\n",
      "  weighted avg     0.9989    0.9988    0.9988    756226\n",
      "\n"
     ]
    }
   ],
   "source": [
    "eval_dataset_w_RF(X_train_resampled_scaled_MMS_SMOTE, X_test_MMS_scaled, y_train_resampled_scaled_MMS_SMOTE, y_test, params_rf={'n_estimators': 64, 'max_depth': 21, 'min_samples_split': 10, 'min_samples_leaf': 2, 'max_features': None})"
   ]
  }
 ],
 "metadata": {
  "kernelspec": {
   "display_name": "NN-env",
   "language": "python",
   "name": "python3"
  },
  "language_info": {
   "codemirror_mode": {
    "name": "ipython",
    "version": 3
   },
   "file_extension": ".py",
   "mimetype": "text/x-python",
   "name": "python",
   "nbconvert_exporter": "python",
   "pygments_lexer": "ipython3",
   "version": "3.11.9"
  }
 },
 "nbformat": 4,
 "nbformat_minor": 5
}
