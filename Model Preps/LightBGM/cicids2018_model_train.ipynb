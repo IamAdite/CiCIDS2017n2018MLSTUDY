{
 "cells": [
  {
   "cell_type": "markdown",
   "id": "4f86f9b4",
   "metadata": {},
   "source": [
    "# Imports and model functions"
   ]
  },
  {
   "cell_type": "code",
   "execution_count": 124,
   "id": "6e45e3a1",
   "metadata": {},
   "outputs": [],
   "source": [
    "import pandas as pd\n",
    "import numpy as np\n",
    "from sklearn import preprocessing\n",
    "\n",
    "from scipy.stats import randint, uniform\n",
    "from lightgbm import LGBMClassifier\n",
    "from sklearn.model_selection import train_test_split, cross_val_score, learning_curve, RandomizedSearchCV\n",
    "from sklearn.metrics import confusion_matrix, classification_report, accuracy_score, precision_score, recall_score, f1_score, make_scorer\n",
    "\n",
    "import time\n",
    "import psutil\n",
    "import threading\n",
    "from memory_profiler import memory_usage"
   ]
  },
  {
   "cell_type": "code",
   "execution_count": 125,
   "id": "f74d9cbe",
   "metadata": {},
   "outputs": [],
   "source": [
    "def apply_lgbm(X_train, y_train, best_params=None, n_jobs=-1, cv=5):\n",
    "    \"\"\"Core LightGBM training with resource monitoring\"\"\"\n",
    "    measurement = {}\n",
    "    best_params = best_params or {}\n",
    "    try:\n",
    "        # Ensure no NaN/Inf values\n",
    "        if np.any(np.isnan(X_train)) or np.any(np.isinf(X_train)):\n",
    "            raise ValueError(\"Input contains NaN or Inf values\")\n",
    "            \n",
    "        # Validate num_leaves vs max_depth\n",
    "        if best_params.get('num_leaves', 31) > 2**best_params.get('max_depth', 5):\n",
    "            best_params['num_leaves'] = 2**best_params['max_depth']\n",
    "\n",
    "        lgbm_model = LGBMClassifier(**best_params, verbose=-1, n_jobs=n_jobs)\n",
    "        cpu_usage = []\n",
    "        stop_flag = threading.Event()\n",
    "        \n",
    "    except Exception as e:\n",
    "        print(f\"LightGBM training failed: {str(e)}\")\n",
    "        return None, None, None\n",
    "\n",
    "    def monitor_cpu():\n",
    "        while not stop_flag.is_set():\n",
    "            cpu_usage.append(psutil.cpu_percent(interval=0.1))\n",
    "\n",
    "    try:\n",
    "        cpu_thread = threading.Thread(target=monitor_cpu)\n",
    "        cpu_thread.start()\n",
    "        start_time = time.time()\n",
    "        \n",
    "        lgbm_model.fit(X_train, y_train)\n",
    "        \n",
    "        training_time = time.time() - start_time\n",
    "        stop_flag.set()\n",
    "        cpu_thread.join()\n",
    "\n",
    "        # Record metrics\n",
    "        measurement['Training Time (s)'] = training_time\n",
    "        measurement['Peak CPU (%)'] = max(cpu_usage) if cpu_usage else 0\n",
    "        measurement['Avg CPU (%)'] = np.mean(cpu_usage) if cpu_usage else 0\n",
    "\n",
    "        # Cross-validation\n",
    "        f1_scorer = make_scorer(f1_score, average='weighted')\n",
    "        cv_scores = cross_val_score(\n",
    "            lgbm_model, X_train, y_train, cv=cv, scoring=f1_scorer, n_jobs=n_jobs\n",
    "        )\n",
    "        \n",
    "        return cv_scores, measurement, lgbm_model\n",
    "\n",
    "    except Exception as e:\n",
    "        print(f\"LightGBM training failed: {str(e)}\")\n",
    "        return None, None, None"
   ]
  },
  {
   "cell_type": "code",
   "execution_count": 126,
   "id": "28a64cfe",
   "metadata": {},
   "outputs": [],
   "source": [
    "def eval_dataset_w_LGBM(X_train, X_test, y_train, y_test,\n",
    "                       params_lgbm={'n_estimators': 100, 'learning_rate': 0.1, 'max_depth': -1}):\n",
    "    \"\"\"Evaluation wrapper for LightGBM\"\"\"\n",
    "    cv_scores_lgbm, measurement_lgbm, lgbm_model = apply_lgbm(X_train, y_train, best_params=params_lgbm)\n",
    "    \n",
    "    if lgbm_model is None:\n",
    "        print(\"⛔ Failed to train LightGBM model\")\n",
    "        return\n",
    "        \n",
    "    start_time = time.time()\n",
    "    y_pred_lgbm = lgbm_model.predict(X_test)\n",
    "    training_time = time.time() - start_time\n",
    "    print(\"Predict Time (s) - \", training_time)\n",
    "\n",
    "    \n",
    "    print(f'CV F1: {np.mean(cv_scores_lgbm):.4f} ± {np.std(cv_scores_lgbm):.4f}')\n",
    "    print(f'Test Accuracy: {accuracy_score(y_test, y_pred_lgbm):.4f}')\n",
    "    print(classification_report(y_test, y_pred_lgbm, digits=4))\n",
    "    print(\"Resource Usage:\", measurement_lgbm)"
   ]
  },
  {
   "cell_type": "code",
   "execution_count": 127,
   "id": "d0bfc565",
   "metadata": {},
   "outputs": [],
   "source": [
    "import optuna\n",
    "from functools import partial\n",
    "\n",
    "def show_results_LGBM(X_train, X_test, y_train, y_test, n_trials=100):\n",
    "    def objective(trial, X_train, y_train, cv=5):\n",
    "        params = {\n",
    "            'n_estimators': trial.suggest_int('n_estimators', 50, 1000),\n",
    "            'learning_rate': trial.suggest_float('learning_rate', 1e-3, 0.3, log=True),\n",
    "            'max_depth': trial.suggest_int('max_depth', 3, 15),\n",
    "            'num_leaves': trial.suggest_int('num_leaves', 10, 100),\n",
    "            'subsample': trial.suggest_float('subsample', 0.5, 1.0),\n",
    "            'colsample_bytree': trial.suggest_float('colsample_bytree', 0.5, 1.0),\n",
    "            'reg_alpha': trial.suggest_float('reg_alpha', 1e-3, 10.0, log=True),\n",
    "            'reg_lambda': trial.suggest_float('reg_lambda', 1e-3, 10.0, log=True),\n",
    "            'min_child_samples': trial.suggest_int('min_child_samples', 5, 30),\n",
    "            'objective': 'multiclass' if len(np.unique(y_train)) > 2 else 'binary',\n",
    "            'metric': 'multi_logloss' if len(np.unique(y_train)) > 2 else 'binary_logloss'\n",
    "        }\n",
    "        \n",
    "        try:\n",
    "          cv_scores, _, model = apply_lgbm(X_train, y_train, best_params=params, cv=cv)\n",
    "          score = np.mean(cv_scores) if cv_scores is not None else float('nan')\n",
    "          return score if not np.isnan(score) else float('nan')\n",
    "        except Exception as e:\n",
    "            print(f\"Trial failed with error: {e}\")\n",
    "            return float('nan')\n",
    "\n",
    "    study = optuna.create_study(direction='maximize')\n",
    "    study.optimize(partial(objective, X_train=X_train, y_train=y_train), n_trials=n_trials)\n",
    "    best_params = study.best_params\n",
    "\n",
    "    cv_scores_lgbm, measurement_lgbm, lgbm_model = apply_lgbm(X_train, y_train, best_params=best_params)\n",
    "    \n",
    "    if cv_scores_lgbm is None:\n",
    "        print(\"LightGBM training failed\")\n",
    "        return\n",
    "\n",
    "    y_pred_lgbm = lgbm_model.predict(X_test)\n",
    "\n",
    "    try:\n",
    "        f1 = f1_score(y_test, y_pred_lgbm, average='weighted')\n",
    "        accuracy = accuracy_score(y_test, y_pred_lgbm)\n",
    "        \n",
    "        print(\"\\nLightGBM Evaluation Results:\")\n",
    "        print(\"-\" * 50)\n",
    "        print(f'CV F1: {np.mean(cv_scores_lgbm):.4f} ± {np.std(cv_scores_lgbm):.4f}')\n",
    "        print(f'Test F1: {f1:.4f}')\n",
    "        print(f'Test Accuracy: {accuracy:.4f}')\n",
    "        print(\"\\nResource Usage:\", measurement_lgbm)\n",
    "        print(\"\\nClassification Report:\")\n",
    "        print(classification_report(y_test, y_pred_lgbm))\n",
    "    \n",
    "    except Exception as e:\n",
    "        print(f\"Error in LightGBM evaluation: {str(e)}\")\n",
    "        raise\n",
    "    \n",
    "    return lgbm_model, best_params"
   ]
  },
  {
   "cell_type": "markdown",
   "id": "74035071",
   "metadata": {},
   "source": [
    "# Prep for model training cicids2018"
   ]
  },
  {
   "cell_type": "code",
   "execution_count": 128,
   "id": "749c9cf8",
   "metadata": {},
   "outputs": [
    {
     "name": "stderr",
     "output_type": "stream",
     "text": [
      "<>:2: SyntaxWarning: invalid escape sequence '\\c'\n",
      "<>:2: SyntaxWarning: invalid escape sequence '\\c'\n",
      "C:\\Users\\ogoreltsev.pav\\AppData\\Local\\Temp\\ipykernel_12148\\790043214.py:2: SyntaxWarning: invalid escape sequence '\\c'\n",
      "  df = pd.read_csv(\"..\\cicids2018_training.csv\")\n"
     ]
    }
   ],
   "source": [
    "# Reading data\n",
    "df = pd.read_csv(\"..\\cicids2018_training.csv\")"
   ]
  },
  {
   "cell_type": "code",
   "execution_count": 129,
   "id": "2ba78db8",
   "metadata": {},
   "outputs": [],
   "source": [
    "from sklearn.preprocessing import MinMaxScaler\n",
    "from imblearn.under_sampling import RandomUnderSampler\n",
    "from imblearn.over_sampling import SMOTE"
   ]
  },
  {
   "cell_type": "code",
   "execution_count": 130,
   "id": "8106bcf1",
   "metadata": {},
   "outputs": [],
   "source": [
    "# Preparing training and test splits\n",
    "X = df.drop('Attack Type', axis=1)\n",
    "y = df['Attack Type']\n",
    "\n",
    "X_train, X_test, y_train, y_test = train_test_split(X, y, test_size=0.3, random_state=42, stratify=y)"
   ]
  },
  {
   "cell_type": "code",
   "execution_count": 131,
   "id": "be81fde7",
   "metadata": {},
   "outputs": [],
   "source": [
    "# Initialize scaling algos\n",
    "MMS = MinMaxScaler()\n",
    "X_train_MMS_scaled = MMS.fit_transform(X_train)\n",
    "X_test_MMS_scaled = MMS.transform(X_test)"
   ]
  },
  {
   "cell_type": "code",
   "execution_count": 132,
   "id": "af0ddb1a",
   "metadata": {},
   "outputs": [
    {
     "data": {
      "text/plain": [
       "array(['Normal Traffic', 'Brute Force', 'DoS', 'Bot', 'DDoS',\n",
       "       'Infilteration'], dtype=object)"
      ]
     },
     "execution_count": 132,
     "metadata": {},
     "output_type": "execute_result"
    }
   ],
   "source": [
    "y_train.unique()"
   ]
  },
  {
   "cell_type": "code",
   "execution_count": 134,
   "id": "23efdc3b",
   "metadata": {},
   "outputs": [],
   "source": [
    "X_train_scaled_rus_MMS, y_train_scaled_rus_MMS = RandomUnderSampler(sampling_strategy={'Normal Traffic': 1000000}, random_state=42).fit_resample(X_train_MMS_scaled, y_train)"
   ]
  },
  {
   "cell_type": "code",
   "execution_count": 135,
   "id": "41acd109",
   "metadata": {},
   "outputs": [],
   "source": [
    "X_train_resampled_scaled_MMS_SMOTE, y_train_resampled_scaled_MMS_SMOTE = SMOTE(sampling_strategy={'Bot': 150000, 'Brute Force': 100000, 'Infilteration': 110000, 'DDoS':780000, 'DoS': 200000}, random_state=42).fit_resample(X_train_scaled_rus_MMS, y_train_scaled_rus_MMS)"
   ]
  },
  {
   "cell_type": "markdown",
   "id": "2bbb5513",
   "metadata": {},
   "source": [
    "# Sync classes"
   ]
  },
  {
   "cell_type": "code",
   "execution_count": 92,
   "id": "b68fda0e",
   "metadata": {},
   "outputs": [
    {
     "data": {
      "text/plain": [
       "array(['Bot', 'Brute Force', 'DDoS', 'DoS', 'Infilteration',\n",
       "       'Normal Traffic'], dtype=object)"
      ]
     },
     "execution_count": 92,
     "metadata": {},
     "output_type": "execute_result"
    }
   ],
   "source": [
    "y_train_resampled_scaled_MMS_SMOTE.unique()"
   ]
  },
  {
   "cell_type": "code",
   "execution_count": 93,
   "id": "7a568ecb",
   "metadata": {},
   "outputs": [],
   "source": [
    "# Function to combine classes\n",
    "def combine_classes(y, class_mapping):\n",
    "    return y.map(class_mapping)\n",
    "# Define the mapping\n",
    "group_mapping_2018 = {\n",
    "    'Normal Traffic': 'Normal Traffic',\n",
    "    'DoS': 'DoS',\n",
    "    'DDoS': 'DDoS',\n",
    "    'Brute Force': 'Brute Force',\n",
    "    'Bot': 'Bots',\n",
    "    'Infilteration': 'Other'}"
   ]
  },
  {
   "cell_type": "code",
   "execution_count": 94,
   "id": "a45b5052",
   "metadata": {},
   "outputs": [
    {
     "data": {
      "text/plain": [
       "array(['Normal Traffic', 'Bot', 'DoS', 'Brute Force', 'DDoS',\n",
       "       'Infilteration'], dtype=object)"
      ]
     },
     "execution_count": 94,
     "metadata": {},
     "output_type": "execute_result"
    }
   ],
   "source": [
    "df[\"Attack Type\"].unique()"
   ]
  },
  {
   "cell_type": "code",
   "execution_count": 95,
   "id": "604c98fa",
   "metadata": {},
   "outputs": [],
   "source": [
    "# Apply to all your sets\n",
    "y_train = combine_classes(y_train, group_mapping_2018)\n",
    "y_test = combine_classes(y_test, group_mapping_2018)\n",
    "\n",
    "y_train_scaled_rus_MMS = combine_classes(y_train_scaled_rus_MMS, group_mapping_2018)\n",
    "y_train_resampled_scaled_MMS_SMOTE = combine_classes(y_train_resampled_scaled_MMS_SMOTE, group_mapping_2018)"
   ]
  },
  {
   "cell_type": "code",
   "execution_count": null,
   "id": "c699c6a9",
   "metadata": {},
   "outputs": [],
   "source": [
    "lbgm_model, best_params = show_results_LGBM(X_train_resampled_scaled_MMS_SMOTE, \n",
    "                                    X_test_MMS_scaled,\n",
    "                                    y_train_resampled_scaled_MMS_SMOTE, \n",
    "                                    y_test, \n",
    "                                    n_trials=60)"
   ]
  },
  {
   "cell_type": "code",
   "execution_count": 96,
   "id": "ee5db9f0",
   "metadata": {},
   "outputs": [
    {
     "name": "stderr",
     "output_type": "stream",
     "text": [
      "c:\\ML\\Lib\\site-packages\\sklearn\\utils\\validation.py:2739: UserWarning: X does not have valid feature names, but LGBMClassifier was fitted with feature names\n",
      "  warnings.warn(\n"
     ]
    },
    {
     "name": "stdout",
     "output_type": "stream",
     "text": [
      "Predict Time (s) -  22.58268141746521\n",
      "CV F1: nan ± nan\n",
      "Test Accuracy: 0.9753\n",
      "                precision    recall  f1-score   support\n",
      "\n",
      "          Bots     0.9911    0.9975    0.9943     43193\n",
      "   Brute Force     0.9970    0.9954    0.9962     28463\n",
      "          DDoS     0.9291    0.9923    0.9596    232641\n",
      "           DoS     0.9877    0.9995    0.9936     58890\n",
      "Normal Traffic     0.9907    0.9810    0.9858   2590259\n",
      "         Other     0.2364    0.3000    0.2644     32259\n",
      "\n",
      "      accuracy                         0.9753   2985705\n",
      "     macro avg     0.8553    0.8776    0.8657   2985705\n",
      "  weighted avg     0.9778    0.9753    0.9764   2985705\n",
      "\n",
      "Resource Usage: {'Training Time (s)': 50.53769135475159, 'Peak CPU (%)': 100.0, 'Avg CPU (%)': np.float64(99.42433537832311)}\n"
     ]
    }
   ],
   "source": [
    "eval_dataset_w_LGBM(X_train_resampled_scaled_MMS_SMOTE, X_test_MMS_scaled, y_train_resampled_scaled_MMS_SMOTE, y_test, params_lgbm={'n_estimators': 228, 'learning_rate': 0.07241523535942174, 'max_depth': 14, 'num_leaves': 79, 'subsample': 0.5650088660864082, 'colsample_bytree': 0.8850730957587873, 'reg_alpha': 0.31650105405212536, 'reg_lambda': 3.8724602641849213})"
   ]
  },
  {
   "cell_type": "markdown",
   "id": "4c3dbf20",
   "metadata": {},
   "source": [
    "# Binary with cross-val between datasets"
   ]
  },
  {
   "cell_type": "code",
   "execution_count": 194,
   "id": "fc73f88d",
   "metadata": {},
   "outputs": [
    {
     "name": "stderr",
     "output_type": "stream",
     "text": [
      "<>:2: SyntaxWarning: invalid escape sequence '\\c'\n",
      "<>:2: SyntaxWarning: invalid escape sequence '\\c'\n",
      "C:\\Users\\ogoreltsev.pav\\AppData\\Local\\Temp\\ipykernel_12148\\497672783.py:2: SyntaxWarning: invalid escape sequence '\\c'\n",
      "  df = pd.read_csv(\"..\\cicids2018_training.csv\")\n"
     ]
    }
   ],
   "source": [
    "# Reading data\n",
    "df = pd.read_csv(\"..\\cicids2018_training.csv\")\n",
    "\n",
    "X_train = df.drop('Attack Type', axis=1)\n",
    "y_train = df['Attack Type']\n",
    "\n",
    "del df"
   ]
  },
  {
   "cell_type": "code",
   "execution_count": 195,
   "id": "792edeec",
   "metadata": {},
   "outputs": [
    {
     "name": "stderr",
     "output_type": "stream",
     "text": [
      "<>:2: SyntaxWarning: invalid escape sequence '\\c'\n",
      "<>:2: SyntaxWarning: invalid escape sequence '\\c'\n",
      "C:\\Users\\ogoreltsev.pav\\AppData\\Local\\Temp\\ipykernel_12148\\80828088.py:2: SyntaxWarning: invalid escape sequence '\\c'\n",
      "  df = pd.read_csv(\"..\\cicids2017_test_of_2018.csv\")\n"
     ]
    }
   ],
   "source": [
    "# Reading data\n",
    "df = pd.read_csv(\"..\\cicids2017_test_of_2018.csv\")\n",
    "\n",
    "X_test = df.drop('Attack Type', axis=1)\n",
    "y_test = df['Attack Type']\n",
    "\n",
    "del df"
   ]
  },
  {
   "cell_type": "code",
   "execution_count": 196,
   "id": "9e7d560b",
   "metadata": {},
   "outputs": [],
   "source": [
    "from sklearn.preprocessing import RobustScaler, MinMaxScaler\n",
    "from imblearn.under_sampling import RandomUnderSampler\n",
    "from imblearn.over_sampling import SMOTE, BorderlineSMOTE"
   ]
  },
  {
   "cell_type": "code",
   "execution_count": 197,
   "id": "3fcdfe61",
   "metadata": {},
   "outputs": [],
   "source": [
    "# Initialize scaling algos\n",
    "MMS = MinMaxScaler()\n",
    "X_train_MMS_scaled = MMS.fit_transform(X_train)\n",
    "X_test_MMS_scaled = MMS.transform(X_test)"
   ]
  },
  {
   "cell_type": "code",
   "execution_count": 198,
   "id": "ab517b34",
   "metadata": {},
   "outputs": [],
   "source": [
    "X_train_scaled_rus_MMS, y_train_scaled_rus_MMS = RandomUnderSampler(sampling_strategy={'Normal Traffic': 1000000}, random_state=42).fit_resample(X_train_MMS_scaled, y_train)"
   ]
  },
  {
   "cell_type": "code",
   "execution_count": 199,
   "id": "2ebd8299",
   "metadata": {},
   "outputs": [],
   "source": [
    "X_train_resampled_scaled_MMS_SMOTE, y_train_resampled_scaled_MMS_SMOTE = SMOTE(sampling_strategy={'Bot': 150000, 'Brute Force': 100000, 'Infilteration': 110000, 'DDoS':780000, 'DoS': 200000}, random_state=42).fit_resample(X_train_scaled_rus_MMS, y_train_scaled_rus_MMS)"
   ]
  },
  {
   "cell_type": "code",
   "execution_count": 200,
   "id": "aac51293",
   "metadata": {},
   "outputs": [],
   "source": [
    "group_mapping_2017 = {\n",
    "    'Normal Traffic': 'BENIGN',\n",
    "    'DoS': 'Attack',\n",
    "    'DDoS': 'Attack',\n",
    "    'Brute Force': 'Attack',\n",
    "    'Bots': 'Attack',\n",
    "    'Other': 'Attack'}"
   ]
  },
  {
   "cell_type": "code",
   "execution_count": 201,
   "id": "4703d899",
   "metadata": {},
   "outputs": [],
   "source": [
    "group_mapping_2018 = {\n",
    "    'Normal Traffic': 'BENIGN',\n",
    "    'DoS': 'Attack',\n",
    "    'DDoS': 'Attack',\n",
    "    'Brute Force': 'Attack',\n",
    "    'Bot': 'Attack',\n",
    "    'Infilteration': 'Attack'}"
   ]
  },
  {
   "cell_type": "code",
   "execution_count": 202,
   "id": "8046b82e",
   "metadata": {},
   "outputs": [
    {
     "data": {
      "text/plain": [
       "Attack Type\n",
       "Normal Traffic    1000000\n",
       "DDoS               780000\n",
       "DoS                200000\n",
       "Bot                150000\n",
       "Infilteration      110000\n",
       "Brute Force        100000\n",
       "Name: count, dtype: int64"
      ]
     },
     "execution_count": 202,
     "metadata": {},
     "output_type": "execute_result"
    }
   ],
   "source": [
    "y_train_resampled_scaled_MMS_SMOTE.value_counts()"
   ]
  },
  {
   "cell_type": "code",
   "execution_count": 203,
   "id": "b6006be8",
   "metadata": {},
   "outputs": [
    {
     "data": {
      "text/plain": [
       "Attack Type\n",
       "Normal Traffic    2095057\n",
       "DoS                193745\n",
       "DDoS               128014\n",
       "Other               92837\n",
       "Brute Force          9150\n",
       "Bots                 1948\n",
       "Name: count, dtype: int64"
      ]
     },
     "execution_count": 203,
     "metadata": {},
     "output_type": "execute_result"
    }
   ],
   "source": [
    "y_test.value_counts()"
   ]
  },
  {
   "cell_type": "code",
   "execution_count": 204,
   "id": "1fe62fc0",
   "metadata": {},
   "outputs": [],
   "source": [
    "y_test = y_test.map(group_mapping_2017)"
   ]
  },
  {
   "cell_type": "code",
   "execution_count": 205,
   "id": "ce4dd762",
   "metadata": {},
   "outputs": [],
   "source": [
    "y_train_resampled_scaled_MMS_SMOTE = y_train_resampled_scaled_MMS_SMOTE.map(group_mapping_2018)"
   ]
  },
  {
   "cell_type": "code",
   "execution_count": 206,
   "id": "3581ece1",
   "metadata": {},
   "outputs": [
    {
     "data": {
      "text/plain": [
       "Attack Type\n",
       "Attack    1340000\n",
       "BENIGN    1000000\n",
       "Name: count, dtype: int64"
      ]
     },
     "execution_count": 206,
     "metadata": {},
     "output_type": "execute_result"
    }
   ],
   "source": [
    "y_train_resampled_scaled_MMS_SMOTE.value_counts()"
   ]
  },
  {
   "cell_type": "code",
   "execution_count": 208,
   "id": "fda95f85",
   "metadata": {},
   "outputs": [
    {
     "data": {
      "text/plain": [
       "array(['Attack', 'BENIGN'], dtype=object)"
      ]
     },
     "execution_count": 208,
     "metadata": {},
     "output_type": "execute_result"
    }
   ],
   "source": [
    "y_train_resampled_scaled_MMS_SMOTE.unique()"
   ]
  },
  {
   "cell_type": "code",
   "execution_count": 207,
   "id": "e47680a0",
   "metadata": {},
   "outputs": [
    {
     "data": {
      "text/plain": [
       "Attack Type\n",
       "BENIGN    2095057\n",
       "Attack     425694\n",
       "Name: count, dtype: int64"
      ]
     },
     "execution_count": 207,
     "metadata": {},
     "output_type": "execute_result"
    }
   ],
   "source": [
    "y_test.value_counts()"
   ]
  },
  {
   "cell_type": "code",
   "execution_count": null,
   "id": "0dfc6504",
   "metadata": {},
   "outputs": [],
   "source": [
    "lbgm_model, best_params = show_results_LGBM(X_train_resampled_scaled_MMS_SMOTE, \n",
    "                                    X_test_MMS_scaled,\n",
    "                                    y_train_resampled_scaled_MMS_SMOTE, \n",
    "                                    y_test, \n",
    "                                    n_trials=60)"
   ]
  },
  {
   "cell_type": "code",
   "execution_count": 209,
   "id": "c27832cd",
   "metadata": {},
   "outputs": [
    {
     "name": "stderr",
     "output_type": "stream",
     "text": [
      "c:\\ML\\Lib\\site-packages\\sklearn\\utils\\validation.py:2739: UserWarning: X does not have valid feature names, but LGBMClassifier was fitted with feature names\n",
      "  warnings.warn(\n"
     ]
    },
    {
     "name": "stdout",
     "output_type": "stream",
     "text": [
      "Predict Time (s) -  2.3496997356414795\n",
      "CV F1: nan ± nan\n",
      "Test Accuracy: 0.6524\n",
      "              precision    recall  f1-score   support\n",
      "\n",
      "      Attack     0.2236    0.4283    0.2938    425694\n",
      "      BENIGN     0.8573    0.6979    0.7694   2095057\n",
      "\n",
      "    accuracy                         0.6524   2520751\n",
      "   macro avg     0.5405    0.5631    0.5316   2520751\n",
      "weighted avg     0.7503    0.6524    0.6891   2520751\n",
      "\n",
      "Resource Usage: {'Training Time (s)': 8.727250099182129, 'Peak CPU (%)': 100.0, 'Avg CPU (%)': np.float64(96.44810126582279)}\n"
     ]
    }
   ],
   "source": [
    "eval_dataset_w_LGBM(X_train_resampled_scaled_MMS_SMOTE, X_test_MMS_scaled, y_train_resampled_scaled_MMS_SMOTE, y_test, params_lgbm={'n_estimators': 285, 'learning_rate': 0.15274828247019778, 'max_depth': 5, 'num_leaves': 44, 'subsample': 0.6210331060028171, 'colsample_bytree': 0.9909317475119969, 'reg_alpha': 0.4761330684134722, 'reg_lambda': 1.8813380938652553})"
   ]
  },
  {
   "cell_type": "markdown",
   "id": "70da65fb",
   "metadata": {},
   "source": [
    "# Binary with cross-val on single dataset"
   ]
  },
  {
   "cell_type": "code",
   "execution_count": 210,
   "id": "15c1fcd4",
   "metadata": {},
   "outputs": [
    {
     "name": "stderr",
     "output_type": "stream",
     "text": [
      "<>:2: SyntaxWarning: invalid escape sequence '\\c'\n",
      "<>:2: SyntaxWarning: invalid escape sequence '\\c'\n",
      "C:\\Users\\ogoreltsev.pav\\AppData\\Local\\Temp\\ipykernel_12148\\2472174679.py:2: SyntaxWarning: invalid escape sequence '\\c'\n",
      "  df = pd.read_csv(\"..\\cicids2018_training.csv\")\n"
     ]
    }
   ],
   "source": [
    "# Reading data\n",
    "df = pd.read_csv(\"..\\cicids2018_training.csv\")\n",
    "\n",
    "# Preparing training and test splits\n",
    "X = df.drop('Attack Type', axis=1)\n",
    "y = df['Attack Type']\n",
    "\n",
    "X_train, X_test, y_train, y_test = train_test_split(X, y, test_size=0.3, random_state=42, stratify=y)"
   ]
  },
  {
   "cell_type": "code",
   "execution_count": 211,
   "id": "d640541a",
   "metadata": {},
   "outputs": [],
   "source": [
    "from sklearn.preprocessing import RobustScaler, MinMaxScaler\n",
    "from imblearn.under_sampling import RandomUnderSampler\n",
    "from imblearn.over_sampling import SMOTE, BorderlineSMOTE"
   ]
  },
  {
   "cell_type": "code",
   "execution_count": 212,
   "id": "c44249df",
   "metadata": {},
   "outputs": [],
   "source": [
    "# Initialize scaling algos\n",
    "MMS = MinMaxScaler()\n",
    "X_train_MMS_scaled = MMS.fit_transform(X_train)\n",
    "X_test_MMS_scaled = MMS.transform(X_test)"
   ]
  },
  {
   "cell_type": "code",
   "execution_count": 213,
   "id": "a126faa1",
   "metadata": {},
   "outputs": [],
   "source": [
    "X_train_resampled_rus, y_train_resampled_rus = RandomUnderSampler(sampling_strategy={'Normal Traffic': 1000000}, random_state=42).fit_resample(X_train_MMS_scaled, y_train)"
   ]
  },
  {
   "cell_type": "code",
   "execution_count": 214,
   "id": "8f75f0ed",
   "metadata": {},
   "outputs": [],
   "source": [
    "X_train_resampled_scaled_MMS_SMOTE, y_train_resampled_scaled_MMS_SMOTE = SMOTE(sampling_strategy={'Bot': 150000, 'Brute Force': 100000, 'Infilteration': 110000, 'DDoS':780000, 'DoS': 200000}, random_state=42).fit_resample(X_train_resampled_rus, y_train_resampled_rus)"
   ]
  },
  {
   "cell_type": "code",
   "execution_count": 215,
   "id": "455f39bc",
   "metadata": {},
   "outputs": [],
   "source": [
    "group_mapping_2018 = {\n",
    "    'Normal Traffic': 'BENIGN',\n",
    "    'DoS': 'Attack',\n",
    "    'DDoS': 'Attack',\n",
    "    'Brute Force': 'Attack',\n",
    "    'Bot': 'Attack',\n",
    "    'Infilteration': 'Attack'}"
   ]
  },
  {
   "cell_type": "code",
   "execution_count": 216,
   "id": "3ed72be0",
   "metadata": {},
   "outputs": [],
   "source": [
    "y_train_resampled_scaled_MMS_SMOTE = y_train_resampled_scaled_MMS_SMOTE.map(group_mapping_2018)\n",
    "y_test = y_test.map(group_mapping_2018)"
   ]
  },
  {
   "cell_type": "code",
   "execution_count": 217,
   "id": "c489b079",
   "metadata": {},
   "outputs": [
    {
     "data": {
      "text/plain": [
       "array(['Attack', 'BENIGN'], dtype=object)"
      ]
     },
     "execution_count": 217,
     "metadata": {},
     "output_type": "execute_result"
    }
   ],
   "source": [
    "y_train_resampled_scaled_MMS_SMOTE.unique()"
   ]
  },
  {
   "cell_type": "code",
   "execution_count": 218,
   "id": "efe95017",
   "metadata": {},
   "outputs": [
    {
     "data": {
      "text/plain": [
       "array(['BENIGN', 'Attack'], dtype=object)"
      ]
     },
     "execution_count": 218,
     "metadata": {},
     "output_type": "execute_result"
    }
   ],
   "source": [
    "y_test.unique()"
   ]
  },
  {
   "cell_type": "code",
   "execution_count": null,
   "id": "851756b0",
   "metadata": {},
   "outputs": [],
   "source": [
    "lbgm_model, best_params = show_results_LGBM(X_train_resampled_scaled_MMS_SMOTE, \n",
    "                                    X_test_MMS_scaled,\n",
    "                                    y_train_resampled_scaled_MMS_SMOTE, \n",
    "                                    y_test, \n",
    "                                    n_trials=60)"
   ]
  },
  {
   "cell_type": "code",
   "execution_count": 219,
   "id": "1d4169c8",
   "metadata": {},
   "outputs": [
    {
     "name": "stderr",
     "output_type": "stream",
     "text": [
      "c:\\ML\\Lib\\site-packages\\sklearn\\utils\\validation.py:2739: UserWarning: X does not have valid feature names, but LGBMClassifier was fitted with feature names\n",
      "  warnings.warn(\n"
     ]
    },
    {
     "name": "stdout",
     "output_type": "stream",
     "text": [
      "Predict Time (s) -  2.8006386756896973\n",
      "CV F1: nan ± nan\n",
      "Test Accuracy: 0.9748\n",
      "              precision    recall  f1-score   support\n",
      "\n",
      "      Attack     0.8795    0.9382    0.9079    395446\n",
      "      BENIGN     0.9905    0.9804    0.9854   2590259\n",
      "\n",
      "    accuracy                         0.9748   2985705\n",
      "   macro avg     0.9350    0.9593    0.9467   2985705\n",
      "weighted avg     0.9758    0.9748    0.9751   2985705\n",
      "\n",
      "Resource Usage: {'Training Time (s)': 9.987603187561035, 'Peak CPU (%)': 100.0, 'Avg CPU (%)': np.float64(96.61397849462367)}\n"
     ]
    }
   ],
   "source": [
    "eval_dataset_w_LGBM(X_train_resampled_scaled_MMS_SMOTE, X_test_MMS_scaled, y_train_resampled_scaled_MMS_SMOTE, y_test, params_lgbm={'n_estimators': 285, 'learning_rate': 0.15274828247019778, 'max_depth': 5, 'num_leaves': 44, 'subsample': 0.6210331060028171, 'colsample_bytree': 0.9909317475119969, 'reg_alpha': 0.4761330684134722, 'reg_lambda': 1.8813380938652553})"
   ]
  },
  {
   "cell_type": "markdown",
   "id": "110a070b",
   "metadata": {},
   "source": [
    "# MultiClass with cross-val between datasets"
   ]
  },
  {
   "cell_type": "code",
   "execution_count": 221,
   "id": "c1e21116",
   "metadata": {},
   "outputs": [
    {
     "name": "stderr",
     "output_type": "stream",
     "text": [
      "<>:2: SyntaxWarning: invalid escape sequence '\\c'\n",
      "<>:2: SyntaxWarning: invalid escape sequence '\\c'\n",
      "C:\\Users\\ogoreltsev.pav\\AppData\\Local\\Temp\\ipykernel_12148\\497672783.py:2: SyntaxWarning: invalid escape sequence '\\c'\n",
      "  df = pd.read_csv(\"..\\cicids2018_training.csv\")\n"
     ]
    }
   ],
   "source": [
    "# Reading data\n",
    "df = pd.read_csv(\"..\\cicids2018_training.csv\")\n",
    "\n",
    "X_train = df.drop('Attack Type', axis=1)\n",
    "y_train = df['Attack Type']\n",
    "\n",
    "del df"
   ]
  },
  {
   "cell_type": "code",
   "execution_count": 222,
   "id": "99372926",
   "metadata": {},
   "outputs": [
    {
     "name": "stderr",
     "output_type": "stream",
     "text": [
      "<>:2: SyntaxWarning: invalid escape sequence '\\c'\n",
      "<>:2: SyntaxWarning: invalid escape sequence '\\c'\n",
      "C:\\Users\\ogoreltsev.pav\\AppData\\Local\\Temp\\ipykernel_12148\\80828088.py:2: SyntaxWarning: invalid escape sequence '\\c'\n",
      "  df = pd.read_csv(\"..\\cicids2017_test_of_2018.csv\")\n"
     ]
    }
   ],
   "source": [
    "# Reading data\n",
    "df = pd.read_csv(\"..\\cicids2017_test_of_2018.csv\")\n",
    "\n",
    "X_test = df.drop('Attack Type', axis=1)\n",
    "y_test = df['Attack Type']\n",
    "\n",
    "del df"
   ]
  },
  {
   "cell_type": "code",
   "execution_count": 223,
   "id": "93751669",
   "metadata": {},
   "outputs": [],
   "source": [
    "from sklearn.preprocessing import RobustScaler, MinMaxScaler\n",
    "from imblearn.under_sampling import RandomUnderSampler\n",
    "from imblearn.over_sampling import SMOTE, BorderlineSMOTE"
   ]
  },
  {
   "cell_type": "code",
   "execution_count": 224,
   "id": "836a6ea2",
   "metadata": {},
   "outputs": [],
   "source": [
    "# Initialize scaling algos\n",
    "MMS = MinMaxScaler()\n",
    "X_train_MMS_scaled = MMS.fit_transform(X_train)\n",
    "X_test_MMS_scaled = MMS.transform(X_test)"
   ]
  },
  {
   "cell_type": "code",
   "execution_count": 225,
   "id": "de639e68",
   "metadata": {},
   "outputs": [],
   "source": [
    "X_train_resampled_rus, y_train_resampled_rus = RandomUnderSampler(sampling_strategy={'Normal Traffic': 1000000}, random_state=42).fit_resample(X_train_MMS_scaled, y_train)"
   ]
  },
  {
   "cell_type": "code",
   "execution_count": 226,
   "id": "3cd249f0",
   "metadata": {},
   "outputs": [],
   "source": [
    "X_train_resampled_scaled_MMS_SMOTE, y_train_resampled_scaled_MMS_SMOTE = SMOTE(sampling_strategy={'Bot': 150000, 'Brute Force': 100000, 'Infilteration': 110000, 'DDoS':780000, 'DoS': 200000}, random_state=42).fit_resample(X_train_scaled_rus_MMS, y_train_scaled_rus_MMS)"
   ]
  },
  {
   "cell_type": "code",
   "execution_count": 227,
   "id": "517f6f1c",
   "metadata": {},
   "outputs": [],
   "source": [
    "group_mapping_2018 = {\n",
    "    'Normal Traffic': 'Normal Traffic',\n",
    "    'DoS': 'DoS',\n",
    "    'DDoS': 'DDoS',\n",
    "    'Brute Force': 'Brute Force',\n",
    "    'Bot': 'Bots',\n",
    "    'Infilteration': 'Other'}"
   ]
  },
  {
   "cell_type": "code",
   "execution_count": 228,
   "id": "5c67d5a6",
   "metadata": {},
   "outputs": [],
   "source": [
    "y_train_resampled_scaled_MMS_SMOTE = y_train_resampled_scaled_MMS_SMOTE.map(group_mapping_2018)"
   ]
  },
  {
   "cell_type": "code",
   "execution_count": 229,
   "id": "d0ed6def",
   "metadata": {},
   "outputs": [
    {
     "data": {
      "text/plain": [
       "array(['Bots', 'Brute Force', 'DDoS', 'DoS', 'Other', 'Normal Traffic'],\n",
       "      dtype=object)"
      ]
     },
     "execution_count": 229,
     "metadata": {},
     "output_type": "execute_result"
    }
   ],
   "source": [
    "y_train_resampled_scaled_MMS_SMOTE.unique()"
   ]
  },
  {
   "cell_type": "code",
   "execution_count": 230,
   "id": "dbe9a819",
   "metadata": {},
   "outputs": [
    {
     "data": {
      "text/plain": [
       "array(['Normal Traffic', 'DDoS', 'Other', 'Bots', 'Brute Force', 'DoS'],\n",
       "      dtype=object)"
      ]
     },
     "execution_count": 230,
     "metadata": {},
     "output_type": "execute_result"
    }
   ],
   "source": [
    "y_test.unique()"
   ]
  },
  {
   "cell_type": "code",
   "execution_count": null,
   "id": "49bf1489",
   "metadata": {},
   "outputs": [],
   "source": [
    "lbgm_model, best_params = show_results_LGBM(X_train_resampled_scaled_MMS_SMOTE, \n",
    "                                    X_test_MMS_scaled,\n",
    "                                    y_train_resampled_scaled_MMS_SMOTE, \n",
    "                                    y_test, \n",
    "                                    n_trials=60)"
   ]
  },
  {
   "cell_type": "code",
   "execution_count": 231,
   "id": "eaadcdca",
   "metadata": {},
   "outputs": [
    {
     "name": "stderr",
     "output_type": "stream",
     "text": [
      "c:\\ML\\Lib\\site-packages\\sklearn\\utils\\validation.py:2739: UserWarning: X does not have valid feature names, but LGBMClassifier was fitted with feature names\n",
      "  warnings.warn(\n"
     ]
    },
    {
     "name": "stdout",
     "output_type": "stream",
     "text": [
      "Predict Time (s) -  23.394148349761963\n",
      "CV F1: nan ± nan\n",
      "Test Accuracy: 0.7929\n",
      "                precision    recall  f1-score   support\n",
      "\n",
      "          Bots     0.0000    0.0000    0.0000      1948\n",
      "   Brute Force     0.0000    0.0000    0.0000      9150\n",
      "          DDoS     0.0000    0.0000    0.0000    128014\n",
      "           DoS     0.2763    0.1270    0.1740    193745\n",
      "Normal Traffic     0.8808    0.9011    0.8909   2095057\n",
      "         Other     0.3123    0.9275    0.4672     92837\n",
      "\n",
      "      accuracy                         0.7929   2520751\n",
      "     macro avg     0.2449    0.3259    0.2553   2520751\n",
      "  weighted avg     0.7648    0.7929    0.7710   2520751\n",
      "\n",
      "Resource Usage: {'Training Time (s)': 71.41535210609436, 'Peak CPU (%)': 100.0, 'Avg CPU (%)': np.float64(99.51814223512336)}\n"
     ]
    }
   ],
   "source": [
    "eval_dataset_w_LGBM(X_train_resampled_scaled_MMS_SMOTE, X_test_MMS_scaled, y_train_resampled_scaled_MMS_SMOTE, y_test, params_lgbm={'n_estimators': 475, 'learning_rate': 0.058716115604362774, 'max_depth': 12, 'num_leaves': 11, 'subsample': 0.5057428968514667, 'colsample_bytree': 0.8101229173073474, 'reg_alpha': 0.006541575882940611, 'reg_lambda': 0.02825941211887404})"
   ]
  }
 ],
 "metadata": {
  "kernelspec": {
   "display_name": "ML",
   "language": "python",
   "name": "python3"
  },
  "language_info": {
   "codemirror_mode": {
    "name": "ipython",
    "version": 3
   },
   "file_extension": ".py",
   "mimetype": "text/x-python",
   "name": "python",
   "nbconvert_exporter": "python",
   "pygments_lexer": "ipython3",
   "version": "3.12.0"
  }
 },
 "nbformat": 4,
 "nbformat_minor": 5
}
